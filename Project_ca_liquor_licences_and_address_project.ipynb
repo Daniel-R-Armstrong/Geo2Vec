{
  "nbformat": 4,
  "nbformat_minor": 0,
  "metadata": {
    "colab": {
      "name": "Project - ca_liquor_licences_and_address_project.ipynb",
      "provenance": [],
      "collapsed_sections": [
        "qtdnjCTc74X5",
        "CIXDCqlkcRj1",
        "Pfc-f2SAa9cj",
        "zKldw-OXq3PX",
        "vCFlr6mCas-P",
        "8n0xPd2ub4R8",
        "oh7yun6YpRlN",
        "rIWiAqzZ2EK8",
        "noL94h9t2ZXy",
        "aSz3f-hFg9tU",
        "KmrDDRNJppUa",
        "Xl9SaBb19Sup"
      ],
      "include_colab_link": true
    },
    "kernelspec": {
      "name": "python3",
      "display_name": "Python 3"
    },
    "accelerator": "GPU"
  },
  "cells": [
    {
      "cell_type": "markdown",
      "metadata": {
        "id": "view-in-github",
        "colab_type": "text"
      },
      "source": [
        "<a href=\"https://colab.research.google.com/github/Daniel-R-Armstrong/geo2vec/blob/master/Project_ca_liquor_licences_and_address_project.ipynb\" target=\"_parent\"><img src=\"https://colab.research.google.com/assets/colab-badge.svg\" alt=\"Open In Colab\"/></a>"
      ]
    },
    {
      "cell_type": "markdown",
      "metadata": {
        "id": "bxb_EC633BO3",
        "colab_type": "text"
      },
      "source": [
        "# Setup"
      ]
    },
    {
      "cell_type": "code",
      "metadata": {
        "id": "C4Esz75zxgtI",
        "colab_type": "code",
        "colab": {
          "base_uri": "https://localhost:8080/"
        },
        "outputId": "2cbf0e7d-c0b9-4432-caed-731d8ea757d4"
      },
      "source": [
        "#!pip install pandas -q\n",
        "#!pip install requests -q\n",
        "#!pip install cenpy -q\n",
        "#!pip install pysal -q\n",
        "!pip install pygeocoder\n",
        "!pip install pandas_usaddress\n",
        "!pip install censusgeocode "
      ],
      "execution_count": null,
      "outputs": [
        {
          "output_type": "stream",
          "text": [
            "Requirement already satisfied: pygeocoder in /usr/local/lib/python3.6/dist-packages (1.2.5)\n",
            "Requirement already satisfied: requests>=1.0 in /usr/local/lib/python3.6/dist-packages (from pygeocoder) (2.21.0)\n",
            "Requirement already satisfied: urllib3<1.25,>=1.21.1 in /usr/local/lib/python3.6/dist-packages (from requests>=1.0->pygeocoder) (1.24.3)\n",
            "Requirement already satisfied: idna<2.9,>=2.5 in /usr/local/lib/python3.6/dist-packages (from requests>=1.0->pygeocoder) (2.8)\n",
            "Requirement already satisfied: certifi>=2017.4.17 in /usr/local/lib/python3.6/dist-packages (from requests>=1.0->pygeocoder) (2019.6.16)\n",
            "Requirement already satisfied: chardet<3.1.0,>=3.0.2 in /usr/local/lib/python3.6/dist-packages (from requests>=1.0->pygeocoder) (3.0.4)\n",
            "Requirement already satisfied: pandas_usaddress in /usr/local/lib/python3.6/dist-packages (0.21)\n",
            "Requirement already satisfied: pandas in /usr/local/lib/python3.6/dist-packages (from pandas_usaddress) (0.24.2)\n",
            "Requirement already satisfied: usaddress in /usr/local/lib/python3.6/dist-packages (from pandas_usaddress) (0.5.10)\n",
            "Requirement already satisfied: pytz>=2011k in /usr/local/lib/python3.6/dist-packages (from pandas->pandas_usaddress) (2018.9)\n",
            "Requirement already satisfied: numpy>=1.12.0 in /usr/local/lib/python3.6/dist-packages (from pandas->pandas_usaddress) (1.16.4)\n",
            "Requirement already satisfied: python-dateutil>=2.5.0 in /usr/local/lib/python3.6/dist-packages (from pandas->pandas_usaddress) (2.5.3)\n",
            "Requirement already satisfied: python-crfsuite>=0.7 in /usr/local/lib/python3.6/dist-packages (from usaddress->pandas_usaddress) (0.9.6)\n",
            "Requirement already satisfied: future>=0.14 in /usr/local/lib/python3.6/dist-packages (from usaddress->pandas_usaddress) (0.16.0)\n",
            "Requirement already satisfied: probableparsing in /usr/local/lib/python3.6/dist-packages (from usaddress->pandas_usaddress) (0.0.1)\n",
            "Requirement already satisfied: six>=1.5 in /usr/local/lib/python3.6/dist-packages (from python-dateutil>=2.5.0->pandas->pandas_usaddress) (1.12.0)\n",
            "Collecting censusgeocode\n",
            "  Downloading https://files.pythonhosted.org/packages/2d/bb/33aff3841b625f14301e3fefb9125f549e4d5ac992751078c080ad831575/censusgeocode-0.4.3.post1-py2.py3-none-any.whl\n",
            "Collecting requests-toolbelt<1,>=0.8.0 (from censusgeocode)\n",
            "\u001b[?25l  Downloading https://files.pythonhosted.org/packages/60/ef/7681134338fc097acef8d9b2f8abe0458e4d87559c689a8c306d0957ece5/requests_toolbelt-0.9.1-py2.py3-none-any.whl (54kB)\n",
            "\u001b[K     |████████████████████████████████| 61kB 4.5MB/s \n",
            "\u001b[?25hRequirement already satisfied: six in /usr/local/lib/python3.6/dist-packages (from censusgeocode) (1.12.0)\n",
            "Requirement already satisfied: requests[security]<3,>=2.18 in /usr/local/lib/python3.6/dist-packages (from censusgeocode) (2.21.0)\n",
            "Requirement already satisfied: certifi>=2017.4.17 in /usr/local/lib/python3.6/dist-packages (from requests[security]<3,>=2.18->censusgeocode) (2019.6.16)\n",
            "Requirement already satisfied: chardet<3.1.0,>=3.0.2 in /usr/local/lib/python3.6/dist-packages (from requests[security]<3,>=2.18->censusgeocode) (3.0.4)\n",
            "Requirement already satisfied: urllib3<1.25,>=1.21.1 in /usr/local/lib/python3.6/dist-packages (from requests[security]<3,>=2.18->censusgeocode) (1.24.3)\n",
            "Requirement already satisfied: idna<2.9,>=2.5 in /usr/local/lib/python3.6/dist-packages (from requests[security]<3,>=2.18->censusgeocode) (2.8)\n",
            "Collecting cryptography>=1.3.4; extra == \"security\" (from requests[security]<3,>=2.18->censusgeocode)\n",
            "\u001b[?25l  Downloading https://files.pythonhosted.org/packages/97/18/c6557f63a6abde34707196fb2cad1c6dc0dbff25a200d5044922496668a4/cryptography-2.7-cp34-abi3-manylinux1_x86_64.whl (2.3MB)\n",
            "\u001b[K     |████████████████████████████████| 2.3MB 8.1MB/s \n",
            "\u001b[?25hCollecting pyOpenSSL>=0.14; extra == \"security\" (from requests[security]<3,>=2.18->censusgeocode)\n",
            "\u001b[?25l  Downloading https://files.pythonhosted.org/packages/01/c8/ceb170d81bd3941cbeb9940fc6cc2ef2ca4288d0ca8929ea4db5905d904d/pyOpenSSL-19.0.0-py2.py3-none-any.whl (53kB)\n",
            "\u001b[K     |████████████████████████████████| 61kB 20.8MB/s \n",
            "\u001b[?25hRequirement already satisfied: cffi!=1.11.3,>=1.8 in /usr/local/lib/python3.6/dist-packages (from cryptography>=1.3.4; extra == \"security\"->requests[security]<3,>=2.18->censusgeocode) (1.12.3)\n",
            "Collecting asn1crypto>=0.21.0 (from cryptography>=1.3.4; extra == \"security\"->requests[security]<3,>=2.18->censusgeocode)\n",
            "\u001b[?25l  Downloading https://files.pythonhosted.org/packages/ea/cd/35485615f45f30a510576f1a56d1e0a7ad7bd8ab5ed7cdc600ef7cd06222/asn1crypto-0.24.0-py2.py3-none-any.whl (101kB)\n",
            "\u001b[K     |████████████████████████████████| 102kB 29.7MB/s \n",
            "\u001b[?25hRequirement already satisfied: pycparser in /usr/local/lib/python3.6/dist-packages (from cffi!=1.11.3,>=1.8->cryptography>=1.3.4; extra == \"security\"->requests[security]<3,>=2.18->censusgeocode) (2.19)\n",
            "Installing collected packages: requests-toolbelt, censusgeocode, asn1crypto, cryptography, pyOpenSSL\n",
            "Successfully installed asn1crypto-0.24.0 censusgeocode-0.4.3.post1 cryptography-2.7 pyOpenSSL-19.0.0 requests-toolbelt-0.9.1\n"
          ],
          "name": "stdout"
        }
      ]
    },
    {
      "cell_type": "code",
      "metadata": {
        "id": "A6Vb9Q2mwae-",
        "colab_type": "code",
        "colab": {}
      },
      "source": [
        "import pandas as pd\n",
        "import numpy as np\n",
        "from pygeocoder import Geocoder\n",
        "import pandas_usaddress\n",
        "import censusgeocode "
      ],
      "execution_count": null,
      "outputs": []
    },
    {
      "cell_type": "code",
      "metadata": {
        "id": "niUT3v36eyIC",
        "colab_type": "code",
        "colab": {}
      },
      "source": [
        "pd.set_option('display.max_columns', None)  "
      ],
      "execution_count": null,
      "outputs": []
    },
    {
      "cell_type": "code",
      "metadata": {
        "id": "HEWn3M0SA2so",
        "colab_type": "code",
        "colab": {
          "base_uri": "https://localhost:8080/",
          "height": 125
        },
        "outputId": "97ede035-dec3-471c-c351-06a5df5dcbbb"
      },
      "source": [
        "from google.colab import drive\n",
        "drive.mount('/content/drive')"
      ],
      "execution_count": null,
      "outputs": [
        {
          "output_type": "stream",
          "text": [
            "Go to this URL in a browser: https://accounts.google.com/o/oauth2/auth?client_id=947318989803-6bn6qk8qdgf4n4g3pfee6491hc0brc4i.apps.googleusercontent.com&redirect_uri=urn%3Aietf%3Awg%3Aoauth%3A2.0%3Aoob&scope=email%20https%3A%2F%2Fwww.googleapis.com%2Fauth%2Fdocs.test%20https%3A%2F%2Fwww.googleapis.com%2Fauth%2Fdrive%20https%3A%2F%2Fwww.googleapis.com%2Fauth%2Fdrive.photos.readonly%20https%3A%2F%2Fwww.googleapis.com%2Fauth%2Fpeopleapi.readonly&response_type=code\n",
            "\n",
            "Enter your authorization code:\n",
            "··········\n",
            "Mounted at /content/drive\n"
          ],
          "name": "stdout"
        }
      ]
    },
    {
      "cell_type": "code",
      "metadata": {
        "id": "0LI6_npwv6CM",
        "colab_type": "code",
        "colab": {
          "base_uri": "https://localhost:8080/",
          "height": 34
        },
        "outputId": "0409e841-24d4-4635-c371-5b2f21771d9d"
      },
      "source": [
        "cd drive/'My Drive'/data/geo2vec"
      ],
      "execution_count": null,
      "outputs": [
        {
          "output_type": "stream",
          "text": [
            "/content/drive/My Drive/data/geo2vec\n"
          ],
          "name": "stdout"
        }
      ]
    },
    {
      "cell_type": "code",
      "metadata": {
        "id": "jBULahbOEhz7",
        "colab_type": "code",
        "colab": {}
      },
      "source": [
        "ls"
      ],
      "execution_count": null,
      "outputs": []
    },
    {
      "cell_type": "markdown",
      "metadata": {
        "id": "s68uODm_4fzV",
        "colab_type": "text"
      },
      "source": [
        "# Project"
      ]
    },
    {
      "cell_type": "markdown",
      "metadata": {
        "id": "XviCT6W2SSNl",
        "colab_type": "text"
      },
      "source": [
        "##TODO "
      ]
    },
    {
      "cell_type": "markdown",
      "metadata": {
        "id": "4mpCzv4-C_sW",
        "colab_type": "text"
      },
      "source": [
        "\n",
        "```\n",
        "#read txt FILE\n",
        "    f = open(\"LICENSE.txt\", \"r\")\n",
        "    print(f.read())\n",
        "```\n",
        "```\n",
        "# merge two data bases\n",
        "    df_merged = df1.merge(df2, how='outer', left_index=True, right_index=True)\n",
        "    # see info with \n",
        "    ca_lq.info()\n",
        "```\n",
        "\n",
        "BUS APPREVIATIONS\n",
        "``` \n",
        "APPLE IS NOT AN ABBREAVIATION  \n",
        "USPS has a bad habbit of not including their own abbreviations in the list of commonly used abbreaviations \n"
      ]
    },
    {
      "cell_type": "markdown",
      "metadata": {
        "id": "rxQ5ynj0eFiO",
        "colab_type": "text"
      },
      "source": [
        "### Possible Projects  "
      ]
    },
    {
      "cell_type": "markdown",
      "metadata": {
        "id": "2oObRaoOC2VF",
        "colab_type": "text"
      },
      "source": [
        "\n",
        "California DataSet [\"BusinessType\"] to use catagorize buiness types with images (map/satelite/maybe looknet)  \n",
        "California DataSet [\"Type Status\"] , [\"Type Original Issue Dates\"] , and [\"Expiration Dates\"] to forcast which stores are going to close. \n",
        "\n"
      ]
    },
    {
      "cell_type": "markdown",
      "metadata": {
        "id": "pISaHhub2eTc",
        "colab_type": "text"
      },
      "source": [
        "####address issues"
      ]
    },
    {
      "cell_type": "markdown",
      "metadata": {
        "id": "71KvJkb82kSv",
        "colab_type": "text"
      },
      "source": [
        "\n",
        "\n",
        "number number, 1 31, \n",
        "\n",
        "intersections (two rd,st,ct)\n",
        "\n",
        "\n",
        "it might be a good Idea to test if the address is  stuctured as (ST#, \" \" , \"street\" , \" \", \"st_abb(rd,ct)\" \" \", \"city\",  \"state\",  \"zip\""
      ]
    },
    {
      "cell_type": "code",
      "metadata": {
        "id": "6UZOv4Mn9_Va",
        "colab_type": "code",
        "colab": {}
      },
      "source": [
        "#ZIP + 4®\n",
        "#  The ZIP + 4® file contains approximately 30 million records is available in its entirety or by selected states.\n",
        "# is available through Electronic Product Fulfillment (EPF) on a monthly or quarterly basis. \n",
        "\n",
        "#Sample ZIP + 4® File TXT\n",
        "https://postalpro.usps.com/storages/2018-02/ZIP4-SAM.TXT\n",
        " \n",
        "#Sample ZIP + 4® Transaction File TXT \n",
        "https://postalpro.usps.com/storages/2018-02/ZIP4TRANS-SAM.TXT"
      ],
      "execution_count": null,
      "outputs": []
    },
    {
      "cell_type": "code",
      "metadata": {
        "id": "uw_wUqM5vBJx",
        "colab_type": "code",
        "colab": {}
      },
      "source": [
        "!realpath {anyfile}\n",
        "!readlink -f {anyfile}"
      ],
      "execution_count": null,
      "outputs": []
    },
    {
      "cell_type": "markdown",
      "metadata": {
        "id": "sF9Tml2avMk0",
        "colab_type": "text"
      },
      "source": [
        "#### USPS"
      ]
    },
    {
      "cell_type": "markdown",
      "metadata": {
        "id": "d_HT_Hh8A3e4",
        "colab_type": "text"
      },
      "source": [
        "The USPS® definition of a standardized address is “one that is fully spelled out, abbreviated using the Postal Service™ standard abbreviations . . . or as shown in the current Postal Service ZIP+4 file.\"    \n"
      ]
    },
    {
      "cell_type": "markdown",
      "metadata": {
        "id": "f3BuPDlk20Fw",
        "colab_type": "text"
      },
      "source": [
        "\n",
        "##### Doc:"
      ]
    },
    {
      "cell_type": "markdown",
      "metadata": {
        "id": "Q6ckdw472xGt",
        "colab_type": "text"
      },
      "source": [
        "\n",
        "https://postalpro.usps.com/CASS/CASSTECH_N\n",
        "\n"
      ]
    },
    {
      "cell_type": "markdown",
      "metadata": {
        "id": "eQp4vXFy23Tp",
        "colab_type": "text"
      },
      "source": [
        "##### Services:"
      ]
    },
    {
      "cell_type": "markdown",
      "metadata": {
        "id": "oemQY8Eu2832",
        "colab_type": "text"
      },
      "source": [
        "\n",
        "\n",
        ">[Address Information System (AIS) Viewer](https://postalpro.usps.com/address-quality/ais-viewer)\n",
        "AIS Viewer is an interactive application designed to provide the ability to retrieve, view, and print accurate and current ZIP Code™ information for all 50 states.\n",
        "\n",
        ">[delivery-statistics-product](https://postalpro.usps.com/address-quality/delivery-statistics-product)  \n",
        "The Delivery Statistics Product defines the number of post office boxes and business/residential deliveries on city, rural, and highway contract routes for every ZIP Code™ in the United States.\n",
        "\n",
        ">[RDI™](https://postalpro.usps.com/address-quality-solutions/residential-delivery-indicator-rdi)  \n",
        "Business or residential? Make informed decisions, improve your deliverability, and optimize operational efficiency with RDI™. \n",
        "\n",
        ">[Carrier Route Product](https://postalpro.usps.com/address-quality/carrier-route-product)\n",
        "The Carrier Route Product provides reference information needed to apply carrier route codes to addresses for presort postage discounts.  \n",
        "\n",
        ">[ZIPMove Product](https://postalpro.usps.com/address-quality-solutions/zipmove-product)\n",
        "ZIPMove Product offers a means of correcting addresses that have undergone a ZIP Code™ realignment in which a change in city name and finance number occurred.\n",
        "\n",
        ">[Address Matching System API (AMS API)/](https://postalpro.usps.com/address-quality/ams-api#licensing)($$$)  \n",
        "AMS API is software used to develop address matching software. This software provides access to USPS® matching logic, which allows users to verify the accuracy of ZIP + 4® returns.\n",
        "\n",
        ">[LACSLink® ](https://postalpro.usps.com/address-quality/lacslink)\n",
        "The LACSLink® product offers an automated method of obtaining new addresses after a 911 emergency system has been implemented.\n",
        "\n",
        "For more information about AIS Viewer and other addressing tools, contact the National Customer Support Center at 800-238-3150"
      ]
    },
    {
      "cell_type": "markdown",
      "metadata": {
        "id": "J8fMR5zI48m4",
        "colab_type": "text"
      },
      "source": [
        "## INFO"
      ]
    },
    {
      "cell_type": "markdown",
      "metadata": {
        "id": "d1D7O3FT3MFg",
        "colab_type": "text"
      },
      "source": [
        "### open address"
      ]
    },
    {
      "cell_type": "code",
      "metadata": {
        "id": "Guv6sAdev93C",
        "colab_type": "code",
        "colab": {}
      },
      "source": [
        "#!unzip openaddr-collected-us_west.zip\n",
        "cd us/ca\n",
        "ls\n",
        "t=pd.read_csv('alameda.csv',low_memory=False)\n",
        "t.sort_values(by=['STREET','NUMBER'])"
      ],
      "execution_count": null,
      "outputs": []
    },
    {
      "cell_type": "markdown",
      "metadata": {
        "id": "cYKsISqb3YL4",
        "colab_type": "text"
      },
      "source": [
        "### Project outline"
      ]
    },
    {
      "cell_type": "markdown",
      "metadata": {
        "id": "ubR_0KkgKwzs",
        "colab_type": "text"
      },
      "source": [
        "```\n",
        "## Setup\n",
        "### packages\n",
        "### knowledge\n",
        "### problems\n",
        "### current issues \n",
        "    \n",
        "### Data \n",
        "#### Read in data\n",
        "#### Profile/explore\n",
        "#### Basic cleaning  \n",
        "##### Remove non useful columns\n",
        "\n",
        "   \n",
        "### Addreess fields\n",
        "#### Combine address field\n",
        "#### Standardize fields\n",
        "#### Get lat long\n",
        "#### Remove out of state\n",
        "    \n",
        "### Licenses\n",
        "#### Knowledge\n",
        "#### Simplfy, group & filter by license types \n",
        "#### Remove expired\n",
        "#### Remove non lic\n",
        "#### Remove non useful columns\n",
        "#### Remove out of state\n",
        "#### Remove duplicates\n",
        "#### Multiple licences same location\n",
        "```\n",
        "\n",
        "\n"
      ]
    },
    {
      "cell_type": "markdown",
      "metadata": {
        "id": "_5co5Ae_9p8o",
        "colab_type": "text"
      },
      "source": [
        "### USPS Standars"
      ]
    },
    {
      "cell_type": "markdown",
      "metadata": {
        "id": "D_VHrqTt82-X",
        "colab_type": "text"
      },
      "source": [
        "#### Primary Street Suffix and Secondary Unit Designators"
      ]
    },
    {
      "cell_type": "code",
      "metadata": {
        "id": "suRgBJfwlrOB",
        "colab_type": "code",
        "colab": {}
      },
      "source": [
        "C2 Secondary Unit Designators\n",
        " \n",
        "Description :Approved Abbreviation   \n",
        "#need to be followed by a     \n",
        "\n",
        "Apartment : APT\n",
        "Basement: BSMT**\n",
        "#  : #\n",
        "Building : BLDG\n",
        "Department: DEPT\n",
        "Floor : FL\n",
        "Front : FRNT**\n",
        "Hanger : HNGR\n",
        "Key : KEY\n",
        "Lobby : LBBY**\n",
        "Lot : LOT\n",
        "Lower : LOWR**\n",
        "Office : OFC**\n",
        "Penthouse : PH**\n",
        "Pier : PIER\n",
        "Rear : REAR**\n",
        "Room : RM\n",
        "Side : SIDE**\n",
        "Slip : SLIP\n",
        "Space : SPC\n",
        "Stop : STOP\n",
        "Suite : STE\n",
        "Trailer : TRLR\n",
        "Unit : UNIT\n",
        "Upper : UPPR**   \n",
        "    \n",
        "Secondary Unit Designators,Secondary RANGE to follow ={}\n",
        "\"#\" : \"#\"    \n",
        "\"Apartment\" : \"APT \"     \n",
        "\"Building\" : \"BLDG\"\n",
        "\"Department\": \"DEPT\"\n",
        "\"Floor\" : \"FL\"    \n",
        "\"Hanger\" : \"HNGR\"\n",
        "\"Key\" : \"KEY\"       \n",
        "\"Lot\" : \"LOT\"    \n",
        "\"Rear\" : \"REAR\"      \n",
        "\"Side\" :  \"SIDE\"      \n",
        "\"Upper\" : \"UPPR\"    \n",
        "\"Pier\" : \"PIER\"    \n",
        "\"Room\" : \"RM\"  \n",
        "\"Slip\" : \"SLIP\"    \n",
        "\"Space\": \"SPC\"    \n",
        "\"Stop\" : \"STOP\"\n",
        "\"Suite\" : \"STE\"\n",
        "\"Trailer\" : \"TRLR\"\n",
        "\"Unit\" : \"UNIT\"\n",
        "        \n",
        "Does not require a Secondary RANGE to follow.    \n",
        "\" \" : \"#\"\n",
        "\"#\" : \"#\"  \n",
        "\"Basement\": \"BSMT\"    \n",
        "\"Front\"  : \"FRNT\"\n",
        "\"Lobby\" : \"LBBY\"\n",
        "\"Lower\" : \"LOWR\"\n",
        "\"Office\" : \"OFC\"\n",
        "\"Penthouse\" : \"PH\"         \n",
        "\"Side\" : \"SIDE\"    \n",
        "\"Upper\" : \"UPPR\" \n",
        " "
      ],
      "execution_count": null,
      "outputs": []
    },
    {
      "cell_type": "code",
      "metadata": {
        "id": "1g0UVT7frgfA",
        "colab_type": "code",
        "colab": {}
      },
      "source": [
        "https://pe.usps.com/text/pub28/28apc_002.htm\n",
        "5/5/2019\n",
        "\n",
        "#ToDo see if theere are more @ https://github.com/Lyonk71/pandas-usaddress/blob/master/pandas_usaddress/abbreviations.csv\n",
        "\n",
        "Primary Street Suffix Name | Commonly Used Street Suffix or Abbreviation | Postal Service Standard Suffix Abbreviation\n",
        "\n",
        "#ALLEY\n",
        "'ALLEE' : 'ALY'\n",
        "'ALLEY' : 'ALY'\n",
        "'ALLY' : 'ALY'\n",
        "'ALY' : 'ALY'\n",
        "\n",
        "#ANEX\n",
        "'ANEX' : 'ANX'\n",
        "'ANNEX' : 'ANX'\n",
        "'ANNX' : 'ANX'\n",
        "'ANX' : 'ANX'\n",
        "    \n",
        "#ARCADE\n",
        "'ARC' : 'ARC'\n",
        "'ARCADE' : 'ARC'\n",
        "\n",
        "#AVENUE\t\n",
        "'AV' : 'AVE'\n",
        "'AVE' : 'AVE'\n",
        "'AVEN' : 'AVE'\n",
        "'AVENU' : 'AVE'\n",
        "'AVENUE' : 'AVE'\n",
        "'AVN' : 'AVE'\n",
        "'AVNUE' : 'AVE'\n",
        "\n",
        "#BAYOU\n",
        "'BAYOO : BYU\n",
        "'BAYOU : BYU\n",
        "    \n",
        "#BEACH\n",
        "'BEACH' : 'BCH' \n",
        "'BCH' : 'BCH' \n",
        "\n",
        "#BEND\n",
        "'BEND' : 'BND'\n",
        "'BND' : 'BND'\n",
        "\n",
        "#BLUFF\n",
        "'BLF'   : 'BLF'\n",
        "'BLUF'  : 'BLF'\n",
        "'BLUFF' : 'BLF'\n",
        "\n",
        "#BLUFFS :\n",
        "'BLUFFS' : 'BLFS'\n",
        "\n",
        "#BOTTOM\n",
        "'BOT'    : 'BTM' \n",
        "'BOTTM ' : 'BTM' \n",
        "'BOTTOM' : 'BTM' \n",
        "'BTM '   : 'BTM' \n",
        "    \n",
        "#BOULEVARD\n",
        "'BLVD'      : 'BLVD'\n",
        "'BOUL'      : 'BLVD'\n",
        "'BOULEVARD' : 'BLVD'\n",
        "'BOULV'     : 'BLVD'\n",
        "\n",
        "#BRANCH\n",
        "'BR'    : 'BR'\n",
        "'BRNCH' : 'BR'\n",
        "'BRANCH': 'BR'\n",
        "\n",
        "#BRIDGE\n",
        "'BRDGE' : 'BRG'\n",
        "'BRG'   : 'BRG'\n",
        "'BRIDGE': 'BRG'\n",
        "\n",
        "#BROOK\n",
        "'BRK'   : 'BRK'\n",
        "'BROOK' : 'BRK' \n",
        "\n",
        "#BROOKS\n",
        "'BROOKS' : 'BRKS'\n",
        "'BRKS'   : 'BRKS'\n",
        "\n",
        "#BURG\n",
        "'BURG' : 'BG'\n",
        "'BG'   : 'BG'\n",
        "\n",
        "#BURGS\n",
        "'BURGS' : 'BGS'\n",
        "'BGS'   : 'BGS'\n",
        "\n",
        "#BYPASS\n",
        "'BYP'   : 'BYP'\n",
        "'BYPA'  : 'BYP'\n",
        "'BYPAS' : 'BYP'\n",
        "'BYPASS': 'BYP'\n",
        "'BYPS'  : 'BYP'\n",
        "\n",
        "#CAMP\n",
        "'CAMP' : 'CP'\n",
        "'CP'   : 'CP'\n",
        "'CMP'  : 'CP'\n",
        "\n",
        "#CANYON\n",
        "'CANYN' : 'CYN'\n",
        "'CANYON': 'CYN'\n",
        "'CNYN'  : 'CYN'\n",
        "'CYN'   : 'CYN'\n",
        "    \n",
        "#CAPE\n",
        "'CAPE' : 'CPE'\n",
        "'CPE'  : 'CPE'\n",
        "\n",
        "#CAUSEWAY\n",
        "'CAUSEWAY': 'CSWY'\n",
        "'CAUSWA'  : 'CSWY'\n",
        "'CSWY'    : 'CSWY'\n",
        "\n",
        "#CENTER \n",
        "'CEN' : 'CTR'\n",
        "'CENT' : 'CTR'\n",
        "'CENTER' : 'CTR'\n",
        "'CENTR' : 'CTR'\n",
        "'CENTRE' : 'CTR' \n",
        "'CNTER' : 'CTR'\n",
        "'CNTR' : 'CTR'\n",
        "'CTR' : 'CTR'\n",
        "    \n",
        "#CENTERS\n",
        "'CENTERS' : 'CTRS'\n",
        "'CTRS' : 'CTRS'\n",
        "\n",
        "#CIRCLE\n",
        "'CIR' : 'CIR'\n",
        "'CIRC' : 'CIR'\n",
        "'CIRCL' : 'CIR'\n",
        "'CIRCLE' : 'CIR'\n",
        "'CRCL' : 'CIR'\n",
        "'CRCLE' : 'CIR'\n",
        "\n",
        "#CIRCLES\n",
        "'CIRCLES' : 'CIRS'\n",
        "'CIRS' : 'CIRS'\n",
        "\n",
        "#CLIFF\n",
        "'CLF' : 'CLF'\n",
        "'CLIFF' : 'CLF'\n",
        "\n",
        "#CLIFFS\n",
        "'CLFS' : 'CLFS'\n",
        "'CLIFFS' : 'CLFS'\n",
        "\n",
        "#CLUB\n",
        "'CLB' : 'CLB'\n",
        "'CLUB' : 'CLB'\n",
        "\n",
        "#COMMON\n",
        "'COMMON' : 'CMN'\n",
        "'CMN' : 'CMN'\n",
        "\n",
        "#COMMONS\n",
        "'COMMONS' : 'CMNS' \n",
        "'CMNS' : 'CMNS' \n",
        "\n",
        "#CORNER\n",
        "'COR' : 'COR'\n",
        "'CORNER' : 'COR'\n",
        "\n",
        "#CORNERS\n",
        "'CORNERS' : 'CORS'\n",
        "'CORS' : 'CORS'\n",
        "\n",
        "#COURSE\n",
        "'COURSE' : 'CRSE'\n",
        "'CRSE' : 'CRSE'\n",
        "\n",
        "#COURT\n",
        "'COURT' : 'CT'\n",
        "'CT' : 'CT'\n",
        "\n",
        "#COURTS\n",
        "'COURTS' : 'CTS'\n",
        "'CTS' : 'CTS'\n",
        "\n",
        "#COVE\n",
        "'COVE' : 'CV'\n",
        "'CV' : 'CV'\n",
        "\n",
        "#COVES\n",
        "'COVES' : 'CVS'\n",
        "'CVS' : 'CVS'\n",
        "\n",
        "#CREEK\n",
        "'CREEK' : 'CRK'\n",
        "'CRK' : 'CRK'\n",
        "\n",
        "#CRESCENT\n",
        "'CRESCENT' : 'CRES' \n",
        "'CRES' : 'CRES'\n",
        "'CRSENT' : 'CRES'\n",
        "'CRSNT' : 'CRES'\n",
        "\n",
        "#CREST\n",
        "'CREST' : 'CRST'\n",
        "'CRST' : 'CRST'\n",
        "\n",
        "#CROSSING\n",
        "'CROSSING' : 'XING'\n",
        "'CRSSNG' : 'XING'\n",
        "'XING' : 'XING'\n",
        "\n",
        "#CROSSROAD\n",
        "'CROSSROAD' : 'XRD'\n",
        "'XRD' : 'XRD'\n",
        "\n",
        "#CROSSROADS\n",
        "'CROSSROADS' : 'XRDS'\n",
        "'XRDS' : 'XRDS'\n",
        "\n",
        "#CURVE\n",
        "'CURVE' : 'CURV'\n",
        "'CURV' : 'CURV'\n",
        "\n",
        "#DALE\n",
        "'DALE' : 'DL'\n",
        "'DL' : 'DL'\n",
        "\n",
        "#DAM\n",
        "'DAM' : 'DM'\n",
        "'DM' : 'DM'\n",
        "\n",
        "#DIVIDE\n",
        "'DIV' : 'DV'\n",
        "'DIVIDE' : 'DV'\n",
        "'DV' : 'DV'\n",
        "'DVD' : 'DV'\n",
        "\n",
        "#DRIVE\n",
        "'DR' : 'DR'\n",
        "'DRIV' : 'DR'\n",
        "'DRIVE' : 'DR'\n",
        "'DRV' : 'DR'\n",
        "\n",
        "#DRIVES\n",
        "'DRIVES' : 'DRS'\n",
        "'DRS' : 'DRS'\n",
        "\n",
        "#ESTATE\n",
        "'EST' : 'EST'\n",
        "'ESTATE' : 'EST'\n",
        "\n",
        "#ESTATES\n",
        "'ESTATES' : 'ESTS'\n",
        "'ESTS' : 'ESTS'\n",
        "\n",
        "#EXPRESSWAY\n",
        "'EXP' : 'EXPY'\n",
        "'EXPR' : 'EXPY'\n",
        "'EXPRESS' : 'EXPY'\n",
        "'EXPRESSWAY' : 'EXPY'\n",
        "'EXPW' : 'EXPY'\n",
        "'EXPY' : 'EXPY'\n",
        "\n",
        "#EXTENSION\n",
        "'EXT' : 'EXT'\n",
        "'EXTENSION' : 'EXT'\n",
        "'EXTN' : 'EXT'\n",
        "'EXTNSN' : 'EXT'\n",
        "    \n",
        "####\n",
        "#EXTENSIONS\n",
        "'EXTENSIONS' : 'EXTS'\n",
        "'EXTS' : 'EXTS'\n",
        "\n",
        "#FALL \n",
        "'FALL' : 'FALL'\n",
        "\n",
        "#FALLS\n",
        "'FALLS' : 'FLS'\n",
        "'FLS' : 'FLS'\n",
        "\n",
        "#FERRY\n",
        "'FERRY' : 'FRY'\n",
        "'FRRY' : 'FRY'\n",
        "'FRY' : 'FRY'   \n",
        "\n",
        "#FIELD\n",
        "FIELD : FLD'\n",
        "FLD : FLD'\n",
        "\n",
        "#FIELDS\n",
        "FIELDS : FLDS'\n",
        "FLDS : FLDS'\n",
        "\n",
        "#FLAT\n",
        "FLAT : FLT'\n",
        "FLT : FLT'\n",
        "\n",
        "#FLATS\n",
        "FLATS : FLTS'\n",
        "FLTS : FLTS'\n",
        "\n",
        "#FORD\n",
        "FORD : FRD'\n",
        "FRD : FRD'\n",
        "\n",
        "#FORDS\n",
        "FORDS : FRDS'\n",
        "FRDS : FRDS'\n",
        "\n",
        "#FOREST\n",
        "FOREST : FRST'\n",
        "FORESTS : FRST'\n",
        "FRST : FRST'\n",
        "\n",
        "#FORGE \n",
        "FORG : FRG'\n",
        "FORGE : FRG' \n",
        "FRG : FRG'\n",
        "\n",
        "#FORGES\n",
        "FORGES : FRGS'\n",
        "FRGS : FRGS'\n",
        "\n",
        "#FORK\n",
        "FORK : FRK'\n",
        "FRK : FRK'\n",
        "\n",
        "#FORKS\n",
        "FORKS : FRKS'\n",
        "FRKS : FRKS'\n",
        "\n",
        "\n",
        "#FORT\n",
        "FORT : FT'\n",
        "FRT : FT'\n",
        "FT : FT'\n",
        "\n",
        "#FREEWAY\n",
        "FREEWAY : FWY'\n",
        "FREEWY : FWY'\n",
        "FRWAY : FWY'\n",
        "FRWY : FWY'\n",
        "FWY : FWY'\n",
        "\n",
        "#GARDEN\n",
        "GARDEN : GDN'\n",
        "GARDN : GDN'\n",
        "GRDEN : GDN'\n",
        "GDN  : GDN'\n",
        "GRDN : GDN'\n",
        "    \n",
        "\n",
        "#GARDENS\n",
        "GARDENS : GDNS'\n",
        "GDNS : GDNS'\n",
        "GRDNS : GDNS'\n",
        "\n",
        "#GATEWAY\n",
        "GATEWAY : GTWY'\n",
        "GATEWY : GTWY'\n",
        "GATWAY : GTWY'\n",
        "GTWAY : GTWY'\n",
        "GTWY : GTWY'\n",
        "\n",
        "#GLEN\n",
        "GLEN : GLN'\n",
        "GLN : GLN'\n",
        "\n",
        "#GLENS\n",
        "GLENS :GLNS\n",
        "'GLNS : GLNS'\n",
        "\n",
        "#GREEN\n",
        "'GREEN' : 'GRN'\n",
        "'GRN' : 'GRN'\n",
        "\n",
        "\n",
        "#GREENS\n",
        "'GREENS' : 'GRNS'\n",
        "'GRNS' : 'GRNS'\n",
        "\n",
        "#GROVE\n",
        "'GROV : GRV'\n",
        "'GRV : GRV'\n",
        "'GROVE' : 'GRV'\n",
        "\n",
        "\n",
        "#GROVES\n",
        "'GROVES' : 'GRVS'\n",
        "'GRVS' : 'GRVS' \n",
        "\n",
        "#HARBOR\n",
        "\n",
        "'HARB' : 'HBR'\n",
        "'HARBOR' : 'HBR'\n",
        "'HARBR' : 'HBR'\n",
        "'HBR' : 'HBR'\n",
        "'HRBOR' : 'HBR'\n",
        "\n",
        "#HARBORS\n",
        "'HARBORS' : 'HBRS'\n",
        "'HBRS' : 'HBRS'\n",
        "\n",
        "#HAVEN\n",
        "'HAVEN' : 'HVN'\n",
        "'HVN' : 'HVN'\n",
        "\n",
        "\n",
        "#HEIGHTS\n",
        "'HT' : 'HTS'\n",
        "'HTS' : 'HTS'\n",
        "\n",
        "#HIGHWAY\n",
        "'HIGHWAY' : 'HWY' \n",
        "'HIGHWY' : 'HWY'\n",
        "'HIWAY' : 'HWY'\n",
        "'HIWY' : 'HWY'\n",
        "'HWAY' : 'HWY'\n",
        "'HWY' : 'HWY'\n",
        "\n",
        "#HILL\n",
        "'HILL' : 'HL'\n",
        "'HL' : 'HL'\n",
        "\n",
        "#HILLS\n",
        "'HILLS' : 'HLS'\n",
        "'HLS' : 'HLS'\n",
        "\n",
        "#HOLLOW\n",
        "'HLLW' : 'HOLW'\n",
        "'HOLLOW' : 'HOLW'\n",
        "'HOLLOWS' : 'HOLW'\n",
        "'HOLW' : 'HOLW'\n",
        "'HOLWS' : 'HOLW'\n",
        "\n",
        "#INLET\n",
        "'INLET' : 'INLT'\n",
        "'INLT' : 'INLT'\n",
        "\n",
        "#ISLAND\n",
        "'IS' : 'IS'\n",
        "'ISLAND' : 'IS'\n",
        "'ISLND' : 'IS'\n",
        "\n",
        "#ISLANDS\n",
        "'ISLANDS' : 'ISS'\n",
        "'ISLNDS' : 'ISS'\n",
        "'ISS' : 'ISS'\n",
        "\n",
        "#ISLE\n",
        "'ISLE' : 'ISLE'\n",
        "'ISLES' : 'ISLE'\n",
        "\n",
        "#JUNCTION\n",
        "'JCT' : 'JCT'\n",
        "'JCTION' : 'JCT'\n",
        "'JCTN' : 'JCT'\n",
        "'JUNCTION' : 'JCT'\n",
        "'JUNCTN' : 'JCT'\n",
        "'JUNCTON' : 'JCT'\n",
        "\n",
        "#JUNCTIONS\n",
        "'JCTNS' : 'JCTS'\n",
        "'JCTS' : 'JCTS'\n",
        "'JUNCTIONS' : 'JCTS'\n",
        "\n",
        "#KEY\n",
        "'KEY' : 'KY'\n",
        "'KY' : 'KY'\n",
        "\n",
        "#KEYS\n",
        "'KEYS' : 'KYS'\n",
        "'KYS' : 'KYS'\n",
        "\n",
        "#KNOLL\n",
        "'KNL' : 'KNL'\n",
        "'KNOL' : 'KNL'\n",
        "'KNOLL' : 'KNL'\n",
        "\n",
        "#KNOLLS\n",
        "'KNLS' : 'KNLS'\n",
        "'KNOLLS' : 'KNLS'\n",
        "\n",
        "#LAKE\n",
        "'LK' : 'LK'\n",
        "'LAKE' : 'LK'\n",
        "\n",
        "#LAKES\n",
        "\n",
        "'LKS' :\n",
        "\n",
        "'LKS'\n",
        "\n",
        "'LAKES' :\n",
        "\n",
        "#LAND\n",
        "\n",
        "'LAND' :\n",
        "\n",
        "'LAND'\n",
        "\n",
        "#LANDING\n",
        "\n",
        "'LANDING' :\n",
        "\n",
        "'LNDG'\n",
        "\n",
        "'LNDG' :\n",
        "\n",
        "'LNDNG' :\n",
        "\n",
        "#LANE\n",
        "\n",
        "'LANE' :\n",
        "\n",
        "'LN'\n",
        "\n",
        "'LN' :\n",
        "\n",
        "#LIGHT\n",
        "\n",
        "'LGT' :\n",
        "\n",
        "'LGT'\n",
        "\n",
        "'LIGHT' :\n",
        "\n",
        "#LIGHTS\n",
        "\n",
        "'LIGHTS' :\n",
        "\n",
        "'LGTS' :\n",
        "\n",
        "#LOAF\n",
        "\n",
        "'LF' :\n",
        "\n",
        "'LF'\n",
        "\n",
        "'LOAF' :\n",
        "\n",
        "#LOCK\n",
        "\n",
        "'LCK' :\n",
        "\n",
        "'LCK'\n",
        "\n",
        "'LOCK' : \n",
        "\n",
        "#LOCKS\n",
        "\n",
        "'LCKS' : \n",
        "\n",
        "'LCKS'\n",
        "\n",
        "'LOCKS' : \n",
        "\n",
        "#LODGE\n",
        "\n",
        "'LDG' : \n",
        "\n",
        "'LDG'\n",
        "\n",
        "'LDGE' : \n",
        "\n",
        "'LODG' : \n",
        "\n",
        "'LODGE' : \n",
        "\n",
        "#LOOP\n",
        "\n",
        "'LOOP' : \n",
        "\n",
        "'LOOP'\n",
        "\n",
        "'LOOPS' : \n",
        "\n",
        "#MALL\n",
        "\n",
        "'MALL' : \n",
        "\n",
        "'MALL'\n",
        "\n",
        "#MANOR\n",
        "\n",
        "'MNR' : \n",
        "\n",
        "'MNR'\n",
        "\n",
        "'MANOR' : \n",
        "\n",
        "#MANORS\n",
        "\n",
        "'MANORS' : \n",
        "\n",
        "'MNRS' : \n",
        "\n",
        "'MNRS' : \n",
        "\n",
        "#MEADOW\n",
        "\n",
        "'MEADOW' : \n",
        "\n",
        "'MDW'\n",
        "\n",
        "#MEADOWS\n",
        "\n",
        "'MDW' : \n",
        "\n",
        "'MDWS'\n",
        "\n",
        "'MDWS' : \n",
        "\n",
        "'MEADOWS' : \n",
        "\n",
        "'MEDOWS' : \n",
        "\n",
        "#MEWS\n",
        "\n",
        "'MEWS' : \n",
        "\n",
        "'MEWS' : \n",
        "\n",
        "#MILL\n",
        "\n",
        "'MILL' : \n",
        "\n",
        "'ML' : \n",
        "\n",
        "#MILLS\n",
        "\n",
        "'MILLS' : \n",
        "\n",
        "'MLS' : \n",
        "\n",
        "#MISSION\n",
        "\n",
        "'MISSN' : \n",
        "\n",
        "'MSN'\n",
        "\n",
        "'MSSN' : \n",
        "\n",
        "#MOTORWAY\n",
        "\n",
        "'MOTORWAY' : \n",
        "\n",
        "'MTWY'\n",
        "\n",
        "#MOUNT\n",
        "\n",
        "'MNT' : \n",
        "\n",
        "'MT'\n",
        "\n",
        "'MT' : \n",
        "\n",
        "'MOUNT' : \n",
        "\n",
        "#MOUNTAIN\n",
        "\n",
        "'MNTAIN' : \n",
        "\n",
        "'MTN'\n",
        "\n",
        "'MNTN' : \n",
        "\n",
        "'MOUNTAIN' : \n",
        "\n",
        "'MOUNTIN' : \n",
        " : \n",
        "'MTIN' : \n",
        "\n",
        "'MTN' : \n",
        "\n",
        "#MOUNTAINS\n",
        "\n",
        "'MNTNS' : \n",
        "\n",
        "'MTNS'\n",
        "\n",
        "'MOUNTAINS' : \n",
        "\n",
        "#NECK\n",
        "\n",
        "'NCK' : \n",
        "\n",
        "'NCK'\n",
        "\n",
        "'NECK' : \n",
        "\n",
        "#ORCHARD\n",
        "\n",
        "'ORCH' : \n",
        "\n",
        "'ORCH'\n",
        "\n",
        "'ORCHARD' : \n",
        "\n",
        "'ORCHRD' : \n",
        "\n",
        "#OVAL\n",
        "\n",
        "'OVAL' : \n",
        "\n",
        "'OVAL'\n",
        "\n",
        "'OVL' : \n",
        "\n",
        "#OVERPASS\n",
        "\n",
        "'OVERPASS' : \n",
        "\n",
        "'OPAS'\n",
        "\n",
        "#PARK\n",
        "\n",
        "'PARK' : \n",
        "\n",
        "'PARK'\n",
        "\n",
        "'PRK' : \n",
        "\n",
        "#PARKS\n",
        "\n",
        "'PARKS' : \n",
        "\n",
        "'PARK'\n",
        "\n",
        "#PARKWAY\n",
        "\n",
        "'PARKWAY' : \n",
        "\n",
        "'PKWY'\n",
        "\n",
        "'PARKWY' : \n",
        "\n",
        "'PKWAY' : \n",
        "\n",
        "'PKWY' : \n",
        "\n",
        "'PKY' : \n",
        "\n",
        "#PARKWAYS\n",
        "\n",
        "'PARKWAYS' : \n",
        "\n",
        "'PKWY'\n",
        "\n",
        "'PKWYS' : \n",
        "\n",
        "#PASS\n",
        "\n",
        "'PASS' : \n",
        "\n",
        "'PASS'\n",
        "\n",
        "#PASSAGE\n",
        "\n",
        "'PASSAGE' : \n",
        "\n",
        "'PSGE'\n",
        "\n",
        "#PATH\n",
        "\n",
        "'PATH' : \n",
        "\n",
        "'PATH'\n",
        " : \n",
        "'PATHS' : \n",
        "\n",
        "#PIKE\n",
        "\n",
        "'PIKE' : \n",
        "\n",
        "'PIKE'\n",
        "\n",
        "'PIKES' : \n",
        "\n",
        "#PINE\n",
        "\n",
        "'PINE' : \n",
        "\n",
        "'PNE'\n",
        "\n",
        "#PINES\n",
        "\n",
        "'PINES' : \n",
        "\n",
        "'PNES'\n",
        "\n",
        "'PNES' : \n",
        "\n",
        "#PLACE\n",
        "\n",
        "'PL' : \n",
        "\n",
        "'PL'\n",
        "\n",
        "#PLAIN\n",
        "'PLAIN' : \n",
        "'PLN'\n",
        "\n",
        "'PLN' : \n",
        "\n",
        "#PLAINS\n",
        "\n",
        "'PLAINS' : \n",
        "\n",
        "'PLNS'\n",
        "\n",
        "'PLNS' : \n",
        "\n",
        "#PLAZA\n",
        "\n",
        "'PLAZA' : \n",
        "\n",
        "'PLZ'\n",
        "\n",
        "'PLZ' : \n",
        "\n",
        "'PLZA' : \n",
        "\n",
        "#POINT\n",
        "\n",
        "'POINT' : \n",
        "\n",
        "'PT'\n",
        "\n",
        "'PT' : \n",
        "\n",
        "#POINTS\n",
        "\n",
        "'POINTS' : \n",
        "\n",
        "'PTS'\n",
        "\n",
        "'PTS' : \n",
        "\n",
        "#PORT\n",
        "\n",
        "'PORT' : \n",
        "\n",
        "'PRT'\n",
        "\n",
        "'PRT' : \n",
        "\n",
        "#PORTS\n",
        "\n",
        "'PORTS' : \n",
        "\n",
        "'PRTS'\n",
        "\n",
        "'PRTS' : \n",
        "\n",
        "#PRAIRIE\n",
        "\n",
        "'PR' : \n",
        "\n",
        "'PR'\n",
        "\n",
        "'PRAIRIE' : \n",
        "\n",
        "'PRR'\n",
        "\n",
        "#RADIAL\n",
        "\n",
        "'RAD' : \n",
        "\n",
        "'RADL'\n",
        "\n",
        "'RADIAL' : \n",
        "\n",
        "'RADIEL' : \n",
        "\n",
        "'RADL' : \n",
        "\n",
        "#RAMP\n",
        "\n",
        "'RAMP' : \n",
        "\n",
        "'RAMP'\n",
        "\n",
        "#RANCH\n",
        "\n",
        "'RANCH' : \n",
        "\n",
        "'RNCH'\n",
        "\n",
        "'RANCHES'\n",
        "\n",
        "'RNCH'\n",
        "\n",
        "'RNCHS'\n",
        "\n",
        "#RAPID\n",
        "\n",
        "'RAPID'\n",
        "\n",
        "'RPD'\n",
        "\n",
        "'RPD'\n",
        "\n",
        "#RAPIDS\n",
        "\n",
        "'RAPIDS'\n",
        "\n",
        "'RPDS'\n",
        "\n",
        "'RPDS'\n",
        "\n",
        "#REST\n",
        "\n",
        "'REST'\n",
        "\n",
        "'RST'\n",
        "\n",
        "'RST'\n",
        "\n",
        "#RIDGE\n",
        "\n",
        "'RDG'\n",
        "\n",
        "'RDG'\n",
        "\n",
        "'RDGE'\n",
        "\n",
        "'RIDGE'\n",
        "\n",
        "#RIDGES\n",
        "\n",
        "'RDGS'\n",
        "\n",
        "'RDGS'\n",
        "\n",
        "'RIDGES'\n",
        "\n",
        "#RIVER\n",
        "\n",
        "'RIV'\n",
        "\n",
        "'RIV'\n",
        "\n",
        "'RIVER'\n",
        "\n",
        "'RVR'\n",
        "\n",
        "'RIVR'\n",
        "\n",
        "#ROAD\n",
        "\n",
        "'RD'\n",
        "\n",
        "'RD'\n",
        "\n",
        "'ROAD'\n",
        "\n",
        "#ROADS\n",
        "\n",
        "'ROADS'\n",
        "\n",
        "'RDS'\n",
        "\n",
        "'RDS'\n",
        "\n",
        "#ROUTE\n",
        "\n",
        "'ROUTE'\n",
        "\n",
        "'RTE'\n",
        "\n",
        "#ROW\n",
        "\n",
        "'ROW'\n",
        "\n",
        "'ROW'\n",
        "\n",
        "#RUE\n",
        "\n",
        "'RUE'\n",
        "\n",
        "'RUE'\n",
        "\n",
        "#RUN\n",
        "\n",
        "'RUN'\n",
        "\n",
        "'RUN'\n",
        "\n",
        "#SHOAL\n",
        "\n",
        "'SHL'\n",
        "\n",
        "'SHL'\n",
        "\n",
        "'SHOAL'\n",
        "\n",
        "#SHOALS\n",
        "\n",
        "'SHLS'\n",
        "\n",
        "'SHLS'\n",
        "\n",
        "'SHOALS'\n",
        "\n",
        "#SHORE\n",
        "\n",
        "'SHOAR'\n",
        "\n",
        "'SHR'\n",
        "\n",
        "'SHORE'\n",
        "\n",
        "'SHR'\n",
        "\n",
        "#SHORES\n",
        "\n",
        "'SHOARS'\n",
        "\n",
        "'SHRS'\n",
        "\n",
        "'SHORES'\n",
        "\n",
        "'SHRS'\n",
        "\n",
        "#SKYWAY\n",
        "\n",
        "'SKYWAY'\n",
        "\n",
        "'SKWY'\n",
        "\n",
        "#SPRING\n",
        "\n",
        "'SPG'\n",
        "\n",
        "'SPG'\n",
        "\n",
        "'SPNG'\n",
        "\n",
        "'SPRING'\n",
        "\n",
        "'SPRNG'\n",
        "\n",
        "#SPRINGS\n",
        "\n",
        "'SPGS'\n",
        "\n",
        "'SPGS'\n",
        "\n",
        "'SPNGS'\n",
        "\n",
        "'SPRINGS'\n",
        "\n",
        "'SPRNGS'\n",
        "\n",
        "#SPUR\n",
        "\n",
        "'SPUR'\n",
        "\n",
        "'SPUR'\n",
        "\n",
        "#SPURS\n",
        "\n",
        "'SPURS'\n",
        "\n",
        "'SPUR'\n",
        "\n",
        "#SQUARE\n",
        "\n",
        "'SQ'\n",
        "\n",
        "'SQ'\n",
        "\n",
        "'SQR'\n",
        "\n",
        "'SQRE'\n",
        "\n",
        "'SQU'\n",
        "'SQUARE'\n",
        "\n",
        "#SQUARES\n",
        "\n",
        "'SQRS'\n",
        "\n",
        "'SQS'\n",
        "\n",
        "'SQUARES'\n",
        "\n",
        "#STATION\n",
        "\n",
        "'STA'\n",
        "\n",
        "'STA'\n",
        "\n",
        "'STATION'\n",
        "\n",
        "'STATN'\n",
        "\n",
        "'STN'\n",
        "\n",
        "#STRAVENUE\n",
        "\n",
        "'STRA'\n",
        "\n",
        "'STRA'\n",
        "\n",
        "'STRAV'\n",
        "\n",
        "'STRAVEN'\n",
        "\n",
        "'STRAVENUE'\n",
        "\n",
        "'STRAVN'\n",
        "\n",
        "'STRVN'\n",
        "\n",
        "'STRVNUE'\n",
        "\n",
        "#STREAM\n",
        "\n",
        "'STREAM'\n",
        "\n",
        "'STRM'\n",
        "\n",
        "'STREME'\n",
        "\n",
        "'STRM'\n",
        "\n",
        "#STREET\n",
        "\n",
        "'STREET'\n",
        "\n",
        "'ST'\n",
        "\n",
        "'STRT'\n",
        "\n",
        "'ST'\n",
        "\n",
        "'STR'\n",
        "\n",
        "'STREETS'\n",
        "\n",
        "'STREETS'\n",
        "\n",
        "'STS'\n",
        "\n",
        "'SUMMIT'\n",
        "\n",
        "'SMT'\n",
        "\n",
        "'SMT'\n",
        "\n",
        "'SUMIT'\n",
        "\n",
        "'SUMITT'\n",
        "\n",
        "'SUMMIT'\n",
        "\n",
        "#TERRACE\n",
        "\n",
        "'TER'\n",
        "\n",
        "'TER'\n",
        "\n",
        "'TERR'\n",
        "\n",
        "'TERRACE'\n",
        "\n",
        "#THROUGHWAY\n",
        "\n",
        "'THROUGHWAY'\n",
        "\n",
        "'TRWY'\n",
        "\n",
        "#TRACE\n",
        "\n",
        "'TRACE'\n",
        "\n",
        "'TRCE'\n",
        "\n",
        "'TRACES'\n",
        "\n",
        "'TRCE'\n",
        "\n",
        "#TRACK\n",
        "\n",
        "'TRACK'\n",
        "\n",
        "'TRAK'\n",
        "\n",
        "'TRACKS'\n",
        "'TRAK'\n",
        "\n",
        "'TRK'\n",
        "'TRKS'\n",
        "\n",
        "#TRAFFICWAY\n",
        "\n",
        "'TRAFFICWAY'\n",
        "\n",
        "'TRFY'\n",
        "\n",
        "#TRAIL\n",
        "\n",
        "'TRAIL'\n",
        "\n",
        "'TRL'\n",
        "\n",
        "'TRAILS'\n",
        "\n",
        "'TRL'\n",
        "\n",
        "'TRLS'\n",
        "\n",
        "#TRAILER\n",
        "\n",
        "'TRAILER\n",
        "'\n",
        "'TRLR'\n",
        "\n",
        "'TRLR'\n",
        "\n",
        "'TRLRS'\n",
        "\n",
        "#TUNNEL\n",
        "\n",
        "'TUNEL'\n",
        "\n",
        "'TUNL'\n",
        "\n",
        "'TUNL'\n",
        "\n",
        "'TUNLS'\n",
        "\n",
        "'TUNNEL'\n",
        "\n",
        "'TUNNELS'\n",
        "\n",
        "'TUNNL'\n",
        "\n",
        "#TURNPIKE\n",
        "\n",
        "'TRNPK'\n",
        "\n",
        "'TPKE'\n",
        "\n",
        "'TURNPIKE'\n",
        "\n",
        "'TURNPK'\n",
        "\n",
        "#UNDERPASS\n",
        "\n",
        "'UNDERPASS'\n",
        "\n",
        "'UPAS'\n",
        "\n",
        "#UNION\n",
        "\n",
        "'UN'\n",
        "\n",
        "'UN'\n",
        "\n",
        "'UNION'\n",
        "\n",
        "'UNIONS'\n",
        "\n",
        "'UNIONS'\n",
        "\n",
        "'UNS'\n",
        "\n",
        "#VALLEY\n",
        "'\n",
        "VALLEY'\n",
        "\n",
        "'VLY'\n",
        "\n",
        "'VALLY'\n",
        "\n",
        "'VLLY'\n",
        "\n",
        "'VLY'\n",
        "\n",
        "#VALLEYS\n",
        "\n",
        "'VALLEYS'\n",
        "\n",
        "'VLYS'\n",
        "\n",
        "'VLYS'\n",
        "\n",
        "#VIADUCT\n",
        "\n",
        "'VDCT'\n",
        "\n",
        "'VIA'\n",
        "'VIA'\n",
        "\n",
        "'VIADCT'\n",
        "\n",
        "'VIADUCT'\n",
        "\n",
        "#VIEW\n",
        "\n",
        "'VIEW'\n",
        "\n",
        "'VW'\n",
        "\n",
        "'VW'\n",
        "\n",
        "#VIEWS\n",
        "\n",
        "'VIEWS'\n",
        "\n",
        "'VWS'\n",
        "'VWS'\n",
        "\n",
        "'VILLAGE'\n",
        "\n",
        "'VILL'\n",
        "\n",
        "'VLG'\n",
        "\n",
        "'VILLAG'\n",
        "\n",
        "#VILLAGE\n",
        "\n",
        "'VILLG'\n",
        "\n",
        "'VILLIAGE'\n",
        "\n",
        "'VLG'\n",
        "\n",
        "#VILLAGES\n",
        "\n",
        "'VILLAGES'\n",
        "\n",
        "'VLGS'\n",
        "\n",
        "'VLGS'\n",
        "\n",
        "#VILLE\n",
        "\n",
        "'VILLE'\n",
        "\n",
        "'VL'\n",
        "\n",
        "'VL'\n",
        "\n",
        "#VISTA\n",
        "\n",
        "'VIS'\n",
        "\n",
        "'VIS'\n",
        "\n",
        "'VIST'\n",
        "\n",
        "'VISTA'\n",
        "\n",
        "'VST'\n",
        "\n",
        "'VSTA'\n",
        "\n",
        "#WALK\n",
        "\n",
        "'WALK'\n",
        "\n",
        "'WALK'\n",
        "\n",
        "#WALKS\n",
        "\n",
        "'WALKS'\n",
        "\n",
        "'WALK'\n",
        "\n",
        "#WALL\n",
        "\n",
        "'WALL'\n",
        "\n",
        "'WALL'\n",
        "\n",
        "#WAY\n",
        "\n",
        "'WY'\n",
        "\n",
        "'WAY'\n",
        "\n",
        "'WAY'\n",
        "\n",
        "#WAYS\n",
        "\n",
        "'WAYS'\n",
        "\n",
        "'WAYS'\n",
        "\n",
        "#WELL\n",
        "\n",
        "'WELL'\n",
        "\n",
        "'WL'\n",
        "\n",
        "#WELLS\n",
        "\n",
        "'WELLS'\n",
        "'WLS'\n",
        "\n",
        "'WLS'\n"
      ],
      "execution_count": null,
      "outputs": []
    },
    {
      "cell_type": "markdown",
      "metadata": {
        "id": "LFcHMwZohSgz",
        "colab_type": "text"
      },
      "source": [
        "### Graph basics"
      ]
    },
    {
      "cell_type": "markdown",
      "metadata": {
        "id": "nfEc_U5V4Gwq",
        "colab_type": "text"
      },
      "source": [
        "\n",
        "\n",
        "Graphs are structures that map relations between objects. The objects are referred to as nodes and the connections between them as edges in this tutorial. Note that edges and nodes are commonly referred to by several names that generally mean exactly the same thing:\n",
        "\n",
        "node == vertex == point   \n",
        "edge == arc == link\n",
        "\n",
        "The starting graph is undirected. That is, your edges have no orientation: they are bi-directional. For example: A<--->B == B<--->A.\n",
        "By contrast, the graph you might create to specify the shortest path to hike every trail could be a directed graph, where the order and direction of edges matters. For example: A--->B != B--->A.\n",
        "\n",
        "The graph is also an edge-weighted graph where the distance (in miles) between each pair of adjacent nodes represents the weight of an edge. This is handled as an edge attribute named \"distance\".\n",
        "\n",
        "Degree refers to the number of edges incident to (touching) a node. Nodes are referred to as odd-degree nodes when this number is odd and even-degree when even.\n",
        "\n",
        "The solution to this CPP problem will be a Eulerian tour: a graph where a cycle that passes through every edge exactly once can be made from a starting node back to itself (without backtracking). An Euler Tour is also known by several names:\n",
        "\n",
        "Eulerian tour == Eulerian circuit == Eulerian cycle\n",
        "A matching is a subset of edges in which no node occurs more than once. A minimum weight matching finds the matching with the lowest possible summed edge weight.\n",
        "\n",
        "NetworkX: Graph Manipulation and Analysis\n",
        "NetworkX is the most popular Python package for manipulating and analyzing graphs. Several packages offer the same basic level of graph manipulation, notably igraph which also has bindings for R and C++. However, I found that NetworkX had the strongest graph algorithms that I needed to solve the CPP.\n",
        "\n",
        "https://www.datacamp.com/community/tutorials/networkx-python-graph-tutorial\n"
      ]
    },
    {
      "cell_type": "markdown",
      "metadata": {
        "id": "SdMPAmXBZhWa",
        "colab_type": "text"
      },
      "source": [
        "### Knowledge (CA Licenses)"
      ]
    },
    {
      "cell_type": "markdown",
      "metadata": {
        "id": "Pfc-f2SAa9cj",
        "colab_type": "text"
      },
      "source": [
        "##### ['License Type']"
      ]
    },
    {
      "cell_type": "code",
      "metadata": {
        "id": "qL4XuDtwPKJp",
        "colab_type": "code",
        "colab": {}
      },
      "source": [
        "#ca_lq['License Type'].mode()\n"
      ],
      "execution_count": null,
      "outputs": []
    },
    {
      "cell_type": "markdown",
      "metadata": {
        "id": "zKldw-OXq3PX",
        "colab_type": "text"
      },
      "source": [
        "> ###### License Type(dict)"
      ]
    },
    {
      "cell_type": "code",
      "metadata": {
        "id": "G3ZMzZ4ol6vY",
        "colab_type": "code",
        "colab": {}
      },
      "source": [
        "# https://www.abc.ca.gov/permits/licensetypes.html 03/19/2019\n",
        "ca_license_types={\n",
        "    \"30\":\t\"Temporary Retail Permit (Only in conjunction with a Person to Person transfer)-(TEMPORARY LICENSES)\", \n",
        "    \"31\":\t\"Special Daily License(Temporary Beer or Wine)-(NON-PROFIT TEMPORARY LICENSES)\",\n",
        "    \"32\":\t\"Daily Beer(NON-PROFIT TEMPORARY LICENSES)\", \n",
        "    \"33\":\t\"Daily Wine(NON-PROFIT TEMPORARY LICENSES)\",    \n",
        "    \"34\":\t\"Daily Beer and Wine(NON-PROFIT TEMPORARY LICENSES)\",   \n",
        "    \"37\":\t\"Daily On-Sale General(NON-PROFIT TEMPORARY LICENSES)\", \n",
        "    \n",
        "    \n",
        "    \"20\":\t\"Off-Sale Beer and Wine(OFF-SALE LICENSES)\", \n",
        "    \"21\":\t\"Off-Sale General(OFF-SALE LICENSES)\", \n",
        "    \"73\":\t\"Special Nonprofit Sales License(OFF-SALE LICENSES)\",\n",
        "    \"85\":\t\"Limited Off-Sale Retail Wine License(OFF-SALE LICENSES)\", \n",
        "    \n",
        "    \n",
        "    \"40\":\t\"On-Sale Beer(ON-SALE LICENSES)\",    \n",
        "    \"41\":\t\"On-Sale Beer and Wine for Bona Fide Public Eating Place(ON-SALE LICENSES)\", \n",
        "    \"42\":\t\"On-Sale Beer and Wine for Public Premises(ON-SALE LICENSES)\",\n",
        "    \"43\":\t\"On-Sale Beer and Wine for Train(ON-SALE LICENSES)\",\n",
        "    \"44\":\t\"On-Sale Beer for Fishing Party Boat(ON-SALE LICENSES)\", \n",
        "    \"45\":\t\"On-Sale Beer and Wine for Boat(ON-SALE LICENSES)\", \n",
        "    \"46\":\t\"On-Sale Beer and Wine for Airplane(ON-SALE LICENSES)\",\n",
        "    \"47\":\t\"On-Sale General for Bona Fide Public Eating Place(ON-SALE LICENSES)\",\n",
        "    \"48\":\t\"On-Sale General for Public Premises(ON-SALE LICENSES)\",\n",
        "    \"49\":\t\"On-Sale General for Seasonal Business(ON-SALE LICENSES)\",\n",
        "    \"50\":\t\"On-Sale General for Club(ON-SALE LICENSES)\",\n",
        "    \"51\":\t\"Club(ON-SALE LICENSES)\",\n",
        "    \"52\":\t\"Veterans' Club(ON-SALE LICENSES)\",\n",
        "    \"53\":\t\"On-Sale General for Train(ON-SALE LICENSES)\",\n",
        "    \"54\":\t\"On-Sale General for Boat(ON-SALE LICENSES)\",\n",
        "    \"55\":\t\"On-Sale General for Airplane(ON-SALE LICENSES)\",\n",
        "    \"56\":\t\"On-Sale General for Vessel of more than 1,000 tons burden(ON-SALE LICENSES)\",   \n",
        "    \"58\":\t\"Caterer's Permit(ON-SALE LICENSES)\", \n",
        "    \"59\":\t\"On-Sale Beer and Wine for Seasonal Business(ON-SALE LICENSES)\", \n",
        "    \"60\":\t\"On-Sale Beer for Seasonal Business(ON-SALE LICENSES)\",\n",
        "    \"61\":\t\"On-Sale Beer for Public Premises(ON-SALE LICENSES)\",\n",
        "    \"62\":\t\"On-Sale General Bona Fide Public Eating Place Intermittent Dockside Vessel(ON-SALE LICENSES)\", \n",
        "    \"63\":\t\"On-Sale Beer and Wine for Hospital(ON-SALE LICENSES)\", \n",
        "    \"64\":\t\"Special On-Sale General Theatre(ON-SALE LICENSES)\", \n",
        "    \"65\":\t\"Special On-Sale Beer and Wine, Symphony(ON-SALE LICENSES)\",\n",
        "    \"66\":\t\"Controlled Access Cabinet Permit(ON-SALE LICENSES)\", \n",
        "    \"67\":\t\"Bed and Breakfast Inn(ON-SALE LICENSES)\", \n",
        "    \"68\":\t\"Portable Bar(ON-SALE LICENSES)\",\n",
        "    \"69\":\t\"Special On-Sale Beer & Wine Theater(ON-SALE LICENSES)\", \n",
        "    \"70\":\t\"On-Sale General Restrictive Service(ON-SALE LICENSES)\", \n",
        "    \"71\":\t\"Special On-Sale General License(ON-SALE LICENSES)\", \n",
        "    \"72\":\t\"Special On-Sale General For-Profit Theatre, Napa(ON-SALE LICENSES)\",     \n",
        "    \"75\":\t\"On-Sale General Brew-Pub(ON-SALE LICENSES)\", \n",
        "    \"76\":\t\"On-Sale General Maritime Museum Association(ON-SALE LICENSES)\",\n",
        "    \"77\":\t\"Event Permit(ON-SALE LICENSES)\",\n",
        "    \"78\":\t\"On Sale General Wine, Food and Art Cultural Museum(ON-SALE LICENSES)\",    \n",
        "    \"80\":\t\"Special On-Sale General Bed and Breakfast Inn(ON-SALE LICENSES)\",      \n",
        "    \"83\":\t\"On-Sale General Caterer's License(ON-SALE LICENSES)\",    \n",
        "    \"86\":\t\"Instructional Tasting License(ON-SALE LICENSES)\",\n",
        "    \"87\":\t\"Neighborhood-Restricted Special On-Sale General License(ON-SALE LICENSES)\",\n",
        "    \"88\":\t\"Special On Sale General for Historic Cemetery(ON-SALE LICENSES)\",\n",
        "    \n",
        "    \n",
        "    \"01\":\t\"Beer Manufacturer(NON-RETAIL)\", \n",
        "    \"02\":\t\"Winegrower(NON-RETAIL)\", \n",
        "    \"03\":\t\"Brandy Manufacturer(NON-RETAIL)\",\n",
        "    \"04\":\t\"Distilled Spirits Manufacturer(NON-RETAIL)\", \n",
        "    \"05\":\t\"Distilled Spirits Manufacturer's Agent(NON-RETAIL)\", \n",
        "    \"06\":\t\"Still(NON-RETAIL)\",\n",
        "    \"07\":\t\"Rectifier(NON-RETAIL)\",\n",
        "    \"08\":\t\"Wine Rectifier(NON-RETAIL)\", \n",
        "    \"09\":\t\"Beer and Wine Importer(NON-RETAIL)\",\n",
        "    \"10\":\t\"Beer and Wine Importer's General(NON-RETAIL)\",\n",
        "    \"11\":\t\"Brandy Importer(NON-RETAIL)\", \n",
        "    \"12\":\t\"Distilled Spirits Importer(NON-RETAIL)\", \n",
        "    \"13\":\t\"Distilled Spirits Importer's General(NON-RETAIL)\",\n",
        "    \"14\":\t\"Public Warehouse(NON-RETAIL)\",\n",
        "    \"15\":\t\"Customs Broker(NON-RETAIL)\",\n",
        "    \"16\":\t\"Wine Broker(NON-RETAIL)\", \n",
        "    \"17\":\t\"Beer and Wine Wholesaler(NON-RETAIL)\",\n",
        "    \"18\":\t\"Distilled Spirits Wholesaler(NON-RETAIL)\",\n",
        "    \"19\":\t\"Industrial Alcohol Dealer(NON-RETAIL)\", \n",
        "    \"22\":\t\"Wine Blender(NON-RETAIL)\", \n",
        "    \"23\":\t\"Small Beer Manufacturer(NON-RETAIL)\", \n",
        "    \"24\":\t\"Distilled Spirits Rectifier's General(NON-RETAIL)\",\n",
        "    \"25\":\t\"California Brandy Wholesaler(NON-RETAIL)\",\n",
        "    \"26\":\t\"Out-of-State Beer Manufacturer's Certificate(NON-RETAIL)\",\n",
        "    \"27\":\t\"California Winegrowers Agent(NON-RETAIL)\", \n",
        "    \"28\":\t\"Out-of-State Distilled Spirits Shipper's Certificate(NON-RETAIL)\",\n",
        "    \"29\":\t\"Winegrape Grower's Certificate(NON-RETAIL)\", \n",
        "    \"74\":\t\"Craft Distiller(NON-RETAIL)\",\n",
        "    \"79\":\t\"Certified Farmers' Market Sales Permit(NON-RETAIL)\",\n",
        "    \"81\":\t\"Wine Sales Event Permit(NON-RETAIL)\", \n",
        "    \"82\":\t\"Direct Shippers Permit(NON-RETAIL)\", \n",
        "    \"84\":\t\"Certified Farmers' Market Beer Sales Permit(NON-RETAIL)\"\n",
        "}"
      ],
      "execution_count": null,
      "outputs": []
    },
    {
      "cell_type": "markdown",
      "metadata": {
        "id": "vCFlr6mCas-P",
        "colab_type": "text"
      },
      "source": [
        "##### ['Type Status']"
      ]
    },
    {
      "cell_type": "code",
      "metadata": {
        "id": "X_yrPdEN7sQ3",
        "colab_type": "code",
        "colab": {}
      },
      "source": [
        "ca_lq[\"Type Status\"].unique()\n",
        "  #  Maybe use this with expiration dates to determin who is considered closed or revoked. \n",
        "  #    ACTIVE – fully engaged license\n",
        "  #    PEND – pending ability to sell\n",
        "  #    R64B – license issued and held\n",
        "  #    REV – revocation\n",
        "  #    REVPEN – revocation pending\n",
        "  #    SLMSHD – special hold\n",
        "  #    SUPEND – suspended\n",
        "  #    SUREND – license surrendered\n"
      ],
      "execution_count": null,
      "outputs": []
    },
    {
      "cell_type": "markdown",
      "metadata": {
        "id": "8n0xPd2ub4R8",
        "colab_type": "text"
      },
      "source": [
        "##### ['Expiration Dates']"
      ]
    },
    {
      "cell_type": "markdown",
      "metadata": {
        "id": "nqdlzASYdD5A",
        "colab_type": "text"
      },
      "source": [
        "- California has licences that are past their exparation data "
      ]
    },
    {
      "cell_type": "markdown",
      "metadata": {
        "id": "adBIjqwsdaQ6",
        "colab_type": "text"
      },
      "source": [
        "If you use a data index(convert to date or datetime and set index)\n",
        "```\n",
        "# set_index\n",
        "ca_lq.set_index('Expiration Dates', inplace=True)\n",
        "\n",
        "# filter\n",
        "ca_lq['20190401':]  \n",
        "#   or \n",
        "ca_lq.loc['2019-04-01':]   \n",
        "#   or     \n",
        "ca_lq.loc['2019-04-01':'2020-07-01']\n",
        " ```"
      ]
    },
    {
      "cell_type": "markdown",
      "metadata": {
        "id": "B_aWV6Ed4ti2",
        "colab_type": "text"
      },
      "source": [
        "## Data (CA, IL, MI)"
      ]
    },
    {
      "cell_type": "markdown",
      "metadata": {
        "id": "FbUXxBxDo5h1",
        "colab_type": "text"
      },
      "source": [
        "### CA liquor licences "
      ]
    },
    {
      "cell_type": "markdown",
      "metadata": {
        "id": "RiKHHvCAWhC1",
        "colab_type": "text"
      },
      "source": [
        "#### Read in data"
      ]
    },
    {
      "cell_type": "code",
      "metadata": {
        "id": "3oOpJ7XeFRAG",
        "colab_type": "code",
        "colab": {}
      },
      "source": [
        "raw_ca_lq= pd.read_csv(\"http://www.abc.ca.gov/datport/ABC_Data_Export_CSV.zip\", sep =\",\")\n",
        "# Has license and applications\n",
        "# is update every wednesday\n",
        "# data can be found: http://www.abc.ca.gov/datport/lqs.html?menu=main - data export\n",
        "# another way to get it: http://www.abc.ca.gov/datport/lqs.html?screenid=1\n",
        "# daily report: http://www.abc.ca.gov/datport/lqs.html?menu=prior"
      ],
      "execution_count": null,
      "outputs": []
    },
    {
      "cell_type": "markdown",
      "metadata": {
        "id": "4WOGfuUVvCUn",
        "colab_type": "text"
      },
      "source": [
        "##### Optional (Create sqlite to store table)"
      ]
    },
    {
      "cell_type": "code",
      "metadata": {
        "id": "hrraQ2X8shVn",
        "colab_type": "code",
        "colab": {}
      },
      "source": [
        "from sqlalchemy import create_engine"
      ],
      "execution_count": null,
      "outputs": []
    },
    {
      "cell_type": "code",
      "metadata": {
        "id": "1LnRLSfVxypp",
        "colab_type": "code",
        "colab": {}
      },
      "source": [
        "from datetime import date\n",
        "from datetime import timedelta\n",
        "\n",
        "today = date.today()\n",
        "offset = (today.weekday() - 2) % 7\n",
        "last_wednesday = today - timedelta(days=offset)"
      ],
      "execution_count": null,
      "outputs": []
    },
    {
      "cell_type": "code",
      "metadata": {
        "id": "DFnn0G2Kx3Ts",
        "colab_type": "code",
        "colab": {
          "base_uri": "https://localhost:8080/",
          "height": 35
        },
        "outputId": "6c252f4b-1bea-4f91-9737-e2f503575e4e"
      },
      "source": [
        "name = 'ca_lq_'+ last_wednesday.isoformat().replace(\"-\",\"\") #can't us - or . in tables\n",
        "name"
      ],
      "execution_count": null,
      "outputs": [
        {
          "output_type": "execute_result",
          "data": {
            "text/plain": [
              "'ca_lq_20190508'"
            ]
          },
          "metadata": {
            "tags": []
          },
          "execution_count": 10
        }
      ]
    },
    {
      "cell_type": "code",
      "metadata": {
        "id": "q3DiR6w7yD1z",
        "colab_type": "code",
        "colab": {
          "base_uri": "https://localhost:8080/",
          "height": 52
        },
        "outputId": "f277c078-12a0-4fb8-a200-a8defc0ba86d"
      },
      "source": [
        "ls"
      ],
      "execution_count": null,
      "outputs": [
        {
          "output_type": "stream",
          "text": [
            " booz.db       openaddr-collected-us_west.zip   README.txt   \u001b[0m\u001b[01;34mus\u001b[0m/\n",
            " LICENSE.txt  '[r]'                             \u001b[01;34msummary\u001b[0m/\n"
          ],
          "name": "stdout"
        }
      ]
    },
    {
      "cell_type": "code",
      "metadata": {
        "id": "i2u7bRqSqT77",
        "colab_type": "code",
        "colab": {}
      },
      "source": [
        "#create sqlite\n",
        "engine = create_engine('sqlite:////content/drive/My Drive/addr/booz.db', echo=False) "
      ],
      "execution_count": null,
      "outputs": []
    },
    {
      "cell_type": "code",
      "metadata": {
        "id": "vawUxMtmr47d",
        "colab_type": "code",
        "colab": {}
      },
      "source": [
        "raw_ca_lq.to_sql(name, con=engine) # by default if_exists is set to 'fail',  later weare going to use if_exists='append'"
      ],
      "execution_count": null,
      "outputs": []
    },
    {
      "cell_type": "code",
      "metadata": {
        "id": "EpXUAZMfzvz3",
        "colab_type": "code",
        "colab": {}
      },
      "source": [
        "engine.execute('SELECT * FROM ca_lq_20190508').fetchall()"
      ],
      "execution_count": null,
      "outputs": []
    },
    {
      "cell_type": "markdown",
      "metadata": {
        "id": "RvwR3QksWlqc",
        "colab_type": "text"
      },
      "source": [
        "##### Optional (Profile/explore)"
      ]
    },
    {
      "cell_type": "code",
      "metadata": {
        "id": "34Vrb6nOB99O",
        "colab_type": "code",
        "colab": {}
      },
      "source": [
        "import pandas_profiling\n",
        "pandas_profiling.ProfileReport(ca_lq)"
      ],
      "execution_count": null,
      "outputs": []
    },
    {
      "cell_type": "code",
      "metadata": {
        "id": "WKESOdcsl9rs",
        "colab_type": "code",
        "colab": {}
      },
      "source": [
        "# ca_lq\n",
        "#ca_lq.dtypes"
      ],
      "execution_count": null,
      "outputs": []
    },
    {
      "cell_type": "markdown",
      "metadata": {
        "id": "Kcfuh9wIWy_6",
        "colab_type": "text"
      },
      "source": [
        "#### Basic cleaning  "
      ]
    },
    {
      "cell_type": "code",
      "metadata": {
        "id": "U_kfBhaBgDeI",
        "colab_type": "code",
        "colab": {}
      },
      "source": [
        "ca_lq = raw_ca_lq"
      ],
      "execution_count": null,
      "outputs": []
    },
    {
      "cell_type": "code",
      "metadata": {
        "id": "aoA0Z4_7DSwx",
        "colab_type": "code",
        "colab": {}
      },
      "source": [
        "ca_lq['Expiration Dates'] = pd.to_datetime(ca_lq['Expiration Dates'], format='%d-%b-%Y')\n",
        "ca_lq['Type Original Issue Dates'] = pd.to_datetime(ca_lq['Type Original Issue Dates'], format='%d-%b-%Y')"
      ],
      "execution_count": null,
      "outputs": []
    },
    {
      "cell_type": "markdown",
      "metadata": {
        "id": "AoibKkwpx_70",
        "colab_type": "text"
      },
      "source": [
        "##### Remove \"Unnamed\""
      ]
    },
    {
      "cell_type": "code",
      "metadata": {
        "id": "eUA5_-9dilbv",
        "colab_type": "code",
        "colab": {}
      },
      "source": [
        "ca_lq = ca_lq.drop(ca_lq.filter(regex='Unnamed:').columns, axis=1) # \"axis=1\" is columns\n",
        "#ca_lq.nunique()"
      ],
      "execution_count": null,
      "outputs": []
    },
    {
      "cell_type": "markdown",
      "metadata": {
        "id": "tJ0YHCw1Jx5x",
        "colab_type": "text"
      },
      "source": [
        "##### Remove un-useful columns"
      ]
    },
    {
      "cell_type": "code",
      "metadata": {
        "id": "n2iAYXMR7HCX",
        "colab_type": "code",
        "colab": {}
      },
      "source": [
        "ca_lq = ca_lq.drop(['Term in # of Months','Geo Code','Premise Census Tract #','Master Indicator'], axis=1)\n",
        "\n",
        "# It would have been nice to use 'Master Indicator' but it turns out that on 'File Number' can have multiple masters, based on the type of licence (on and off premise) "
      ],
      "execution_count": null,
      "outputs": []
    },
    {
      "cell_type": "markdown",
      "metadata": {
        "id": "94ELE_AHx5iW",
        "colab_type": "text"
      },
      "source": [
        "##### Clean up - ['dba_name']"
      ]
    },
    {
      "cell_type": "code",
      "metadata": {
        "id": "6qCdJ5zDwD3T",
        "colab_type": "code",
        "colab": {}
      },
      "source": [
        "ca_lq['dba_name']= np.where(ca_lq['DBA Name'].isnull(), ca_lq['Primary Name'], ca_lq['DBA Name'])"
      ],
      "execution_count": null,
      "outputs": []
    },
    {
      "cell_type": "markdown",
      "metadata": {
        "id": "zPDNKSxFh1TR",
        "colab_type": "text"
      },
      "source": [
        "##### zip_code - separate zip code and plus 4"
      ]
    },
    {
      "cell_type": "code",
      "metadata": {
        "id": "CuMApZ77iPLp",
        "colab_type": "code",
        "colab": {}
      },
      "source": [
        "ca_lq['Premise Zip']=ca_lq['Premise Zip'].apply(str)"
      ],
      "execution_count": null,
      "outputs": []
    },
    {
      "cell_type": "code",
      "metadata": {
        "id": "rliMTiIfj8J2",
        "colab_type": "code",
        "colab": {}
      },
      "source": [
        "ca_lq[['zip_code','zip_plus_4']] = ca_lq['Premise Zip'].str.split('-',expand = True)"
      ],
      "execution_count": null,
      "outputs": []
    },
    {
      "cell_type": "markdown",
      "metadata": {
        "id": "CIXDCqlkcRj1",
        "colab_type": "text"
      },
      "source": [
        "##### Remove expired"
      ]
    },
    {
      "cell_type": "code",
      "metadata": {
        "id": "Xoz0Qc_BRURz",
        "colab_type": "code",
        "colab": {}
      },
      "source": [
        "#ca_lq = ca_lq[(ca_lq['Expiration Dates'] > '2019-04-01')]\n",
        "#ca_lq =ca_lq[(ca_lq['Expiration Dates'] > '2019-04-01') & (ca_lq['Expiration Dates'] < '2020-07-01')]"
      ],
      "execution_count": null,
      "outputs": []
    },
    {
      "cell_type": "markdown",
      "metadata": {
        "id": "fIprM51VkoBo",
        "colab_type": "text"
      },
      "source": [
        "####  Simplfy"
      ]
    },
    {
      "cell_type": "markdown",
      "metadata": {
        "id": "tKdFHEZRuC5W",
        "colab_type": "text"
      },
      "source": [
        "##### Simplfy License using lists(off premise, non-retail)"
      ]
    },
    {
      "cell_type": "code",
      "metadata": {
        "id": "FMTediJrnRRu",
        "colab_type": "code",
        "colab": {}
      },
      "source": [
        "# list of retail off premises license types\n",
        "ca_off_sale=[20,21 ,73, 85]\n",
        "# list of non-retail and tempory license types\n",
        "ca_range = list(range(1,40))\n",
        "# remove 20, and 21\n",
        "ca_range.remove(20)\n",
        "ca_range.remove(21)\n",
        "# make a list of the other non-retail Licenses not in range \n",
        "ca_non_retail=[74,79,81,82,84]\n",
        "# add the two list togeather \n",
        "ca_non_retail= ca_range + ca_non_retail"
      ],
      "execution_count": null,
      "outputs": []
    },
    {
      "cell_type": "markdown",
      "metadata": {
        "id": "1cAIvhIytiyj",
        "colab_type": "text"
      },
      "source": [
        "##### Remove non-retail(brewers,wholesale, etc)"
      ]
    },
    {
      "cell_type": "code",
      "metadata": {
        "id": "Tw5QZ0uFnRXw",
        "colab_type": "code",
        "colab": {}
      },
      "source": [
        "ca_lq = ca_lq[~ca_lq['License Type'].isin(ca_non_retail)]"
      ],
      "execution_count": null,
      "outputs": []
    },
    {
      "cell_type": "markdown",
      "metadata": {
        "id": "lhE-t3kocfY_",
        "colab_type": "text"
      },
      "source": [
        "##### Remove non-licenses, and filter for only active \n",
        "  "
      ]
    },
    {
      "cell_type": "code",
      "metadata": {
        "id": "aH-K6av8hv0o",
        "colab_type": "code",
        "colab": {}
      },
      "source": [
        "# filter by Active statuse and licenses\n",
        "#ca_lq= ca_lq.loc[(ca_lq['Type Status'] == 'ACTIVE') & (ca_lq['License or Application'] == \"LIC\")]\n",
        "\n",
        "# drop cols \n",
        "#ca_lq=ca_lq.drop(['License or Application', 'Type Status'], axis=1)"
      ],
      "execution_count": null,
      "outputs": []
    },
    {
      "cell_type": "markdown",
      "metadata": {
        "id": "FBiMm2SApZDg",
        "colab_type": "text"
      },
      "source": [
        "##### Simplfy \"License Types\""
      ]
    },
    {
      "cell_type": "code",
      "metadata": {
        "id": "LDjlw5AANLb9",
        "colab_type": "code",
        "colab": {}
      },
      "source": [
        "# Create \"l_type\" to simplify  \"License Type\" into \"On\" and \"Off\" Premises\n",
        "ca_lq['on_or_off'] = ca_lq['License Type'].apply(lambda x: 'off' if x in ca_off_sale else \"on\")"
      ],
      "execution_count": null,
      "outputs": []
    },
    {
      "cell_type": "markdown",
      "metadata": {
        "id": "X3IasweZM5dK",
        "colab_type": "text"
      },
      "source": [
        "##### Group By Address & type"
      ]
    },
    {
      "cell_type": "code",
      "metadata": {
        "id": "6fvW-5vkv3_x",
        "colab_type": "code",
        "colab": {}
      },
      "source": [
        "ca_lq = pandas_usaddress.tag(ca_lq, ['Premise Street Address 1', 'Premise Street Address 2',  'Premise City', 'Premise State','Premise Zip'], granularity='single', standardize=True)\n",
        "# creates SingleLine"
      ],
      "execution_count": null,
      "outputs": []
    },
    {
      "cell_type": "code",
      "metadata": {
        "id": "EJ28Q2QS0RuU",
        "colab_type": "code",
        "colab": {
          "base_uri": "https://localhost:8080/",
          "height": 124
        },
        "outputId": "0f7a05ce-8c7c-4e9c-cc56-c703651a9761"
      },
      "source": [
        "ca_lq.columns"
      ],
      "execution_count": null,
      "outputs": [
        {
          "output_type": "execute_result",
          "data": {
            "text/plain": [
              "Index(['License Type', 'File Number', 'License or Application', 'Type Status',\n",
              "       'Type Original Issue Dates', 'Expiration Dates', 'Primary Name',\n",
              "       'Premise Street Address 1', 'Premise Street Address 2', 'Premise City',\n",
              "       'Premise State', 'Premise Zip', 'DBA Name', 'Premise County',\n",
              "       'dba_name', 'on_or_off', 'SingleLine'],\n",
              "      dtype='object')"
            ]
          },
          "metadata": {
            "tags": []
          },
          "execution_count": 27
        }
      ]
    },
    {
      "cell_type": "code",
      "metadata": {
        "id": "8Jygqtu5z76T",
        "colab_type": "code",
        "colab": {
          "base_uri": "https://localhost:8080/",
          "height": 35
        },
        "outputId": "ecbd3512-f4a2-4b93-d6ba-2630877ff47d"
      },
      "source": [
        "ca_lq.shape"
      ],
      "execution_count": null,
      "outputs": [
        {
          "output_type": "execute_result",
          "data": {
            "text/plain": [
              "(99817, 17)"
            ]
          },
          "metadata": {
            "tags": []
          },
          "execution_count": 28
        }
      ]
    },
    {
      "cell_type": "code",
      "metadata": {
        "id": "PBauxg-TBmAm",
        "colab_type": "code",
        "colab": {}
      },
      "source": [
        "#what address field to group by\n",
        "add = pd.DataFrame([[k,v.values]\n",
        "             for k,v in ca_lq.groupby(\"SingleLine\").groups.items()], \n",
        "             columns=[\"SingleLine\",'indices'])"
      ],
      "execution_count": null,
      "outputs": []
    },
    {
      "cell_type": "code",
      "metadata": {
        "id": "b1KtzZGMw0uu",
        "colab_type": "code",
        "colab": {}
      },
      "source": [
        "add.shape\n",
        "#add.set_index(\"indices\", inplace=True)\n",
        "#add['indices'] = add['indices'].apply(str)\n",
        "type(add['indices'][0])\n",
        "add['indices']=add['indices'].tolist()\n",
        "add[\"SingleLine\"] = add[\"SingleLine\"].apply(str)\n",
        "add['indices'][0][:5]\n",
        "#df = pandas_usaddress.tag(df, ['street1', 'street2', 'city', 'state'], granularity='single', standardize=True)\n",
        "#df = pandas_usaddress.tag(df, ['address_field'], granularity='medium', standardize=True)\n",
        "add = pandas_usaddress.tag(add,['SingleLine'], granularity='full',standardize=True)\n",
        "#add= add.reset_index"
      ],
      "execution_count": null,
      "outputs": []
    },
    {
      "cell_type": "markdown",
      "metadata": {
        "id": "64jDMjY8k9tu",
        "colab_type": "text"
      },
      "source": [
        "#### address parts"
      ]
    },
    {
      "cell_type": "code",
      "metadata": {
        "id": "zABovcqoGRWC",
        "colab_type": "code",
        "colab": {}
      },
      "source": [
        "# make a list of strings \n",
        "ca_lq['add_list']=ca_lq['Premise Street Address 1'].str.split().tolist()"
      ],
      "execution_count": null,
      "outputs": []
    },
    {
      "cell_type": "code",
      "metadata": {
        "id": "cY5bH60xv6hp",
        "colab_type": "code",
        "colab": {}
      },
      "source": [
        "ca_lq['nu_list'] = ca_lq['add_list'].str.isnumeric()\n",
        "ca_lq['nu_list']"
      ],
      "execution_count": null,
      "outputs": []
    },
    {
      "cell_type": "code",
      "metadata": {
        "id": "8yHEZbzVMhdZ",
        "colab_type": "code",
        "colab": {}
      },
      "source": [
        "# get length\n",
        "ca_lq['add_len'] = ca_lq['add_list'].str.len()\n",
        "#ca_lq['add_len'].sample(5)"
      ],
      "execution_count": null,
      "outputs": []
    },
    {
      "cell_type": "code",
      "metadata": {
        "id": "Gb1_vE9UKtDW",
        "colab_type": "code",
        "colab": {}
      },
      "source": [
        "# expand add_list into its own dataframe\n",
        "parts = ca_lq['add_list'].apply(pd.Series)\n",
        "#parts.head(5)\n"
      ],
      "execution_count": null,
      "outputs": []
    },
    {
      "cell_type": "code",
      "metadata": {
        "id": "l7FAWU1rK-NE",
        "colab_type": "code",
        "colab": {}
      },
      "source": [
        "#rename columns \n",
        "parts = parts.rename(columns = lambda x : 'part_' + str(x))\n",
        "#parts.head(5)"
      ],
      "execution_count": null,
      "outputs": []
    },
    {
      "cell_type": "code",
      "metadata": {
        "id": "N6c6aVhNzcZc",
        "colab_type": "code",
        "colab": {
          "base_uri": "https://localhost:8080/",
          "height": 340
        },
        "outputId": "cabb2547-37e9-461f-dd9a-04f0762123ff"
      },
      "source": [
        "ns = parts.apply(lambda x: x.str.isnumeric())\n",
        "ns = ns.rename(columns = lambda x : 'isnum_' + str(x))\n",
        "ns.sample(10)"
      ],
      "execution_count": null,
      "outputs": [
        {
          "output_type": "execute_result",
          "data": {
            "text/html": [
              "<div>\n",
              "<style scoped>\n",
              "    .dataframe tbody tr th:only-of-type {\n",
              "        vertical-align: middle;\n",
              "    }\n",
              "\n",
              "    .dataframe tbody tr th {\n",
              "        vertical-align: top;\n",
              "    }\n",
              "\n",
              "    .dataframe thead th {\n",
              "        text-align: right;\n",
              "    }\n",
              "</style>\n",
              "<table border=\"1\" class=\"dataframe\">\n",
              "  <thead>\n",
              "    <tr style=\"text-align: right;\">\n",
              "      <th></th>\n",
              "      <th>isnum_part_0</th>\n",
              "      <th>isnum_part_1</th>\n",
              "      <th>isnum_part_2</th>\n",
              "      <th>isnum_part_3</th>\n",
              "      <th>isnum_part_4</th>\n",
              "      <th>isnum_part_5</th>\n",
              "      <th>isnum_part_6</th>\n",
              "      <th>isnum_part_7</th>\n",
              "      <th>isnum_part_8</th>\n",
              "      <th>isnum_part_9</th>\n",
              "      <th>isnum_part_10</th>\n",
              "      <th>isnum_part_11</th>\n",
              "    </tr>\n",
              "  </thead>\n",
              "  <tbody>\n",
              "    <tr>\n",
              "      <th>23410</th>\n",
              "      <td>True</td>\n",
              "      <td>False</td>\n",
              "      <td>False</td>\n",
              "      <td>NaN</td>\n",
              "      <td>NaN</td>\n",
              "      <td>NaN</td>\n",
              "      <td>NaN</td>\n",
              "      <td>NaN</td>\n",
              "      <td>NaN</td>\n",
              "      <td>NaN</td>\n",
              "      <td>NaN</td>\n",
              "      <td>NaN</td>\n",
              "    </tr>\n",
              "    <tr>\n",
              "      <th>28573</th>\n",
              "      <td>True</td>\n",
              "      <td>False</td>\n",
              "      <td>False</td>\n",
              "      <td>False</td>\n",
              "      <td>NaN</td>\n",
              "      <td>NaN</td>\n",
              "      <td>NaN</td>\n",
              "      <td>NaN</td>\n",
              "      <td>NaN</td>\n",
              "      <td>NaN</td>\n",
              "      <td>NaN</td>\n",
              "      <td>NaN</td>\n",
              "    </tr>\n",
              "    <tr>\n",
              "      <th>79133</th>\n",
              "      <td>True</td>\n",
              "      <td>False</td>\n",
              "      <td>False</td>\n",
              "      <td>False</td>\n",
              "      <td>NaN</td>\n",
              "      <td>NaN</td>\n",
              "      <td>NaN</td>\n",
              "      <td>NaN</td>\n",
              "      <td>NaN</td>\n",
              "      <td>NaN</td>\n",
              "      <td>NaN</td>\n",
              "      <td>NaN</td>\n",
              "    </tr>\n",
              "    <tr>\n",
              "      <th>39038</th>\n",
              "      <td>True</td>\n",
              "      <td>False</td>\n",
              "      <td>False</td>\n",
              "      <td>NaN</td>\n",
              "      <td>NaN</td>\n",
              "      <td>NaN</td>\n",
              "      <td>NaN</td>\n",
              "      <td>NaN</td>\n",
              "      <td>NaN</td>\n",
              "      <td>NaN</td>\n",
              "      <td>NaN</td>\n",
              "      <td>NaN</td>\n",
              "    </tr>\n",
              "    <tr>\n",
              "      <th>96308</th>\n",
              "      <td>True</td>\n",
              "      <td>False</td>\n",
              "      <td>False</td>\n",
              "      <td>NaN</td>\n",
              "      <td>NaN</td>\n",
              "      <td>NaN</td>\n",
              "      <td>NaN</td>\n",
              "      <td>NaN</td>\n",
              "      <td>NaN</td>\n",
              "      <td>NaN</td>\n",
              "      <td>NaN</td>\n",
              "      <td>NaN</td>\n",
              "    </tr>\n",
              "    <tr>\n",
              "      <th>59357</th>\n",
              "      <td>True</td>\n",
              "      <td>False</td>\n",
              "      <td>False</td>\n",
              "      <td>False</td>\n",
              "      <td>NaN</td>\n",
              "      <td>NaN</td>\n",
              "      <td>NaN</td>\n",
              "      <td>NaN</td>\n",
              "      <td>NaN</td>\n",
              "      <td>NaN</td>\n",
              "      <td>NaN</td>\n",
              "      <td>NaN</td>\n",
              "    </tr>\n",
              "    <tr>\n",
              "      <th>87405</th>\n",
              "      <td>False</td>\n",
              "      <td>False</td>\n",
              "      <td>False</td>\n",
              "      <td>False</td>\n",
              "      <td>False</td>\n",
              "      <td>NaN</td>\n",
              "      <td>NaN</td>\n",
              "      <td>NaN</td>\n",
              "      <td>NaN</td>\n",
              "      <td>NaN</td>\n",
              "      <td>NaN</td>\n",
              "      <td>NaN</td>\n",
              "    </tr>\n",
              "    <tr>\n",
              "      <th>74931</th>\n",
              "      <td>True</td>\n",
              "      <td>False</td>\n",
              "      <td>False</td>\n",
              "      <td>False</td>\n",
              "      <td>NaN</td>\n",
              "      <td>NaN</td>\n",
              "      <td>NaN</td>\n",
              "      <td>NaN</td>\n",
              "      <td>NaN</td>\n",
              "      <td>NaN</td>\n",
              "      <td>NaN</td>\n",
              "      <td>NaN</td>\n",
              "    </tr>\n",
              "    <tr>\n",
              "      <th>83761</th>\n",
              "      <td>True</td>\n",
              "      <td>False</td>\n",
              "      <td>False</td>\n",
              "      <td>False</td>\n",
              "      <td>NaN</td>\n",
              "      <td>NaN</td>\n",
              "      <td>NaN</td>\n",
              "      <td>NaN</td>\n",
              "      <td>NaN</td>\n",
              "      <td>NaN</td>\n",
              "      <td>NaN</td>\n",
              "      <td>NaN</td>\n",
              "    </tr>\n",
              "    <tr>\n",
              "      <th>44186</th>\n",
              "      <td>True</td>\n",
              "      <td>False</td>\n",
              "      <td>False</td>\n",
              "      <td>False</td>\n",
              "      <td>False</td>\n",
              "      <td>NaN</td>\n",
              "      <td>NaN</td>\n",
              "      <td>NaN</td>\n",
              "      <td>NaN</td>\n",
              "      <td>NaN</td>\n",
              "      <td>NaN</td>\n",
              "      <td>NaN</td>\n",
              "    </tr>\n",
              "  </tbody>\n",
              "</table>\n",
              "</div>"
            ],
            "text/plain": [
              "      isnum_part_0 isnum_part_1 isnum_part_2 isnum_part_3 isnum_part_4  \\\n",
              "23410         True        False        False          NaN          NaN   \n",
              "28573         True        False        False        False          NaN   \n",
              "79133         True        False        False        False          NaN   \n",
              "39038         True        False        False          NaN          NaN   \n",
              "96308         True        False        False          NaN          NaN   \n",
              "59357         True        False        False        False          NaN   \n",
              "87405        False        False        False        False        False   \n",
              "74931         True        False        False        False          NaN   \n",
              "83761         True        False        False        False          NaN   \n",
              "44186         True        False        False        False        False   \n",
              "\n",
              "      isnum_part_5 isnum_part_6 isnum_part_7 isnum_part_8 isnum_part_9  \\\n",
              "23410          NaN          NaN          NaN          NaN          NaN   \n",
              "28573          NaN          NaN          NaN          NaN          NaN   \n",
              "79133          NaN          NaN          NaN          NaN          NaN   \n",
              "39038          NaN          NaN          NaN          NaN          NaN   \n",
              "96308          NaN          NaN          NaN          NaN          NaN   \n",
              "59357          NaN          NaN          NaN          NaN          NaN   \n",
              "87405          NaN          NaN          NaN          NaN          NaN   \n",
              "74931          NaN          NaN          NaN          NaN          NaN   \n",
              "83761          NaN          NaN          NaN          NaN          NaN   \n",
              "44186          NaN          NaN          NaN          NaN          NaN   \n",
              "\n",
              "      isnum_part_10 isnum_part_11  \n",
              "23410           NaN           NaN  \n",
              "28573           NaN           NaN  \n",
              "79133           NaN           NaN  \n",
              "39038           NaN           NaN  \n",
              "96308           NaN           NaN  \n",
              "59357           NaN           NaN  \n",
              "87405           NaN           NaN  \n",
              "74931           NaN           NaN  \n",
              "83761           NaN           NaN  \n",
              "44186           NaN           NaN  "
            ]
          },
          "metadata": {
            "tags": []
          },
          "execution_count": 74
        }
      ]
    },
    {
      "cell_type": "code",
      "metadata": {
        "id": "dTYHyPhT1Kgg",
        "colab_type": "code",
        "colab": {}
      },
      "source": [
        "psec = parts.isin([\"&\", \"and\"])\n",
        "psec = psec.rename(columns = lambda x : 'and_' + str(x))\n",
        "psec"
      ],
      "execution_count": null,
      "outputs": []
    },
    {
      "cell_type": "code",
      "metadata": {
        "id": "PTPabeH-RX6h",
        "colab_type": "code",
        "colab": {}
      },
      "source": [
        "Directional={\"North\", \"N\", \"East\",\t\"E\", \"South\", \"S\", \"West\", \"W\", \"Northeast\", \"NE\", \"Southeast\",\t\"SE\", \"Northwest\",\t\"NW\", \"Southwest\",\t\"SW\"}\n",
        "#Mybe inclued typos EAAST, EAST, EATS, NOTTH, SO,"
      ],
      "execution_count": null,
      "outputs": []
    },
    {
      "cell_type": "code",
      "metadata": {
        "id": "d45vl36kmp5E",
        "colab_type": "code",
        "colab": {}
      },
      "source": [
        "parts"
      ],
      "execution_count": null,
      "outputs": []
    },
    {
      "cell_type": "code",
      "metadata": {
        "id": "rZsoq_C3MPl0",
        "colab_type": "code",
        "colab": {}
      },
      "source": [
        "# join the tags dataframe back to the original dataframe\n",
        "# sec used as intercetion \n",
        "# len = 3 and ends with abb, done\n",
        "# test for is numeric, \n",
        "pd.concat([ca_lq[:], parts[:]], axis=1)"
      ],
      "execution_count": null,
      "outputs": []
    },
    {
      "cell_type": "code",
      "metadata": {
        "id": "G_bkPRybZTzP",
        "colab_type": "code",
        "colab": {}
      },
      "source": [
        "ca_lq['lics']= ca_lq.groupby(['SingleLine','dba_name'])[\"on_or_off\"].transform(\"unique\")"
      ],
      "execution_count": null,
      "outputs": []
    },
    {
      "cell_type": "code",
      "metadata": {
        "id": "rPMj93ot3Ofk",
        "colab_type": "code",
        "colab": {}
      },
      "source": [
        "#ca_lq['n'] = ca_lq['lics'].agg(np.size)\n",
        "#ca_lq.sort_values(\"n\",ascending=False)"
      ],
      "execution_count": null,
      "outputs": []
    },
    {
      "cell_type": "code",
      "metadata": {
        "id": "N0grP0MO3bDC",
        "colab_type": "code",
        "colab": {}
      },
      "source": [
        "ca_lq['type'] = np.where(ca_lq['lics'].agg(np.size)>1, \"off|on\", ca_lq[\"lics\"].astype(str).str.replace('\\[|\\]|\\'', ''))\n",
        "# uses numpy \"where\"  il_lq['lics'].agg(np.size)>1, test if aggrigate(count) in list \"lics\"(types of licences) is more than 1, if true assign it Combo if not just get the string in lics. "
      ],
      "execution_count": null,
      "outputs": []
    },
    {
      "cell_type": "code",
      "metadata": {
        "id": "Ojos27_GBjAu",
        "colab_type": "code",
        "colab": {}
      },
      "source": [
        "ca_lq.head(50)"
      ],
      "execution_count": null,
      "outputs": []
    },
    {
      "cell_type": "markdown",
      "metadata": {
        "id": "Us7qwKe_dtfA",
        "colab_type": "text"
      },
      "source": [
        "#### clean zip-codes"
      ]
    },
    {
      "cell_type": "markdown",
      "metadata": {
        "id": "38265gt1hoW5",
        "colab_type": "text"
      },
      "source": [
        "264 are missing city\n"
      ]
    },
    {
      "cell_type": "code",
      "metadata": {
        "id": "B9g2Sto-jA4u",
        "colab_type": "code",
        "colab": {
          "base_uri": "https://localhost:8080/",
          "height": 124
        },
        "outputId": "e60d2dfa-c9d9-4eed-ff14-87bfa9e3fbd8"
      },
      "source": [
        "ca_lq.columns"
      ],
      "execution_count": null,
      "outputs": [
        {
          "output_type": "execute_result",
          "data": {
            "text/plain": [
              "Index(['License Type', 'File Number', 'Type Original Issue Dates',\n",
              "       'Expiration Dates', 'corp_name', 'street', 'street2', 'city', 'state',\n",
              "       'Premise Zip', 'dba_name', 'county', 'dba_name', 'on_or_off',\n",
              "       'SingleLine', 'zip_code', 'zip_plus_4', 'add_list', 'add_len', 'lics',\n",
              "       'type'],\n",
              "      dtype='object')"
            ]
          },
          "metadata": {
            "tags": []
          },
          "execution_count": 60
        }
      ]
    },
    {
      "cell_type": "code",
      "metadata": {
        "id": "6wJg2hYdsNCj",
        "colab_type": "code",
        "colab": {}
      },
      "source": [
        "#ca_lq.loc[(ca_lq['Premise State'].isnull())].shape"
      ],
      "execution_count": null,
      "outputs": []
    },
    {
      "cell_type": "code",
      "metadata": {
        "id": "qAHBVM85dpx3",
        "colab_type": "code",
        "colab": {}
      },
      "source": [
        "ca_lq[['zip_code','plus_four']] = ca_lq['Premise Zip'].str.split('-',expand = True)"
      ],
      "execution_count": null,
      "outputs": []
    },
    {
      "cell_type": "code",
      "metadata": {
        "id": "PPHlO9fVeaDm",
        "colab_type": "code",
        "colab": {
          "base_uri": "https://localhost:8080/",
          "height": 35
        },
        "outputId": "c19f7b78-745f-40b2-93cb-339bf6dec4f1"
      },
      "source": [
        "ca_lq[\"zip_code\"].isnull().sum()"
      ],
      "execution_count": null,
      "outputs": [
        {
          "output_type": "execute_result",
          "data": {
            "text/plain": [
              "0"
            ]
          },
          "metadata": {
            "tags": []
          },
          "execution_count": 31
        }
      ]
    },
    {
      "cell_type": "code",
      "metadata": {
        "id": "4R0CwGxOiLUd",
        "colab_type": "code",
        "colab": {}
      },
      "source": [
        "#I was thinking that there could be a case where someone forgot to put in a zipcode, is this case I am thinking one solution is to sort by \n",
        "#city and street and use a fill method, or use the most common zip in that city. is my case all of the address missing the zip are missing the city and state,\n",
        "#and they appear to all be foreign addresses\n",
        "#ca_lq.sort_values(['Premise City', 'Premise Street Address 1'], ascending=[True, True])\n",
        "#df.fillna(method = \"ffill\")#fills with previous row\n",
        "#df.fillna(method = \"bfill\") #next row\n",
        "# or calc stat to fill\n",
        "\n",
        "#ca_lq.loc[(ca_lq['Premise Zip'].isnull()) & (ca_lq['Premise City'].isnull())].shape, ca_lq.loc[(ca_lq['Premise Zip'].isnull())].shape\n",
        "#ca_lq.loc[(ca_lq['Premise State'].isnull())].shape\n",
        "ca_lq = ca_lq[pd.notnull(ca_lq['Premise Zip'])]\n",
        "#ca_lq.loc[(ca_lq['Premise State'].isnull())].shape"
      ],
      "execution_count": null,
      "outputs": []
    },
    {
      "cell_type": "code",
      "metadata": {
        "id": "sqnOcHdlXVhK",
        "colab_type": "code",
        "colab": {}
      },
      "source": [
        "ca= pd.DataFrame([ca_lq['street'].astype(str),\n",
        "                  ca_lq['street2'].fillna('').astype(str), \n",
        "                  ca_lq['city'].astype(str), \n",
        "                  ca_lq['state'].astype(str)]).transpose()"
      ],
      "execution_count": null,
      "outputs": []
    },
    {
      "cell_type": "code",
      "metadata": {
        "id": "5XgPslhgZfia",
        "colab_type": "code",
        "colab": {}
      },
      "source": [
        "ca"
      ],
      "execution_count": null,
      "outputs": []
    },
    {
      "cell_type": "code",
      "metadata": {
        "id": "vrY0WskPWbK1",
        "colab_type": "code",
        "colab": {}
      },
      "source": [
        "#make address file\n",
        "ca.to_csv('in.txt',index=False, header=False)"
      ],
      "execution_count": null,
      "outputs": []
    },
    {
      "cell_type": "markdown",
      "metadata": {
        "id": "ye1L624djn0k",
        "colab_type": "text"
      },
      "source": [
        "#### Deduplicate"
      ]
    },
    {
      "cell_type": "code",
      "metadata": {
        "id": "sMPGb92c6y4Y",
        "colab_type": "code",
        "colab": {}
      },
      "source": [
        "ca_lq[ca_lq.duplicated(['Premise Street Address 1'],keep= False)].sort_values(\"Premise Street Address 1\",ascending=False)"
      ],
      "execution_count": null,
      "outputs": []
    },
    {
      "cell_type": "code",
      "metadata": {
        "id": "oa_7O-lN3bOi",
        "colab_type": "code",
        "colab": {}
      },
      "source": [
        "#ca_lq[ca_lq.duplicated(['dba_name','StreetTag'],keep= False)] #21964 using StreetTag\n",
        "#ca_lq[ca_lq.duplicated(['File Number'], keep = False)].count() #21432 \n",
        "\n",
        "ca_lq.drop_duplicates(['dba_name','Premise Street Address 1'], keep= 'first', inplace=True)\n",
        "#ca_lq[ca_lq.duplicated(['File Number'], keep = False)].count() # 0 after drop\n",
        "#ca_lq.count() # 71947 after drop"
      ],
      "execution_count": null,
      "outputs": []
    },
    {
      "cell_type": "code",
      "metadata": {
        "id": "pB4MxcYxQZo5",
        "colab_type": "code",
        "colab": {}
      },
      "source": [
        "ca_lq['ID']= ca_lq['File Number'].map(str) + \"-CA\""
      ],
      "execution_count": null,
      "outputs": []
    },
    {
      "cell_type": "code",
      "metadata": {
        "id": "O7xmk4I3EfJj",
        "colab_type": "code",
        "colab": {
          "base_uri": "https://localhost:8080/",
          "height": 35
        },
        "outputId": "e2e6eb64-c6a1-4ea3-a297-d347a68d0ec1"
      },
      "source": [
        "len(ca_lq)"
      ],
      "execution_count": null,
      "outputs": [
        {
          "output_type": "execute_result",
          "data": {
            "text/plain": [
              "79846"
            ]
          },
          "metadata": {
            "tags": []
          },
          "execution_count": 25
        }
      ]
    },
    {
      "cell_type": "code",
      "metadata": {
        "id": "vU5IHV2dZjWa",
        "colab_type": "code",
        "colab": {
          "base_uri": "https://localhost:8080/",
          "height": 35
        },
        "outputId": "f60b413c-d382-4f05-d4d3-1f6f9d491887"
      },
      "source": [
        "len(ca_lq[ca_lq.duplicated('File Number',keep=False)])"
      ],
      "execution_count": null,
      "outputs": [
        {
          "output_type": "execute_result",
          "data": {
            "text/plain": [
              "415"
            ]
          },
          "metadata": {
            "tags": []
          },
          "execution_count": 26
        }
      ]
    },
    {
      "cell_type": "code",
      "metadata": {
        "id": "RMxAjZrdYxFi",
        "colab_type": "code",
        "colab": {}
      },
      "source": [
        "#print type counts\n",
        "ca_lq.nunique(), ca_lq[ca_lq[\"type\"]==\"off|on\"].count(), ca_lq[ca_lq[\"type\"]==\"Retail - off \"].count(), ca_lq[ca_lq[\"type\"]==\"on\"].count()"
      ],
      "execution_count": null,
      "outputs": []
    },
    {
      "cell_type": "code",
      "metadata": {
        "id": "z3lNPadyXFbM",
        "colab_type": "code",
        "colab": {}
      },
      "source": [
        "#Drop duplicates(all cols)\n",
        "\n",
        "#set indext to date\n",
        "\n",
        "ca_lq.drop_duplicates(inplace=True, keep ='first')# only drop if all columns info is the same\n",
        "#print type counts\n",
        "ca_lq.nunique(), ca_lq[ca_lq[\"type\"]==\"off|on\"].count(), ca_lq[ca_lq[\"type\"]==\"off\"].count(), ca_lq[ca_lq[\"type\"]==\"on\"].count()"
      ],
      "execution_count": null,
      "outputs": []
    },
    {
      "cell_type": "code",
      "metadata": {
        "id": "mvl7qgqBKgR-",
        "colab_type": "code",
        "colab": {}
      },
      "source": [
        "#Drop duplicates by \"File Number\"\n",
        "ca_lq.drop_duplicates(subset='File Number',inplace=True, keep=\"first\")\n",
        "#print type counts\n",
        "ca_lq.nunique(), ca_lq[ca_lq[\"type\"]==\"Combo\"].count(), ca_lq[ca_lq[\"type\"]==\"Retail - Off Premises\"].count(), ca_lq[ca_lq[\"type\"]==\"Retail - On Premises\"].count()"
      ],
      "execution_count": null,
      "outputs": []
    },
    {
      "cell_type": "code",
      "metadata": {
        "id": "8Eao7Z6zk6_Z",
        "colab_type": "code",
        "colab": {}
      },
      "source": [
        "#rename columns\n",
        "ca_lq.rename(columns={'Primary Name': 'corp_name', 'DBA Name': 'dba_name' , 'Premise Street Address 1':'street', 'Premise Street Address 2':'street2', \n",
        "                      'Premise City':'city', 'Premise State':'state' , 'Premise County':'county'\n",
        "                     }, inplace=True)"
      ],
      "execution_count": null,
      "outputs": []
    },
    {
      "cell_type": "code",
      "metadata": {
        "id": "LfRjEOSRcYe5",
        "colab_type": "code",
        "colab": {}
      },
      "source": [
        "ca_lq.columns"
      ],
      "execution_count": null,
      "outputs": []
    },
    {
      "cell_type": "markdown",
      "metadata": {
        "id": "28C8lDPOYEJU",
        "colab_type": "text"
      },
      "source": [
        "#### Combine address fields"
      ]
    },
    {
      "cell_type": "code",
      "metadata": {
        "id": "u-El7jWFQXBe",
        "colab_type": "code",
        "colab": {}
      },
      "source": [
        "ca_lq.head(50)"
      ],
      "execution_count": null,
      "outputs": []
    },
    {
      "cell_type": "code",
      "metadata": {
        "id": "uVsM_S4YWAOX",
        "colab_type": "code",
        "colab": {}
      },
      "source": [
        "ca_lq['Premise Street Address Combo']= ca_lq['Premise Street Address 1'].astype(str)+ ' '  + ca_lq['Premise Street Address 2'].fillna('').astype(str)"
      ],
      "execution_count": null,
      "outputs": []
    },
    {
      "cell_type": "code",
      "metadata": {
        "id": "1GmHrH--cCeP",
        "colab_type": "code",
        "colab": {}
      },
      "source": [
        "intersection if the address has two suffixes try to remove everything but street name and suffix"
      ],
      "execution_count": null,
      "outputs": []
    },
    {
      "cell_type": "code",
      "metadata": {
        "id": "G0cKcqY6YPEZ",
        "colab_type": "code",
        "colab": {}
      },
      "source": [
        "ca_lq"
      ],
      "execution_count": null,
      "outputs": []
    },
    {
      "cell_type": "code",
      "metadata": {
        "id": "pSOB9NU3jRVB",
        "colab_type": "code",
        "colab": {}
      },
      "source": [
        "#ca_lq.columns\n",
        "ca_lq['Address1and2']= ca_lq['Premise Street Address 1'].astype(str)+ ' '  + ca_lq['Premise Street Address 2'].fillna('').astype(str) + ', ' + ca_lq['Premise City'].astype(str) + ', ' + ca_lq['Premise State'].astype(str) + '  ' + ca_lq['zip_code'].astype(str)\n",
        "ca_lq['Address1']= ca_lq['Premise Street Address 1'].astype(str)+ ', ' + ca_lq['Premise City'].astype(str) + ', ' + ca_lq['Premise State'].astype(str) + '  ' + ca_lq['zip_code'].astype(str)\n",
        "\n",
        "#make af\n",
        "#af= pd.DataFrame([ca_lq['Premise Street Address 1'].astype(str)+ ' '  + ca_lq['Premise Street Address 2'].fillna('').astype(str), ca_lq['Premise City'], ca_lq['Premise State'].astype(str), ca_lq['zip_code'].astype(str)]).transpose()\n",
        "\n",
        "#make af\n",
        "a_one = pd.DataFrame([ca_lq['Premise Street Address 1'].astype(str)+ ' ' , ca_lq['Premise City'], ca_lq['Premise State'].astype(str), ca_lq['zip_code'].astype(str)]).transpose()"
      ],
      "execution_count": null,
      "outputs": []
    },
    {
      "cell_type": "markdown",
      "metadata": {
        "id": "a8N9R1iPhEuz",
        "colab_type": "text"
      },
      "source": [
        "#### usaddress (Standardize address fields)"
      ]
    },
    {
      "cell_type": "code",
      "metadata": {
        "id": "yHT-sDpPNEP6",
        "colab_type": "code",
        "colab": {}
      },
      "source": [
        "ca_lq = pandas_usaddress.tag(ca_lq, ['Premise Street Address 1', 'Premise Street Address 2',  'Premise City', 'Premise State','Premise Zip'], granularity='single', standardize=True)\n",
        "# creates SingleLine"
      ],
      "execution_count": null,
      "outputs": []
    },
    {
      "cell_type": "code",
      "metadata": {
        "id": "ZtCSHAwfhFIX",
        "colab_type": "code",
        "colab": {}
      },
      "source": [
        "# usaddress\n",
        "ca = pandas_usaddress.tag(ca_lq, ['Address1'], standardize=True)"
      ],
      "execution_count": null,
      "outputs": []
    },
    {
      "cell_type": "code",
      "metadata": {
        "id": "aRhtCKnMzb1Q",
        "colab_type": "code",
        "colab": {}
      },
      "source": [
        "#ca= ca_lq[['SingleLine']]\n",
        "ca.head()"
      ],
      "execution_count": null,
      "outputs": []
    },
    {
      "cell_type": "code",
      "metadata": {
        "id": "RDotKyQBqwwJ",
        "colab_type": "code",
        "colab": {}
      },
      "source": [
        "import pandas_profiling\n",
        "pandas_profiling.ProfileReport(ca_lq) \n",
        "# Recipients seem to be places \n",
        "# 1014 missing state\n",
        "# 1756 missing StreetName\n",
        "# USPSBoxGroupType ?\n",
        "# USPSBoxID seems odd\n",
        "# unit numbers in USPSBoxType\n",
        "# 1014 missing zip codes\n"
      ],
      "execution_count": null,
      "outputs": []
    },
    {
      "cell_type": "markdown",
      "metadata": {
        "id": "-MkOvS-Sx8Qe",
        "colab_type": "text"
      },
      "source": [
        "#### Create one one addresses to dedup"
      ]
    },
    {
      "cell_type": "markdown",
      "metadata": {
        "id": "dVngyzdYy8Ia",
        "colab_type": "text"
      },
      "source": [
        "I dont want to do this becasue of # and & but need to thing about removing certain info\n",
        "```\n",
        "print(\"Remove irrelevant separators:\")\n",
        "irrelevant_regex = re.compile(r'[^a-z0-9\\s]')\n",
        "company_names = [irrelevant_regex.sub(' ', c) for c in company_names]\n",
        "pprint.pprint(company_names)\n",
        "```\n",
        "remove extra spaces\n"
      ]
    },
    {
      "cell_type": "code",
      "metadata": {
        "id": "ncA3GgHSyFKf",
        "colab_type": "code",
        "colab": {}
      },
      "source": [
        "ca_lq = pandas_usaddress.tag(ca_lq, ['Premise Street Address 1', 'Premise Street Address 2',  'Premise City', 'Premise State','Premise Zip'], granularity='single', standardize=True)\n",
        "# creates SingleLine"
      ],
      "execution_count": null,
      "outputs": []
    },
    {
      "cell_type": "code",
      "metadata": {
        "id": "xeHMhDEB6X-Q",
        "colab_type": "code",
        "colab": {}
      },
      "source": [
        "#strip white space\n",
        "ca_lq=ca_lq.applymap(lambda x: x.strip() if type(x)==str else x)\n"
      ],
      "execution_count": null,
      "outputs": []
    },
    {
      "cell_type": "markdown",
      "metadata": {
        "id": "ZhHmsO3HhFAp",
        "colab_type": "text"
      },
      "source": [
        "#### Get lat long (CensusGeocode)"
      ]
    },
    {
      "cell_type": "code",
      "metadata": {
        "id": "Do8LsbIEdWqr",
        "colab_type": "code",
        "colab": {}
      },
      "source": [
        "df. = df.zip.astype('int32')"
      ],
      "execution_count": null,
      "outputs": []
    },
    {
      "cell_type": "code",
      "metadata": {
        "id": "MHR07Gn_hE5N",
        "colab_type": "code",
        "colab": {}
      },
      "source": [
        "# Verify that an address is valid (i.e. in Google's system)\n",
        "error\n",
        "#ca_lq['vaddress']= ca_lq['Address'].apply(lambda x: Geocoder.geocode(x).valid_address)"
      ],
      "execution_count": null,
      "outputs": []
    },
    {
      "cell_type": "code",
      "metadata": {
        "id": "c9GQHa9OBJ2c",
        "colab_type": "code",
        "colab": {}
      },
      "source": [
        "  errors in censusgeocode\n",
        "they have it as import censusgeocode as cg but then using cg, I am thinking this wont work\n",
        "max batch should be 10000 not 1000\n",
        " unique id, street address, state, city, zip code   \n",
        "    \n",
        "    \n",
        "    "
      ],
      "execution_count": null,
      "outputs": []
    },
    {
      "cell_type": "code",
      "metadata": {
        "id": "0ne8QEOsaudn",
        "colab_type": "code",
        "colab": {
          "base_uri": "https://localhost:8080/",
          "height": 35
        },
        "outputId": "d09f5d9a-2484-49a6-8385-3dc017b4d611"
      },
      "source": [
        "len(ca_lq.index)//10000+1"
      ],
      "execution_count": null,
      "outputs": [
        {
          "output_type": "execute_result",
          "data": {
            "text/plain": [
              "13"
            ]
          },
          "metadata": {
            "tags": []
          },
          "execution_count": 22
        }
      ]
    },
    {
      "cell_type": "code",
      "metadata": {
        "id": "8iYvUbTyQc4w",
        "colab_type": "code",
        "colab": {}
      },
      "source": [
        "n_splits = len(ca_lq.index)//1000 +1\n",
        "\n",
        "for i, new_df in enumerate(np.array_split(a,n_splits)):\n",
        "    with open(f\"out{i}.csv\",\"w\") as fo:\n",
        "            fo.write(new_df.to_csv())"
      ],
      "execution_count": null,
      "outputs": []
    },
    {
      "cell_type": "code",
      "metadata": {
        "id": "0or9eIOQF1x6",
        "colab_type": "code",
        "colab": {}
      },
      "source": [
        "n_splits = len(ca_lq.index)//1000 +1\n",
        "\n",
        "for i, new_df in enumerate(np.array_split(af,n_splits)):\n",
        "    with open(f\"out{i}.csv\",\"w\") as fo:\n",
        "            fo.write(new_df.to_csv())"
      ],
      "execution_count": null,
      "outputs": []
    },
    {
      "cell_type": "code",
      "metadata": {
        "id": "iX3uftGw4eob",
        "colab_type": "code",
        "colab": {
          "base_uri": "https://localhost:8080/",
          "height": 72
        },
        "outputId": "7763b543-889c-43d9-9d84-2d6efa66561b"
      },
      "source": [
        "n_splits = len(ca_lq.index)//1000 +1\n",
        "\n",
        "for i, new_df in enumerate(np.array_split(ca,n_splits)):\n",
        "    with open(f\"t{i}.csv\",\"w\") as fo:\n",
        "            fo.write(new_df.to_csv())"
      ],
      "execution_count": null,
      "outputs": [
        {
          "output_type": "stream",
          "text": [
            "/usr/local/lib/python3.6/dist-packages/ipykernel_launcher.py:5: FutureWarning: The signature of `Series.to_csv` was aligned to that of `DataFrame.to_csv`, and argument 'header' will change its default value from False to True: please pass an explicit value to suppress this warning.\n",
            "  \"\"\"\n"
          ],
          "name": "stderr"
        }
      ]
    },
    {
      "cell_type": "code",
      "metadata": {
        "id": "NpScWI7eb4sV",
        "colab_type": "code",
        "colab": {}
      },
      "source": [
        "ls"
      ],
      "execution_count": null,
      "outputs": []
    },
    {
      "cell_type": "code",
      "metadata": {
        "id": "P-IPpAvb1nWt",
        "colab_type": "code",
        "colab": {}
      },
      "source": [
        "%timeit\n",
        "#import censusgeocode\n",
        "# benchmark default is \"Current\", other options are \n",
        "#https://geocoding.geo.census.gov/geocoder/benchmarks\n",
        "#https://geocoding.geo.census.gov/geocoder/vintages?form\n",
        "#cg = censusgeocode.CensusGeocode(benchmark='Public_AR_Current', vintage = 'Current_Current')\t\n",
        "#cg = censusgeocode.CensusGeocode(benchmark='Public_AR_Current', vintage = 'Census2010_Current')\t\n",
        "#cg = censusgeocode.CensusGeocode(benchmark='Public_AR_Current', vintage = 'ACS2013_Current')\t \n",
        "#cg = censusgeocode.CensusGeocode(benchmark='Public_AR_Current', vintage = 'ACS2014_Current')\t \n",
        "#cg = censusgeocode.CensusGeocode(benchmark='Public_AR_Current', vintage = 'ACS2015_Current')\t \n",
        "#cg = censusgeocode.CensusGeocode(benchmark='Public_AR_Current', vintage = 'ACS2016_Current')\t \n",
        "#cg = censusgeocode.CensusGeocode(benchmark='Public_AR_Current', vintage = 'ACS2017_Current')\t \n",
        "#cg = censusgeocode.CensusGeocode(benchmark='Public_AR_Current', vintage = 'ACS2018_Current')\t\n",
        "# Current_ACS2018\n",
        "#cg = censusgeocode.CensusGeocode(benchmark='Public_AR_ACS2018', vintage = 'Current_ACS2018')\n",
        "#cg = censusgeocode.CensusGeocode(benchmark='Public_AR_ACS2018', vintage = 'Census2010_ACS2018')\n",
        "#cg = censusgeocode.CensusGeocode(benchmark='Public_AR_ACS2018', vintage = 'ACS2013_ACS2018')\n",
        "#cg = censusgeocode.CensusGeocode(benchmark='Public_AR_ACS2018', vintage = 'ACS2014_ACS2018')\n",
        "#cg = censusgeocode.CensusGeocode(benchmark='Public_AR_ACS2018', vintage = 'ACS2015_ACS2018')\n",
        "#cg = censusgeocode.CensusGeocode(benchmark='Public_AR_ACS2018', vintage = 'ACS2016_ACS2018')\n",
        "#cg = censusgeocode.CensusGeocode(benchmark='Public_AR_ACS2018', vintage = 'ACS2017_ACS2018')\n",
        "#cg = censusgeocode.CensusGeocode(benchmark='Public_AR_ACS2018', vintage = 'ACS2018_ACS2018')\t\t\n",
        "# Public_AR_Census2010\t\n",
        "cg = censusgeocode.CensusGeocode(benchmark='Public_AR_Census2010', vintage='Census2010_Census2010')\n",
        "#cg = censusgeocode.CensusGeocode(benchmark='Public_AR_Census2010', vintage='Census2000_Census2010')\n",
        "#cg.onelineaddress(\"\")\n",
        "out0 = cg.addressbatch('out0.csv')\n",
        "#location batch(10000 max)\n",
        "#censusgeocode has it at 1000 max, but it is 10000, per https://geocoding.geo.census.gov/geocoder/Geocoding_Services_API.pdf page6/7\n",
        "# the csv needs to be comma-delimited, have no header with columns in this order:\n",
        "#(unique id, street address, city state, zip code), censusgeocode has the columns out of order \n"
      ],
      "execution_count": null,
      "outputs": []
    },
    {
      "cell_type": "code",
      "metadata": {
        "id": "MRI_5-y75Tpo",
        "colab_type": "code",
        "colab": {}
      },
      "source": [
        "t=pd.read_csv(\"t0.csv\", header=None, names=(0,\"address\"))"
      ],
      "execution_count": null,
      "outputs": []
    },
    {
      "cell_type": "code",
      "metadata": {
        "id": "2IfhZAGp5lbL",
        "colab_type": "code",
        "colab": {}
      },
      "source": [
        "t"
      ],
      "execution_count": null,
      "outputs": []
    },
    {
      "cell_type": "code",
      "metadata": {
        "id": "MGpir3eG34a1",
        "colab_type": "code",
        "colab": {}
      },
      "source": [
        "test = t['address'].apply(lambda x: cg.onelineaddress(x, returntype='locations'))"
      ],
      "execution_count": null,
      "outputs": []
    },
    {
      "cell_type": "code",
      "metadata": {
        "id": "Dj3oFgF1-kQu",
        "colab_type": "code",
        "colab": {
          "base_uri": "https://localhost:8080/",
          "height": 70
        },
        "outputId": "625c5fe1-cba9-4bc6-a727-61ad10a0d601"
      },
      "source": [
        "%timeit\n",
        "!curl --form addressFile=@out1.csv --form benchmark=Public_AR_Census2010 --form vintage=Census2010_Census2010  https://geocoding.geo.census.gov/geocoder/geographies/addressbatch --output geocoderesult.csv"
      ],
      "execution_count": null,
      "outputs": [
        {
          "output_type": "stream",
          "text": [
            "  % Total    % Received % Xferd  Average Speed   Time    Time     Time  Current\n",
            "                                 Dload  Upload   Total   Spent    Left  Speed\n",
            "100  195k  100  151k  100 44201    915    260  0:02:50  0:02:49  0:00:01 44211\n"
          ],
          "name": "stdout"
        }
      ]
    },
    {
      "cell_type": "code",
      "metadata": {
        "id": "_sEJHgbjBXFU",
        "colab_type": "code",
        "colab": {}
      },
      "source": [
        "t=pd.read_csv(\"geocoderesult.csv\")\n",
        "\n"
      ],
      "execution_count": null,
      "outputs": []
    },
    {
      "cell_type": "code",
      "metadata": {
        "id": "YoFXfYzlCFRE",
        "colab_type": "code",
        "colab": {}
      },
      "source": [
        "t=pd.read_csv(\"out0.csv\", header=None)"
      ],
      "execution_count": null,
      "outputs": []
    },
    {
      "cell_type": "code",
      "metadata": {
        "id": "j3jNYM5FLoJG",
        "colab_type": "code",
        "colab": {}
      },
      "source": [
        "issue with info after st/ave/rd\n",
        "issue with zip+4\n",
        "issue with wrong town/zip         maybe try to remove info 241 TOWER RD CA\n"
      ],
      "execution_count": null,
      "outputs": []
    },
    {
      "cell_type": "code",
      "metadata": {
        "id": "Krlj3l2Sfpk8",
        "colab_type": "code",
        "colab": {}
      },
      "source": [
        "out0[1]"
      ],
      "execution_count": null,
      "outputs": []
    },
    {
      "cell_type": "code",
      "metadata": {
        "id": "peLK9OXQdCBu",
        "colab_type": "code",
        "colab": {}
      },
      "source": [
        "cg.onelineaddress(\"\")"
      ],
      "execution_count": null,
      "outputs": []
    },
    {
      "cell_type": "code",
      "metadata": {
        "id": "KGomgcbK1nhr",
        "colab_type": "code",
        "colab": {}
      },
      "source": [
        "labels = ['id','address','match','matchtype','parsed','tigerlineid','side','statefp','countyfp','tract' ,'block' ,'lon','lat']\n",
        "df = pd.DataFrame.from_records(out0, columns=labels)"
      ],
      "execution_count": null,
      "outputs": []
    },
    {
      "cell_type": "code",
      "metadata": {
        "id": "MiM3LgGP05Wn",
        "colab_type": "code",
        "colab": {
          "base_uri": "https://localhost:8080/",
          "height": 70
        },
        "outputId": "d041c224-d830-42ee-eb53-082c35f232da"
      },
      "source": [
        "df['match'].value_counts()\n",
        "#ca default values\n",
        "#True     818\n",
        "#False    180\n"
      ],
      "execution_count": null,
      "outputs": [
        {
          "output_type": "execute_result",
          "data": {
            "text/plain": [
              "True     818\n",
              "False    180\n",
              "Name: match, dtype: int64"
            ]
          },
          "metadata": {
            "tags": []
          },
          "execution_count": 30
        }
      ]
    },
    {
      "cell_type": "code",
      "metadata": {
        "id": "S0ENAH4VijJE",
        "colab_type": "code",
        "colab": {}
      },
      "source": [
        "df.sort_values(\"address\")"
      ],
      "execution_count": null,
      "outputs": []
    },
    {
      "cell_type": "markdown",
      "metadata": {
        "id": "T3KSz7nW-ksR",
        "colab_type": "text"
      },
      "source": [
        "#### Geopy Nominatim"
      ]
    },
    {
      "cell_type": "code",
      "metadata": {
        "id": "w4HGZ6C3VO8H",
        "colab_type": "code",
        "colab": {}
      },
      "source": [
        "from geopy.geocoders import Nominatim\n",
        "geolocator = Nominatim(user_agent=\"dans locs\", timeout=None)"
      ],
      "execution_count": null,
      "outputs": []
    },
    {
      "cell_type": "code",
      "metadata": {
        "id": "k1OhvDG_cehA",
        "colab_type": "code",
        "colab": {}
      },
      "source": [
        "add = ca['Address'].apply(lambda x: geolocator.geocode(x))"
      ],
      "execution_count": null,
      "outputs": []
    },
    {
      "cell_type": "code",
      "metadata": {
        "id": "OHxk6zZFcW8n",
        "colab_type": "code",
        "colab": {}
      },
      "source": [
        "#class geopy.extra.rate_limiter.RateLimiter(func, min_delay_seconds=0.0, max_retries=2, error_wait_seconds=5.0, swallow_exceptions=True, return_value_on_exception=None)"
      ],
      "execution_count": null,
      "outputs": []
    },
    {
      "cell_type": "code",
      "metadata": {
        "id": "_KxFgkdIcvsW",
        "colab_type": "code",
        "colab": {}
      },
      "source": [
        "#from geopy.extra.rate_limiter import RateLimiter\n",
        "#geocode = RateLimiter(geolocator.geocode, min_delay_seconds=1)\n",
        "#df['location'] = df['name'].apply(geocode)\n",
        "\n",
        "#df['point'] = df['location'].apply(lambda loc: tuple(loc.point) if loc else None)\n",
        "\n",
        "#from tqdm import tqdm\n",
        "#tqdm.pandas()\n",
        "#df['location'] = df['name'].progress_apply(geocode)"
      ],
      "execution_count": null,
      "outputs": []
    },
    {
      "cell_type": "markdown",
      "metadata": {
        "id": "Jxxw60lyceNa",
        "colab_type": "text"
      },
      "source": [
        "#### Remove out of state\n",
        "    "
      ]
    },
    {
      "cell_type": "markdown",
      "metadata": {
        "id": "6N4Iu14LfUoN",
        "colab_type": "text"
      },
      "source": [
        "### IL liquor licences"
      ]
    },
    {
      "cell_type": "markdown",
      "metadata": {
        "id": "7BBBYA36wiiO",
        "colab_type": "text"
      },
      "source": [
        "only active list was easy to extract , found [Here](https://www2.illinois.gov/ilcc/Divisions/Pages/Other-Search-Features.aspx), if I wanted more we would have to scrape."
      ]
    },
    {
      "cell_type": "markdown",
      "metadata": {
        "id": "oh7yun6YpRlN",
        "colab_type": "text"
      },
      "source": [
        "> #### Other alchohol related information (possible use)"
      ]
    },
    {
      "cell_type": "markdown",
      "metadata": {
        "id": "UIHrR9MFpchh",
        "colab_type": "text"
      },
      "source": [
        "llinois has surveys of local liquor-related ordinances of around 1,000 of the approximately 1,200 local entities in Illinois, the info would have to be scraped but it might be interesting, the data can be found [Here](https://www2.illinois.gov/ilcc/Pages/Survey.aspx)\n",
        "\n",
        "Taxes on booze [Illinois Liquor Gallonage Reports](https://www2.illinois.gov/rev/research/taxstats/LiquorGallonageReports/Pages/default.aspx)"
      ]
    },
    {
      "cell_type": "markdown",
      "metadata": {
        "id": "rWqNBwh0_xxL",
        "colab_type": "text"
      },
      "source": [
        "#### Get Data"
      ]
    },
    {
      "cell_type": "code",
      "metadata": {
        "id": "hIHKhocfIMC1",
        "colab_type": "code",
        "colab": {
          "base_uri": "https://localhost:8080/",
          "height": 33
        },
        "outputId": "dd046b7f-38ed-4305-fed4-be5f3e430bbd"
      },
      "source": [
        "cd il/data"
      ],
      "execution_count": null,
      "outputs": [
        {
          "output_type": "stream",
          "text": [
            "/content/drive/My Drive/data/geo2vec/il/data\n"
          ],
          "name": "stdout"
        }
      ]
    },
    {
      "cell_type": "code",
      "metadata": {
        "id": "gPG6TKAgFWlx",
        "colab_type": "code",
        "colab": {
          "base_uri": "https://localhost:8080/",
          "height": 351
        },
        "outputId": "c9dd7d1a-e0e8-47c4-cd47-3b3782f9be2b"
      },
      "source": [
        "ls"
      ],
      "execution_count": null,
      "outputs": [
        {
          "output_type": "stream",
          "text": [
            "'07.07.2019_liquor licences.csv'\n",
            " \u001b[0m\u001b[01;34mil_by_date\u001b[0m/\n",
            " Illinois_Tracts_Block_Groups_Only.zip\n",
            " IL.LiqLic.07.07.2019.0.csv\n",
            " IL.LiqLic.07.07.2019.1.csv\n",
            " IL.LiqLic.07.07.2019.2.csv\n",
            " IL.LiqLic.07.07.2019.csv\n",
            " IL.LiqLic.07.07.2019.GeocodeResults.0.csv\n",
            " IL.LiqLic.07.07.2019.GeocodeResults.1.csv\n",
            " IL.LiqLic.07.07.2019.GeocodeResults.2.csv\n",
            " IL.LiqLic.07.07.2019.GeocodeResults.csv\n",
            " IL.tryagain.0.geocoderesult.csv\n",
            " \u001b[01;34mimages\u001b[0m/\n",
            " \u001b[01;34mimage_urls_by_date\u001b[0m/\n",
            " \u001b[01;34mloop_listings\u001b[0m/\n",
            " monthly.xls\n",
            " \u001b[01;34mtracts\u001b[0m/\n",
            " tryagain.0.csv\n",
            " urls_il_06.30.2019.txt\n",
            " \u001b[01;34mzipcodes\u001b[0m/\n"
          ],
          "name": "stdout"
        }
      ]
    },
    {
      "cell_type": "code",
      "metadata": {
        "id": "uFJVGwvEwdv9",
        "colab_type": "code",
        "colab": {
          "base_uri": "https://localhost:8080/",
          "height": 201
        },
        "outputId": "b5a64527-75d4-460d-ba7c-21323a271ffa"
      },
      "source": [
        "!wget https://www2.illinois.gov/ilcc/All%20documents%20site%20wide/Divisions/Licensing/monthly.xls"
      ],
      "execution_count": null,
      "outputs": [
        {
          "output_type": "stream",
          "text": [
            "--2019-07-07 20:30:12--  https://www2.illinois.gov/ilcc/All%20documents%20site%20wide/Divisions/Licensing/monthly.xls\n",
            "Resolving www2.illinois.gov (www2.illinois.gov)... 163.191.60.140\n",
            "Connecting to www2.illinois.gov (www2.illinois.gov)|163.191.60.140|:443... connected.\n",
            "HTTP request sent, awaiting response... 200 OK\n",
            "Length: 14356992 (14M) [application/vnd.ms-excel]\n",
            "Saving to: ‘monthly.xls’\n",
            "\n",
            "monthly.xls         100%[===================>]  13.69M   637KB/s    in 20s     \n",
            "\n",
            "2019-07-07 20:30:33 (705 KB/s) - ‘monthly.xls’ saved [14356992/14356992]\n",
            "\n"
          ],
          "name": "stdout"
        }
      ]
    },
    {
      "cell_type": "markdown",
      "metadata": {
        "id": "TqFQdnFSSS2r",
        "colab_type": "text"
      },
      "source": [
        "#### Rename monthly.xls to save it for future use"
      ]
    },
    {
      "cell_type": "code",
      "metadata": {
        "id": "Clpqq3rwSh6b",
        "colab_type": "code",
        "colab": {}
      },
      "source": [
        "#rename monthy"
      ],
      "execution_count": null,
      "outputs": []
    },
    {
      "cell_type": "code",
      "metadata": {
        "id": "6u_bW-S8ylWT",
        "colab_type": "code",
        "colab": {}
      },
      "source": [
        "il_lq = pd.read_excel('monthly.xls')"
      ],
      "execution_count": null,
      "outputs": []
    },
    {
      "cell_type": "code",
      "metadata": {
        "id": "S1-9g7PBcokU",
        "colab_type": "code",
        "colab": {}
      },
      "source": [
        "#pandas_profiling.ProfileReport(il_lq)"
      ],
      "execution_count": null,
      "outputs": []
    },
    {
      "cell_type": "code",
      "metadata": {
        "id": "R7nlWig5yzSN",
        "colab_type": "code",
        "colab": {}
      },
      "source": [
        "#il_lq.sample(5)"
      ],
      "execution_count": null,
      "outputs": []
    },
    {
      "cell_type": "code",
      "metadata": {
        "id": "oOaY-FdqzrzV",
        "colab_type": "code",
        "colab": {}
      },
      "source": [
        "#il_lq.nunique()"
      ],
      "execution_count": null,
      "outputs": []
    },
    {
      "cell_type": "code",
      "metadata": {
        "id": "d7Kvubb8qwr_",
        "colab_type": "code",
        "colab": {}
      },
      "source": [
        "#il_lq.columns"
      ],
      "execution_count": null,
      "outputs": []
    },
    {
      "cell_type": "code",
      "metadata": {
        "id": "PR0ZVLoMqsRg",
        "colab_type": "code",
        "colab": {}
      },
      "source": [
        "il_lq['Address']= il_lq['DBA_Street1'].astype(str) + \" \" + il_lq['DBA_Street2'].fillna('').astype(str) + \", \" + il_lq['DBA_City'].astype(str) + \", \" + il_lq['DBA_State'].astype(str) + \" \" + il_lq['DBA_Zip'].astype(str)\n"
      ],
      "execution_count": null,
      "outputs": []
    },
    {
      "cell_type": "markdown",
      "metadata": {
        "id": "l9FgMad-AF5D",
        "colab_type": "text"
      },
      "source": [
        "#### Simplify  Licence types"
      ]
    },
    {
      "cell_type": "code",
      "metadata": {
        "id": "cDeOsiF-V8u-",
        "colab_type": "code",
        "colab": {
          "base_uri": "https://localhost:8080/",
          "height": 50
        },
        "outputId": "8941edcf-24f0-48dc-c34a-47917d6e47a2"
      },
      "source": [
        "il_lq['RetailType'].unique()\n",
        "#il_lq.groupby('RetailType').count()\n",
        "#il_lq['BusinessType'].unique()\n",
        "#il_lq['Group'].unique()\n",
        "#mi_lq['Subtype'].unique()\n",
        "#mi_lq['Type'].describe()"
      ],
      "execution_count": null,
      "outputs": [
        {
          "output_type": "execute_result",
          "data": {
            "text/plain": [
              "array([nan, 'ON-PREMISES CONSUMPTION', 'OFF-PREMISES CONSUMPTION',\n",
              "       'CONSUMPTION COMBINATION'], dtype=object)"
            ]
          },
          "metadata": {
            "tags": []
          },
          "execution_count": 67
        }
      ]
    },
    {
      "cell_type": "code",
      "metadata": {
        "id": "bHTEKwnqHn72",
        "colab_type": "code",
        "colab": {}
      },
      "source": [
        "#remove nan in RetailType\n",
        "il_lq = il_lq[pd.notnull(il_lq['RetailType'])]"
      ],
      "execution_count": null,
      "outputs": []
    },
    {
      "cell_type": "code",
      "metadata": {
        "id": "TO5iyucMajKB",
        "colab_type": "code",
        "colab": {
          "base_uri": "https://localhost:8080/",
          "height": 84
        },
        "outputId": "921b9de5-f5fb-4d38-b0a4-f50431ece3da"
      },
      "source": [
        "il_lq['type'] = il_lq['RetailType'].replace({'CONSUMPTION COMBINATION':'off|on', 'ON-PREMISES CONSUMPTION':'on', 'OFF-PREMISES CONSUMPTION':'off'})\n",
        "il_lq['type'].head(3)"
      ],
      "execution_count": null,
      "outputs": [
        {
          "output_type": "execute_result",
          "data": {
            "text/plain": [
              "1        on\n",
              "2       off\n",
              "4    off|on\n",
              "Name: type, dtype: object"
            ]
          },
          "metadata": {
            "tags": []
          },
          "execution_count": 69
        }
      ]
    },
    {
      "cell_type": "markdown",
      "metadata": {
        "id": "RYpidUHnAa8M",
        "colab_type": "text"
      },
      "source": [
        "#### Clean"
      ]
    },
    {
      "cell_type": "markdown",
      "metadata": {
        "id": "kEjQhZvaAjRD",
        "colab_type": "text"
      },
      "source": [
        "##### Remove out of state"
      ]
    },
    {
      "cell_type": "code",
      "metadata": {
        "id": "8ZCX9P_FI3Q2",
        "colab_type": "code",
        "colab": {}
      },
      "source": [
        "#remove out of state\n",
        "il_lq = il_lq[il_lq.DBA_State == \"IL\"]"
      ],
      "execution_count": null,
      "outputs": []
    },
    {
      "cell_type": "markdown",
      "metadata": {
        "id": "38pENbUBAt6D",
        "colab_type": "text"
      },
      "source": [
        "##### seperate zip into 'zip_code' and 'plus_four'"
      ]
    },
    {
      "cell_type": "code",
      "metadata": {
        "id": "HIIMW3DU_sMQ",
        "colab_type": "code",
        "colab": {}
      },
      "source": [
        "il_lq[['zip_code','plus_four']] = il_lq['DBA_Zip'].str.split('-',expand = True)"
      ],
      "execution_count": null,
      "outputs": []
    },
    {
      "cell_type": "code",
      "metadata": {
        "id": "fcDVR0n-ieuc",
        "colab_type": "code",
        "colab": {}
      },
      "source": [
        "il_lq[[\"l_t\",\"id\"]] =il_lq[\"Lic_No\"].str.split('-',expand = True)"
      ],
      "execution_count": null,
      "outputs": []
    },
    {
      "cell_type": "code",
      "metadata": {
        "id": "uCrNpqibOk5c",
        "colab_type": "code",
        "colab": {}
      },
      "source": [
        "il_lq[\"ID\"] = il_lq[\"Lic_No\"].map(str) + \"-il\""
      ],
      "execution_count": null,
      "outputs": []
    },
    {
      "cell_type": "code",
      "metadata": {
        "id": "fJ2pV3lojCtk",
        "colab_type": "code",
        "colab": {
          "base_uri": "https://localhost:8080/",
          "height": 33
        },
        "outputId": "4f14367b-1ed6-46ec-9d4b-d73137a5dc87"
      },
      "source": [
        "il_lq.DBA_Street1.nunique(),il_lq.DBA_Street1.count()"
      ],
      "execution_count": null,
      "outputs": [
        {
          "output_type": "execute_result",
          "data": {
            "text/plain": [
              "(22780, 24159)"
            ]
          },
          "metadata": {
            "tags": []
          },
          "execution_count": 74
        }
      ]
    },
    {
      "cell_type": "code",
      "metadata": {
        "id": "X1f1fwHbI4No",
        "colab_type": "code",
        "colab": {
          "base_uri": "https://localhost:8080/",
          "height": 150
        },
        "outputId": "6710fca1-7450-4724-8afa-f6be5cad8cde"
      },
      "source": [
        "il_lq.columns"
      ],
      "execution_count": null,
      "outputs": [
        {
          "output_type": "execute_result",
          "data": {
            "text/plain": [
              "Index(['Corp_Name', 'Corp_Street1', 'Corp_Street2', 'Corp_City', 'Corp_State',\n",
              "       'Corp_Zip', 'DBA_Name', 'DBA_Street1', 'DBA_Street2', 'DBA_City',\n",
              "       'DBA_State', 'DBA_Zip', 'DBA_County', 'Lic_No', 'License Type',\n",
              "       'Issue_Date', 'Effective_Date', 'Expiration_Date', 'IBT', 'RetailType',\n",
              "       'BusinessType', 'BusinessTypeOther', 'LocalLicense', 'LocLicIssuedBy',\n",
              "       'LocLicIssued', 'LocLicExpiration', 'Renewal', 'Address', 'type',\n",
              "       'zip_code', 'plus_four', 'l_t', 'id', 'ID'],\n",
              "      dtype='object')"
            ]
          },
          "metadata": {
            "tags": []
          },
          "execution_count": 75
        }
      ]
    },
    {
      "cell_type": "code",
      "metadata": {
        "id": "SJB8mwLgL_OR",
        "colab_type": "code",
        "colab": {}
      },
      "source": [
        "il_lq.drop([\"Corp_Street1\",\"Corp_Street2\",\"Corp_City\", \"Corp_State\", \"Corp_Zip\",\"Issue_Date\", \"Effective_Date\", \"BusinessTypeOther\",\"LocalLicense\" ,\n",
        "            \"LocLicIssuedBy\", \"LocLicIssued\", \"LocLicExpiration\", \"Renewal\"], inplace=True, axis=1)  "
      ],
      "execution_count": null,
      "outputs": []
    },
    {
      "cell_type": "markdown",
      "metadata": {
        "id": "mhn9-HXhA6mB",
        "colab_type": "text"
      },
      "source": [
        "##### Group by"
      ]
    },
    {
      "cell_type": "code",
      "metadata": {
        "id": "cnDa7rkeMthg",
        "colab_type": "code",
        "colab": {}
      },
      "source": [
        ""
      ],
      "execution_count": null,
      "outputs": []
    },
    {
      "cell_type": "code",
      "metadata": {
        "id": "THeR3ONmEXEI",
        "colab_type": "code",
        "colab": {}
      },
      "source": [
        "il_lq['lics']=il_lq.groupby(['DBA_Street1','DBA_Name'])[\"type\"].transform(\"unique\")"
      ],
      "execution_count": null,
      "outputs": []
    },
    {
      "cell_type": "code",
      "metadata": {
        "id": "aP-JxrFr_rQy",
        "colab_type": "code",
        "colab": {}
      },
      "source": [
        "#il_lq['count_column']=il_lq.groupby(['DBA_Street1','DBA_Name']).DBA_Street1.transform('count') \n",
        "#create a new column \"count_column\" by using the grouped data (street and name)\n",
        "#  you take this series in this case \"DBA_street1\" and use trans form to convert it to a count.\n",
        "#  transform is really neat because you can use this to transfrom data using prebuilt functions like sum, count, ect, \n",
        "#  as well as other function like \"series.transform([np.sqrt, np.exp])\" \n",
        "#  or lambda functions :  grouped_by_data.transform(lambda x: (x - x.mean()) / x.std())\n"
      ],
      "execution_count": null,
      "outputs": []
    },
    {
      "cell_type": "code",
      "metadata": {
        "id": "J8HxlUnHSNdy",
        "colab_type": "code",
        "colab": {}
      },
      "source": [
        "il_lq['n'] = il_lq['lics'].agg(np.size)"
      ],
      "execution_count": null,
      "outputs": []
    },
    {
      "cell_type": "code",
      "metadata": {
        "id": "w1cCMoHYUGNm",
        "colab_type": "code",
        "colab": {}
      },
      "source": [
        "il_lq['p_type'] = np.where(il_lq['lics'].agg(np.size)>1, \"Combo\", il_lq[\"lics\"].astype(str).str.replace('\\[|\\]|\\'', ''))\n",
        "# uses numpy \"where\"  il_lq['lics'].agg(np.size)>1, test if aggrigate(count) in list \"lics\"(types of licences) is more than 1, if true assign it Combo if not just get the string in lics. "
      ],
      "execution_count": null,
      "outputs": []
    },
    {
      "cell_type": "code",
      "metadata": {
        "id": "fLHupWltcrFw",
        "colab_type": "code",
        "colab": {}
      },
      "source": [
        "#il_lq[il_lq.duplicated(['DBA_Name','DBA_Street1'],keep= False)] #581\n",
        "il_lq.drop_duplicates(['DBA_Name','DBA_Street1'],keep= 'first', inplace=True)"
      ],
      "execution_count": null,
      "outputs": []
    },
    {
      "cell_type": "code",
      "metadata": {
        "id": "pGl3Nt-0kBjc",
        "colab_type": "code",
        "colab": {
          "base_uri": "https://localhost:8080/",
          "height": 1000
        },
        "outputId": "5e71bdfb-c443-4780-f52f-4cc73015434b"
      },
      "source": [
        "#il_lq[il_lq.duplicated('DBA_Street1',keep=False)].sort_values(\"DBA_Street1\") #2346 befor p_type #1792 after\n",
        "il_lq[il_lq.duplicated('IBT',keep=False)].sort_values(\"DBA_Street1\") #6926\n",
        "\n",
        "#STREET: ST, ROAD: RD, plaza, court:ct  circle ctr, PARK  "
      ],
      "execution_count": null,
      "outputs": [
        {
          "output_type": "execute_result",
          "data": {
            "text/html": [
              "<div>\n",
              "<style scoped>\n",
              "    .dataframe tbody tr th:only-of-type {\n",
              "        vertical-align: middle;\n",
              "    }\n",
              "\n",
              "    .dataframe tbody tr th {\n",
              "        vertical-align: top;\n",
              "    }\n",
              "\n",
              "    .dataframe thead th {\n",
              "        text-align: right;\n",
              "    }\n",
              "</style>\n",
              "<table border=\"1\" class=\"dataframe\">\n",
              "  <thead>\n",
              "    <tr style=\"text-align: right;\">\n",
              "      <th></th>\n",
              "      <th>Corp_Name</th>\n",
              "      <th>DBA_Name</th>\n",
              "      <th>DBA_Street1</th>\n",
              "      <th>DBA_Street2</th>\n",
              "      <th>DBA_City</th>\n",
              "      <th>DBA_State</th>\n",
              "      <th>DBA_Zip</th>\n",
              "      <th>DBA_County</th>\n",
              "      <th>Lic_No</th>\n",
              "      <th>License Type</th>\n",
              "      <th>Expiration_Date</th>\n",
              "      <th>IBT</th>\n",
              "      <th>RetailType</th>\n",
              "      <th>BusinessType</th>\n",
              "      <th>Address</th>\n",
              "      <th>type</th>\n",
              "      <th>zip_code</th>\n",
              "      <th>plus_four</th>\n",
              "      <th>l_t</th>\n",
              "      <th>id</th>\n",
              "      <th>ID</th>\n",
              "      <th>lics</th>\n",
              "      <th>n</th>\n",
              "      <th>p_type</th>\n",
              "    </tr>\n",
              "  </thead>\n",
              "  <tbody>\n",
              "    <tr>\n",
              "      <th>3212</th>\n",
              "      <td>FKG OIL CO</td>\n",
              "      <td>CLUB CENTRE MOTOMART</td>\n",
              "      <td>#1 CLUB CENTRE COURT</td>\n",
              "      <td>NaN</td>\n",
              "      <td>EDWARDSVILLE</td>\n",
              "      <td>IL</td>\n",
              "      <td>62025</td>\n",
              "      <td>MADISON</td>\n",
              "      <td>1A-0023824</td>\n",
              "      <td>1A - RETAILER</td>\n",
              "      <td>03/31/2020</td>\n",
              "      <td>1459368.0</td>\n",
              "      <td>OFF-PREMISES CONSUMPTION</td>\n",
              "      <td>I. CONVENIENCE &amp; GAS</td>\n",
              "      <td>#1 CLUB CENTRE COURT , EDWARDSVILLE, IL 62025</td>\n",
              "      <td>off</td>\n",
              "      <td>62025</td>\n",
              "      <td>None</td>\n",
              "      <td>1A</td>\n",
              "      <td>0023824</td>\n",
              "      <td>1A-0023824-il</td>\n",
              "      <td>[off]</td>\n",
              "      <td>1</td>\n",
              "      <td>off</td>\n",
              "    </tr>\n",
              "    <tr>\n",
              "      <th>21143</th>\n",
              "      <td>KROGER LP I</td>\n",
              "      <td>KROGER J-657</td>\n",
              "      <td>#20 CHERRY TREE SHOPPING CTR</td>\n",
              "      <td>NaN</td>\n",
              "      <td>WASHINGTON</td>\n",
              "      <td>IL</td>\n",
              "      <td>61571</td>\n",
              "      <td>TAZEWELL</td>\n",
              "      <td>1A-0032377</td>\n",
              "      <td>1A - RETAILER</td>\n",
              "      <td>10/31/2019</td>\n",
              "      <td>28721421.0</td>\n",
              "      <td>OFF-PREMISES CONSUMPTION</td>\n",
              "      <td>D. SUPERMARKET</td>\n",
              "      <td>#20 CHERRY TREE SHOPPING CTR , WASHINGTON, IL ...</td>\n",
              "      <td>off</td>\n",
              "      <td>61571</td>\n",
              "      <td>None</td>\n",
              "      <td>1A</td>\n",
              "      <td>0032377</td>\n",
              "      <td>1A-0032377-il</td>\n",
              "      <td>[off]</td>\n",
              "      <td>1</td>\n",
              "      <td>off</td>\n",
              "    </tr>\n",
              "    <tr>\n",
              "      <th>21891</th>\n",
              "      <td>PAR-A-DICE GAMING CORP</td>\n",
              "      <td>PAR-A-DICE RIVERBOAT CASINO</td>\n",
              "      <td>#21 BLACKJACK BLVD</td>\n",
              "      <td>NaN</td>\n",
              "      <td>EAST PEORIA</td>\n",
              "      <td>IL</td>\n",
              "      <td>61611-0000</td>\n",
              "      <td>TAZEWELL</td>\n",
              "      <td>1G-0000015</td>\n",
              "      <td>1G - BOAT</td>\n",
              "      <td>09/30/2019</td>\n",
              "      <td>22883721.0</td>\n",
              "      <td>ON-PREMISES CONSUMPTION</td>\n",
              "      <td>P. OTHER</td>\n",
              "      <td>#21 BLACKJACK BLVD , EAST PEORIA, IL 61611-0000</td>\n",
              "      <td>on</td>\n",
              "      <td>61611</td>\n",
              "      <td>0000</td>\n",
              "      <td>1G</td>\n",
              "      <td>0000015</td>\n",
              "      <td>1G-0000015-il</td>\n",
              "      <td>[on]</td>\n",
              "      <td>1</td>\n",
              "      <td>on</td>\n",
              "    </tr>\n",
              "    <tr>\n",
              "      <th>24531</th>\n",
              "      <td>RAVANELLI EDWARDS &amp; BUSH INC</td>\n",
              "      <td>RAVANELLI'S RESTAURANT</td>\n",
              "      <td>#3 AMERICAN VILLAGE</td>\n",
              "      <td>NaN</td>\n",
              "      <td>GRANITE CITY</td>\n",
              "      <td>IL</td>\n",
              "      <td>62040</td>\n",
              "      <td>MADISON</td>\n",
              "      <td>1A-0036642</td>\n",
              "      <td>1A - RETAILER</td>\n",
              "      <td>10/31/2019</td>\n",
              "      <td>29555711.0</td>\n",
              "      <td>ON-PREMISES CONSUMPTION</td>\n",
              "      <td>B. RESTAURANT</td>\n",
              "      <td>#3 AMERICAN VILLAGE , GRANITE CITY, IL 62040</td>\n",
              "      <td>on</td>\n",
              "      <td>62040</td>\n",
              "      <td>None</td>\n",
              "      <td>1A</td>\n",
              "      <td>0036642</td>\n",
              "      <td>1A-0036642-il</td>\n",
              "      <td>[on]</td>\n",
              "      <td>1</td>\n",
              "      <td>on</td>\n",
              "    </tr>\n",
              "    <tr>\n",
              "      <th>961</th>\n",
              "      <td>NU BOWL LANES INC</td>\n",
              "      <td>AIRPORT PLAZA BOWL</td>\n",
              "      <td>#4 ERWIN PLEGGE BLVD</td>\n",
              "      <td>NaN</td>\n",
              "      <td>BETHALTO</td>\n",
              "      <td>IL</td>\n",
              "      <td>62010-0000</td>\n",
              "      <td>MADISON</td>\n",
              "      <td>1A-0092372</td>\n",
              "      <td>1A - RETAILER</td>\n",
              "      <td>01/31/2020</td>\n",
              "      <td>980579.0</td>\n",
              "      <td>ON-PREMISES CONSUMPTION</td>\n",
              "      <td>P. OTHER</td>\n",
              "      <td>#4 ERWIN PLEGGE BLVD , BETHALTO, IL 62010-0000</td>\n",
              "      <td>on</td>\n",
              "      <td>62010</td>\n",
              "      <td>0000</td>\n",
              "      <td>1A</td>\n",
              "      <td>0092372</td>\n",
              "      <td>1A-0092372-il</td>\n",
              "      <td>[on]</td>\n",
              "      <td>1</td>\n",
              "      <td>on</td>\n",
              "    </tr>\n",
              "    <tr>\n",
              "      <th>28153</th>\n",
              "      <td>WALGREEN CO</td>\n",
              "      <td>WALGREENS #09922</td>\n",
              "      <td>#4 S COMMERCIAL ST</td>\n",
              "      <td>NaN</td>\n",
              "      <td>HARRISBURG</td>\n",
              "      <td>IL</td>\n",
              "      <td>62946</td>\n",
              "      <td>SALINE</td>\n",
              "      <td>1A-0091938</td>\n",
              "      <td>1A - RETAILER</td>\n",
              "      <td>12/31/2019</td>\n",
              "      <td>92932.0</td>\n",
              "      <td>OFF-PREMISES CONSUMPTION</td>\n",
              "      <td>A. DRUG STORE/PHARMACY</td>\n",
              "      <td>#4 S COMMERCIAL ST , HARRISBURG, IL 62946</td>\n",
              "      <td>off</td>\n",
              "      <td>62946</td>\n",
              "      <td>None</td>\n",
              "      <td>1A</td>\n",
              "      <td>0091938</td>\n",
              "      <td>1A-0091938-il</td>\n",
              "      <td>[off]</td>\n",
              "      <td>1</td>\n",
              "      <td>off</td>\n",
              "    </tr>\n",
              "    <tr>\n",
              "      <th>27519</th>\n",
              "      <td>MINIT MART, LLC</td>\n",
              "      <td>MINIT MART, LLC</td>\n",
              "      <td>1 CARRIER LN</td>\n",
              "      <td>NaN</td>\n",
              "      <td>WENONA</td>\n",
              "      <td>IL</td>\n",
              "      <td>61377-9005</td>\n",
              "      <td>MARSHALL</td>\n",
              "      <td>1A-1140261</td>\n",
              "      <td>1A - RETAILER</td>\n",
              "      <td>11/30/2019</td>\n",
              "      <td>43006795.0</td>\n",
              "      <td>OFF-PREMISES CONSUMPTION</td>\n",
              "      <td>I. CONVENIENCE &amp; GAS</td>\n",
              "      <td>1 CARRIER LN , WENONA, IL 61377-9005</td>\n",
              "      <td>off</td>\n",
              "      <td>61377</td>\n",
              "      <td>9005</td>\n",
              "      <td>1A</td>\n",
              "      <td>1140261</td>\n",
              "      <td>1A-1140261-il</td>\n",
              "      <td>[off]</td>\n",
              "      <td>1</td>\n",
              "      <td>off</td>\n",
              "    </tr>\n",
              "    <tr>\n",
              "      <th>12563</th>\n",
              "      <td>WESTERN OIL INC</td>\n",
              "      <td>PETRO MART #76</td>\n",
              "      <td>1 CORVETTE DR</td>\n",
              "      <td>NaN</td>\n",
              "      <td>LITCHFIELD</td>\n",
              "      <td>IL</td>\n",
              "      <td>62056-1090</td>\n",
              "      <td>MONTGOMERY</td>\n",
              "      <td>1A-0094500</td>\n",
              "      <td>1A - RETAILER</td>\n",
              "      <td>06/30/2020</td>\n",
              "      <td>36069612.0</td>\n",
              "      <td>OFF-PREMISES CONSUMPTION</td>\n",
              "      <td>I. CONVENIENCE &amp; GAS</td>\n",
              "      <td>1 CORVETTE DR , LITCHFIELD, IL 62056-1090</td>\n",
              "      <td>off</td>\n",
              "      <td>62056</td>\n",
              "      <td>1090</td>\n",
              "      <td>1A</td>\n",
              "      <td>0094500</td>\n",
              "      <td>1A-0094500-il</td>\n",
              "      <td>[off]</td>\n",
              "      <td>1</td>\n",
              "      <td>off</td>\n",
              "    </tr>\n",
              "    <tr>\n",
              "      <th>19966</th>\n",
              "      <td>C C FOOD MARTS INC</td>\n",
              "      <td>C C FOOD MART</td>\n",
              "      <td>1 E BROADWAY ST</td>\n",
              "      <td>NaN</td>\n",
              "      <td>TRENTON</td>\n",
              "      <td>IL</td>\n",
              "      <td>62293</td>\n",
              "      <td>CLINTON</td>\n",
              "      <td>1A-0005931</td>\n",
              "      <td>1A - RETAILER</td>\n",
              "      <td>09/30/2019</td>\n",
              "      <td>18661637.0</td>\n",
              "      <td>OFF-PREMISES CONSUMPTION</td>\n",
              "      <td>I. CONVENIENCE &amp; GAS</td>\n",
              "      <td>1 E BROADWAY ST , TRENTON, IL 62293</td>\n",
              "      <td>off</td>\n",
              "      <td>62293</td>\n",
              "      <td>None</td>\n",
              "      <td>1A</td>\n",
              "      <td>0005931</td>\n",
              "      <td>1A-0005931-il</td>\n",
              "      <td>[off]</td>\n",
              "      <td>1</td>\n",
              "      <td>off</td>\n",
              "    </tr>\n",
              "    <tr>\n",
              "      <th>23086</th>\n",
              "      <td>COMPASS GROUP USA INC</td>\n",
              "      <td>CHARTWELLS @ DEPAUL UNIVERSITY</td>\n",
              "      <td>1 E JACKSON BLVD</td>\n",
              "      <td>NaN</td>\n",
              "      <td>CHICAGO</td>\n",
              "      <td>IL</td>\n",
              "      <td>60604-2201</td>\n",
              "      <td>COOK</td>\n",
              "      <td>1B-0055500</td>\n",
              "      <td>1B - CATERER</td>\n",
              "      <td>10/31/2019</td>\n",
              "      <td>25641131.0</td>\n",
              "      <td>ON-PREMISES CONSUMPTION</td>\n",
              "      <td>P. OTHER</td>\n",
              "      <td>1 E JACKSON BLVD , CHICAGO, IL 60604-2201</td>\n",
              "      <td>on</td>\n",
              "      <td>60604</td>\n",
              "      <td>2201</td>\n",
              "      <td>1B</td>\n",
              "      <td>0055500</td>\n",
              "      <td>1B-0055500-il</td>\n",
              "      <td>[on]</td>\n",
              "      <td>1</td>\n",
              "      <td>on</td>\n",
              "    </tr>\n",
              "    <tr>\n",
              "      <th>3682</th>\n",
              "      <td>WALGREEN CO</td>\n",
              "      <td>WALGREENS #13827</td>\n",
              "      <td>1 E OGDEN AVENUE</td>\n",
              "      <td>NaN</td>\n",
              "      <td>WESTMONT</td>\n",
              "      <td>IL</td>\n",
              "      <td>60559</td>\n",
              "      <td>DUPAGE</td>\n",
              "      <td>1A-0098466</td>\n",
              "      <td>1A - RETAILER</td>\n",
              "      <td>03/31/2020</td>\n",
              "      <td>92932.0</td>\n",
              "      <td>OFF-PREMISES CONSUMPTION</td>\n",
              "      <td>A. DRUG STORE/PHARMACY</td>\n",
              "      <td>1 E OGDEN AVENUE , WESTMONT, IL 60559</td>\n",
              "      <td>off</td>\n",
              "      <td>60559</td>\n",
              "      <td>None</td>\n",
              "      <td>1A</td>\n",
              "      <td>0098466</td>\n",
              "      <td>1A-0098466-il</td>\n",
              "      <td>[off]</td>\n",
              "      <td>1</td>\n",
              "      <td>off</td>\n",
              "    </tr>\n",
              "    <tr>\n",
              "      <th>11203</th>\n",
              "      <td>GRAHAM ENTERPRISE INC</td>\n",
              "      <td>OAKBROOK TERRACE QUIK SHOP (GEI-116)</td>\n",
              "      <td>1 E ROOSEVELT RD</td>\n",
              "      <td>NaN</td>\n",
              "      <td>OAKBROOK TERRACE</td>\n",
              "      <td>IL</td>\n",
              "      <td>60181-3513</td>\n",
              "      <td>DUPAGE</td>\n",
              "      <td>1A-0105571</td>\n",
              "      <td>1A - RETAILER</td>\n",
              "      <td>05/31/2020</td>\n",
              "      <td>22361634.0</td>\n",
              "      <td>OFF-PREMISES CONSUMPTION</td>\n",
              "      <td>I. CONVENIENCE &amp; GAS</td>\n",
              "      <td>1 E ROOSEVELT RD , OAKBROOK TERRACE, IL 60181-...</td>\n",
              "      <td>off</td>\n",
              "      <td>60181</td>\n",
              "      <td>3513</td>\n",
              "      <td>1A</td>\n",
              "      <td>0105571</td>\n",
              "      <td>1A-0105571-il</td>\n",
              "      <td>[off]</td>\n",
              "      <td>1</td>\n",
              "      <td>off</td>\n",
              "    </tr>\n",
              "    <tr>\n",
              "      <th>10002</th>\n",
              "      <td>MC CORMICK &amp; SCHMICK RESTAURANT CORP</td>\n",
              "      <td>MCCORMICK &amp; SCHMICK'S SEAFOOD RESTAURANT</td>\n",
              "      <td>1 E WACKER DR</td>\n",
              "      <td>NaN</td>\n",
              "      <td>CHICAGO</td>\n",
              "      <td>IL</td>\n",
              "      <td>60601-1642</td>\n",
              "      <td>COOK</td>\n",
              "      <td>1A-0072674</td>\n",
              "      <td>1A - RETAILER</td>\n",
              "      <td>05/31/2020</td>\n",
              "      <td>32412924.0</td>\n",
              "      <td>ON-PREMISES CONSUMPTION</td>\n",
              "      <td>B. RESTAURANT</td>\n",
              "      <td>1 E WACKER DR , CHICAGO, IL 60601-1642</td>\n",
              "      <td>on</td>\n",
              "      <td>60601</td>\n",
              "      <td>1642</td>\n",
              "      <td>1A</td>\n",
              "      <td>0072674</td>\n",
              "      <td>1A-0072674-il</td>\n",
              "      <td>[on]</td>\n",
              "      <td>1</td>\n",
              "      <td>on</td>\n",
              "    </tr>\n",
              "    <tr>\n",
              "      <th>3525</th>\n",
              "      <td>EXPRESSLANE INC</td>\n",
              "      <td>EXPRESS LANE</td>\n",
              "      <td>1 EAST HITT ST</td>\n",
              "      <td>NaN</td>\n",
              "      <td>MT. MORRIS</td>\n",
              "      <td>IL</td>\n",
              "      <td>61054</td>\n",
              "      <td>OGLE</td>\n",
              "      <td>1A-0075467</td>\n",
              "      <td>1A - RETAILER</td>\n",
              "      <td>02/29/2020</td>\n",
              "      <td>4603321.0</td>\n",
              "      <td>OFF-PREMISES CONSUMPTION</td>\n",
              "      <td>C. CONVENIENCE</td>\n",
              "      <td>1 EAST HITT ST , MT. MORRIS, IL 61054</td>\n",
              "      <td>off</td>\n",
              "      <td>61054</td>\n",
              "      <td>None</td>\n",
              "      <td>1A</td>\n",
              "      <td>0075467</td>\n",
              "      <td>1A-0075467-il</td>\n",
              "      <td>[off]</td>\n",
              "      <td>1</td>\n",
              "      <td>off</td>\n",
              "    </tr>\n",
              "    <tr>\n",
              "      <th>13960</th>\n",
              "      <td>OVATIONS FOOD SERVICES LP</td>\n",
              "      <td>OVATIONS FOOD SERVICES-COLLINSVILLE</td>\n",
              "      <td>1 GATEWAY DR</td>\n",
              "      <td>NaN</td>\n",
              "      <td>COLLINSVILLE</td>\n",
              "      <td>IL</td>\n",
              "      <td>62234-6107</td>\n",
              "      <td>MADISON</td>\n",
              "      <td>1A-1122828</td>\n",
              "      <td>1A - RETAILER</td>\n",
              "      <td>05/31/2020</td>\n",
              "      <td>37817590.0</td>\n",
              "      <td>ON-PREMISES CONSUMPTION</td>\n",
              "      <td>P. OTHER</td>\n",
              "      <td>1 GATEWAY DR , COLLINSVILLE, IL 62234-6107</td>\n",
              "      <td>on</td>\n",
              "      <td>62234</td>\n",
              "      <td>6107</td>\n",
              "      <td>1A</td>\n",
              "      <td>1122828</td>\n",
              "      <td>1A-1122828-il</td>\n",
              "      <td>[on]</td>\n",
              "      <td>1</td>\n",
              "      <td>on</td>\n",
              "    </tr>\n",
              "    <tr>\n",
              "      <th>16024</th>\n",
              "      <td>FKG OIL CO</td>\n",
              "      <td>DUQUOIN MOTOMART</td>\n",
              "      <td>1 HOWELLMAN DR</td>\n",
              "      <td>NaN</td>\n",
              "      <td>DU QUOIN</td>\n",
              "      <td>IL</td>\n",
              "      <td>62832-2463</td>\n",
              "      <td>PERRY</td>\n",
              "      <td>1A-0002865</td>\n",
              "      <td>1A - RETAILER</td>\n",
              "      <td>07/31/2019</td>\n",
              "      <td>1459368.0</td>\n",
              "      <td>CONSUMPTION COMBINATION</td>\n",
              "      <td>I. CONVENIENCE &amp; GAS</td>\n",
              "      <td>1 HOWELLMAN DR , DU QUOIN, IL 62832-2463</td>\n",
              "      <td>off|on</td>\n",
              "      <td>62832</td>\n",
              "      <td>2463</td>\n",
              "      <td>1A</td>\n",
              "      <td>0002865</td>\n",
              "      <td>1A-0002865-il</td>\n",
              "      <td>[off|on]</td>\n",
              "      <td>1</td>\n",
              "      <td>off|on</td>\n",
              "    </tr>\n",
              "    <tr>\n",
              "      <th>6634</th>\n",
              "      <td>UNIVERSITY OF IL</td>\n",
              "      <td>UNIVERSITY OF ILLINOIS-PEORIA</td>\n",
              "      <td>1 ILLINI DR</td>\n",
              "      <td>NaN</td>\n",
              "      <td>PEORIA</td>\n",
              "      <td>IL</td>\n",
              "      <td>61605-2576</td>\n",
              "      <td>PEORIA</td>\n",
              "      <td>1B-0076048</td>\n",
              "      <td>1B - CATERER</td>\n",
              "      <td>02/29/2020</td>\n",
              "      <td>9011943.0</td>\n",
              "      <td>ON-PREMISES CONSUMPTION</td>\n",
              "      <td>P. OTHER</td>\n",
              "      <td>1 ILLINI DR , PEORIA, IL 61605-2576</td>\n",
              "      <td>on</td>\n",
              "      <td>61605</td>\n",
              "      <td>2576</td>\n",
              "      <td>1B</td>\n",
              "      <td>0076048</td>\n",
              "      <td>1B-0076048-il</td>\n",
              "      <td>[on]</td>\n",
              "      <td>1</td>\n",
              "      <td>on</td>\n",
              "    </tr>\n",
              "    <tr>\n",
              "      <th>29026</th>\n",
              "      <td>ARAMARK SERVICES INC</td>\n",
              "      <td>ARMARK CORPORATION</td>\n",
              "      <td>1 JOHN DEERE PL</td>\n",
              "      <td>NaN</td>\n",
              "      <td>MOLINE</td>\n",
              "      <td>IL</td>\n",
              "      <td>61265-8010</td>\n",
              "      <td>ROCK ISLAND</td>\n",
              "      <td>1A-0050341</td>\n",
              "      <td>1A - RETAILER</td>\n",
              "      <td>12/31/2019</td>\n",
              "      <td>8605904.0</td>\n",
              "      <td>ON-PREMISES CONSUMPTION</td>\n",
              "      <td>B. RESTAURANT</td>\n",
              "      <td>1 JOHN DEERE PL , MOLINE, IL 61265-8010</td>\n",
              "      <td>on</td>\n",
              "      <td>61265</td>\n",
              "      <td>8010</td>\n",
              "      <td>1A</td>\n",
              "      <td>0050341</td>\n",
              "      <td>1A-0050341-il</td>\n",
              "      <td>[on]</td>\n",
              "      <td>1</td>\n",
              "      <td>on</td>\n",
              "    </tr>\n",
              "    <tr>\n",
              "      <th>5265</th>\n",
              "      <td>MIDWEST PROPERTY MANAGEMENT</td>\n",
              "      <td>ILLINOIS BEACH RESORT</td>\n",
              "      <td>1 LAKE FRONT DR</td>\n",
              "      <td>NaN</td>\n",
              "      <td>ZION</td>\n",
              "      <td>IL</td>\n",
              "      <td>60099-0000</td>\n",
              "      <td>LAKE</td>\n",
              "      <td>1A-0029477</td>\n",
              "      <td>1A - RETAILER</td>\n",
              "      <td>03/31/2020</td>\n",
              "      <td>20390920.0</td>\n",
              "      <td>ON-PREMISES CONSUMPTION</td>\n",
              "      <td>H. HOTEL/MOTEL</td>\n",
              "      <td>1 LAKE FRONT DR , ZION, IL 60099-0000</td>\n",
              "      <td>on</td>\n",
              "      <td>60099</td>\n",
              "      <td>0000</td>\n",
              "      <td>1A</td>\n",
              "      <td>0029477</td>\n",
              "      <td>1A-0029477-il</td>\n",
              "      <td>[on]</td>\n",
              "      <td>1</td>\n",
              "      <td>on</td>\n",
              "    </tr>\n",
              "    <tr>\n",
              "      <th>12186</th>\n",
              "      <td>HIGHLAND PARK CVS LLC</td>\n",
              "      <td>CVS PHARMACY #8512</td>\n",
              "      <td>1 MAIN STREET</td>\n",
              "      <td>NaN</td>\n",
              "      <td>PARK FOREST</td>\n",
              "      <td>IL</td>\n",
              "      <td>60466</td>\n",
              "      <td>COOK</td>\n",
              "      <td>1A-0076971</td>\n",
              "      <td>1A - RETAILER</td>\n",
              "      <td>05/31/2020</td>\n",
              "      <td>33817006.0</td>\n",
              "      <td>OFF-PREMISES CONSUMPTION</td>\n",
              "      <td>A. DRUG STORE/PHARMACY</td>\n",
              "      <td>1 MAIN STREET , PARK FOREST, IL 60466</td>\n",
              "      <td>off</td>\n",
              "      <td>60466</td>\n",
              "      <td>None</td>\n",
              "      <td>1A</td>\n",
              "      <td>0076971</td>\n",
              "      <td>1A-0076971-il</td>\n",
              "      <td>[off]</td>\n",
              "      <td>1</td>\n",
              "      <td>off</td>\n",
              "    </tr>\n",
              "    <tr>\n",
              "      <th>27531</th>\n",
              "      <td>NEW LENOX COMMUNITY PARK DIST</td>\n",
              "      <td>LIONS COMMUNITY CENTER</td>\n",
              "      <td>1 MANOR DR</td>\n",
              "      <td>NaN</td>\n",
              "      <td>NEW LENOX</td>\n",
              "      <td>IL</td>\n",
              "      <td>60451-2930</td>\n",
              "      <td>WILL</td>\n",
              "      <td>1A-0011818</td>\n",
              "      <td>1A - RETAILER</td>\n",
              "      <td>12/31/2019</td>\n",
              "      <td>11874805.0</td>\n",
              "      <td>ON-PREMISES CONSUMPTION</td>\n",
              "      <td>P. OTHER</td>\n",
              "      <td>1 MANOR DR , NEW LENOX, IL 60451-2930</td>\n",
              "      <td>on</td>\n",
              "      <td>60451</td>\n",
              "      <td>2930</td>\n",
              "      <td>1A</td>\n",
              "      <td>0011818</td>\n",
              "      <td>1A-0011818-il</td>\n",
              "      <td>[on]</td>\n",
              "      <td>1</td>\n",
              "      <td>on</td>\n",
              "    </tr>\n",
              "    <tr>\n",
              "      <th>11148</th>\n",
              "      <td>BOND DRUG COMPANY OF ILLINOIS LLC</td>\n",
              "      <td>WALGREENS #04146</td>\n",
              "      <td>1 N ELMHURST RD</td>\n",
              "      <td>NaN</td>\n",
              "      <td>PROSPECT HEIGHTS</td>\n",
              "      <td>IL</td>\n",
              "      <td>60070-1509</td>\n",
              "      <td>COOK</td>\n",
              "      <td>1A-0100007</td>\n",
              "      <td>1A - RETAILER</td>\n",
              "      <td>05/31/2020</td>\n",
              "      <td>5862061.0</td>\n",
              "      <td>OFF-PREMISES CONSUMPTION</td>\n",
              "      <td>A. DRUG STORE/PHARMACY</td>\n",
              "      <td>1 N ELMHURST RD , PROSPECT HEIGHTS, IL 60070-1509</td>\n",
              "      <td>off</td>\n",
              "      <td>60070</td>\n",
              "      <td>1509</td>\n",
              "      <td>1A</td>\n",
              "      <td>0100007</td>\n",
              "      <td>1A-0100007-il</td>\n",
              "      <td>[off]</td>\n",
              "      <td>1</td>\n",
              "      <td>off</td>\n",
              "    </tr>\n",
              "    <tr>\n",
              "      <th>2741</th>\n",
              "      <td>WHOLE FOODS MARKET GROUP INC</td>\n",
              "      <td>WHOLE FOODS MARKET</td>\n",
              "      <td>1 N HALSTED ST</td>\n",
              "      <td>NaN</td>\n",
              "      <td>CHICAGO</td>\n",
              "      <td>IL</td>\n",
              "      <td>60661-2176</td>\n",
              "      <td>COOK</td>\n",
              "      <td>1A-1125419</td>\n",
              "      <td>1A - RETAILER</td>\n",
              "      <td>02/29/2020</td>\n",
              "      <td>24581259.0</td>\n",
              "      <td>ON-PREMISES CONSUMPTION</td>\n",
              "      <td>D. SUPERMARKET</td>\n",
              "      <td>1 N HALSTED ST , CHICAGO, IL 60661-2176</td>\n",
              "      <td>on</td>\n",
              "      <td>60661</td>\n",
              "      <td>2176</td>\n",
              "      <td>1A</td>\n",
              "      <td>1125419</td>\n",
              "      <td>1A-1125419-il</td>\n",
              "      <td>[on]</td>\n",
              "      <td>1</td>\n",
              "      <td>on</td>\n",
              "    </tr>\n",
              "    <tr>\n",
              "      <th>2740</th>\n",
              "      <td>WHOLE FOODS MARKET GROUP INC</td>\n",
              "      <td>WHOLE FOODS MARKET</td>\n",
              "      <td>1 N HALSTED STREET</td>\n",
              "      <td>1ST FLOOR</td>\n",
              "      <td>CHICAGO</td>\n",
              "      <td>IL</td>\n",
              "      <td>60661-0000</td>\n",
              "      <td>COOK</td>\n",
              "      <td>1A-1125418</td>\n",
              "      <td>1A - RETAILER</td>\n",
              "      <td>02/29/2020</td>\n",
              "      <td>24581259.0</td>\n",
              "      <td>OFF-PREMISES CONSUMPTION</td>\n",
              "      <td>D. SUPERMARKET</td>\n",
              "      <td>1 N HALSTED STREET 1ST FLOOR, CHICAGO, IL 6066...</td>\n",
              "      <td>off</td>\n",
              "      <td>60661</td>\n",
              "      <td>0000</td>\n",
              "      <td>1A</td>\n",
              "      <td>1125418</td>\n",
              "      <td>1A-1125418-il</td>\n",
              "      <td>[off]</td>\n",
              "      <td>1</td>\n",
              "      <td>off</td>\n",
              "    </tr>\n",
              "    <tr>\n",
              "      <th>23336</th>\n",
              "      <td>GRAHAM C-STORES CO.</td>\n",
              "      <td>GRAHAM C-STORES - LAKE ZURICH</td>\n",
              "      <td>1 N RAND ROAD</td>\n",
              "      <td>NaN</td>\n",
              "      <td>LAKE ZURICH</td>\n",
              "      <td>IL</td>\n",
              "      <td>60047-2263</td>\n",
              "      <td>LAKE</td>\n",
              "      <td>1A-0086118</td>\n",
              "      <td>1A - RETAILER</td>\n",
              "      <td>11/30/2019</td>\n",
              "      <td>23761814.0</td>\n",
              "      <td>OFF-PREMISES CONSUMPTION</td>\n",
              "      <td>K. GAS STATION</td>\n",
              "      <td>1 N RAND ROAD , LAKE ZURICH, IL 60047-2263</td>\n",
              "      <td>off</td>\n",
              "      <td>60047</td>\n",
              "      <td>2263</td>\n",
              "      <td>1A</td>\n",
              "      <td>0086118</td>\n",
              "      <td>1A-0086118-il</td>\n",
              "      <td>[off]</td>\n",
              "      <td>1</td>\n",
              "      <td>off</td>\n",
              "    </tr>\n",
              "    <tr>\n",
              "      <th>3408</th>\n",
              "      <td>RESTAURANT ASSOCIATES LLC</td>\n",
              "      <td>RA @ UBS CHICAGO</td>\n",
              "      <td>1 N WACKER DR</td>\n",
              "      <td>NaN</td>\n",
              "      <td>CHICAGO</td>\n",
              "      <td>IL</td>\n",
              "      <td>60606-2874</td>\n",
              "      <td>COOK</td>\n",
              "      <td>1B-1129929</td>\n",
              "      <td>1B - CATERER</td>\n",
              "      <td>03/31/2020</td>\n",
              "      <td>34191127.0</td>\n",
              "      <td>OFF-PREMISES CONSUMPTION</td>\n",
              "      <td>B. RESTAURANT</td>\n",
              "      <td>1 N WACKER DR , CHICAGO, IL 60606-2874</td>\n",
              "      <td>off</td>\n",
              "      <td>60606</td>\n",
              "      <td>2874</td>\n",
              "      <td>1B</td>\n",
              "      <td>1129929</td>\n",
              "      <td>1B-1129929-il</td>\n",
              "      <td>[off, on]</td>\n",
              "      <td>2</td>\n",
              "      <td>Combo</td>\n",
              "    </tr>\n",
              "    <tr>\n",
              "      <th>19153</th>\n",
              "      <td>MARSHALL FIELDS CHICAGO INC</td>\n",
              "      <td>MACY'S</td>\n",
              "      <td>1 OAKBROOK CTR</td>\n",
              "      <td>NaN</td>\n",
              "      <td>OAK BROOK</td>\n",
              "      <td>IL</td>\n",
              "      <td>60523-1809</td>\n",
              "      <td>DUPAGE</td>\n",
              "      <td>1A-1124543</td>\n",
              "      <td>1A - RETAILER</td>\n",
              "      <td>08/31/2019</td>\n",
              "      <td>16386361.0</td>\n",
              "      <td>OFF-PREMISES CONSUMPTION</td>\n",
              "      <td>F. DEPARTMENT STORE</td>\n",
              "      <td>1 OAKBROOK CTR , OAK BROOK, IL 60523-1809</td>\n",
              "      <td>off</td>\n",
              "      <td>60523</td>\n",
              "      <td>1809</td>\n",
              "      <td>1A</td>\n",
              "      <td>1124543</td>\n",
              "      <td>1A-1124543-il</td>\n",
              "      <td>[off, on]</td>\n",
              "      <td>2</td>\n",
              "      <td>Combo</td>\n",
              "    </tr>\n",
              "    <tr>\n",
              "      <th>14965</th>\n",
              "      <td>MARSHALL FIELDS CHICAGO INC</td>\n",
              "      <td>FRONTERA FRESCO</td>\n",
              "      <td>1 OLD ORCHARD CENTER</td>\n",
              "      <td>NaN</td>\n",
              "      <td>SKOKIE</td>\n",
              "      <td>IL</td>\n",
              "      <td>60077-0000</td>\n",
              "      <td>COOK</td>\n",
              "      <td>1A-0111041</td>\n",
              "      <td>1A - RETAILER</td>\n",
              "      <td>06/30/2020</td>\n",
              "      <td>16386361.0</td>\n",
              "      <td>ON-PREMISES CONSUMPTION</td>\n",
              "      <td>F. DEPARTMENT STORE</td>\n",
              "      <td>1 OLD ORCHARD CENTER , SKOKIE, IL 60077-0000</td>\n",
              "      <td>on</td>\n",
              "      <td>60077</td>\n",
              "      <td>0000</td>\n",
              "      <td>1A</td>\n",
              "      <td>0111041</td>\n",
              "      <td>1A-0111041-il</td>\n",
              "      <td>[on]</td>\n",
              "      <td>1</td>\n",
              "      <td>on</td>\n",
              "    </tr>\n",
              "    <tr>\n",
              "      <th>18627</th>\n",
              "      <td>EAGL ILLINOIS BEVERAGE LLC</td>\n",
              "      <td>RUFFLED FEATHERS GOLF CLUB</td>\n",
              "      <td>1 PETE DYE DR</td>\n",
              "      <td>NaN</td>\n",
              "      <td>LEMONT</td>\n",
              "      <td>IL</td>\n",
              "      <td>60439-7742</td>\n",
              "      <td>COOK</td>\n",
              "      <td>1A-1127991</td>\n",
              "      <td>1A - RETAILER</td>\n",
              "      <td>08/31/2019</td>\n",
              "      <td>55686753.0</td>\n",
              "      <td>ON-PREMISES CONSUMPTION</td>\n",
              "      <td>P. OTHER</td>\n",
              "      <td>1 PETE DYE DR , LEMONT, IL 60439-7742</td>\n",
              "      <td>on</td>\n",
              "      <td>60439</td>\n",
              "      <td>7742</td>\n",
              "      <td>1A</td>\n",
              "      <td>1127991</td>\n",
              "      <td>1A-1127991-il</td>\n",
              "      <td>[on]</td>\n",
              "      <td>1</td>\n",
              "      <td>on</td>\n",
              "    </tr>\n",
              "    <tr>\n",
              "      <th>18674</th>\n",
              "      <td>SMASHBURGER ACQUISITION - CHICAGO LLC</td>\n",
              "      <td>SMASHBURGER #1145</td>\n",
              "      <td>1 RICE LAKE SQ</td>\n",
              "      <td>NaN</td>\n",
              "      <td>WHEATON</td>\n",
              "      <td>IL</td>\n",
              "      <td>60189-2132</td>\n",
              "      <td>DUPAGE</td>\n",
              "      <td>1A-0102041</td>\n",
              "      <td>1A - RETAILER</td>\n",
              "      <td>08/31/2019</td>\n",
              "      <td>40057641.0</td>\n",
              "      <td>ON-PREMISES CONSUMPTION</td>\n",
              "      <td>B. RESTAURANT</td>\n",
              "      <td>1 RICE LAKE SQ , WHEATON, IL 60189-2132</td>\n",
              "      <td>on</td>\n",
              "      <td>60189</td>\n",
              "      <td>2132</td>\n",
              "      <td>1A</td>\n",
              "      <td>0102041</td>\n",
              "      <td>1A-0102041-il</td>\n",
              "      <td>[on]</td>\n",
              "      <td>1</td>\n",
              "      <td>on</td>\n",
              "    </tr>\n",
              "    <tr>\n",
              "      <th>...</th>\n",
              "      <td>...</td>\n",
              "      <td>...</td>\n",
              "      <td>...</td>\n",
              "      <td>...</td>\n",
              "      <td>...</td>\n",
              "      <td>...</td>\n",
              "      <td>...</td>\n",
              "      <td>...</td>\n",
              "      <td>...</td>\n",
              "      <td>...</td>\n",
              "      <td>...</td>\n",
              "      <td>...</td>\n",
              "      <td>...</td>\n",
              "      <td>...</td>\n",
              "      <td>...</td>\n",
              "      <td>...</td>\n",
              "      <td>...</td>\n",
              "      <td>...</td>\n",
              "      <td>...</td>\n",
              "      <td>...</td>\n",
              "      <td>...</td>\n",
              "      <td>...</td>\n",
              "      <td>...</td>\n",
              "      <td>...</td>\n",
              "    </tr>\n",
              "    <tr>\n",
              "      <th>17092</th>\n",
              "      <td>COSTCO WHOLESALE CORP</td>\n",
              "      <td>COSTCO WHOLESALE #779</td>\n",
              "      <td>999 N ELMHURST RD</td>\n",
              "      <td>NaN</td>\n",
              "      <td>MOUNT PROSPECT</td>\n",
              "      <td>IL</td>\n",
              "      <td>60056-1135</td>\n",
              "      <td>COOK</td>\n",
              "      <td>1A-0064091</td>\n",
              "      <td>1A - RETAILER</td>\n",
              "      <td>08/31/2019</td>\n",
              "      <td>28660315.0</td>\n",
              "      <td>OFF-PREMISES CONSUMPTION</td>\n",
              "      <td>F. DEPARTMENT STORE</td>\n",
              "      <td>999 N ELMHURST RD , MOUNT PROSPECT, IL 60056-1135</td>\n",
              "      <td>off</td>\n",
              "      <td>60056</td>\n",
              "      <td>1135</td>\n",
              "      <td>1A</td>\n",
              "      <td>0064091</td>\n",
              "      <td>1A-0064091-il</td>\n",
              "      <td>[off]</td>\n",
              "      <td>1</td>\n",
              "      <td>off</td>\n",
              "    </tr>\n",
              "    <tr>\n",
              "      <th>20655</th>\n",
              "      <td>MONICAL PIZZA CORPORATION</td>\n",
              "      <td>MONICAL'S PIZZA</td>\n",
              "      <td>CHERRY TREE SHPG CTR</td>\n",
              "      <td>#16-18</td>\n",
              "      <td>WASHINGTON</td>\n",
              "      <td>IL</td>\n",
              "      <td>61571</td>\n",
              "      <td>TAZEWELL</td>\n",
              "      <td>1A-0006763</td>\n",
              "      <td>1A - RETAILER</td>\n",
              "      <td>09/30/2019</td>\n",
              "      <td>16225856.0</td>\n",
              "      <td>ON-PREMISES CONSUMPTION</td>\n",
              "      <td>B. RESTAURANT</td>\n",
              "      <td>CHERRY TREE SHPG CTR #16-18, WASHINGTON, IL 61571</td>\n",
              "      <td>on</td>\n",
              "      <td>61571</td>\n",
              "      <td>None</td>\n",
              "      <td>1A</td>\n",
              "      <td>0006763</td>\n",
              "      <td>1A-0006763-il</td>\n",
              "      <td>[on]</td>\n",
              "      <td>1</td>\n",
              "      <td>on</td>\n",
              "    </tr>\n",
              "    <tr>\n",
              "      <th>28393</th>\n",
              "      <td>RAINFOREST CAFE INC</td>\n",
              "      <td>RAINFOREST CAFE</td>\n",
              "      <td>D121 WOODFIELD MALL</td>\n",
              "      <td>NaN</td>\n",
              "      <td>SCHAUMBURG</td>\n",
              "      <td>IL</td>\n",
              "      <td>60173-5018</td>\n",
              "      <td>COOK</td>\n",
              "      <td>1A-0046367</td>\n",
              "      <td>1A - RETAILER</td>\n",
              "      <td>12/31/2019</td>\n",
              "      <td>26403528.0</td>\n",
              "      <td>ON-PREMISES CONSUMPTION</td>\n",
              "      <td>B. RESTAURANT</td>\n",
              "      <td>D121 WOODFIELD MALL , SCHAUMBURG, IL 60173-5018</td>\n",
              "      <td>on</td>\n",
              "      <td>60173</td>\n",
              "      <td>5018</td>\n",
              "      <td>1A</td>\n",
              "      <td>0046367</td>\n",
              "      <td>1A-0046367-il</td>\n",
              "      <td>[on]</td>\n",
              "      <td>1</td>\n",
              "      <td>on</td>\n",
              "    </tr>\n",
              "    <tr>\n",
              "      <th>18149</th>\n",
              "      <td>HOST INTERNATIONAL , INC.</td>\n",
              "      <td>CHILI'S T-I</td>\n",
              "      <td>FL 1</td>\n",
              "      <td>OHARE FIELD TERMINAL1-CONC B0</td>\n",
              "      <td>BETHESDA</td>\n",
              "      <td>IL</td>\n",
              "      <td>20817</td>\n",
              "      <td>COOK</td>\n",
              "      <td>1A-0004705</td>\n",
              "      <td>1A - RETAILER</td>\n",
              "      <td>08/31/2019</td>\n",
              "      <td>23866381.0</td>\n",
              "      <td>ON-PREMISES CONSUMPTION</td>\n",
              "      <td>P. OTHER</td>\n",
              "      <td>FL 1 OHARE FIELD TERMINAL1-CONC B0, BETHESDA, ...</td>\n",
              "      <td>on</td>\n",
              "      <td>20817</td>\n",
              "      <td>None</td>\n",
              "      <td>1A</td>\n",
              "      <td>0004705</td>\n",
              "      <td>1A-0004705-il</td>\n",
              "      <td>[on]</td>\n",
              "      <td>1</td>\n",
              "      <td>on</td>\n",
              "    </tr>\n",
              "    <tr>\n",
              "      <th>4909</th>\n",
              "      <td>DE KALB PARK DIST</td>\n",
              "      <td>DEKALB COMMUNITY CENTER AT HOPKINS PARK</td>\n",
              "      <td>HOPKINS PARK</td>\n",
              "      <td>1403 SYCAMORE ROAD</td>\n",
              "      <td>DEKALB</td>\n",
              "      <td>IL</td>\n",
              "      <td>60115</td>\n",
              "      <td>DEKALB</td>\n",
              "      <td>1A-0015676</td>\n",
              "      <td>1A - RETAILER</td>\n",
              "      <td>03/31/2020</td>\n",
              "      <td>3855228.0</td>\n",
              "      <td>ON-PREMISES CONSUMPTION</td>\n",
              "      <td>P. OTHER</td>\n",
              "      <td>HOPKINS PARK 1403 SYCAMORE ROAD, DEKALB, IL 60115</td>\n",
              "      <td>on</td>\n",
              "      <td>60115</td>\n",
              "      <td>None</td>\n",
              "      <td>1A</td>\n",
              "      <td>0015676</td>\n",
              "      <td>1A-0015676-il</td>\n",
              "      <td>[on]</td>\n",
              "      <td>1</td>\n",
              "      <td>on</td>\n",
              "    </tr>\n",
              "    <tr>\n",
              "      <th>9276</th>\n",
              "      <td>ALTO VINEYARDS LTD</td>\n",
              "      <td>ALTO VINEYARDS</td>\n",
              "      <td>HWY 127</td>\n",
              "      <td>PO BOX 51</td>\n",
              "      <td>ALTO PASS</td>\n",
              "      <td>IL</td>\n",
              "      <td>62905</td>\n",
              "      <td>UNION</td>\n",
              "      <td>1E-0020722</td>\n",
              "      <td>1E - WINE MAKER'S RETAILER</td>\n",
              "      <td>05/31/2020</td>\n",
              "      <td>20517122.0</td>\n",
              "      <td>OFF-PREMISES CONSUMPTION</td>\n",
              "      <td>P. OTHER</td>\n",
              "      <td>HWY 127 PO BOX 51, ALTO PASS, IL 62905</td>\n",
              "      <td>off</td>\n",
              "      <td>62905</td>\n",
              "      <td>None</td>\n",
              "      <td>1E</td>\n",
              "      <td>0020722</td>\n",
              "      <td>1E-0020722-il</td>\n",
              "      <td>[off]</td>\n",
              "      <td>1</td>\n",
              "      <td>off</td>\n",
              "    </tr>\n",
              "    <tr>\n",
              "      <th>21128</th>\n",
              "      <td>KROGER LP I</td>\n",
              "      <td>KROGER LTD PART I J-705</td>\n",
              "      <td>J-705</td>\n",
              "      <td>201 S MAIN ST</td>\n",
              "      <td>EAST PEORIA</td>\n",
              "      <td>IL</td>\n",
              "      <td>61611</td>\n",
              "      <td>TAZEWELL</td>\n",
              "      <td>1A-0032370</td>\n",
              "      <td>1A - RETAILER</td>\n",
              "      <td>10/31/2019</td>\n",
              "      <td>28721421.0</td>\n",
              "      <td>OFF-PREMISES CONSUMPTION</td>\n",
              "      <td>D. SUPERMARKET</td>\n",
              "      <td>J-705 201 S MAIN ST, EAST PEORIA, IL 61611</td>\n",
              "      <td>off</td>\n",
              "      <td>61611</td>\n",
              "      <td>None</td>\n",
              "      <td>1A</td>\n",
              "      <td>0032370</td>\n",
              "      <td>1A-0032370-il</td>\n",
              "      <td>[off]</td>\n",
              "      <td>1</td>\n",
              "      <td>off</td>\n",
              "    </tr>\n",
              "    <tr>\n",
              "      <th>14854</th>\n",
              "      <td>RED ROBIN INTL INC</td>\n",
              "      <td>RED ROBIN GOURMET BURGERS &amp; SPIRITS</td>\n",
              "      <td>J120 WOODFIELD MALL</td>\n",
              "      <td>NaN</td>\n",
              "      <td>SCHAUMBURG</td>\n",
              "      <td>IL</td>\n",
              "      <td>60173-5014</td>\n",
              "      <td>COOK</td>\n",
              "      <td>1A-1123092</td>\n",
              "      <td>1A - RETAILER</td>\n",
              "      <td>06/30/2020</td>\n",
              "      <td>18626165.0</td>\n",
              "      <td>ON-PREMISES CONSUMPTION</td>\n",
              "      <td>B. RESTAURANT</td>\n",
              "      <td>J120 WOODFIELD MALL , SCHAUMBURG, IL 60173-5014</td>\n",
              "      <td>on</td>\n",
              "      <td>60173</td>\n",
              "      <td>5014</td>\n",
              "      <td>1A</td>\n",
              "      <td>1123092</td>\n",
              "      <td>1A-1123092-il</td>\n",
              "      <td>[on]</td>\n",
              "      <td>1</td>\n",
              "      <td>on</td>\n",
              "    </tr>\n",
              "    <tr>\n",
              "      <th>18225</th>\n",
              "      <td>BOARD OF TRUSTEES OF ILLINOIS STATE UNIVERSITY</td>\n",
              "      <td>IL STATE UNIVERSITY/DINING</td>\n",
              "      <td>JOHN GREEN BLDG, ILLINOIS STATE UNIVERSITY</td>\n",
              "      <td>CAMPUS DINING SERVICES</td>\n",
              "      <td>NORMAL</td>\n",
              "      <td>IL</td>\n",
              "      <td>61790-2610</td>\n",
              "      <td>MCLEAN</td>\n",
              "      <td>1B-0048572</td>\n",
              "      <td>1B - CATERER</td>\n",
              "      <td>08/31/2019</td>\n",
              "      <td>9042660.0</td>\n",
              "      <td>ON-PREMISES CONSUMPTION</td>\n",
              "      <td>P. OTHER</td>\n",
              "      <td>JOHN GREEN BLDG, ILLINOIS STATE UNIVERSITY CAM...</td>\n",
              "      <td>on</td>\n",
              "      <td>61790</td>\n",
              "      <td>2610</td>\n",
              "      <td>1B</td>\n",
              "      <td>0048572</td>\n",
              "      <td>1B-0048572-il</td>\n",
              "      <td>[on]</td>\n",
              "      <td>1</td>\n",
              "      <td>on</td>\n",
              "    </tr>\n",
              "    <tr>\n",
              "      <th>7794</th>\n",
              "      <td>MERCURY SKYLINE YACHT CHARTERS INC</td>\n",
              "      <td>CHICAGO FIRST LADY</td>\n",
              "      <td>LOWER WACKER DR AT MICHIGAN</td>\n",
              "      <td>MICHIGAN AVE.</td>\n",
              "      <td>CHICAGO</td>\n",
              "      <td>IL</td>\n",
              "      <td>60601-0000</td>\n",
              "      <td>COOK</td>\n",
              "      <td>1G-0000035</td>\n",
              "      <td>1G - BOAT</td>\n",
              "      <td>04/30/2020</td>\n",
              "      <td>22786988.0</td>\n",
              "      <td>ON-PREMISES CONSUMPTION</td>\n",
              "      <td>P. OTHER</td>\n",
              "      <td>LOWER WACKER DR AT MICHIGAN MICHIGAN AVE., CHI...</td>\n",
              "      <td>on</td>\n",
              "      <td>60601</td>\n",
              "      <td>0000</td>\n",
              "      <td>1G</td>\n",
              "      <td>0000035</td>\n",
              "      <td>1G-0000035-il</td>\n",
              "      <td>[on]</td>\n",
              "      <td>1</td>\n",
              "      <td>on</td>\n",
              "    </tr>\n",
              "    <tr>\n",
              "      <th>8895</th>\n",
              "      <td>MERCURY SKYLINE YACHT CHARTERS INC</td>\n",
              "      <td>CHICAGO'S LEADING LADY</td>\n",
              "      <td>LOWER WACKER DRIVE</td>\n",
              "      <td>AT MICHIGAN AVE</td>\n",
              "      <td>CHICAGO</td>\n",
              "      <td>IL</td>\n",
              "      <td>60601-0000</td>\n",
              "      <td>COOK</td>\n",
              "      <td>1G-0100370</td>\n",
              "      <td>1G - BOAT</td>\n",
              "      <td>05/31/2020</td>\n",
              "      <td>22786988.0</td>\n",
              "      <td>ON-PREMISES CONSUMPTION</td>\n",
              "      <td>P. OTHER</td>\n",
              "      <td>LOWER WACKER DRIVE AT MICHIGAN AVE, CHICAGO, I...</td>\n",
              "      <td>on</td>\n",
              "      <td>60601</td>\n",
              "      <td>0000</td>\n",
              "      <td>1G</td>\n",
              "      <td>0100370</td>\n",
              "      <td>1G-0100370-il</td>\n",
              "      <td>[on]</td>\n",
              "      <td>1</td>\n",
              "      <td>on</td>\n",
              "    </tr>\n",
              "    <tr>\n",
              "      <th>25091</th>\n",
              "      <td>ILLINOIS AYERS OIL CO</td>\n",
              "      <td>AYERCO OF LIBERTY</td>\n",
              "      <td>MAIN &amp; PITTSFIELD STREETS</td>\n",
              "      <td>NaN</td>\n",
              "      <td>LIBERTY</td>\n",
              "      <td>IL</td>\n",
              "      <td>62347-0000</td>\n",
              "      <td>ADAMS</td>\n",
              "      <td>1A-0010177</td>\n",
              "      <td>1A - RETAILER</td>\n",
              "      <td>11/30/2019</td>\n",
              "      <td>23655.0</td>\n",
              "      <td>OFF-PREMISES CONSUMPTION</td>\n",
              "      <td>I. CONVENIENCE &amp; GAS</td>\n",
              "      <td>MAIN &amp; PITTSFIELD STREETS , LIBERTY, IL 62347-...</td>\n",
              "      <td>off</td>\n",
              "      <td>62347</td>\n",
              "      <td>0000</td>\n",
              "      <td>1A</td>\n",
              "      <td>0010177</td>\n",
              "      <td>1A-0010177-il</td>\n",
              "      <td>[off]</td>\n",
              "      <td>1</td>\n",
              "      <td>off</td>\n",
              "    </tr>\n",
              "    <tr>\n",
              "      <th>8896</th>\n",
              "      <td>MERCURY SKYLINE YACHT CHARTERS INC</td>\n",
              "      <td>CHICAGO'S FAIR LADY</td>\n",
              "      <td>MICHIGAN AVE &amp; LOWER WACKER DR</td>\n",
              "      <td>NaN</td>\n",
              "      <td>CHICAGO</td>\n",
              "      <td>IL</td>\n",
              "      <td>60601-0000</td>\n",
              "      <td>COOK</td>\n",
              "      <td>1G-0072193</td>\n",
              "      <td>1G - BOAT</td>\n",
              "      <td>05/31/2020</td>\n",
              "      <td>22786988.0</td>\n",
              "      <td>ON-PREMISES CONSUMPTION</td>\n",
              "      <td>P. OTHER</td>\n",
              "      <td>MICHIGAN AVE &amp; LOWER WACKER DR , CHICAGO, IL 6...</td>\n",
              "      <td>on</td>\n",
              "      <td>60601</td>\n",
              "      <td>0000</td>\n",
              "      <td>1G</td>\n",
              "      <td>0072193</td>\n",
              "      <td>1G-0072193-il</td>\n",
              "      <td>[on]</td>\n",
              "      <td>1</td>\n",
              "      <td>on</td>\n",
              "    </tr>\n",
              "    <tr>\n",
              "      <th>7792</th>\n",
              "      <td>MERCURY SKYLINE YACHT CHARTERS INC</td>\n",
              "      <td>CHICAGO'S LITTLE LADY</td>\n",
              "      <td>MICHIGAN AVE &amp; WACKER DR</td>\n",
              "      <td>NaN</td>\n",
              "      <td>CHICAGO</td>\n",
              "      <td>IL</td>\n",
              "      <td>60601-0000</td>\n",
              "      <td>COOK</td>\n",
              "      <td>1G-0038356</td>\n",
              "      <td>1G - BOAT</td>\n",
              "      <td>04/30/2020</td>\n",
              "      <td>22786988.0</td>\n",
              "      <td>ON-PREMISES CONSUMPTION</td>\n",
              "      <td>P. OTHER</td>\n",
              "      <td>MICHIGAN AVE &amp; WACKER DR , CHICAGO, IL 60601-0000</td>\n",
              "      <td>on</td>\n",
              "      <td>60601</td>\n",
              "      <td>0000</td>\n",
              "      <td>1G</td>\n",
              "      <td>0038356</td>\n",
              "      <td>1G-0038356-il</td>\n",
              "      <td>[on]</td>\n",
              "      <td>1</td>\n",
              "      <td>on</td>\n",
              "    </tr>\n",
              "    <tr>\n",
              "      <th>19731</th>\n",
              "      <td>SPIRIT CRUISES LLC</td>\n",
              "      <td>SPIRIT OF CHICAGO</td>\n",
              "      <td>NAVY PIER</td>\n",
              "      <td>600 E GRAND AVENUE</td>\n",
              "      <td>CHICAGO</td>\n",
              "      <td>IL</td>\n",
              "      <td>60611</td>\n",
              "      <td>COOK</td>\n",
              "      <td>1G-0000013</td>\n",
              "      <td>1G - BOAT</td>\n",
              "      <td>08/31/2019</td>\n",
              "      <td>22245499.0</td>\n",
              "      <td>ON-PREMISES CONSUMPTION</td>\n",
              "      <td>P. OTHER</td>\n",
              "      <td>NAVY PIER 600 E GRAND AVENUE, CHICAGO, IL 60611</td>\n",
              "      <td>on</td>\n",
              "      <td>60611</td>\n",
              "      <td>None</td>\n",
              "      <td>1G</td>\n",
              "      <td>0000013</td>\n",
              "      <td>1G-0000013-il</td>\n",
              "      <td>[on]</td>\n",
              "      <td>1</td>\n",
              "      <td>on</td>\n",
              "    </tr>\n",
              "    <tr>\n",
              "      <th>9233</th>\n",
              "      <td>SHORELINE MARINE CO</td>\n",
              "      <td>BRIGHT STAR</td>\n",
              "      <td>OGDEN SLIP</td>\n",
              "      <td>NAVY PIER</td>\n",
              "      <td>CHICAGO</td>\n",
              "      <td>IL</td>\n",
              "      <td>60611-0000</td>\n",
              "      <td>COOK</td>\n",
              "      <td>1G-0057757</td>\n",
              "      <td>1G - BOAT</td>\n",
              "      <td>05/31/2020</td>\n",
              "      <td>10208054.0</td>\n",
              "      <td>ON-PREMISES CONSUMPTION</td>\n",
              "      <td>P. OTHER</td>\n",
              "      <td>OGDEN SLIP NAVY PIER, CHICAGO, IL 60611-0000</td>\n",
              "      <td>on</td>\n",
              "      <td>60611</td>\n",
              "      <td>0000</td>\n",
              "      <td>1G</td>\n",
              "      <td>0057757</td>\n",
              "      <td>1G-0057757-il</td>\n",
              "      <td>[on]</td>\n",
              "      <td>1</td>\n",
              "      <td>on</td>\n",
              "    </tr>\n",
              "    <tr>\n",
              "      <th>11898</th>\n",
              "      <td>SHORELINE MARINE CO</td>\n",
              "      <td>VOYAGEUR</td>\n",
              "      <td>OGDEN SLIP</td>\n",
              "      <td>NaN</td>\n",
              "      <td>CHICAGO</td>\n",
              "      <td>IL</td>\n",
              "      <td>60611</td>\n",
              "      <td>COOK</td>\n",
              "      <td>1G-0088373</td>\n",
              "      <td>1G - BOAT</td>\n",
              "      <td>06/30/2020</td>\n",
              "      <td>10208054.0</td>\n",
              "      <td>ON-PREMISES CONSUMPTION</td>\n",
              "      <td>P. OTHER</td>\n",
              "      <td>OGDEN SLIP , CHICAGO, IL 60611</td>\n",
              "      <td>on</td>\n",
              "      <td>60611</td>\n",
              "      <td>None</td>\n",
              "      <td>1G</td>\n",
              "      <td>0088373</td>\n",
              "      <td>1G-0088373-il</td>\n",
              "      <td>[on]</td>\n",
              "      <td>1</td>\n",
              "      <td>on</td>\n",
              "    </tr>\n",
              "    <tr>\n",
              "      <th>5751</th>\n",
              "      <td>SHORELINE MARINE CO</td>\n",
              "      <td>STAR OF CHICAGO</td>\n",
              "      <td>OGDEN SLIP</td>\n",
              "      <td>NaN</td>\n",
              "      <td>CHICAGO</td>\n",
              "      <td>IL</td>\n",
              "      <td>60611-0000</td>\n",
              "      <td>COOK</td>\n",
              "      <td>1G-0056987</td>\n",
              "      <td>1G - BOAT</td>\n",
              "      <td>04/30/2020</td>\n",
              "      <td>10208054.0</td>\n",
              "      <td>ON-PREMISES CONSUMPTION</td>\n",
              "      <td>P. OTHER</td>\n",
              "      <td>OGDEN SLIP , CHICAGO, IL 60611-0000</td>\n",
              "      <td>on</td>\n",
              "      <td>60611</td>\n",
              "      <td>0000</td>\n",
              "      <td>1G</td>\n",
              "      <td>0056987</td>\n",
              "      <td>1G-0056987-il</td>\n",
              "      <td>[on]</td>\n",
              "      <td>1</td>\n",
              "      <td>on</td>\n",
              "    </tr>\n",
              "    <tr>\n",
              "      <th>21177</th>\n",
              "      <td>SHORELINE MARINE CO</td>\n",
              "      <td>EVENING STAR</td>\n",
              "      <td>OGDEN SLIP</td>\n",
              "      <td>NAVY PIER</td>\n",
              "      <td>CHICAGO</td>\n",
              "      <td>IL</td>\n",
              "      <td>60611-0000</td>\n",
              "      <td>COOK</td>\n",
              "      <td>1G-0055382</td>\n",
              "      <td>1G - BOAT</td>\n",
              "      <td>10/31/2019</td>\n",
              "      <td>10208054.0</td>\n",
              "      <td>ON-PREMISES CONSUMPTION</td>\n",
              "      <td>P. OTHER</td>\n",
              "      <td>OGDEN SLIP NAVY PIER, CHICAGO, IL 60611-0000</td>\n",
              "      <td>on</td>\n",
              "      <td>60611</td>\n",
              "      <td>0000</td>\n",
              "      <td>1G</td>\n",
              "      <td>0055382</td>\n",
              "      <td>1G-0055382-il</td>\n",
              "      <td>[on]</td>\n",
              "      <td>1</td>\n",
              "      <td>on</td>\n",
              "    </tr>\n",
              "    <tr>\n",
              "      <th>11899</th>\n",
              "      <td>SHORELINE MARINE CO</td>\n",
              "      <td>BLUE DOG</td>\n",
              "      <td>OGDEN SLIP</td>\n",
              "      <td>NaN</td>\n",
              "      <td>CHICAGO</td>\n",
              "      <td>IL</td>\n",
              "      <td>60611-0000</td>\n",
              "      <td>COOK</td>\n",
              "      <td>1G-0088374</td>\n",
              "      <td>1G - BOAT</td>\n",
              "      <td>06/30/2020</td>\n",
              "      <td>10208054.0</td>\n",
              "      <td>ON-PREMISES CONSUMPTION</td>\n",
              "      <td>P. OTHER</td>\n",
              "      <td>OGDEN SLIP , CHICAGO, IL 60611-0000</td>\n",
              "      <td>on</td>\n",
              "      <td>60611</td>\n",
              "      <td>0000</td>\n",
              "      <td>1G</td>\n",
              "      <td>0088374</td>\n",
              "      <td>1G-0088374-il</td>\n",
              "      <td>[on]</td>\n",
              "      <td>1</td>\n",
              "      <td>on</td>\n",
              "    </tr>\n",
              "    <tr>\n",
              "      <th>9849</th>\n",
              "      <td>MARSHALL FIELDS CHICAGO INC</td>\n",
              "      <td>FRONTERA FRESCO</td>\n",
              "      <td>ONE OLD ORCHARD SHOPPING CENTE</td>\n",
              "      <td>MACY'S</td>\n",
              "      <td>SKOKIE</td>\n",
              "      <td>IL</td>\n",
              "      <td>60076-0000</td>\n",
              "      <td>COOK</td>\n",
              "      <td>1A-0023971</td>\n",
              "      <td>1A - RETAILER</td>\n",
              "      <td>04/30/2020</td>\n",
              "      <td>16386361.0</td>\n",
              "      <td>OFF-PREMISES CONSUMPTION</td>\n",
              "      <td>F. DEPARTMENT STORE</td>\n",
              "      <td>ONE OLD ORCHARD SHOPPING CENTE MACY'S, SKOKIE,...</td>\n",
              "      <td>off</td>\n",
              "      <td>60076</td>\n",
              "      <td>0000</td>\n",
              "      <td>1A</td>\n",
              "      <td>0023971</td>\n",
              "      <td>1A-0023971-il</td>\n",
              "      <td>[off]</td>\n",
              "      <td>1</td>\n",
              "      <td>off</td>\n",
              "    </tr>\n",
              "    <tr>\n",
              "      <th>902</th>\n",
              "      <td>HIGHLAND PARK CVS LLC</td>\n",
              "      <td>CVS/ PHARMACY #3188</td>\n",
              "      <td>ONE SOUTH COMMERCIAL</td>\n",
              "      <td>NaN</td>\n",
              "      <td>HARRISBURG</td>\n",
              "      <td>IL</td>\n",
              "      <td>62946</td>\n",
              "      <td>SALINE</td>\n",
              "      <td>1A-0092442</td>\n",
              "      <td>1A - RETAILER</td>\n",
              "      <td>01/31/2020</td>\n",
              "      <td>33817006.0</td>\n",
              "      <td>OFF-PREMISES CONSUMPTION</td>\n",
              "      <td>A. DRUG STORE/PHARMACY</td>\n",
              "      <td>ONE SOUTH COMMERCIAL , HARRISBURG, IL 62946</td>\n",
              "      <td>off</td>\n",
              "      <td>62946</td>\n",
              "      <td>None</td>\n",
              "      <td>1A</td>\n",
              "      <td>0092442</td>\n",
              "      <td>1A-0092442-il</td>\n",
              "      <td>[off]</td>\n",
              "      <td>1</td>\n",
              "      <td>off</td>\n",
              "    </tr>\n",
              "    <tr>\n",
              "      <th>14558</th>\n",
              "      <td>ALTON POST 1308, VETERANS OF FOREIGN WARS OF T...</td>\n",
              "      <td>ALTON VFW POST 1308</td>\n",
              "      <td>PO BOX 3071</td>\n",
              "      <td>4445 ALBY ST</td>\n",
              "      <td>ALTON</td>\n",
              "      <td>IL</td>\n",
              "      <td>62002-9171</td>\n",
              "      <td>MADISON</td>\n",
              "      <td>1A-0094750</td>\n",
              "      <td>1A - RETAILER</td>\n",
              "      <td>06/30/2020</td>\n",
              "      <td>9030107.0</td>\n",
              "      <td>ON-PREMISES CONSUMPTION</td>\n",
              "      <td>P. OTHER</td>\n",
              "      <td>PO BOX 3071 4445 ALBY ST, ALTON, IL 62002-9171</td>\n",
              "      <td>on</td>\n",
              "      <td>62002</td>\n",
              "      <td>9171</td>\n",
              "      <td>1A</td>\n",
              "      <td>0094750</td>\n",
              "      <td>1A-0094750-il</td>\n",
              "      <td>[on]</td>\n",
              "      <td>1</td>\n",
              "      <td>on</td>\n",
              "    </tr>\n",
              "    <tr>\n",
              "      <th>21131</th>\n",
              "      <td>KROGER LP I</td>\n",
              "      <td>KROGER L-660</td>\n",
              "      <td>R R 5 BOX 1</td>\n",
              "      <td>550 E INDUSTRIAL PARK RD</td>\n",
              "      <td>MURPHYSBORO</td>\n",
              "      <td>IL</td>\n",
              "      <td>62966</td>\n",
              "      <td>JACKSON</td>\n",
              "      <td>1A-0032327</td>\n",
              "      <td>1A - RETAILER</td>\n",
              "      <td>10/31/2019</td>\n",
              "      <td>28721421.0</td>\n",
              "      <td>OFF-PREMISES CONSUMPTION</td>\n",
              "      <td>D. SUPERMARKET</td>\n",
              "      <td>R R 5 BOX 1 550 E INDUSTRIAL PARK RD, MURPHYSB...</td>\n",
              "      <td>off</td>\n",
              "      <td>62966</td>\n",
              "      <td>None</td>\n",
              "      <td>1A</td>\n",
              "      <td>0032327</td>\n",
              "      <td>1A-0032327-il</td>\n",
              "      <td>[off]</td>\n",
              "      <td>1</td>\n",
              "      <td>off</td>\n",
              "    </tr>\n",
              "    <tr>\n",
              "      <th>951</th>\n",
              "      <td>LEISERV, LLC</td>\n",
              "      <td>BOWLERO-RANDALL ROAD</td>\n",
              "      <td>RANDALL ROAD</td>\n",
              "      <td>1611 S RANDALL ROAD</td>\n",
              "      <td>ALGONQUIN</td>\n",
              "      <td>IL</td>\n",
              "      <td>60102</td>\n",
              "      <td>KANE</td>\n",
              "      <td>1A-0080875</td>\n",
              "      <td>1A - RETAILER</td>\n",
              "      <td>01/31/2020</td>\n",
              "      <td>19359365.0</td>\n",
              "      <td>ON-PREMISES CONSUMPTION</td>\n",
              "      <td>P. OTHER</td>\n",
              "      <td>RANDALL ROAD 1611 S RANDALL ROAD, ALGONQUIN, I...</td>\n",
              "      <td>on</td>\n",
              "      <td>60102</td>\n",
              "      <td>None</td>\n",
              "      <td>1A</td>\n",
              "      <td>0080875</td>\n",
              "      <td>1A-0080875-il</td>\n",
              "      <td>[on]</td>\n",
              "      <td>1</td>\n",
              "      <td>on</td>\n",
              "    </tr>\n",
              "    <tr>\n",
              "      <th>21140</th>\n",
              "      <td>KROGER LP I</td>\n",
              "      <td>KROGER #642</td>\n",
              "      <td>RR #4 US HWY 45N</td>\n",
              "      <td>NaN</td>\n",
              "      <td>HARRISBURG</td>\n",
              "      <td>IL</td>\n",
              "      <td>62946</td>\n",
              "      <td>SALINE</td>\n",
              "      <td>1A-0032346</td>\n",
              "      <td>1A - RETAILER</td>\n",
              "      <td>10/31/2019</td>\n",
              "      <td>28721421.0</td>\n",
              "      <td>OFF-PREMISES CONSUMPTION</td>\n",
              "      <td>P. OTHER</td>\n",
              "      <td>RR #4 US HWY 45N , HARRISBURG, IL 62946</td>\n",
              "      <td>off</td>\n",
              "      <td>62946</td>\n",
              "      <td>None</td>\n",
              "      <td>1A</td>\n",
              "      <td>0032346</td>\n",
              "      <td>1A-0032346-il</td>\n",
              "      <td>[off]</td>\n",
              "      <td>1</td>\n",
              "      <td>off</td>\n",
              "    </tr>\n",
              "    <tr>\n",
              "      <th>3289</th>\n",
              "      <td>STARVED ROCK LODGE AND CONVENTION CENTER LTD</td>\n",
              "      <td>STARVED ROCK LODGE &amp; CONF CTR</td>\n",
              "      <td>RT 178 &amp; RT 71</td>\n",
              "      <td>NaN</td>\n",
              "      <td>UTICA</td>\n",
              "      <td>IL</td>\n",
              "      <td>61373-0000</td>\n",
              "      <td>LA SALLE</td>\n",
              "      <td>1A-0016058</td>\n",
              "      <td>1A - RETAILER</td>\n",
              "      <td>03/31/2020</td>\n",
              "      <td>21030200.0</td>\n",
              "      <td>CONSUMPTION COMBINATION</td>\n",
              "      <td>B. RESTAURANT</td>\n",
              "      <td>RT 178 &amp; RT 71 , UTICA, IL 61373-0000</td>\n",
              "      <td>off|on</td>\n",
              "      <td>61373</td>\n",
              "      <td>0000</td>\n",
              "      <td>1A</td>\n",
              "      <td>0016058</td>\n",
              "      <td>1A-0016058-il</td>\n",
              "      <td>[off|on]</td>\n",
              "      <td>1</td>\n",
              "      <td>off|on</td>\n",
              "    </tr>\n",
              "    <tr>\n",
              "      <th>25096</th>\n",
              "      <td>JOSEPH F BOENTE SONS INC</td>\n",
              "      <td>BOENTE SHELL</td>\n",
              "      <td>RT 48 &amp; 127</td>\n",
              "      <td>NaN</td>\n",
              "      <td>RAYMOND</td>\n",
              "      <td>IL</td>\n",
              "      <td>62560-0000</td>\n",
              "      <td>MONTGOMERY</td>\n",
              "      <td>1A-0010319</td>\n",
              "      <td>1A - RETAILER</td>\n",
              "      <td>10/31/2019</td>\n",
              "      <td>9181288.0</td>\n",
              "      <td>OFF-PREMISES CONSUMPTION</td>\n",
              "      <td>C. CONVENIENCE</td>\n",
              "      <td>RT 48 &amp; 127 , RAYMOND, IL 62560-0000</td>\n",
              "      <td>off</td>\n",
              "      <td>62560</td>\n",
              "      <td>0000</td>\n",
              "      <td>1A</td>\n",
              "      <td>0010319</td>\n",
              "      <td>1A-0010319-il</td>\n",
              "      <td>[off]</td>\n",
              "      <td>1</td>\n",
              "      <td>off</td>\n",
              "    </tr>\n",
              "    <tr>\n",
              "      <th>18534</th>\n",
              "      <td>HOST INTERNATIONAL , INC.</td>\n",
              "      <td>PUBLICAN TAVERN K1</td>\n",
              "      <td>TERMINAL 1-CONCB02</td>\n",
              "      <td>11601 W TOUHY</td>\n",
              "      <td>CHICAGO</td>\n",
              "      <td>IL</td>\n",
              "      <td>60666-0000</td>\n",
              "      <td>COOK</td>\n",
              "      <td>1A-0004704</td>\n",
              "      <td>1A - RETAILER</td>\n",
              "      <td>08/31/2019</td>\n",
              "      <td>23866381.0</td>\n",
              "      <td>ON-PREMISES CONSUMPTION</td>\n",
              "      <td>P. OTHER</td>\n",
              "      <td>TERMINAL 1-CONCB02 11601 W TOUHY, CHICAGO, IL ...</td>\n",
              "      <td>on</td>\n",
              "      <td>60666</td>\n",
              "      <td>0000</td>\n",
              "      <td>1A</td>\n",
              "      <td>0004704</td>\n",
              "      <td>1A-0004704-il</td>\n",
              "      <td>[on]</td>\n",
              "      <td>1</td>\n",
              "      <td>on</td>\n",
              "    </tr>\n",
              "    <tr>\n",
              "      <th>25092</th>\n",
              "      <td>ILLINOIS AYERS OIL CO</td>\n",
              "      <td>AYERCO CONVENIENCE CENTERS</td>\n",
              "      <td>US HWY 34 NE 34-10-6</td>\n",
              "      <td>NaN</td>\n",
              "      <td>CARMAN</td>\n",
              "      <td>IL</td>\n",
              "      <td>61425-0000</td>\n",
              "      <td>HENDERSON</td>\n",
              "      <td>1A-0010176</td>\n",
              "      <td>1A - RETAILER</td>\n",
              "      <td>11/30/2019</td>\n",
              "      <td>23655.0</td>\n",
              "      <td>OFF-PREMISES CONSUMPTION</td>\n",
              "      <td>I. CONVENIENCE &amp; GAS</td>\n",
              "      <td>US HWY 34 NE 34-10-6 , CARMAN, IL 61425-0000</td>\n",
              "      <td>off</td>\n",
              "      <td>61425</td>\n",
              "      <td>0000</td>\n",
              "      <td>1A</td>\n",
              "      <td>0010176</td>\n",
              "      <td>1A-0010176-il</td>\n",
              "      <td>[off]</td>\n",
              "      <td>1</td>\n",
              "      <td>off</td>\n",
              "    </tr>\n",
              "  </tbody>\n",
              "</table>\n",
              "<p>6521 rows × 24 columns</p>\n",
              "</div>"
            ],
            "text/plain": [
              "                                               Corp_Name  \\\n",
              "3212                                          FKG OIL CO   \n",
              "21143                                        KROGER LP I   \n",
              "21891                             PAR-A-DICE GAMING CORP   \n",
              "24531                       RAVANELLI EDWARDS & BUSH INC   \n",
              "961                                    NU BOWL LANES INC   \n",
              "28153                                        WALGREEN CO   \n",
              "27519                                    MINIT MART, LLC   \n",
              "12563                                    WESTERN OIL INC   \n",
              "19966                                 C C FOOD MARTS INC   \n",
              "23086                              COMPASS GROUP USA INC   \n",
              "3682                                         WALGREEN CO   \n",
              "11203                              GRAHAM ENTERPRISE INC   \n",
              "10002               MC CORMICK & SCHMICK RESTAURANT CORP   \n",
              "3525                                     EXPRESSLANE INC   \n",
              "13960                          OVATIONS FOOD SERVICES LP   \n",
              "16024                                         FKG OIL CO   \n",
              "6634                                    UNIVERSITY OF IL   \n",
              "29026                               ARAMARK SERVICES INC   \n",
              "5265                         MIDWEST PROPERTY MANAGEMENT   \n",
              "12186                              HIGHLAND PARK CVS LLC   \n",
              "27531                      NEW LENOX COMMUNITY PARK DIST   \n",
              "11148                  BOND DRUG COMPANY OF ILLINOIS LLC   \n",
              "2741                        WHOLE FOODS MARKET GROUP INC   \n",
              "2740                        WHOLE FOODS MARKET GROUP INC   \n",
              "23336                                GRAHAM C-STORES CO.   \n",
              "3408                           RESTAURANT ASSOCIATES LLC   \n",
              "19153                        MARSHALL FIELDS CHICAGO INC   \n",
              "14965                        MARSHALL FIELDS CHICAGO INC   \n",
              "18627                         EAGL ILLINOIS BEVERAGE LLC   \n",
              "18674              SMASHBURGER ACQUISITION - CHICAGO LLC   \n",
              "...                                                  ...   \n",
              "17092                              COSTCO WHOLESALE CORP   \n",
              "20655                          MONICAL PIZZA CORPORATION   \n",
              "28393                                RAINFOREST CAFE INC   \n",
              "18149                          HOST INTERNATIONAL , INC.   \n",
              "4909                                   DE KALB PARK DIST   \n",
              "9276                                  ALTO VINEYARDS LTD   \n",
              "21128                                        KROGER LP I   \n",
              "14854                                 RED ROBIN INTL INC   \n",
              "18225     BOARD OF TRUSTEES OF ILLINOIS STATE UNIVERSITY   \n",
              "7794                  MERCURY SKYLINE YACHT CHARTERS INC   \n",
              "8895                  MERCURY SKYLINE YACHT CHARTERS INC   \n",
              "25091                              ILLINOIS AYERS OIL CO   \n",
              "8896                  MERCURY SKYLINE YACHT CHARTERS INC   \n",
              "7792                  MERCURY SKYLINE YACHT CHARTERS INC   \n",
              "19731                                 SPIRIT CRUISES LLC   \n",
              "9233                                 SHORELINE MARINE CO   \n",
              "11898                                SHORELINE MARINE CO   \n",
              "5751                                 SHORELINE MARINE CO   \n",
              "21177                                SHORELINE MARINE CO   \n",
              "11899                                SHORELINE MARINE CO   \n",
              "9849                         MARSHALL FIELDS CHICAGO INC   \n",
              "902                                HIGHLAND PARK CVS LLC   \n",
              "14558  ALTON POST 1308, VETERANS OF FOREIGN WARS OF T...   \n",
              "21131                                        KROGER LP I   \n",
              "951                                         LEISERV, LLC   \n",
              "21140                                        KROGER LP I   \n",
              "3289        STARVED ROCK LODGE AND CONVENTION CENTER LTD   \n",
              "25096                           JOSEPH F BOENTE SONS INC   \n",
              "18534                          HOST INTERNATIONAL , INC.   \n",
              "25092                              ILLINOIS AYERS OIL CO   \n",
              "\n",
              "                                       DBA_Name  \\\n",
              "3212                       CLUB CENTRE MOTOMART   \n",
              "21143                              KROGER J-657   \n",
              "21891               PAR-A-DICE RIVERBOAT CASINO   \n",
              "24531                    RAVANELLI'S RESTAURANT   \n",
              "961                          AIRPORT PLAZA BOWL   \n",
              "28153                          WALGREENS #09922   \n",
              "27519                           MINIT MART, LLC   \n",
              "12563                            PETRO MART #76   \n",
              "19966                             C C FOOD MART   \n",
              "23086            CHARTWELLS @ DEPAUL UNIVERSITY   \n",
              "3682                           WALGREENS #13827   \n",
              "11203      OAKBROOK TERRACE QUIK SHOP (GEI-116)   \n",
              "10002  MCCORMICK & SCHMICK'S SEAFOOD RESTAURANT   \n",
              "3525                               EXPRESS LANE   \n",
              "13960       OVATIONS FOOD SERVICES-COLLINSVILLE   \n",
              "16024                          DUQUOIN MOTOMART   \n",
              "6634              UNIVERSITY OF ILLINOIS-PEORIA   \n",
              "29026                        ARMARK CORPORATION   \n",
              "5265                      ILLINOIS BEACH RESORT   \n",
              "12186                        CVS PHARMACY #8512   \n",
              "27531                    LIONS COMMUNITY CENTER   \n",
              "11148                          WALGREENS #04146   \n",
              "2741                         WHOLE FOODS MARKET   \n",
              "2740                         WHOLE FOODS MARKET   \n",
              "23336             GRAHAM C-STORES - LAKE ZURICH   \n",
              "3408                           RA @ UBS CHICAGO   \n",
              "19153                                    MACY'S   \n",
              "14965                           FRONTERA FRESCO   \n",
              "18627                RUFFLED FEATHERS GOLF CLUB   \n",
              "18674                         SMASHBURGER #1145   \n",
              "...                                         ...   \n",
              "17092                     COSTCO WHOLESALE #779   \n",
              "20655                           MONICAL'S PIZZA   \n",
              "28393                           RAINFOREST CAFE   \n",
              "18149                               CHILI'S T-I   \n",
              "4909    DEKALB COMMUNITY CENTER AT HOPKINS PARK   \n",
              "9276                             ALTO VINEYARDS   \n",
              "21128                   KROGER LTD PART I J-705   \n",
              "14854       RED ROBIN GOURMET BURGERS & SPIRITS   \n",
              "18225                IL STATE UNIVERSITY/DINING   \n",
              "7794                         CHICAGO FIRST LADY   \n",
              "8895                     CHICAGO'S LEADING LADY   \n",
              "25091                         AYERCO OF LIBERTY   \n",
              "8896                        CHICAGO'S FAIR LADY   \n",
              "7792                      CHICAGO'S LITTLE LADY   \n",
              "19731                         SPIRIT OF CHICAGO   \n",
              "9233                                BRIGHT STAR   \n",
              "11898                                  VOYAGEUR   \n",
              "5751                            STAR OF CHICAGO   \n",
              "21177                              EVENING STAR   \n",
              "11899                                  BLUE DOG   \n",
              "9849                            FRONTERA FRESCO   \n",
              "902                         CVS/ PHARMACY #3188   \n",
              "14558                       ALTON VFW POST 1308   \n",
              "21131                              KROGER L-660   \n",
              "951                        BOWLERO-RANDALL ROAD   \n",
              "21140                               KROGER #642   \n",
              "3289              STARVED ROCK LODGE & CONF CTR   \n",
              "25096                              BOENTE SHELL   \n",
              "18534                        PUBLICAN TAVERN K1   \n",
              "25092                AYERCO CONVENIENCE CENTERS   \n",
              "\n",
              "                                      DBA_Street1  \\\n",
              "3212                         #1 CLUB CENTRE COURT   \n",
              "21143                #20 CHERRY TREE SHOPPING CTR   \n",
              "21891                          #21 BLACKJACK BLVD   \n",
              "24531                         #3 AMERICAN VILLAGE   \n",
              "961                          #4 ERWIN PLEGGE BLVD   \n",
              "28153                          #4 S COMMERCIAL ST   \n",
              "27519                                1 CARRIER LN   \n",
              "12563                               1 CORVETTE DR   \n",
              "19966                             1 E BROADWAY ST   \n",
              "23086                            1 E JACKSON BLVD   \n",
              "3682                             1 E OGDEN AVENUE   \n",
              "11203                            1 E ROOSEVELT RD   \n",
              "10002                               1 E WACKER DR   \n",
              "3525                               1 EAST HITT ST   \n",
              "13960                                1 GATEWAY DR   \n",
              "16024                              1 HOWELLMAN DR   \n",
              "6634                                  1 ILLINI DR   \n",
              "29026                             1 JOHN DEERE PL   \n",
              "5265                              1 LAKE FRONT DR   \n",
              "12186                               1 MAIN STREET   \n",
              "27531                                  1 MANOR DR   \n",
              "11148                             1 N ELMHURST RD   \n",
              "2741                               1 N HALSTED ST   \n",
              "2740                           1 N HALSTED STREET   \n",
              "23336                               1 N RAND ROAD   \n",
              "3408                                1 N WACKER DR   \n",
              "19153                              1 OAKBROOK CTR   \n",
              "14965                        1 OLD ORCHARD CENTER   \n",
              "18627                               1 PETE DYE DR   \n",
              "18674                              1 RICE LAKE SQ   \n",
              "...                                           ...   \n",
              "17092                           999 N ELMHURST RD   \n",
              "20655                        CHERRY TREE SHPG CTR   \n",
              "28393                         D121 WOODFIELD MALL   \n",
              "18149                                        FL 1   \n",
              "4909                                 HOPKINS PARK   \n",
              "9276                                      HWY 127   \n",
              "21128                                       J-705   \n",
              "14854                         J120 WOODFIELD MALL   \n",
              "18225  JOHN GREEN BLDG, ILLINOIS STATE UNIVERSITY   \n",
              "7794                  LOWER WACKER DR AT MICHIGAN   \n",
              "8895                           LOWER WACKER DRIVE   \n",
              "25091                   MAIN & PITTSFIELD STREETS   \n",
              "8896               MICHIGAN AVE & LOWER WACKER DR   \n",
              "7792                     MICHIGAN AVE & WACKER DR   \n",
              "19731                                   NAVY PIER   \n",
              "9233                                   OGDEN SLIP   \n",
              "11898                                  OGDEN SLIP   \n",
              "5751                                   OGDEN SLIP   \n",
              "21177                                  OGDEN SLIP   \n",
              "11899                                  OGDEN SLIP   \n",
              "9849               ONE OLD ORCHARD SHOPPING CENTE   \n",
              "902                          ONE SOUTH COMMERCIAL   \n",
              "14558                                 PO BOX 3071   \n",
              "21131                                 R R 5 BOX 1   \n",
              "951                                  RANDALL ROAD   \n",
              "21140                            RR #4 US HWY 45N   \n",
              "3289                               RT 178 & RT 71   \n",
              "25096                                 RT 48 & 127   \n",
              "18534                          TERMINAL 1-CONCB02   \n",
              "25092                        US HWY 34 NE 34-10-6   \n",
              "\n",
              "                         DBA_Street2          DBA_City DBA_State     DBA_Zip  \\\n",
              "3212                             NaN      EDWARDSVILLE        IL       62025   \n",
              "21143                            NaN        WASHINGTON        IL       61571   \n",
              "21891                            NaN       EAST PEORIA        IL  61611-0000   \n",
              "24531                            NaN      GRANITE CITY        IL       62040   \n",
              "961                              NaN          BETHALTO        IL  62010-0000   \n",
              "28153                            NaN        HARRISBURG        IL       62946   \n",
              "27519                            NaN            WENONA        IL  61377-9005   \n",
              "12563                            NaN        LITCHFIELD        IL  62056-1090   \n",
              "19966                            NaN           TRENTON        IL       62293   \n",
              "23086                            NaN           CHICAGO        IL  60604-2201   \n",
              "3682                             NaN          WESTMONT        IL       60559   \n",
              "11203                            NaN  OAKBROOK TERRACE        IL  60181-3513   \n",
              "10002                            NaN           CHICAGO        IL  60601-1642   \n",
              "3525                             NaN        MT. MORRIS        IL       61054   \n",
              "13960                            NaN      COLLINSVILLE        IL  62234-6107   \n",
              "16024                            NaN          DU QUOIN        IL  62832-2463   \n",
              "6634                             NaN            PEORIA        IL  61605-2576   \n",
              "29026                            NaN            MOLINE        IL  61265-8010   \n",
              "5265                             NaN              ZION        IL  60099-0000   \n",
              "12186                            NaN       PARK FOREST        IL       60466   \n",
              "27531                            NaN         NEW LENOX        IL  60451-2930   \n",
              "11148                            NaN  PROSPECT HEIGHTS        IL  60070-1509   \n",
              "2741                             NaN           CHICAGO        IL  60661-2176   \n",
              "2740                       1ST FLOOR           CHICAGO        IL  60661-0000   \n",
              "23336                            NaN       LAKE ZURICH        IL  60047-2263   \n",
              "3408                             NaN           CHICAGO        IL  60606-2874   \n",
              "19153                            NaN         OAK BROOK        IL  60523-1809   \n",
              "14965                            NaN            SKOKIE        IL  60077-0000   \n",
              "18627                            NaN            LEMONT        IL  60439-7742   \n",
              "18674                            NaN           WHEATON        IL  60189-2132   \n",
              "...                              ...               ...       ...         ...   \n",
              "17092                            NaN    MOUNT PROSPECT        IL  60056-1135   \n",
              "20655                         #16-18        WASHINGTON        IL       61571   \n",
              "28393                            NaN        SCHAUMBURG        IL  60173-5018   \n",
              "18149  OHARE FIELD TERMINAL1-CONC B0          BETHESDA        IL       20817   \n",
              "4909              1403 SYCAMORE ROAD            DEKALB        IL       60115   \n",
              "9276                       PO BOX 51         ALTO PASS        IL       62905   \n",
              "21128                  201 S MAIN ST       EAST PEORIA        IL       61611   \n",
              "14854                            NaN        SCHAUMBURG        IL  60173-5014   \n",
              "18225         CAMPUS DINING SERVICES            NORMAL        IL  61790-2610   \n",
              "7794                   MICHIGAN AVE.           CHICAGO        IL  60601-0000   \n",
              "8895                 AT MICHIGAN AVE           CHICAGO        IL  60601-0000   \n",
              "25091                            NaN           LIBERTY        IL  62347-0000   \n",
              "8896                             NaN           CHICAGO        IL  60601-0000   \n",
              "7792                             NaN           CHICAGO        IL  60601-0000   \n",
              "19731             600 E GRAND AVENUE           CHICAGO        IL       60611   \n",
              "9233                       NAVY PIER           CHICAGO        IL  60611-0000   \n",
              "11898                            NaN           CHICAGO        IL       60611   \n",
              "5751                             NaN           CHICAGO        IL  60611-0000   \n",
              "21177                      NAVY PIER           CHICAGO        IL  60611-0000   \n",
              "11899                            NaN           CHICAGO        IL  60611-0000   \n",
              "9849                          MACY'S            SKOKIE        IL  60076-0000   \n",
              "902                              NaN        HARRISBURG        IL       62946   \n",
              "14558                   4445 ALBY ST             ALTON        IL  62002-9171   \n",
              "21131       550 E INDUSTRIAL PARK RD       MURPHYSBORO        IL       62966   \n",
              "951              1611 S RANDALL ROAD         ALGONQUIN        IL       60102   \n",
              "21140                            NaN        HARRISBURG        IL       62946   \n",
              "3289                             NaN             UTICA        IL  61373-0000   \n",
              "25096                            NaN           RAYMOND        IL  62560-0000   \n",
              "18534                  11601 W TOUHY           CHICAGO        IL  60666-0000   \n",
              "25092                            NaN            CARMAN        IL  61425-0000   \n",
              "\n",
              "        DBA_County      Lic_No                License Type Expiration_Date  \\\n",
              "3212       MADISON  1A-0023824               1A - RETAILER      03/31/2020   \n",
              "21143     TAZEWELL  1A-0032377               1A - RETAILER      10/31/2019   \n",
              "21891     TAZEWELL  1G-0000015                   1G - BOAT      09/30/2019   \n",
              "24531      MADISON  1A-0036642               1A - RETAILER      10/31/2019   \n",
              "961        MADISON  1A-0092372               1A - RETAILER      01/31/2020   \n",
              "28153       SALINE  1A-0091938               1A - RETAILER      12/31/2019   \n",
              "27519     MARSHALL  1A-1140261               1A - RETAILER      11/30/2019   \n",
              "12563   MONTGOMERY  1A-0094500               1A - RETAILER      06/30/2020   \n",
              "19966      CLINTON  1A-0005931               1A - RETAILER      09/30/2019   \n",
              "23086         COOK  1B-0055500                1B - CATERER      10/31/2019   \n",
              "3682        DUPAGE  1A-0098466               1A - RETAILER      03/31/2020   \n",
              "11203       DUPAGE  1A-0105571               1A - RETAILER      05/31/2020   \n",
              "10002         COOK  1A-0072674               1A - RETAILER      05/31/2020   \n",
              "3525          OGLE  1A-0075467               1A - RETAILER      02/29/2020   \n",
              "13960      MADISON  1A-1122828               1A - RETAILER      05/31/2020   \n",
              "16024        PERRY  1A-0002865               1A - RETAILER      07/31/2019   \n",
              "6634        PEORIA  1B-0076048                1B - CATERER      02/29/2020   \n",
              "29026  ROCK ISLAND  1A-0050341               1A - RETAILER      12/31/2019   \n",
              "5265          LAKE  1A-0029477               1A - RETAILER      03/31/2020   \n",
              "12186         COOK  1A-0076971               1A - RETAILER      05/31/2020   \n",
              "27531         WILL  1A-0011818               1A - RETAILER      12/31/2019   \n",
              "11148         COOK  1A-0100007               1A - RETAILER      05/31/2020   \n",
              "2741          COOK  1A-1125419               1A - RETAILER      02/29/2020   \n",
              "2740          COOK  1A-1125418               1A - RETAILER      02/29/2020   \n",
              "23336         LAKE  1A-0086118               1A - RETAILER      11/30/2019   \n",
              "3408          COOK  1B-1129929                1B - CATERER      03/31/2020   \n",
              "19153       DUPAGE  1A-1124543               1A - RETAILER      08/31/2019   \n",
              "14965         COOK  1A-0111041               1A - RETAILER      06/30/2020   \n",
              "18627         COOK  1A-1127991               1A - RETAILER      08/31/2019   \n",
              "18674       DUPAGE  1A-0102041               1A - RETAILER      08/31/2019   \n",
              "...            ...         ...                         ...             ...   \n",
              "17092         COOK  1A-0064091               1A - RETAILER      08/31/2019   \n",
              "20655     TAZEWELL  1A-0006763               1A - RETAILER      09/30/2019   \n",
              "28393         COOK  1A-0046367               1A - RETAILER      12/31/2019   \n",
              "18149         COOK  1A-0004705               1A - RETAILER      08/31/2019   \n",
              "4909        DEKALB  1A-0015676               1A - RETAILER      03/31/2020   \n",
              "9276         UNION  1E-0020722  1E - WINE MAKER'S RETAILER      05/31/2020   \n",
              "21128     TAZEWELL  1A-0032370               1A - RETAILER      10/31/2019   \n",
              "14854         COOK  1A-1123092               1A - RETAILER      06/30/2020   \n",
              "18225       MCLEAN  1B-0048572                1B - CATERER      08/31/2019   \n",
              "7794          COOK  1G-0000035                   1G - BOAT      04/30/2020   \n",
              "8895          COOK  1G-0100370                   1G - BOAT      05/31/2020   \n",
              "25091        ADAMS  1A-0010177               1A - RETAILER      11/30/2019   \n",
              "8896          COOK  1G-0072193                   1G - BOAT      05/31/2020   \n",
              "7792          COOK  1G-0038356                   1G - BOAT      04/30/2020   \n",
              "19731         COOK  1G-0000013                   1G - BOAT      08/31/2019   \n",
              "9233          COOK  1G-0057757                   1G - BOAT      05/31/2020   \n",
              "11898         COOK  1G-0088373                   1G - BOAT      06/30/2020   \n",
              "5751          COOK  1G-0056987                   1G - BOAT      04/30/2020   \n",
              "21177         COOK  1G-0055382                   1G - BOAT      10/31/2019   \n",
              "11899         COOK  1G-0088374                   1G - BOAT      06/30/2020   \n",
              "9849          COOK  1A-0023971               1A - RETAILER      04/30/2020   \n",
              "902         SALINE  1A-0092442               1A - RETAILER      01/31/2020   \n",
              "14558      MADISON  1A-0094750               1A - RETAILER      06/30/2020   \n",
              "21131      JACKSON  1A-0032327               1A - RETAILER      10/31/2019   \n",
              "951           KANE  1A-0080875               1A - RETAILER      01/31/2020   \n",
              "21140       SALINE  1A-0032346               1A - RETAILER      10/31/2019   \n",
              "3289      LA SALLE  1A-0016058               1A - RETAILER      03/31/2020   \n",
              "25096   MONTGOMERY  1A-0010319               1A - RETAILER      10/31/2019   \n",
              "18534         COOK  1A-0004704               1A - RETAILER      08/31/2019   \n",
              "25092    HENDERSON  1A-0010176               1A - RETAILER      11/30/2019   \n",
              "\n",
              "              IBT                RetailType            BusinessType  \\\n",
              "3212    1459368.0  OFF-PREMISES CONSUMPTION    I. CONVENIENCE & GAS   \n",
              "21143  28721421.0  OFF-PREMISES CONSUMPTION          D. SUPERMARKET   \n",
              "21891  22883721.0   ON-PREMISES CONSUMPTION                P. OTHER   \n",
              "24531  29555711.0   ON-PREMISES CONSUMPTION           B. RESTAURANT   \n",
              "961      980579.0   ON-PREMISES CONSUMPTION                P. OTHER   \n",
              "28153     92932.0  OFF-PREMISES CONSUMPTION  A. DRUG STORE/PHARMACY   \n",
              "27519  43006795.0  OFF-PREMISES CONSUMPTION    I. CONVENIENCE & GAS   \n",
              "12563  36069612.0  OFF-PREMISES CONSUMPTION    I. CONVENIENCE & GAS   \n",
              "19966  18661637.0  OFF-PREMISES CONSUMPTION    I. CONVENIENCE & GAS   \n",
              "23086  25641131.0   ON-PREMISES CONSUMPTION                P. OTHER   \n",
              "3682      92932.0  OFF-PREMISES CONSUMPTION  A. DRUG STORE/PHARMACY   \n",
              "11203  22361634.0  OFF-PREMISES CONSUMPTION    I. CONVENIENCE & GAS   \n",
              "10002  32412924.0   ON-PREMISES CONSUMPTION           B. RESTAURANT   \n",
              "3525    4603321.0  OFF-PREMISES CONSUMPTION          C. CONVENIENCE   \n",
              "13960  37817590.0   ON-PREMISES CONSUMPTION                P. OTHER   \n",
              "16024   1459368.0   CONSUMPTION COMBINATION    I. CONVENIENCE & GAS   \n",
              "6634    9011943.0   ON-PREMISES CONSUMPTION                P. OTHER   \n",
              "29026   8605904.0   ON-PREMISES CONSUMPTION           B. RESTAURANT   \n",
              "5265   20390920.0   ON-PREMISES CONSUMPTION          H. HOTEL/MOTEL   \n",
              "12186  33817006.0  OFF-PREMISES CONSUMPTION  A. DRUG STORE/PHARMACY   \n",
              "27531  11874805.0   ON-PREMISES CONSUMPTION                P. OTHER   \n",
              "11148   5862061.0  OFF-PREMISES CONSUMPTION  A. DRUG STORE/PHARMACY   \n",
              "2741   24581259.0   ON-PREMISES CONSUMPTION          D. SUPERMARKET   \n",
              "2740   24581259.0  OFF-PREMISES CONSUMPTION          D. SUPERMARKET   \n",
              "23336  23761814.0  OFF-PREMISES CONSUMPTION          K. GAS STATION   \n",
              "3408   34191127.0  OFF-PREMISES CONSUMPTION           B. RESTAURANT   \n",
              "19153  16386361.0  OFF-PREMISES CONSUMPTION     F. DEPARTMENT STORE   \n",
              "14965  16386361.0   ON-PREMISES CONSUMPTION     F. DEPARTMENT STORE   \n",
              "18627  55686753.0   ON-PREMISES CONSUMPTION                P. OTHER   \n",
              "18674  40057641.0   ON-PREMISES CONSUMPTION           B. RESTAURANT   \n",
              "...           ...                       ...                     ...   \n",
              "17092  28660315.0  OFF-PREMISES CONSUMPTION     F. DEPARTMENT STORE   \n",
              "20655  16225856.0   ON-PREMISES CONSUMPTION           B. RESTAURANT   \n",
              "28393  26403528.0   ON-PREMISES CONSUMPTION           B. RESTAURANT   \n",
              "18149  23866381.0   ON-PREMISES CONSUMPTION                P. OTHER   \n",
              "4909    3855228.0   ON-PREMISES CONSUMPTION                P. OTHER   \n",
              "9276   20517122.0  OFF-PREMISES CONSUMPTION                P. OTHER   \n",
              "21128  28721421.0  OFF-PREMISES CONSUMPTION          D. SUPERMARKET   \n",
              "14854  18626165.0   ON-PREMISES CONSUMPTION           B. RESTAURANT   \n",
              "18225   9042660.0   ON-PREMISES CONSUMPTION                P. OTHER   \n",
              "7794   22786988.0   ON-PREMISES CONSUMPTION                P. OTHER   \n",
              "8895   22786988.0   ON-PREMISES CONSUMPTION                P. OTHER   \n",
              "25091     23655.0  OFF-PREMISES CONSUMPTION    I. CONVENIENCE & GAS   \n",
              "8896   22786988.0   ON-PREMISES CONSUMPTION                P. OTHER   \n",
              "7792   22786988.0   ON-PREMISES CONSUMPTION                P. OTHER   \n",
              "19731  22245499.0   ON-PREMISES CONSUMPTION                P. OTHER   \n",
              "9233   10208054.0   ON-PREMISES CONSUMPTION                P. OTHER   \n",
              "11898  10208054.0   ON-PREMISES CONSUMPTION                P. OTHER   \n",
              "5751   10208054.0   ON-PREMISES CONSUMPTION                P. OTHER   \n",
              "21177  10208054.0   ON-PREMISES CONSUMPTION                P. OTHER   \n",
              "11899  10208054.0   ON-PREMISES CONSUMPTION                P. OTHER   \n",
              "9849   16386361.0  OFF-PREMISES CONSUMPTION     F. DEPARTMENT STORE   \n",
              "902    33817006.0  OFF-PREMISES CONSUMPTION  A. DRUG STORE/PHARMACY   \n",
              "14558   9030107.0   ON-PREMISES CONSUMPTION                P. OTHER   \n",
              "21131  28721421.0  OFF-PREMISES CONSUMPTION          D. SUPERMARKET   \n",
              "951    19359365.0   ON-PREMISES CONSUMPTION                P. OTHER   \n",
              "21140  28721421.0  OFF-PREMISES CONSUMPTION                P. OTHER   \n",
              "3289   21030200.0   CONSUMPTION COMBINATION           B. RESTAURANT   \n",
              "25096   9181288.0  OFF-PREMISES CONSUMPTION          C. CONVENIENCE   \n",
              "18534  23866381.0   ON-PREMISES CONSUMPTION                P. OTHER   \n",
              "25092     23655.0  OFF-PREMISES CONSUMPTION    I. CONVENIENCE & GAS   \n",
              "\n",
              "                                                 Address    type zip_code  \\\n",
              "3212       #1 CLUB CENTRE COURT , EDWARDSVILLE, IL 62025     off    62025   \n",
              "21143  #20 CHERRY TREE SHOPPING CTR , WASHINGTON, IL ...     off    61571   \n",
              "21891    #21 BLACKJACK BLVD , EAST PEORIA, IL 61611-0000      on    61611   \n",
              "24531       #3 AMERICAN VILLAGE , GRANITE CITY, IL 62040      on    62040   \n",
              "961       #4 ERWIN PLEGGE BLVD , BETHALTO, IL 62010-0000      on    62010   \n",
              "28153          #4 S COMMERCIAL ST , HARRISBURG, IL 62946     off    62946   \n",
              "27519               1 CARRIER LN , WENONA, IL 61377-9005     off    61377   \n",
              "12563          1 CORVETTE DR , LITCHFIELD, IL 62056-1090     off    62056   \n",
              "19966                1 E BROADWAY ST , TRENTON, IL 62293     off    62293   \n",
              "23086          1 E JACKSON BLVD , CHICAGO, IL 60604-2201      on    60604   \n",
              "3682               1 E OGDEN AVENUE , WESTMONT, IL 60559     off    60559   \n",
              "11203  1 E ROOSEVELT RD , OAKBROOK TERRACE, IL 60181-...     off    60181   \n",
              "10002             1 E WACKER DR , CHICAGO, IL 60601-1642      on    60601   \n",
              "3525               1 EAST HITT ST , MT. MORRIS, IL 61054     off    61054   \n",
              "13960         1 GATEWAY DR , COLLINSVILLE, IL 62234-6107      on    62234   \n",
              "16024           1 HOWELLMAN DR , DU QUOIN, IL 62832-2463  off|on    62832   \n",
              "6634                 1 ILLINI DR , PEORIA, IL 61605-2576      on    61605   \n",
              "29026            1 JOHN DEERE PL , MOLINE, IL 61265-8010      on    61265   \n",
              "5265               1 LAKE FRONT DR , ZION, IL 60099-0000      on    60099   \n",
              "12186              1 MAIN STREET , PARK FOREST, IL 60466     off    60466   \n",
              "27531              1 MANOR DR , NEW LENOX, IL 60451-2930      on    60451   \n",
              "11148  1 N ELMHURST RD , PROSPECT HEIGHTS, IL 60070-1509     off    60070   \n",
              "2741             1 N HALSTED ST , CHICAGO, IL 60661-2176      on    60661   \n",
              "2740   1 N HALSTED STREET 1ST FLOOR, CHICAGO, IL 6066...     off    60661   \n",
              "23336         1 N RAND ROAD , LAKE ZURICH, IL 60047-2263     off    60047   \n",
              "3408              1 N WACKER DR , CHICAGO, IL 60606-2874     off    60606   \n",
              "19153          1 OAKBROOK CTR , OAK BROOK, IL 60523-1809     off    60523   \n",
              "14965       1 OLD ORCHARD CENTER , SKOKIE, IL 60077-0000      on    60077   \n",
              "18627              1 PETE DYE DR , LEMONT, IL 60439-7742      on    60439   \n",
              "18674            1 RICE LAKE SQ , WHEATON, IL 60189-2132      on    60189   \n",
              "...                                                  ...     ...      ...   \n",
              "17092  999 N ELMHURST RD , MOUNT PROSPECT, IL 60056-1135     off    60056   \n",
              "20655  CHERRY TREE SHPG CTR #16-18, WASHINGTON, IL 61571      on    61571   \n",
              "28393    D121 WOODFIELD MALL , SCHAUMBURG, IL 60173-5018      on    60173   \n",
              "18149  FL 1 OHARE FIELD TERMINAL1-CONC B0, BETHESDA, ...      on    20817   \n",
              "4909   HOPKINS PARK 1403 SYCAMORE ROAD, DEKALB, IL 60115      on    60115   \n",
              "9276              HWY 127 PO BOX 51, ALTO PASS, IL 62905     off    62905   \n",
              "21128         J-705 201 S MAIN ST, EAST PEORIA, IL 61611     off    61611   \n",
              "14854    J120 WOODFIELD MALL , SCHAUMBURG, IL 60173-5014      on    60173   \n",
              "18225  JOHN GREEN BLDG, ILLINOIS STATE UNIVERSITY CAM...      on    61790   \n",
              "7794   LOWER WACKER DR AT MICHIGAN MICHIGAN AVE., CHI...      on    60601   \n",
              "8895   LOWER WACKER DRIVE AT MICHIGAN AVE, CHICAGO, I...      on    60601   \n",
              "25091  MAIN & PITTSFIELD STREETS , LIBERTY, IL 62347-...     off    62347   \n",
              "8896   MICHIGAN AVE & LOWER WACKER DR , CHICAGO, IL 6...      on    60601   \n",
              "7792   MICHIGAN AVE & WACKER DR , CHICAGO, IL 60601-0000      on    60601   \n",
              "19731    NAVY PIER 600 E GRAND AVENUE, CHICAGO, IL 60611      on    60611   \n",
              "9233        OGDEN SLIP NAVY PIER, CHICAGO, IL 60611-0000      on    60611   \n",
              "11898                     OGDEN SLIP , CHICAGO, IL 60611      on    60611   \n",
              "5751                 OGDEN SLIP , CHICAGO, IL 60611-0000      on    60611   \n",
              "21177       OGDEN SLIP NAVY PIER, CHICAGO, IL 60611-0000      on    60611   \n",
              "11899                OGDEN SLIP , CHICAGO, IL 60611-0000      on    60611   \n",
              "9849   ONE OLD ORCHARD SHOPPING CENTE MACY'S, SKOKIE,...     off    60076   \n",
              "902          ONE SOUTH COMMERCIAL , HARRISBURG, IL 62946     off    62946   \n",
              "14558     PO BOX 3071 4445 ALBY ST, ALTON, IL 62002-9171      on    62002   \n",
              "21131  R R 5 BOX 1 550 E INDUSTRIAL PARK RD, MURPHYSB...     off    62966   \n",
              "951    RANDALL ROAD 1611 S RANDALL ROAD, ALGONQUIN, I...      on    60102   \n",
              "21140            RR #4 US HWY 45N , HARRISBURG, IL 62946     off    62946   \n",
              "3289               RT 178 & RT 71 , UTICA, IL 61373-0000  off|on    61373   \n",
              "25096               RT 48 & 127 , RAYMOND, IL 62560-0000     off    62560   \n",
              "18534  TERMINAL 1-CONCB02 11601 W TOUHY, CHICAGO, IL ...      on    60666   \n",
              "25092       US HWY 34 NE 34-10-6 , CARMAN, IL 61425-0000     off    61425   \n",
              "\n",
              "      plus_four l_t       id             ID       lics  n  p_type  \n",
              "3212       None  1A  0023824  1A-0023824-il      [off]  1     off  \n",
              "21143      None  1A  0032377  1A-0032377-il      [off]  1     off  \n",
              "21891      0000  1G  0000015  1G-0000015-il       [on]  1      on  \n",
              "24531      None  1A  0036642  1A-0036642-il       [on]  1      on  \n",
              "961        0000  1A  0092372  1A-0092372-il       [on]  1      on  \n",
              "28153      None  1A  0091938  1A-0091938-il      [off]  1     off  \n",
              "27519      9005  1A  1140261  1A-1140261-il      [off]  1     off  \n",
              "12563      1090  1A  0094500  1A-0094500-il      [off]  1     off  \n",
              "19966      None  1A  0005931  1A-0005931-il      [off]  1     off  \n",
              "23086      2201  1B  0055500  1B-0055500-il       [on]  1      on  \n",
              "3682       None  1A  0098466  1A-0098466-il      [off]  1     off  \n",
              "11203      3513  1A  0105571  1A-0105571-il      [off]  1     off  \n",
              "10002      1642  1A  0072674  1A-0072674-il       [on]  1      on  \n",
              "3525       None  1A  0075467  1A-0075467-il      [off]  1     off  \n",
              "13960      6107  1A  1122828  1A-1122828-il       [on]  1      on  \n",
              "16024      2463  1A  0002865  1A-0002865-il   [off|on]  1  off|on  \n",
              "6634       2576  1B  0076048  1B-0076048-il       [on]  1      on  \n",
              "29026      8010  1A  0050341  1A-0050341-il       [on]  1      on  \n",
              "5265       0000  1A  0029477  1A-0029477-il       [on]  1      on  \n",
              "12186      None  1A  0076971  1A-0076971-il      [off]  1     off  \n",
              "27531      2930  1A  0011818  1A-0011818-il       [on]  1      on  \n",
              "11148      1509  1A  0100007  1A-0100007-il      [off]  1     off  \n",
              "2741       2176  1A  1125419  1A-1125419-il       [on]  1      on  \n",
              "2740       0000  1A  1125418  1A-1125418-il      [off]  1     off  \n",
              "23336      2263  1A  0086118  1A-0086118-il      [off]  1     off  \n",
              "3408       2874  1B  1129929  1B-1129929-il  [off, on]  2   Combo  \n",
              "19153      1809  1A  1124543  1A-1124543-il  [off, on]  2   Combo  \n",
              "14965      0000  1A  0111041  1A-0111041-il       [on]  1      on  \n",
              "18627      7742  1A  1127991  1A-1127991-il       [on]  1      on  \n",
              "18674      2132  1A  0102041  1A-0102041-il       [on]  1      on  \n",
              "...         ...  ..      ...            ...        ... ..     ...  \n",
              "17092      1135  1A  0064091  1A-0064091-il      [off]  1     off  \n",
              "20655      None  1A  0006763  1A-0006763-il       [on]  1      on  \n",
              "28393      5018  1A  0046367  1A-0046367-il       [on]  1      on  \n",
              "18149      None  1A  0004705  1A-0004705-il       [on]  1      on  \n",
              "4909       None  1A  0015676  1A-0015676-il       [on]  1      on  \n",
              "9276       None  1E  0020722  1E-0020722-il      [off]  1     off  \n",
              "21128      None  1A  0032370  1A-0032370-il      [off]  1     off  \n",
              "14854      5014  1A  1123092  1A-1123092-il       [on]  1      on  \n",
              "18225      2610  1B  0048572  1B-0048572-il       [on]  1      on  \n",
              "7794       0000  1G  0000035  1G-0000035-il       [on]  1      on  \n",
              "8895       0000  1G  0100370  1G-0100370-il       [on]  1      on  \n",
              "25091      0000  1A  0010177  1A-0010177-il      [off]  1     off  \n",
              "8896       0000  1G  0072193  1G-0072193-il       [on]  1      on  \n",
              "7792       0000  1G  0038356  1G-0038356-il       [on]  1      on  \n",
              "19731      None  1G  0000013  1G-0000013-il       [on]  1      on  \n",
              "9233       0000  1G  0057757  1G-0057757-il       [on]  1      on  \n",
              "11898      None  1G  0088373  1G-0088373-il       [on]  1      on  \n",
              "5751       0000  1G  0056987  1G-0056987-il       [on]  1      on  \n",
              "21177      0000  1G  0055382  1G-0055382-il       [on]  1      on  \n",
              "11899      0000  1G  0088374  1G-0088374-il       [on]  1      on  \n",
              "9849       0000  1A  0023971  1A-0023971-il      [off]  1     off  \n",
              "902        None  1A  0092442  1A-0092442-il      [off]  1     off  \n",
              "14558      9171  1A  0094750  1A-0094750-il       [on]  1      on  \n",
              "21131      None  1A  0032327  1A-0032327-il      [off]  1     off  \n",
              "951        None  1A  0080875  1A-0080875-il       [on]  1      on  \n",
              "21140      None  1A  0032346  1A-0032346-il      [off]  1     off  \n",
              "3289       0000  1A  0016058  1A-0016058-il   [off|on]  1  off|on  \n",
              "25096      0000  1A  0010319  1A-0010319-il      [off]  1     off  \n",
              "18534      0000  1A  0004704  1A-0004704-il       [on]  1      on  \n",
              "25092      0000  1A  0010176  1A-0010176-il      [off]  1     off  \n",
              "\n",
              "[6521 rows x 24 columns]"
            ]
          },
          "metadata": {
            "tags": []
          },
          "execution_count": 82
        }
      ]
    },
    {
      "cell_type": "code",
      "metadata": {
        "id": "pkBLjXznkBgZ",
        "colab_type": "code",
        "colab": {}
      },
      "source": [
        "#import numpy as np\n",
        "#il_lq['g']= il_lq.groupby(['DBA_Name','DBA_Street1'])['type'].apply(np.unique)\n",
        "# reset index so we can merge it back,after we create some features\n",
        "#g=g.reset_index()\n",
        "#g['n'] = g['type'].agg(np.size)"
      ],
      "execution_count": null,
      "outputs": []
    },
    {
      "cell_type": "code",
      "metadata": {
        "id": "UCelGiftBboJ",
        "colab_type": "code",
        "colab": {}
      },
      "source": [
        "il_lq"
      ],
      "execution_count": null,
      "outputs": []
    },
    {
      "cell_type": "code",
      "metadata": {
        "id": "icCxDMtpjhCS",
        "colab_type": "code",
        "colab": {
          "base_uri": "https://localhost:8080/",
          "height": 33
        },
        "outputId": "15d78842-5ca5-46d9-b4ee-b605ba0467fa"
      },
      "source": [
        "il_lq.id.nunique(),il_lq.id.count()"
      ],
      "execution_count": null,
      "outputs": [
        {
          "output_type": "execute_result",
          "data": {
            "text/plain": [
              "(23847, 23847)"
            ]
          },
          "metadata": {
            "tags": []
          },
          "execution_count": 84
        }
      ]
    },
    {
      "cell_type": "code",
      "metadata": {
        "id": "iCO7dihihKVI",
        "colab_type": "code",
        "colab": {}
      },
      "source": [
        "il_lq.set_index('ID', inplace=True)"
      ],
      "execution_count": null,
      "outputs": []
    },
    {
      "cell_type": "code",
      "metadata": {
        "id": "G9EVYWr68qsv",
        "colab_type": "code",
        "colab": {}
      },
      "source": [
        "il_lq.rename(columns={'Corp_Name': 'corp_name', 'DBA_Name' :'dba_name', 'DBA_Street1':'street', 'DBA_Street2' :'street2', \n",
        "                      'DBA_City' :'city', 'DBA_State' :'state', 'DBA_County' :'county'\n",
        "                     }, inplace=True)"
      ],
      "execution_count": null,
      "outputs": []
    },
    {
      "cell_type": "code",
      "metadata": {
        "id": "Kw3ZJ1IaLWN3",
        "colab_type": "code",
        "colab": {
          "base_uri": "https://localhost:8080/",
          "height": 100
        },
        "outputId": "e5806c1c-3b86-49ab-c0c4-8307fd820a24"
      },
      "source": [
        "il_lq.columns"
      ],
      "execution_count": null,
      "outputs": [
        {
          "output_type": "execute_result",
          "data": {
            "text/plain": [
              "Index(['corp_name', 'dba_name', 'street', 'street2', 'city', 'state',\n",
              "       'DBA_Zip', 'county', 'Lic_No', 'License Type', 'Expiration_Date', 'IBT',\n",
              "       'RetailType', 'BusinessType', 'Address', 'type', 'zip_code',\n",
              "       'plus_four', 'l_t', 'id', 'lics', 'n', 'p_type'],\n",
              "      dtype='object')"
            ]
          },
          "metadata": {
            "tags": []
          },
          "execution_count": 87
        }
      ]
    },
    {
      "cell_type": "code",
      "metadata": {
        "id": "jcZyHxM_Lp3C",
        "colab_type": "code",
        "colab": {
          "base_uri": "https://localhost:8080/",
          "height": 480
        },
        "outputId": "f008955b-2829-4c2f-b305-ccdb955715aa"
      },
      "source": [
        "il_lq.sample(5)"
      ],
      "execution_count": null,
      "outputs": [
        {
          "output_type": "execute_result",
          "data": {
            "text/html": [
              "<div>\n",
              "<style scoped>\n",
              "    .dataframe tbody tr th:only-of-type {\n",
              "        vertical-align: middle;\n",
              "    }\n",
              "\n",
              "    .dataframe tbody tr th {\n",
              "        vertical-align: top;\n",
              "    }\n",
              "\n",
              "    .dataframe thead th {\n",
              "        text-align: right;\n",
              "    }\n",
              "</style>\n",
              "<table border=\"1\" class=\"dataframe\">\n",
              "  <thead>\n",
              "    <tr style=\"text-align: right;\">\n",
              "      <th></th>\n",
              "      <th>corp_name</th>\n",
              "      <th>dba_name</th>\n",
              "      <th>street</th>\n",
              "      <th>street2</th>\n",
              "      <th>city</th>\n",
              "      <th>state</th>\n",
              "      <th>DBA_Zip</th>\n",
              "      <th>county</th>\n",
              "      <th>Lic_No</th>\n",
              "      <th>License Type</th>\n",
              "      <th>Expiration_Date</th>\n",
              "      <th>IBT</th>\n",
              "      <th>RetailType</th>\n",
              "      <th>BusinessType</th>\n",
              "      <th>Address</th>\n",
              "      <th>type</th>\n",
              "      <th>zip_code</th>\n",
              "      <th>plus_four</th>\n",
              "      <th>l_t</th>\n",
              "      <th>id</th>\n",
              "      <th>lics</th>\n",
              "      <th>n</th>\n",
              "      <th>p_type</th>\n",
              "    </tr>\n",
              "    <tr>\n",
              "      <th>ID</th>\n",
              "      <th></th>\n",
              "      <th></th>\n",
              "      <th></th>\n",
              "      <th></th>\n",
              "      <th></th>\n",
              "      <th></th>\n",
              "      <th></th>\n",
              "      <th></th>\n",
              "      <th></th>\n",
              "      <th></th>\n",
              "      <th></th>\n",
              "      <th></th>\n",
              "      <th></th>\n",
              "      <th></th>\n",
              "      <th></th>\n",
              "      <th></th>\n",
              "      <th></th>\n",
              "      <th></th>\n",
              "      <th></th>\n",
              "      <th></th>\n",
              "      <th></th>\n",
              "      <th></th>\n",
              "      <th></th>\n",
              "    </tr>\n",
              "  </thead>\n",
              "  <tbody>\n",
              "    <tr>\n",
              "      <th>1A-1140077-il</th>\n",
              "      <td>101 SOUTH COMMERCIAL, LLC</td>\n",
              "      <td>KAY'S PLACE</td>\n",
              "      <td>101 S COMMERCIAL ST</td>\n",
              "      <td>NaN</td>\n",
              "      <td>CENTRALIA</td>\n",
              "      <td>IL</td>\n",
              "      <td>62801-2038</td>\n",
              "      <td>MARION</td>\n",
              "      <td>1A-1140077</td>\n",
              "      <td>1A - RETAILER</td>\n",
              "      <td>08/31/2019</td>\n",
              "      <td>42974283.0</td>\n",
              "      <td>CONSUMPTION COMBINATION</td>\n",
              "      <td>G. BAR/TAVERN</td>\n",
              "      <td>101 S COMMERCIAL ST , CENTRALIA, IL 62801-2038</td>\n",
              "      <td>off|on</td>\n",
              "      <td>62801</td>\n",
              "      <td>2038</td>\n",
              "      <td>1A</td>\n",
              "      <td>1140077</td>\n",
              "      <td>[off|on]</td>\n",
              "      <td>1</td>\n",
              "      <td>off|on</td>\n",
              "    </tr>\n",
              "    <tr>\n",
              "      <th>1A-0109797-il</th>\n",
              "      <td>STELLAS FOX LAKE RETAIL CENTER LLC</td>\n",
              "      <td>STELLA'S PLACE</td>\n",
              "      <td>63 S ROUTE 12</td>\n",
              "      <td>NaN</td>\n",
              "      <td>FOX LAKE</td>\n",
              "      <td>IL</td>\n",
              "      <td>60020</td>\n",
              "      <td>LAKE</td>\n",
              "      <td>1A-0109797</td>\n",
              "      <td>1A - RETAILER</td>\n",
              "      <td>03/31/2020</td>\n",
              "      <td>40933997.0</td>\n",
              "      <td>ON-PREMISES CONSUMPTION</td>\n",
              "      <td>B. RESTAURANT</td>\n",
              "      <td>63 S ROUTE 12 , FOX LAKE, IL 60020</td>\n",
              "      <td>on</td>\n",
              "      <td>60020</td>\n",
              "      <td>None</td>\n",
              "      <td>1A</td>\n",
              "      <td>0109797</td>\n",
              "      <td>[on]</td>\n",
              "      <td>1</td>\n",
              "      <td>on</td>\n",
              "    </tr>\n",
              "    <tr>\n",
              "      <th>1A-0005046-il</th>\n",
              "      <td>KRYSTAN INC</td>\n",
              "      <td>REGAL BEAGLE</td>\n",
              "      <td>3236 W 55TH ST</td>\n",
              "      <td>SUITE 1</td>\n",
              "      <td>CHICAGO</td>\n",
              "      <td>IL</td>\n",
              "      <td>60632</td>\n",
              "      <td>COOK</td>\n",
              "      <td>1A-0005046</td>\n",
              "      <td>1A - RETAILER</td>\n",
              "      <td>08/31/2019</td>\n",
              "      <td>18955169.0</td>\n",
              "      <td>ON-PREMISES CONSUMPTION</td>\n",
              "      <td>G. BAR/TAVERN</td>\n",
              "      <td>3236 W 55TH ST SUITE 1, CHICAGO, IL 60632</td>\n",
              "      <td>on</td>\n",
              "      <td>60632</td>\n",
              "      <td>None</td>\n",
              "      <td>1A</td>\n",
              "      <td>0005046</td>\n",
              "      <td>[on]</td>\n",
              "      <td>1</td>\n",
              "      <td>on</td>\n",
              "    </tr>\n",
              "    <tr>\n",
              "      <th>1A-1124989-il</th>\n",
              "      <td>SCHNELL BROTHERS LLC</td>\n",
              "      <td>SCHNELLS BRAUHAUS</td>\n",
              "      <td>45 W SLADE ST</td>\n",
              "      <td>NaN</td>\n",
              "      <td>PALATINE</td>\n",
              "      <td>IL</td>\n",
              "      <td>60067-5028</td>\n",
              "      <td>COOK</td>\n",
              "      <td>1A-1124989</td>\n",
              "      <td>1A - RETAILER</td>\n",
              "      <td>12/31/2019</td>\n",
              "      <td>41579097.0</td>\n",
              "      <td>ON-PREMISES CONSUMPTION</td>\n",
              "      <td>B. RESTAURANT</td>\n",
              "      <td>45 W SLADE ST , PALATINE, IL 60067-5028</td>\n",
              "      <td>on</td>\n",
              "      <td>60067</td>\n",
              "      <td>5028</td>\n",
              "      <td>1A</td>\n",
              "      <td>1124989</td>\n",
              "      <td>[on]</td>\n",
              "      <td>1</td>\n",
              "      <td>on</td>\n",
              "    </tr>\n",
              "    <tr>\n",
              "      <th>1A-1132092-il</th>\n",
              "      <td>2511 IL-157, LLC</td>\n",
              "      <td>HOTSHOTS SPORTS BAR &amp; GRILL</td>\n",
              "      <td>2511 S STATE ROUTE 157</td>\n",
              "      <td>NaN</td>\n",
              "      <td>EDWARDSVILLE</td>\n",
              "      <td>IL</td>\n",
              "      <td>62025-3637</td>\n",
              "      <td>MADISON</td>\n",
              "      <td>1A-1132092</td>\n",
              "      <td>1A - RETAILER</td>\n",
              "      <td>10/31/2019</td>\n",
              "      <td>42298131.0</td>\n",
              "      <td>ON-PREMISES CONSUMPTION</td>\n",
              "      <td>G. BAR/TAVERN</td>\n",
              "      <td>2511 S STATE ROUTE 157 , EDWARDSVILLE, IL 6202...</td>\n",
              "      <td>on</td>\n",
              "      <td>62025</td>\n",
              "      <td>3637</td>\n",
              "      <td>1A</td>\n",
              "      <td>1132092</td>\n",
              "      <td>[on]</td>\n",
              "      <td>1</td>\n",
              "      <td>on</td>\n",
              "    </tr>\n",
              "  </tbody>\n",
              "</table>\n",
              "</div>"
            ],
            "text/plain": [
              "                                        corp_name  \\\n",
              "ID                                                  \n",
              "1A-1140077-il           101 SOUTH COMMERCIAL, LLC   \n",
              "1A-0109797-il  STELLAS FOX LAKE RETAIL CENTER LLC   \n",
              "1A-0005046-il                         KRYSTAN INC   \n",
              "1A-1124989-il                SCHNELL BROTHERS LLC   \n",
              "1A-1132092-il                    2511 IL-157, LLC   \n",
              "\n",
              "                                  dba_name                  street  street2  \\\n",
              "ID                                                                            \n",
              "1A-1140077-il                  KAY'S PLACE     101 S COMMERCIAL ST      NaN   \n",
              "1A-0109797-il               STELLA'S PLACE           63 S ROUTE 12      NaN   \n",
              "1A-0005046-il                 REGAL BEAGLE          3236 W 55TH ST  SUITE 1   \n",
              "1A-1124989-il            SCHNELLS BRAUHAUS           45 W SLADE ST      NaN   \n",
              "1A-1132092-il  HOTSHOTS SPORTS BAR & GRILL  2511 S STATE ROUTE 157      NaN   \n",
              "\n",
              "                       city state     DBA_Zip   county      Lic_No  \\\n",
              "ID                                                                   \n",
              "1A-1140077-il     CENTRALIA    IL  62801-2038   MARION  1A-1140077   \n",
              "1A-0109797-il      FOX LAKE    IL       60020     LAKE  1A-0109797   \n",
              "1A-0005046-il       CHICAGO    IL       60632     COOK  1A-0005046   \n",
              "1A-1124989-il      PALATINE    IL  60067-5028     COOK  1A-1124989   \n",
              "1A-1132092-il  EDWARDSVILLE    IL  62025-3637  MADISON  1A-1132092   \n",
              "\n",
              "                License Type Expiration_Date         IBT  \\\n",
              "ID                                                         \n",
              "1A-1140077-il  1A - RETAILER      08/31/2019  42974283.0   \n",
              "1A-0109797-il  1A - RETAILER      03/31/2020  40933997.0   \n",
              "1A-0005046-il  1A - RETAILER      08/31/2019  18955169.0   \n",
              "1A-1124989-il  1A - RETAILER      12/31/2019  41579097.0   \n",
              "1A-1132092-il  1A - RETAILER      10/31/2019  42298131.0   \n",
              "\n",
              "                            RetailType   BusinessType  \\\n",
              "ID                                                      \n",
              "1A-1140077-il  CONSUMPTION COMBINATION  G. BAR/TAVERN   \n",
              "1A-0109797-il  ON-PREMISES CONSUMPTION  B. RESTAURANT   \n",
              "1A-0005046-il  ON-PREMISES CONSUMPTION  G. BAR/TAVERN   \n",
              "1A-1124989-il  ON-PREMISES CONSUMPTION  B. RESTAURANT   \n",
              "1A-1132092-il  ON-PREMISES CONSUMPTION  G. BAR/TAVERN   \n",
              "\n",
              "                                                         Address    type  \\\n",
              "ID                                                                         \n",
              "1A-1140077-il     101 S COMMERCIAL ST , CENTRALIA, IL 62801-2038  off|on   \n",
              "1A-0109797-il                 63 S ROUTE 12 , FOX LAKE, IL 60020      on   \n",
              "1A-0005046-il          3236 W 55TH ST SUITE 1, CHICAGO, IL 60632      on   \n",
              "1A-1124989-il            45 W SLADE ST , PALATINE, IL 60067-5028      on   \n",
              "1A-1132092-il  2511 S STATE ROUTE 157 , EDWARDSVILLE, IL 6202...      on   \n",
              "\n",
              "              zip_code plus_four l_t       id      lics  n  p_type  \n",
              "ID                                                                  \n",
              "1A-1140077-il    62801      2038  1A  1140077  [off|on]  1  off|on  \n",
              "1A-0109797-il    60020      None  1A  0109797      [on]  1      on  \n",
              "1A-0005046-il    60632      None  1A  0005046      [on]  1      on  \n",
              "1A-1124989-il    60067      5028  1A  1124989      [on]  1      on  \n",
              "1A-1132092-il    62025      3637  1A  1132092      [on]  1      on  "
            ]
          },
          "metadata": {
            "tags": []
          },
          "execution_count": 88
        }
      ]
    },
    {
      "cell_type": "markdown",
      "metadata": {
        "id": "9JEAF5KZMu-0",
        "colab_type": "text"
      },
      "source": [
        "#### save"
      ]
    },
    {
      "cell_type": "code",
      "metadata": {
        "id": "T0hMWor1SqnL",
        "colab_type": "code",
        "colab": {}
      },
      "source": [
        "# todo add function to use date in name"
      ],
      "execution_count": null,
      "outputs": []
    },
    {
      "cell_type": "code",
      "metadata": {
        "id": "E4Thix7_MCQu",
        "colab_type": "code",
        "colab": {}
      },
      "source": [
        "il_lq.to_csv(\"IL.LiqLic.07.07.2019.csv\", encoding='utf-8', index=True)"
      ],
      "execution_count": null,
      "outputs": []
    },
    {
      "cell_type": "markdown",
      "metadata": {
        "id": "1_mQydHPNOYI",
        "colab_type": "text"
      },
      "source": [
        "#### IL Address Verification"
      ]
    },
    {
      "cell_type": "code",
      "metadata": {
        "id": "3fcjes_ao2KF",
        "colab_type": "code",
        "colab": {}
      },
      "source": [
        "il=il_lq[[ 'street', 'city', 'state', 'zip_code']]"
      ],
      "execution_count": null,
      "outputs": []
    },
    {
      "cell_type": "markdown",
      "metadata": {
        "id": "4CvX4E1R4Gdn",
        "colab_type": "text"
      },
      "source": [
        "##### submitting bin"
      ]
    },
    {
      "cell_type": "code",
      "metadata": {
        "id": "Gwj4EDt5r0gY",
        "colab_type": "code",
        "colab": {}
      },
      "source": [
        "n_splits = len(il.index)//10000 +1\n",
        "\n",
        "for i, new_df in enumerate(np.array_split(il,n_splits)):\n",
        "    with open(f\"IL.LL.07.07.2019.{i}.csv\",\"w\") as fo:\n",
        "            fo.write(new_df.to_csv(header=False))"
      ],
      "execution_count": null,
      "outputs": []
    },
    {
      "cell_type": "code",
      "metadata": {
        "id": "T6cGi_LnAhid",
        "colab_type": "code",
        "colab": {}
      },
      "source": [
        "t=pd.read_csv('IL.LL.07.07.2019.0.csv', header=None,index_col=0)"
      ],
      "execution_count": null,
      "outputs": []
    },
    {
      "cell_type": "code",
      "metadata": {
        "id": "uUHKWbZHUaoa",
        "colab_type": "code",
        "colab": {}
      },
      "source": [
        "#!pip install censusgeocode\n",
        "import censusgeocode as cg"
      ],
      "execution_count": null,
      "outputs": []
    },
    {
      "cell_type": "code",
      "metadata": {
        "id": "LsKbJy2-UgJV",
        "colab_type": "code",
        "colab": {
          "base_uri": "https://localhost:8080/",
          "height": 67
        },
        "outputId": "6816d86e-b7c6-4d89-87c9-82a3787a390c"
      },
      "source": [
        "!curl --form addressFile=@IL.LL.07.07.2019.0.csv --form benchmark=Public_AR_Census2010 --form vintage=Census2010_Census2010  https://geocoding.geo.census.gov/geocoder/geographies/addressbatch --output IL.LL.07.07.2019.geocoderesult0.csv"
      ],
      "execution_count": null,
      "outputs": [
        {
          "output_type": "stream",
          "text": [
            "  % Total    % Received % Xferd  Average Speed   Time    Time     Time  Current\n",
            "                                 Dload  Upload   Total   Spent    Left  Speed\n",
            "100 1603k  100 1213k  100  389k   1044    334  0:19:53  0:19:50  0:00:03  271k\n"
          ],
          "name": "stdout"
        }
      ]
    },
    {
      "cell_type": "code",
      "metadata": {
        "id": "PyOhrotUbOGW",
        "colab_type": "code",
        "colab": {
          "base_uri": "https://localhost:8080/",
          "height": 67
        },
        "outputId": "d7c09dd3-8e6c-41d4-c05f-8dc9c18b1453"
      },
      "source": [
        "!curl --form addressFile=@IL.LL.07.07.2019.1.csv --form benchmark=Public_AR_Census2010 --form vintage=Census2010_Census2010  https://geocoding.geo.census.gov/geocoder/geographies/addressbatch --output IL.LL.07.07.2019.geocoderesult1.csv"
      ],
      "execution_count": null,
      "outputs": [
        {
          "output_type": "stream",
          "text": [
            "  % Total    % Received % Xferd  Average Speed   Time    Time     Time  Current\n",
            "                                 Dload  Upload   Total   Spent    Left  Speed\n",
            "100 1609k  100 1221k  100  388k   1128    358  0:18:30  0:18:28  0:00:02  302k\n"
          ],
          "name": "stdout"
        }
      ]
    },
    {
      "cell_type": "code",
      "metadata": {
        "id": "61LyPPPiDygp",
        "colab_type": "code",
        "colab": {
          "base_uri": "https://localhost:8080/",
          "height": 67
        },
        "outputId": "21e5dc1a-d8b1-42f3-91e7-6bc02c66f471"
      },
      "source": [
        "!curl --form addressFile=@IL.LL.07.07.2019.2.csv --form benchmark=Public_AR_Census2010 --form vintage=Census2010_Census2010  https://geocoding.geo.census.gov/geocoder/geographies/addressbatch --output IL.LL.07.07.2019.geocoderesult2.csv"
      ],
      "execution_count": null,
      "outputs": [
        {
          "output_type": "stream",
          "text": [
            "  % Total    % Received % Xferd  Average Speed   Time    Time     Time  Current\n",
            "                                 Dload  Upload   Total   Spent    Left  Speed\n",
            "100 1607k  100 1217k  100  389k   1049    335  0:19:49  0:19:48  0:00:01  279k\n"
          ],
          "name": "stdout"
        }
      ]
    },
    {
      "cell_type": "code",
      "metadata": {
        "id": "GfzL34UyVDDW",
        "colab_type": "code",
        "colab": {}
      },
      "source": [
        "n_splits"
      ],
      "execution_count": null,
      "outputs": []
    },
    {
      "cell_type": "code",
      "metadata": {
        "id": "STD2UNUEVGV9",
        "colab_type": "code",
        "colab": {}
      },
      "source": [
        "# for i in n_splits:\n",
        "#     cg.addressbatch('IL.LL.07.07.2019.0.csv')\n",
        "    "
      ],
      "execution_count": null,
      "outputs": []
    },
    {
      "cell_type": "code",
      "metadata": {
        "id": "gCHCaK6djoWk",
        "colab_type": "code",
        "colab": {}
      },
      "source": [
        "ls"
      ],
      "execution_count": null,
      "outputs": []
    },
    {
      "cell_type": "code",
      "metadata": {
        "id": "FJyDN2iDQ6D9",
        "colab_type": "code",
        "colab": {}
      },
      "source": [
        "cat IL.LL.07.07.2019.geocoderesult0.csv IL.LL.07.07.2019.geocoderesult1.csv IL.LL.07.07.2019.geocoderesult2.csv> IL.LL.07.07.2019.geocoderesults.csv\n"
      ],
      "execution_count": null,
      "outputs": []
    },
    {
      "cell_type": "code",
      "metadata": {
        "id": "rDpxzdDljtNX",
        "colab_type": "code",
        "colab": {}
      },
      "source": [
        "geocoded=pd.read_csv('IL.LL.07.07.2019.geocoderesults.csv', encoding = \"ISO-8859-1\",index_col=0,header=None)\n",
        "#I need to add headers"
      ],
      "execution_count": null,
      "outputs": []
    },
    {
      "cell_type": "code",
      "metadata": {
        "id": "l-y237VnkYNC",
        "colab_type": "code",
        "colab": {
          "base_uri": "https://localhost:8080/",
          "height": 217
        },
        "outputId": "7c6d7d1e-3280-4a41-94b1-0293102a967d"
      },
      "source": [
        "geocoded.head(3)"
      ],
      "execution_count": null,
      "outputs": [
        {
          "output_type": "execute_result",
          "data": {
            "text/html": [
              "<div>\n",
              "<style scoped>\n",
              "    .dataframe tbody tr th:only-of-type {\n",
              "        vertical-align: middle;\n",
              "    }\n",
              "\n",
              "    .dataframe tbody tr th {\n",
              "        vertical-align: top;\n",
              "    }\n",
              "\n",
              "    .dataframe thead th {\n",
              "        text-align: right;\n",
              "    }\n",
              "</style>\n",
              "<table border=\"1\" class=\"dataframe\">\n",
              "  <thead>\n",
              "    <tr style=\"text-align: right;\">\n",
              "      <th></th>\n",
              "      <th>1</th>\n",
              "      <th>2</th>\n",
              "      <th>3</th>\n",
              "      <th>4</th>\n",
              "      <th>5</th>\n",
              "      <th>6</th>\n",
              "      <th>7</th>\n",
              "      <th>8</th>\n",
              "      <th>9</th>\n",
              "      <th>10</th>\n",
              "      <th>11</th>\n",
              "    </tr>\n",
              "    <tr>\n",
              "      <th>0</th>\n",
              "      <th></th>\n",
              "      <th></th>\n",
              "      <th></th>\n",
              "      <th></th>\n",
              "      <th></th>\n",
              "      <th></th>\n",
              "      <th></th>\n",
              "      <th></th>\n",
              "      <th></th>\n",
              "      <th></th>\n",
              "      <th></th>\n",
              "    </tr>\n",
              "  </thead>\n",
              "  <tbody>\n",
              "    <tr>\n",
              "      <th>1A-1129102-il</th>\n",
              "      <td>219 E MAIN ST, BRAIDWOOD, IL, 60408</td>\n",
              "      <td>Match</td>\n",
              "      <td>Exact</td>\n",
              "      <td>219 E Main St, BRAIDWOOD, IL, 60408</td>\n",
              "      <td>-88.21313,41.264584</td>\n",
              "      <td>111529246.0</td>\n",
              "      <td>L</td>\n",
              "      <td>17.0</td>\n",
              "      <td>197.0</td>\n",
              "      <td>884003.0</td>\n",
              "      <td>2017.0</td>\n",
              "    </tr>\n",
              "    <tr>\n",
              "      <th>1A-0019677-il</th>\n",
              "      <td>3759 N KEDZIE AVE, CHICAGO, IL, 60618</td>\n",
              "      <td>Match</td>\n",
              "      <td>Exact</td>\n",
              "      <td>3759 N Kedzie Ave, CHICAGO, IL, 60618</td>\n",
              "      <td>-87.70788,41.94954</td>\n",
              "      <td>111757193.0</td>\n",
              "      <td>R</td>\n",
              "      <td>17.0</td>\n",
              "      <td>31.0</td>\n",
              "      <td>160700.0</td>\n",
              "      <td>4005.0</td>\n",
              "    </tr>\n",
              "    <tr>\n",
              "      <th>1A-0104946-il</th>\n",
              "      <td>3000 SOUTH RIVER ROAD, DES PLAINES, IL, 60018</td>\n",
              "      <td>No_Match</td>\n",
              "      <td>NaN</td>\n",
              "      <td>NaN</td>\n",
              "      <td>NaN</td>\n",
              "      <td>NaN</td>\n",
              "      <td>NaN</td>\n",
              "      <td>NaN</td>\n",
              "      <td>NaN</td>\n",
              "      <td>NaN</td>\n",
              "      <td>NaN</td>\n",
              "    </tr>\n",
              "  </tbody>\n",
              "</table>\n",
              "</div>"
            ],
            "text/plain": [
              "                                                          1         2      3   \\\n",
              "0                                                                               \n",
              "1A-1129102-il            219 E MAIN ST, BRAIDWOOD, IL, 60408     Match  Exact   \n",
              "1A-0019677-il          3759 N KEDZIE AVE, CHICAGO, IL, 60618     Match  Exact   \n",
              "1A-0104946-il  3000 SOUTH RIVER ROAD, DES PLAINES, IL, 60018  No_Match    NaN   \n",
              "\n",
              "                                                  4                    5   \\\n",
              "0                                                                           \n",
              "1A-1129102-il    219 E Main St, BRAIDWOOD, IL, 60408  -88.21313,41.264584   \n",
              "1A-0019677-il  3759 N Kedzie Ave, CHICAGO, IL, 60618   -87.70788,41.94954   \n",
              "1A-0104946-il                                    NaN                  NaN   \n",
              "\n",
              "                        6    7     8      9         10      11  \n",
              "0                                                               \n",
              "1A-1129102-il  111529246.0    L  17.0  197.0  884003.0  2017.0  \n",
              "1A-0019677-il  111757193.0    R  17.0   31.0  160700.0  4005.0  \n",
              "1A-0104946-il          NaN  NaN   NaN    NaN       NaN     NaN  "
            ]
          },
          "metadata": {
            "tags": []
          },
          "execution_count": 187
        }
      ]
    },
    {
      "cell_type": "code",
      "metadata": {
        "id": "in-SYp0ylO1H",
        "colab_type": "code",
        "colab": {}
      },
      "source": [
        "nomatch=geocoded[geocoded[3].isnull()]"
      ],
      "execution_count": null,
      "outputs": []
    },
    {
      "cell_type": "code",
      "metadata": {
        "id": "j-sY4C87QQPC",
        "colab_type": "code",
        "colab": {}
      },
      "source": [
        "nomatchs =nomatch[1].str.split(',', n=3,expand=True)\n",
        "#len(nomatch)\n",
        "#['street','city','state','zip_code']"
      ],
      "execution_count": null,
      "outputs": []
    },
    {
      "cell_type": "code",
      "metadata": {
        "id": "DZa8u43oUAxW",
        "colab_type": "code",
        "colab": {
          "base_uri": "https://localhost:8080/",
          "height": 1000
        },
        "outputId": "c0c8abc8-167e-4ce8-81c5-dd0ec1a6f75e"
      },
      "source": [
        "geocoded"
      ],
      "execution_count": null,
      "outputs": [
        {
          "output_type": "execute_result",
          "data": {
            "text/html": [
              "<div>\n",
              "<style scoped>\n",
              "    .dataframe tbody tr th:only-of-type {\n",
              "        vertical-align: middle;\n",
              "    }\n",
              "\n",
              "    .dataframe tbody tr th {\n",
              "        vertical-align: top;\n",
              "    }\n",
              "\n",
              "    .dataframe thead th {\n",
              "        text-align: right;\n",
              "    }\n",
              "</style>\n",
              "<table border=\"1\" class=\"dataframe\">\n",
              "  <thead>\n",
              "    <tr style=\"text-align: right;\">\n",
              "      <th></th>\n",
              "      <th>1</th>\n",
              "      <th>2</th>\n",
              "      <th>3</th>\n",
              "      <th>4</th>\n",
              "      <th>5</th>\n",
              "      <th>6</th>\n",
              "      <th>7</th>\n",
              "      <th>8</th>\n",
              "      <th>9</th>\n",
              "      <th>10</th>\n",
              "      <th>11</th>\n",
              "    </tr>\n",
              "    <tr>\n",
              "      <th>0</th>\n",
              "      <th></th>\n",
              "      <th></th>\n",
              "      <th></th>\n",
              "      <th></th>\n",
              "      <th></th>\n",
              "      <th></th>\n",
              "      <th></th>\n",
              "      <th></th>\n",
              "      <th></th>\n",
              "      <th></th>\n",
              "      <th></th>\n",
              "    </tr>\n",
              "  </thead>\n",
              "  <tbody>\n",
              "    <tr>\n",
              "      <th>1A-1129102-il</th>\n",
              "      <td>219 E MAIN ST, BRAIDWOOD, IL, 60408</td>\n",
              "      <td>Match</td>\n",
              "      <td>Exact</td>\n",
              "      <td>219 E Main St, BRAIDWOOD, IL, 60408</td>\n",
              "      <td>-88.21313,41.264584</td>\n",
              "      <td>111529246.0</td>\n",
              "      <td>L</td>\n",
              "      <td>17.0</td>\n",
              "      <td>197.0</td>\n",
              "      <td>884003.0</td>\n",
              "      <td>2017.0</td>\n",
              "    </tr>\n",
              "    <tr>\n",
              "      <th>1A-0019677-il</th>\n",
              "      <td>3759 N KEDZIE AVE, CHICAGO, IL, 60618</td>\n",
              "      <td>Match</td>\n",
              "      <td>Exact</td>\n",
              "      <td>3759 N Kedzie Ave, CHICAGO, IL, 60618</td>\n",
              "      <td>-87.70788,41.94954</td>\n",
              "      <td>111757193.0</td>\n",
              "      <td>R</td>\n",
              "      <td>17.0</td>\n",
              "      <td>31.0</td>\n",
              "      <td>160700.0</td>\n",
              "      <td>4005.0</td>\n",
              "    </tr>\n",
              "    <tr>\n",
              "      <th>1A-0104946-il</th>\n",
              "      <td>3000 SOUTH RIVER ROAD, DES PLAINES, IL, 60018</td>\n",
              "      <td>No_Match</td>\n",
              "      <td>NaN</td>\n",
              "      <td>NaN</td>\n",
              "      <td>NaN</td>\n",
              "      <td>NaN</td>\n",
              "      <td>NaN</td>\n",
              "      <td>NaN</td>\n",
              "      <td>NaN</td>\n",
              "      <td>NaN</td>\n",
              "      <td>NaN</td>\n",
              "    </tr>\n",
              "    <tr>\n",
              "      <th>1A-0018466-il</th>\n",
              "      <td>4560 N LINCOLN AVE, CHICAGO, IL, 60625</td>\n",
              "      <td>Match</td>\n",
              "      <td>Exact</td>\n",
              "      <td>4560 N Lincoln Ave, CHICAGO, IL, 60625</td>\n",
              "      <td>-87.68571,41.964237</td>\n",
              "      <td>111760453.0</td>\n",
              "      <td>L</td>\n",
              "      <td>17.0</td>\n",
              "      <td>31.0</td>\n",
              "      <td>40900.0</td>\n",
              "      <td>1009.0</td>\n",
              "    </tr>\n",
              "    <tr>\n",
              "      <th>1A-1133724-il</th>\n",
              "      <td>4712 147TH ST, MIDLOTHIAN, IL, 60445</td>\n",
              "      <td>Match</td>\n",
              "      <td>Exact</td>\n",
              "      <td>4712 147th St, MIDLOTHIAN, IL, 60445</td>\n",
              "      <td>-87.735176,41.625267</td>\n",
              "      <td>111825291.0</td>\n",
              "      <td>L</td>\n",
              "      <td>17.0</td>\n",
              "      <td>31.0</td>\n",
              "      <td>824601.0</td>\n",
              "      <td>1021.0</td>\n",
              "    </tr>\n",
              "    <tr>\n",
              "      <th>1A-1129584-il</th>\n",
              "      <td>6559 RTE 162, MARYVILLE, IL, 62062</td>\n",
              "      <td>Match</td>\n",
              "      <td>Non_Exact</td>\n",
              "      <td>6559 State Rte 162, MARYVILLE, IL, 62062</td>\n",
              "      <td>-89.95829,38.73818</td>\n",
              "      <td>635635193.0</td>\n",
              "      <td>L</td>\n",
              "      <td>17.0</td>\n",
              "      <td>119.0</td>\n",
              "      <td>403533.0</td>\n",
              "      <td>3057.0</td>\n",
              "    </tr>\n",
              "    <tr>\n",
              "      <th>1A-0087373-il</th>\n",
              "      <td>1332 N MILWAUKEE AVE, CHICAGO, IL, 60622</td>\n",
              "      <td>Match</td>\n",
              "      <td>Exact</td>\n",
              "      <td>1332 N Milwaukee Ave, CHICAGO, IL, 60622</td>\n",
              "      <td>-87.670586,41.905956</td>\n",
              "      <td>111764813.0</td>\n",
              "      <td>L</td>\n",
              "      <td>17.0</td>\n",
              "      <td>31.0</td>\n",
              "      <td>241400.0</td>\n",
              "      <td>3003.0</td>\n",
              "    </tr>\n",
              "    <tr>\n",
              "      <th>1A-0092724-il</th>\n",
              "      <td>862 STATE HIGHWAY 34, HEROD, IL, 62947</td>\n",
              "      <td>No_Match</td>\n",
              "      <td>NaN</td>\n",
              "      <td>NaN</td>\n",
              "      <td>NaN</td>\n",
              "      <td>NaN</td>\n",
              "      <td>NaN</td>\n",
              "      <td>NaN</td>\n",
              "      <td>NaN</td>\n",
              "      <td>NaN</td>\n",
              "      <td>NaN</td>\n",
              "    </tr>\n",
              "    <tr>\n",
              "      <th>1A-1133609-il</th>\n",
              "      <td>150 E STATION ST, KANKAKEE, IL, 60901</td>\n",
              "      <td>Match</td>\n",
              "      <td>Exact</td>\n",
              "      <td>150 E Station St, KANKAKEE, IL, 60901</td>\n",
              "      <td>-87.86507,41.11778</td>\n",
              "      <td>98356419.0</td>\n",
              "      <td>R</td>\n",
              "      <td>17.0</td>\n",
              "      <td>91.0</td>\n",
              "      <td>12300.0</td>\n",
              "      <td>1025.0</td>\n",
              "    </tr>\n",
              "    <tr>\n",
              "      <th>1A-0018340-il</th>\n",
              "      <td>815 W 35TH ST, CHICAGO, IL, 60609</td>\n",
              "      <td>Match</td>\n",
              "      <td>Exact</td>\n",
              "      <td>815 W 35th St, CHICAGO, IL, 60609</td>\n",
              "      <td>-87.64646,41.830734</td>\n",
              "      <td>605494805.0</td>\n",
              "      <td>L</td>\n",
              "      <td>17.0</td>\n",
              "      <td>31.0</td>\n",
              "      <td>839900.0</td>\n",
              "      <td>2000.0</td>\n",
              "    </tr>\n",
              "    <tr>\n",
              "      <th>1A-1141472-il</th>\n",
              "      <td>118 S STATE ST, JERSEYVILLE, IL, 62052</td>\n",
              "      <td>Match</td>\n",
              "      <td>Exact</td>\n",
              "      <td>118 S State St, JERSEYVILLE, IL, 62052</td>\n",
              "      <td>-90.32707,39.11882</td>\n",
              "      <td>97876804.0</td>\n",
              "      <td>L</td>\n",
              "      <td>17.0</td>\n",
              "      <td>83.0</td>\n",
              "      <td>10401.0</td>\n",
              "      <td>1016.0</td>\n",
              "    </tr>\n",
              "    <tr>\n",
              "      <th>1A-1137091-il</th>\n",
              "      <td>1715 FREEDOM DR, NAPERVILLE, IL, 60563</td>\n",
              "      <td>No_Match</td>\n",
              "      <td>NaN</td>\n",
              "      <td>NaN</td>\n",
              "      <td>NaN</td>\n",
              "      <td>NaN</td>\n",
              "      <td>NaN</td>\n",
              "      <td>NaN</td>\n",
              "      <td>NaN</td>\n",
              "      <td>NaN</td>\n",
              "      <td>NaN</td>\n",
              "    </tr>\n",
              "    <tr>\n",
              "      <th>1A-1141231-il</th>\n",
              "      <td>9642 S WESTERN AVE, EVERGREEN PARK, IL, 60805</td>\n",
              "      <td>No_Match</td>\n",
              "      <td>NaN</td>\n",
              "      <td>NaN</td>\n",
              "      <td>NaN</td>\n",
              "      <td>NaN</td>\n",
              "      <td>NaN</td>\n",
              "      <td>NaN</td>\n",
              "      <td>NaN</td>\n",
              "      <td>NaN</td>\n",
              "      <td>NaN</td>\n",
              "    </tr>\n",
              "    <tr>\n",
              "      <th>1A-0019792-il</th>\n",
              "      <td>607 NE 13TH ST, CASEY, IL, 62420</td>\n",
              "      <td>No_Match</td>\n",
              "      <td>NaN</td>\n",
              "      <td>NaN</td>\n",
              "      <td>NaN</td>\n",
              "      <td>NaN</td>\n",
              "      <td>NaN</td>\n",
              "      <td>NaN</td>\n",
              "      <td>NaN</td>\n",
              "      <td>NaN</td>\n",
              "      <td>NaN</td>\n",
              "    </tr>\n",
              "    <tr>\n",
              "      <th>1A-1141357-il</th>\n",
              "      <td>501 MAIN ST, PEORIA, IL, 61602</td>\n",
              "      <td>Match</td>\n",
              "      <td>Exact</td>\n",
              "      <td>501 Main St, PEORIA, IL, 61602</td>\n",
              "      <td>-89.59171,40.69383</td>\n",
              "      <td>8720182.0</td>\n",
              "      <td>L</td>\n",
              "      <td>17.0</td>\n",
              "      <td>143.0</td>\n",
              "      <td>1200.0</td>\n",
              "      <td>1065.0</td>\n",
              "    </tr>\n",
              "    <tr>\n",
              "      <th>1B-1138021-il</th>\n",
              "      <td>302 N GREEN ST, CHICAGO, IL, 60607</td>\n",
              "      <td>Match</td>\n",
              "      <td>Exact</td>\n",
              "      <td>302 N Green St, CHICAGO, IL, 60607</td>\n",
              "      <td>-87.6487,41.886883</td>\n",
              "      <td>111767950.0</td>\n",
              "      <td>L</td>\n",
              "      <td>17.0</td>\n",
              "      <td>31.0</td>\n",
              "      <td>833000.0</td>\n",
              "      <td>1021.0</td>\n",
              "    </tr>\n",
              "    <tr>\n",
              "      <th>1A-0098398-il</th>\n",
              "      <td>1200 E TWIN LAKES DR, PALATINE, IL, 60074</td>\n",
              "      <td>No_Match</td>\n",
              "      <td>NaN</td>\n",
              "      <td>NaN</td>\n",
              "      <td>NaN</td>\n",
              "      <td>NaN</td>\n",
              "      <td>NaN</td>\n",
              "      <td>NaN</td>\n",
              "      <td>NaN</td>\n",
              "      <td>NaN</td>\n",
              "      <td>NaN</td>\n",
              "    </tr>\n",
              "    <tr>\n",
              "      <th>1A-1121741-il</th>\n",
              "      <td>2435 WASHINGTON ST, WAUKEGAN, IL, 60085</td>\n",
              "      <td>Match</td>\n",
              "      <td>Exact</td>\n",
              "      <td>2435 Washington St, WAUKEGAN, IL, 60085</td>\n",
              "      <td>-87.8632,42.35947</td>\n",
              "      <td>119641576.0</td>\n",
              "      <td>L</td>\n",
              "      <td>17.0</td>\n",
              "      <td>97.0</td>\n",
              "      <td>862604.0</td>\n",
              "      <td>1004.0</td>\n",
              "    </tr>\n",
              "    <tr>\n",
              "      <th>1A-0077571-il</th>\n",
              "      <td>202 EASTWOOD DR, MAHOMET, IL, 61853</td>\n",
              "      <td>No_Match</td>\n",
              "      <td>NaN</td>\n",
              "      <td>NaN</td>\n",
              "      <td>NaN</td>\n",
              "      <td>NaN</td>\n",
              "      <td>NaN</td>\n",
              "      <td>NaN</td>\n",
              "      <td>NaN</td>\n",
              "      <td>NaN</td>\n",
              "      <td>NaN</td>\n",
              "    </tr>\n",
              "    <tr>\n",
              "      <th>1A-0110157-il</th>\n",
              "      <td>5257 SWANSON RD, ROSCOE, IL, 61073</td>\n",
              "      <td>Match</td>\n",
              "      <td>Exact</td>\n",
              "      <td>5257 Swanson Rd, ROSCOE, IL, 61073</td>\n",
              "      <td>-89.01434,42.39195</td>\n",
              "      <td>49293105.0</td>\n",
              "      <td>R</td>\n",
              "      <td>17.0</td>\n",
              "      <td>201.0</td>\n",
              "      <td>3805.0</td>\n",
              "      <td>2074.0</td>\n",
              "    </tr>\n",
              "    <tr>\n",
              "      <th>1A-1132881-il</th>\n",
              "      <td>205 REC PLEX DR, O FALLON, IL, 62269</td>\n",
              "      <td>No_Match</td>\n",
              "      <td>NaN</td>\n",
              "      <td>NaN</td>\n",
              "      <td>NaN</td>\n",
              "      <td>NaN</td>\n",
              "      <td>NaN</td>\n",
              "      <td>NaN</td>\n",
              "      <td>NaN</td>\n",
              "      <td>NaN</td>\n",
              "      <td>NaN</td>\n",
              "    </tr>\n",
              "    <tr>\n",
              "      <th>1A-1121970-il</th>\n",
              "      <td>109 E CARROLL ST, LANARK, IL, 61046</td>\n",
              "      <td>Match</td>\n",
              "      <td>Exact</td>\n",
              "      <td>109 E Carroll St, LANARK, IL, 61046</td>\n",
              "      <td>-89.83273,42.10298</td>\n",
              "      <td>27680307.0</td>\n",
              "      <td>R</td>\n",
              "      <td>17.0</td>\n",
              "      <td>15.0</td>\n",
              "      <td>960100.0</td>\n",
              "      <td>4018.0</td>\n",
              "    </tr>\n",
              "    <tr>\n",
              "      <th>1A-0039053-il</th>\n",
              "      <td>100 ELM DR, EDWARDSVILLE, IL, 62025</td>\n",
              "      <td>Match</td>\n",
              "      <td>Exact</td>\n",
              "      <td>100 Elm Dr, EDWARDSVILLE, IL, 62025</td>\n",
              "      <td>-89.94127,38.92008</td>\n",
              "      <td>107744867.0</td>\n",
              "      <td>L</td>\n",
              "      <td>17.0</td>\n",
              "      <td>119.0</td>\n",
              "      <td>402802.0</td>\n",
              "      <td>2130.0</td>\n",
              "    </tr>\n",
              "    <tr>\n",
              "      <th>1A-1141104-il</th>\n",
              "      <td>725A BROADWAY ST, LINCOLN, IL, 62656</td>\n",
              "      <td>Match</td>\n",
              "      <td>Exact</td>\n",
              "      <td>725 Broadway St, LINCOLN, IL, 62656</td>\n",
              "      <td>-89.361275,40.1459</td>\n",
              "      <td>22455613.0</td>\n",
              "      <td>L</td>\n",
              "      <td>17.0</td>\n",
              "      <td>107.0</td>\n",
              "      <td>953200.0</td>\n",
              "      <td>4031.0</td>\n",
              "    </tr>\n",
              "    <tr>\n",
              "      <th>1A-0109271-il</th>\n",
              "      <td>226 SOUTHTOWNE SHOPPING CTR, DU QUOIN, IL, 62832</td>\n",
              "      <td>Match</td>\n",
              "      <td>Non_Exact</td>\n",
              "      <td>226 Southtowne Shopping Ctrr, DU QUOIN, IL, 62832</td>\n",
              "      <td>-89.23603,37.995388</td>\n",
              "      <td>93120879.0</td>\n",
              "      <td>R</td>\n",
              "      <td>17.0</td>\n",
              "      <td>145.0</td>\n",
              "      <td>30600.0</td>\n",
              "      <td>3046.0</td>\n",
              "    </tr>\n",
              "    <tr>\n",
              "      <th>1A-0098157-il</th>\n",
              "      <td>399 WESLEY DR, WOOD RIVER, IL, 62095</td>\n",
              "      <td>No_Match</td>\n",
              "      <td>NaN</td>\n",
              "      <td>NaN</td>\n",
              "      <td>NaN</td>\n",
              "      <td>NaN</td>\n",
              "      <td>NaN</td>\n",
              "      <td>NaN</td>\n",
              "      <td>NaN</td>\n",
              "      <td>NaN</td>\n",
              "      <td>NaN</td>\n",
              "    </tr>\n",
              "    <tr>\n",
              "      <th>1A-0066316-il</th>\n",
              "      <td>3500 KINGSHIGHWAY, FAIRMONT CITY, IL, 62201</td>\n",
              "      <td>No_Match</td>\n",
              "      <td>NaN</td>\n",
              "      <td>NaN</td>\n",
              "      <td>NaN</td>\n",
              "      <td>NaN</td>\n",
              "      <td>NaN</td>\n",
              "      <td>NaN</td>\n",
              "      <td>NaN</td>\n",
              "      <td>NaN</td>\n",
              "      <td>NaN</td>\n",
              "    </tr>\n",
              "    <tr>\n",
              "      <th>1G-0080277-il</th>\n",
              "      <td>BURNHAM PARK HARBOR, CHICAGO, IL, 60605</td>\n",
              "      <td>No_Match</td>\n",
              "      <td>NaN</td>\n",
              "      <td>NaN</td>\n",
              "      <td>NaN</td>\n",
              "      <td>NaN</td>\n",
              "      <td>NaN</td>\n",
              "      <td>NaN</td>\n",
              "      <td>NaN</td>\n",
              "      <td>NaN</td>\n",
              "      <td>NaN</td>\n",
              "    </tr>\n",
              "    <tr>\n",
              "      <th>1A-1133838-il</th>\n",
              "      <td>2950 FINLEY RD, DOWNERS GROVE, IL, 60515</td>\n",
              "      <td>Match</td>\n",
              "      <td>Exact</td>\n",
              "      <td>2950 Finley Rd, DOWNERS GROVE, IL, 60515</td>\n",
              "      <td>-88.02578,41.835102</td>\n",
              "      <td>112532770.0</td>\n",
              "      <td>R</td>\n",
              "      <td>17.0</td>\n",
              "      <td>43.0</td>\n",
              "      <td>844305.0</td>\n",
              "      <td>3018.0</td>\n",
              "    </tr>\n",
              "    <tr>\n",
              "      <th>1A-1133851-il</th>\n",
              "      <td>1100 S ELMHURST RD, MOUNT PROSPECT, IL, 60056</td>\n",
              "      <td>Match</td>\n",
              "      <td>Non_Exact</td>\n",
              "      <td>1100 N Elmhurst Rd, MT PROSPECT, IL, 60056</td>\n",
              "      <td>-87.93681,42.085632</td>\n",
              "      <td>111719654.0</td>\n",
              "      <td>L</td>\n",
              "      <td>17.0</td>\n",
              "      <td>31.0</td>\n",
              "      <td>802701.0</td>\n",
              "      <td>1017.0</td>\n",
              "    </tr>\n",
              "    <tr>\n",
              "      <th>...</th>\n",
              "      <td>...</td>\n",
              "      <td>...</td>\n",
              "      <td>...</td>\n",
              "      <td>...</td>\n",
              "      <td>...</td>\n",
              "      <td>...</td>\n",
              "      <td>...</td>\n",
              "      <td>...</td>\n",
              "      <td>...</td>\n",
              "      <td>...</td>\n",
              "      <td>...</td>\n",
              "    </tr>\n",
              "    <tr>\n",
              "      <th>1A-0085392-il</th>\n",
              "      <td>72 AIRPORT PLAZA, BETHALTO, IL, 62010</td>\n",
              "      <td>Match</td>\n",
              "      <td>Exact</td>\n",
              "      <td>72 Airport Plz, BETHALTO, IL, 62010</td>\n",
              "      <td>-90.05686,38.901573</td>\n",
              "      <td>107719991.0</td>\n",
              "      <td>R</td>\n",
              "      <td>17.0</td>\n",
              "      <td>119.0</td>\n",
              "      <td>401722.0</td>\n",
              "      <td>1010.0</td>\n",
              "    </tr>\n",
              "    <tr>\n",
              "      <th>1A-1132708-il</th>\n",
              "      <td>8031 W 87TH ST, HICKORY HILLS, IL, 60457</td>\n",
              "      <td>No_Match</td>\n",
              "      <td>NaN</td>\n",
              "      <td>NaN</td>\n",
              "      <td>NaN</td>\n",
              "      <td>NaN</td>\n",
              "      <td>NaN</td>\n",
              "      <td>NaN</td>\n",
              "      <td>NaN</td>\n",
              "      <td>NaN</td>\n",
              "      <td>NaN</td>\n",
              "    </tr>\n",
              "    <tr>\n",
              "      <th>1A-1132136-il</th>\n",
              "      <td>1600 N MILWAUKEE AVE, CHICAGO, IL, 60647</td>\n",
              "      <td>Match</td>\n",
              "      <td>Exact</td>\n",
              "      <td>1600 N Milwaukee Ave, CHICAGO, IL, 60647</td>\n",
              "      <td>-87.67757,41.910423</td>\n",
              "      <td>111764172.0</td>\n",
              "      <td>L</td>\n",
              "      <td>17.0</td>\n",
              "      <td>31.0</td>\n",
              "      <td>240500.0</td>\n",
              "      <td>1026.0</td>\n",
              "    </tr>\n",
              "    <tr>\n",
              "      <th>1A-0065212-il</th>\n",
              "      <td>1509 N RAND RD, PALATINE, IL, 60074</td>\n",
              "      <td>Match</td>\n",
              "      <td>Exact</td>\n",
              "      <td>1509 Rand Rd, PALATINE, IL, 60074</td>\n",
              "      <td>-88.01976,42.137684</td>\n",
              "      <td>611131032.0</td>\n",
              "      <td>R</td>\n",
              "      <td>17.0</td>\n",
              "      <td>31.0</td>\n",
              "      <td>803606.0</td>\n",
              "      <td>3004.0</td>\n",
              "    </tr>\n",
              "    <tr>\n",
              "      <th>1A-0005864-il</th>\n",
              "      <td>1801 BROADWAY ST, QUINCY, IL, 62301</td>\n",
              "      <td>Match</td>\n",
              "      <td>Exact</td>\n",
              "      <td>1801 Broadway St, QUINCY, IL, 62301</td>\n",
              "      <td>-91.38697,39.935574</td>\n",
              "      <td>35064233.0</td>\n",
              "      <td>R</td>\n",
              "      <td>17.0</td>\n",
              "      <td>1.0</td>\n",
              "      <td>600.0</td>\n",
              "      <td>2002.0</td>\n",
              "    </tr>\n",
              "    <tr>\n",
              "      <th>1A-0080266-il</th>\n",
              "      <td>933 S RIVERSIDE DR, ELMHURST, IL, 60126</td>\n",
              "      <td>Match</td>\n",
              "      <td>Exact</td>\n",
              "      <td>933 Riverside Dr, ELMHURST, IL, 60126</td>\n",
              "      <td>-87.95886,41.87048</td>\n",
              "      <td>112706619.0</td>\n",
              "      <td>L</td>\n",
              "      <td>17.0</td>\n",
              "      <td>43.0</td>\n",
              "      <td>844601.0</td>\n",
              "      <td>3008.0</td>\n",
              "    </tr>\n",
              "    <tr>\n",
              "      <th>1A-0090918-il</th>\n",
              "      <td>1200 W MAIN ST, PEORIA, IL, 61606</td>\n",
              "      <td>Match</td>\n",
              "      <td>Exact</td>\n",
              "      <td>1200 W Main St, PEORIA, IL, 61606</td>\n",
              "      <td>-89.61184,40.699764</td>\n",
              "      <td>8716726.0</td>\n",
              "      <td>L</td>\n",
              "      <td>17.0</td>\n",
              "      <td>143.0</td>\n",
              "      <td>1800.0</td>\n",
              "      <td>3017.0</td>\n",
              "    </tr>\n",
              "    <tr>\n",
              "      <th>1A-1136112-il</th>\n",
              "      <td>119 W MAIN ST, INDUSTRY, IL, 61440</td>\n",
              "      <td>Match</td>\n",
              "      <td>Exact</td>\n",
              "      <td>119 W Main St, INDUSTRY, IL, 61440</td>\n",
              "      <td>-90.6076,40.32758</td>\n",
              "      <td>5372464.0</td>\n",
              "      <td>L</td>\n",
              "      <td>17.0</td>\n",
              "      <td>109.0</td>\n",
              "      <td>11000.0</td>\n",
              "      <td>3133.0</td>\n",
              "    </tr>\n",
              "    <tr>\n",
              "      <th>1A-0010831-il</th>\n",
              "      <td>3707 E 106TH ST, CHICAGO, IL, 60617</td>\n",
              "      <td>Match</td>\n",
              "      <td>Exact</td>\n",
              "      <td>3707 E 106th St, CHICAGO, IL, 60617</td>\n",
              "      <td>-87.533775,41.70274</td>\n",
              "      <td>605587738.0</td>\n",
              "      <td>L</td>\n",
              "      <td>17.0</td>\n",
              "      <td>31.0</td>\n",
              "      <td>520400.0</td>\n",
              "      <td>4018.0</td>\n",
              "    </tr>\n",
              "    <tr>\n",
              "      <th>1A-1139529-il</th>\n",
              "      <td>840 S WAUKEGAN RD, LAKE FOREST, IL, 60045</td>\n",
              "      <td>No_Match</td>\n",
              "      <td>NaN</td>\n",
              "      <td>NaN</td>\n",
              "      <td>NaN</td>\n",
              "      <td>NaN</td>\n",
              "      <td>NaN</td>\n",
              "      <td>NaN</td>\n",
              "      <td>NaN</td>\n",
              "      <td>NaN</td>\n",
              "      <td>NaN</td>\n",
              "    </tr>\n",
              "    <tr>\n",
              "      <th>1A-0009653-il</th>\n",
              "      <td>3400 RIVER RD, FRANKLIN PARK, IL, 60131</td>\n",
              "      <td>Match</td>\n",
              "      <td>Exact</td>\n",
              "      <td>3400 River Rd, FRANKLIN PARK, IL, 60131</td>\n",
              "      <td>-87.85266,41.940067</td>\n",
              "      <td>111746309.0</td>\n",
              "      <td>L</td>\n",
              "      <td>17.0</td>\n",
              "      <td>31.0</td>\n",
              "      <td>811500.0</td>\n",
              "      <td>1008.0</td>\n",
              "    </tr>\n",
              "    <tr>\n",
              "      <th>1B-1132563-il</th>\n",
              "      <td>940 PITNER AVE, EVANSTON, IL, 60202</td>\n",
              "      <td>Match</td>\n",
              "      <td>Exact</td>\n",
              "      <td>940 Pitner Ave, EVANSTON, IL, 60202</td>\n",
              "      <td>-87.70553,42.034832</td>\n",
              "      <td>111844987.0</td>\n",
              "      <td>L</td>\n",
              "      <td>17.0</td>\n",
              "      <td>31.0</td>\n",
              "      <td>809700.0</td>\n",
              "      <td>3025.0</td>\n",
              "    </tr>\n",
              "    <tr>\n",
              "      <th>1A-1136680-il</th>\n",
              "      <td>2261 N MILWAUKEE AVE, CHICAGO, IL, 60647</td>\n",
              "      <td>Match</td>\n",
              "      <td>Exact</td>\n",
              "      <td>2261 N Milwaukee Ave, CHICAGO, IL, 60647</td>\n",
              "      <td>-87.696,41.922085</td>\n",
              "      <td>111762645.0</td>\n",
              "      <td>R</td>\n",
              "      <td>17.0</td>\n",
              "      <td>31.0</td>\n",
              "      <td>221400.0</td>\n",
              "      <td>2001.0</td>\n",
              "    </tr>\n",
              "    <tr>\n",
              "      <th>1A-1136493-il</th>\n",
              "      <td>11427 COMMERCIAL ST, RICHMOND, IL, 60071</td>\n",
              "      <td>Match</td>\n",
              "      <td>Non_Exact</td>\n",
              "      <td>11427 Commercial Ave, RICHMOND, IL, 60071</td>\n",
              "      <td>-88.30809,42.48774</td>\n",
              "      <td>119841617.0</td>\n",
              "      <td>R</td>\n",
              "      <td>17.0</td>\n",
              "      <td>111.0</td>\n",
              "      <td>870101.0</td>\n",
              "      <td>2027.0</td>\n",
              "    </tr>\n",
              "    <tr>\n",
              "      <th>1G-0055615-il</th>\n",
              "      <td>400 N MICHIGAN AVE, CHICAGO, IL, 60611</td>\n",
              "      <td>Match</td>\n",
              "      <td>Exact</td>\n",
              "      <td>400 N Michigan Ave, CHICAGO, IL, 60611</td>\n",
              "      <td>-87.62437,41.88895</td>\n",
              "      <td>616783790.0</td>\n",
              "      <td>L</td>\n",
              "      <td>17.0</td>\n",
              "      <td>31.0</td>\n",
              "      <td>81500.0</td>\n",
              "      <td>3013.0</td>\n",
              "    </tr>\n",
              "    <tr>\n",
              "      <th>1A-1132510-il</th>\n",
              "      <td>230 N STATE HIGHWAY 1, WEST UNION, IL, 62477</td>\n",
              "      <td>Match</td>\n",
              "      <td>Non_Exact</td>\n",
              "      <td>230 N State Hwy 1, WEST UNION, IL, 62477</td>\n",
              "      <td>-87.67998,39.17325</td>\n",
              "      <td>605662475.0</td>\n",
              "      <td>R</td>\n",
              "      <td>17.0</td>\n",
              "      <td>23.0</td>\n",
              "      <td>60100.0</td>\n",
              "      <td>6132.0</td>\n",
              "    </tr>\n",
              "    <tr>\n",
              "      <th>1A-0055517-il</th>\n",
              "      <td>2131 183RD STREET, HOMEWOOD, IL, 60430</td>\n",
              "      <td>Match</td>\n",
              "      <td>Exact</td>\n",
              "      <td>2131 183rd St, HOMEWOOD, IL, 60430</td>\n",
              "      <td>-87.6689,41.557228</td>\n",
              "      <td>111709529.0</td>\n",
              "      <td>L</td>\n",
              "      <td>17.0</td>\n",
              "      <td>31.0</td>\n",
              "      <td>828601.0</td>\n",
              "      <td>4002.0</td>\n",
              "    </tr>\n",
              "    <tr>\n",
              "      <th>1A-0011782-il</th>\n",
              "      <td>280 W 3RD ST, ADDIEVILLE, IL, 62214</td>\n",
              "      <td>No_Match</td>\n",
              "      <td>NaN</td>\n",
              "      <td>NaN</td>\n",
              "      <td>NaN</td>\n",
              "      <td>NaN</td>\n",
              "      <td>NaN</td>\n",
              "      <td>NaN</td>\n",
              "      <td>NaN</td>\n",
              "      <td>NaN</td>\n",
              "      <td>NaN</td>\n",
              "    </tr>\n",
              "    <tr>\n",
              "      <th>1A-0097553-il</th>\n",
              "      <td>5 W IRVING PARK RD, BENSENVILLE, IL, 60106</td>\n",
              "      <td>No_Match</td>\n",
              "      <td>NaN</td>\n",
              "      <td>NaN</td>\n",
              "      <td>NaN</td>\n",
              "      <td>NaN</td>\n",
              "      <td>NaN</td>\n",
              "      <td>NaN</td>\n",
              "      <td>NaN</td>\n",
              "      <td>NaN</td>\n",
              "      <td>NaN</td>\n",
              "    </tr>\n",
              "    <tr>\n",
              "      <th>1A-0102729-il</th>\n",
              "      <td>132 S ASHLAND AVE, CHICAGO, IL, 60607</td>\n",
              "      <td>Match</td>\n",
              "      <td>Exact</td>\n",
              "      <td>132 S Ashland Ave, CHICAGO, IL, 60607</td>\n",
              "      <td>-87.666855,41.879738</td>\n",
              "      <td>111766296.0</td>\n",
              "      <td>R</td>\n",
              "      <td>17.0</td>\n",
              "      <td>31.0</td>\n",
              "      <td>838100.0</td>\n",
              "      <td>1007.0</td>\n",
              "    </tr>\n",
              "    <tr>\n",
              "      <th>1A-0092054-il</th>\n",
              "      <td>8712 SOUTH STONY ISLAND AVE, CHICAGO, IL, 60617</td>\n",
              "      <td>Match</td>\n",
              "      <td>Exact</td>\n",
              "      <td>8712 S Stony Island Ave, CHICAGO, IL, 60617</td>\n",
              "      <td>-87.585655,41.73662</td>\n",
              "      <td>111775350.0</td>\n",
              "      <td>R</td>\n",
              "      <td>17.0</td>\n",
              "      <td>31.0</td>\n",
              "      <td>480200.0</td>\n",
              "      <td>1000.0</td>\n",
              "    </tr>\n",
              "    <tr>\n",
              "      <th>1A-1124137-il</th>\n",
              "      <td>17 W MAIN ST, OAKDALE, IL, 62268</td>\n",
              "      <td>Match</td>\n",
              "      <td>Exact</td>\n",
              "      <td>17 W Main St, OAKDALE, IL, 62268</td>\n",
              "      <td>-89.5037,38.26167</td>\n",
              "      <td>93156718.0</td>\n",
              "      <td>R</td>\n",
              "      <td>17.0</td>\n",
              "      <td>189.0</td>\n",
              "      <td>950400.0</td>\n",
              "      <td>4065.0</td>\n",
              "    </tr>\n",
              "    <tr>\n",
              "      <th>1A-0006434-il</th>\n",
              "      <td>1930 W FOSTER AVE, CHICAGO, IL, 60640</td>\n",
              "      <td>Match</td>\n",
              "      <td>Exact</td>\n",
              "      <td>1930 W Foster Ave, CHICAGO, IL, 60640</td>\n",
              "      <td>-87.67776,41.97607</td>\n",
              "      <td>605185586.0</td>\n",
              "      <td>R</td>\n",
              "      <td>17.0</td>\n",
              "      <td>31.0</td>\n",
              "      <td>40100.0</td>\n",
              "      <td>2020.0</td>\n",
              "    </tr>\n",
              "    <tr>\n",
              "      <th>1A-0097366-il</th>\n",
              "      <td>3929 W WAR MEMORIAL DR, PEORIA, IL, 61615</td>\n",
              "      <td>Match</td>\n",
              "      <td>Non_Exact</td>\n",
              "      <td>3929 War Memorial Dr, PEORIA, IL, 61614</td>\n",
              "      <td>-89.61777,40.734314</td>\n",
              "      <td>8721306.0</td>\n",
              "      <td>R</td>\n",
              "      <td>17.0</td>\n",
              "      <td>143.0</td>\n",
              "      <td>2800.0</td>\n",
              "      <td>2001.0</td>\n",
              "    </tr>\n",
              "    <tr>\n",
              "      <th>1A-1139716-il</th>\n",
              "      <td>21720 W LONG GROVE RD, DEER PARK, IL, 60010</td>\n",
              "      <td>No_Match</td>\n",
              "      <td>NaN</td>\n",
              "      <td>NaN</td>\n",
              "      <td>NaN</td>\n",
              "      <td>NaN</td>\n",
              "      <td>NaN</td>\n",
              "      <td>NaN</td>\n",
              "      <td>NaN</td>\n",
              "      <td>NaN</td>\n",
              "      <td>NaN</td>\n",
              "    </tr>\n",
              "    <tr>\n",
              "      <th>1A-0074547-il</th>\n",
              "      <td>149 W LINCOLN AVE, HINCKLEY, IL, 60520</td>\n",
              "      <td>Match</td>\n",
              "      <td>Exact</td>\n",
              "      <td>149 W Lincoln Ave, HINCKLEY, IL, 60520</td>\n",
              "      <td>-88.64168,41.768997</td>\n",
              "      <td>52262398.0</td>\n",
              "      <td>L</td>\n",
              "      <td>17.0</td>\n",
              "      <td>37.0</td>\n",
              "      <td>1700.0</td>\n",
              "      <td>2036.0</td>\n",
              "    </tr>\n",
              "    <tr>\n",
              "      <th>1A-0091103-il</th>\n",
              "      <td>2015 S MOUNT ZION RD, DECATUR, IL, 62521</td>\n",
              "      <td>Match</td>\n",
              "      <td>Exact</td>\n",
              "      <td>2015 S Mount Zion Rd, DECATUR, IL, 62521</td>\n",
              "      <td>-88.87823,39.818577</td>\n",
              "      <td>610720566.0</td>\n",
              "      <td>R</td>\n",
              "      <td>17.0</td>\n",
              "      <td>115.0</td>\n",
              "      <td>2402.0</td>\n",
              "      <td>4000.0</td>\n",
              "    </tr>\n",
              "    <tr>\n",
              "      <th>1A-1121486-il</th>\n",
              "      <td>1302 AVENUE OF MID AMERICA, EFFINGHAM, IL, 62401</td>\n",
              "      <td>Match</td>\n",
              "      <td>Non_Exact</td>\n",
              "      <td>1302 Ave of Mid-America, EFFINGHAM, IL, 62401</td>\n",
              "      <td>-88.55936,39.139683</td>\n",
              "      <td>94769366.0</td>\n",
              "      <td>R</td>\n",
              "      <td>17.0</td>\n",
              "      <td>49.0</td>\n",
              "      <td>950700.0</td>\n",
              "      <td>1040.0</td>\n",
              "    </tr>\n",
              "    <tr>\n",
              "      <th>1A-1121299-il</th>\n",
              "      <td>980 E GRAND AVE, LAKE VILLA, IL, 60046</td>\n",
              "      <td>Match</td>\n",
              "      <td>Exact</td>\n",
              "      <td>980 Grand Ave, LAKE VILLA, IL, 60046</td>\n",
              "      <td>-88.05803,42.415443</td>\n",
              "      <td>119670725.0</td>\n",
              "      <td>L</td>\n",
              "      <td>17.0</td>\n",
              "      <td>97.0</td>\n",
              "      <td>861012.0</td>\n",
              "      <td>1076.0</td>\n",
              "    </tr>\n",
              "    <tr>\n",
              "      <th>1A-0007572-il</th>\n",
              "      <td>440 E GRAND AVE, CHICAGO, IL, 60611</td>\n",
              "      <td>Match</td>\n",
              "      <td>Exact</td>\n",
              "      <td>440 E Grand Ave, CHICAGO, IL, 60611</td>\n",
              "      <td>-87.61598,41.891888</td>\n",
              "      <td>605072879.0</td>\n",
              "      <td>L</td>\n",
              "      <td>17.0</td>\n",
              "      <td>31.0</td>\n",
              "      <td>81402.0</td>\n",
              "      <td>1009.0</td>\n",
              "    </tr>\n",
              "  </tbody>\n",
              "</table>\n",
              "<p>23847 rows × 11 columns</p>\n",
              "</div>"
            ],
            "text/plain": [
              "                                                             1         2   \\\n",
              "0                                                                           \n",
              "1A-1129102-il               219 E MAIN ST, BRAIDWOOD, IL, 60408     Match   \n",
              "1A-0019677-il             3759 N KEDZIE AVE, CHICAGO, IL, 60618     Match   \n",
              "1A-0104946-il     3000 SOUTH RIVER ROAD, DES PLAINES, IL, 60018  No_Match   \n",
              "1A-0018466-il            4560 N LINCOLN AVE, CHICAGO, IL, 60625     Match   \n",
              "1A-1133724-il              4712 147TH ST, MIDLOTHIAN, IL, 60445     Match   \n",
              "1A-1129584-il                6559 RTE 162, MARYVILLE, IL, 62062     Match   \n",
              "1A-0087373-il          1332 N MILWAUKEE AVE, CHICAGO, IL, 60622     Match   \n",
              "1A-0092724-il            862 STATE HIGHWAY 34, HEROD, IL, 62947  No_Match   \n",
              "1A-1133609-il             150 E STATION ST, KANKAKEE, IL, 60901     Match   \n",
              "1A-0018340-il                 815 W 35TH ST, CHICAGO, IL, 60609     Match   \n",
              "1A-1141472-il            118 S STATE ST, JERSEYVILLE, IL, 62052     Match   \n",
              "1A-1137091-il            1715 FREEDOM DR, NAPERVILLE, IL, 60563  No_Match   \n",
              "1A-1141231-il     9642 S WESTERN AVE, EVERGREEN PARK, IL, 60805  No_Match   \n",
              "1A-0019792-il                  607 NE 13TH ST, CASEY, IL, 62420  No_Match   \n",
              "1A-1141357-il                    501 MAIN ST, PEORIA, IL, 61602     Match   \n",
              "1B-1138021-il                302 N GREEN ST, CHICAGO, IL, 60607     Match   \n",
              "1A-0098398-il         1200 E TWIN LAKES DR, PALATINE, IL, 60074  No_Match   \n",
              "1A-1121741-il           2435 WASHINGTON ST, WAUKEGAN, IL, 60085     Match   \n",
              "1A-0077571-il               202 EASTWOOD DR, MAHOMET, IL, 61853  No_Match   \n",
              "1A-0110157-il                5257 SWANSON RD, ROSCOE, IL, 61073     Match   \n",
              "1A-1132881-il              205 REC PLEX DR, O FALLON, IL, 62269  No_Match   \n",
              "1A-1121970-il               109 E CARROLL ST, LANARK, IL, 61046     Match   \n",
              "1A-0039053-il               100 ELM DR, EDWARDSVILLE, IL, 62025     Match   \n",
              "1A-1141104-il              725A BROADWAY ST, LINCOLN, IL, 62656     Match   \n",
              "1A-0109271-il  226 SOUTHTOWNE SHOPPING CTR, DU QUOIN, IL, 62832     Match   \n",
              "1A-0098157-il              399 WESLEY DR, WOOD RIVER, IL, 62095  No_Match   \n",
              "1A-0066316-il       3500 KINGSHIGHWAY, FAIRMONT CITY, IL, 62201  No_Match   \n",
              "1G-0080277-il           BURNHAM PARK HARBOR, CHICAGO, IL, 60605  No_Match   \n",
              "1A-1133838-il          2950 FINLEY RD, DOWNERS GROVE, IL, 60515     Match   \n",
              "1A-1133851-il     1100 S ELMHURST RD, MOUNT PROSPECT, IL, 60056     Match   \n",
              "...                                                         ...       ...   \n",
              "1A-0085392-il             72 AIRPORT PLAZA, BETHALTO, IL, 62010     Match   \n",
              "1A-1132708-il          8031 W 87TH ST, HICKORY HILLS, IL, 60457  No_Match   \n",
              "1A-1132136-il          1600 N MILWAUKEE AVE, CHICAGO, IL, 60647     Match   \n",
              "1A-0065212-il               1509 N RAND RD, PALATINE, IL, 60074     Match   \n",
              "1A-0005864-il               1801 BROADWAY ST, QUINCY, IL, 62301     Match   \n",
              "1A-0080266-il           933 S RIVERSIDE DR, ELMHURST, IL, 60126     Match   \n",
              "1A-0090918-il                 1200 W MAIN ST, PEORIA, IL, 61606     Match   \n",
              "1A-1136112-il                119 W MAIN ST, INDUSTRY, IL, 61440     Match   \n",
              "1A-0010831-il               3707 E 106TH ST, CHICAGO, IL, 60617     Match   \n",
              "1A-1139529-il         840 S WAUKEGAN RD, LAKE FOREST, IL, 60045  No_Match   \n",
              "1A-0009653-il           3400 RIVER RD, FRANKLIN PARK, IL, 60131     Match   \n",
              "1B-1132563-il               940 PITNER AVE, EVANSTON, IL, 60202     Match   \n",
              "1A-1136680-il          2261 N MILWAUKEE AVE, CHICAGO, IL, 60647     Match   \n",
              "1A-1136493-il          11427 COMMERCIAL ST, RICHMOND, IL, 60071     Match   \n",
              "1G-0055615-il            400 N MICHIGAN AVE, CHICAGO, IL, 60611     Match   \n",
              "1A-1132510-il      230 N STATE HIGHWAY 1, WEST UNION, IL, 62477     Match   \n",
              "1A-0055517-il            2131 183RD STREET, HOMEWOOD, IL, 60430     Match   \n",
              "1A-0011782-il               280 W 3RD ST, ADDIEVILLE, IL, 62214  No_Match   \n",
              "1A-0097553-il        5 W IRVING PARK RD, BENSENVILLE, IL, 60106  No_Match   \n",
              "1A-0102729-il             132 S ASHLAND AVE, CHICAGO, IL, 60607     Match   \n",
              "1A-0092054-il   8712 SOUTH STONY ISLAND AVE, CHICAGO, IL, 60617     Match   \n",
              "1A-1124137-il                  17 W MAIN ST, OAKDALE, IL, 62268     Match   \n",
              "1A-0006434-il             1930 W FOSTER AVE, CHICAGO, IL, 60640     Match   \n",
              "1A-0097366-il         3929 W WAR MEMORIAL DR, PEORIA, IL, 61615     Match   \n",
              "1A-1139716-il       21720 W LONG GROVE RD, DEER PARK, IL, 60010  No_Match   \n",
              "1A-0074547-il            149 W LINCOLN AVE, HINCKLEY, IL, 60520     Match   \n",
              "1A-0091103-il          2015 S MOUNT ZION RD, DECATUR, IL, 62521     Match   \n",
              "1A-1121486-il  1302 AVENUE OF MID AMERICA, EFFINGHAM, IL, 62401     Match   \n",
              "1A-1121299-il            980 E GRAND AVE, LAKE VILLA, IL, 60046     Match   \n",
              "1A-0007572-il               440 E GRAND AVE, CHICAGO, IL, 60611     Match   \n",
              "\n",
              "                      3                                                  4   \\\n",
              "0                                                                             \n",
              "1A-1129102-il      Exact                219 E Main St, BRAIDWOOD, IL, 60408   \n",
              "1A-0019677-il      Exact              3759 N Kedzie Ave, CHICAGO, IL, 60618   \n",
              "1A-0104946-il        NaN                                                NaN   \n",
              "1A-0018466-il      Exact             4560 N Lincoln Ave, CHICAGO, IL, 60625   \n",
              "1A-1133724-il      Exact               4712 147th St, MIDLOTHIAN, IL, 60445   \n",
              "1A-1129584-il  Non_Exact           6559 State Rte 162, MARYVILLE, IL, 62062   \n",
              "1A-0087373-il      Exact           1332 N Milwaukee Ave, CHICAGO, IL, 60622   \n",
              "1A-0092724-il        NaN                                                NaN   \n",
              "1A-1133609-il      Exact              150 E Station St, KANKAKEE, IL, 60901   \n",
              "1A-0018340-il      Exact                  815 W 35th St, CHICAGO, IL, 60609   \n",
              "1A-1141472-il      Exact             118 S State St, JERSEYVILLE, IL, 62052   \n",
              "1A-1137091-il        NaN                                                NaN   \n",
              "1A-1141231-il        NaN                                                NaN   \n",
              "1A-0019792-il        NaN                                                NaN   \n",
              "1A-1141357-il      Exact                     501 Main St, PEORIA, IL, 61602   \n",
              "1B-1138021-il      Exact                 302 N Green St, CHICAGO, IL, 60607   \n",
              "1A-0098398-il        NaN                                                NaN   \n",
              "1A-1121741-il      Exact            2435 Washington St, WAUKEGAN, IL, 60085   \n",
              "1A-0077571-il        NaN                                                NaN   \n",
              "1A-0110157-il      Exact                 5257 Swanson Rd, ROSCOE, IL, 61073   \n",
              "1A-1132881-il        NaN                                                NaN   \n",
              "1A-1121970-il      Exact                109 E Carroll St, LANARK, IL, 61046   \n",
              "1A-0039053-il      Exact                100 Elm Dr, EDWARDSVILLE, IL, 62025   \n",
              "1A-1141104-il      Exact                725 Broadway St, LINCOLN, IL, 62656   \n",
              "1A-0109271-il  Non_Exact  226 Southtowne Shopping Ctrr, DU QUOIN, IL, 62832   \n",
              "1A-0098157-il        NaN                                                NaN   \n",
              "1A-0066316-il        NaN                                                NaN   \n",
              "1G-0080277-il        NaN                                                NaN   \n",
              "1A-1133838-il      Exact           2950 Finley Rd, DOWNERS GROVE, IL, 60515   \n",
              "1A-1133851-il  Non_Exact         1100 N Elmhurst Rd, MT PROSPECT, IL, 60056   \n",
              "...                  ...                                                ...   \n",
              "1A-0085392-il      Exact                72 Airport Plz, BETHALTO, IL, 62010   \n",
              "1A-1132708-il        NaN                                                NaN   \n",
              "1A-1132136-il      Exact           1600 N Milwaukee Ave, CHICAGO, IL, 60647   \n",
              "1A-0065212-il      Exact                  1509 Rand Rd, PALATINE, IL, 60074   \n",
              "1A-0005864-il      Exact                1801 Broadway St, QUINCY, IL, 62301   \n",
              "1A-0080266-il      Exact              933 Riverside Dr, ELMHURST, IL, 60126   \n",
              "1A-0090918-il      Exact                  1200 W Main St, PEORIA, IL, 61606   \n",
              "1A-1136112-il      Exact                 119 W Main St, INDUSTRY, IL, 61440   \n",
              "1A-0010831-il      Exact                3707 E 106th St, CHICAGO, IL, 60617   \n",
              "1A-1139529-il        NaN                                                NaN   \n",
              "1A-0009653-il      Exact            3400 River Rd, FRANKLIN PARK, IL, 60131   \n",
              "1B-1132563-il      Exact                940 Pitner Ave, EVANSTON, IL, 60202   \n",
              "1A-1136680-il      Exact           2261 N Milwaukee Ave, CHICAGO, IL, 60647   \n",
              "1A-1136493-il  Non_Exact          11427 Commercial Ave, RICHMOND, IL, 60071   \n",
              "1G-0055615-il      Exact             400 N Michigan Ave, CHICAGO, IL, 60611   \n",
              "1A-1132510-il  Non_Exact           230 N State Hwy 1, WEST UNION, IL, 62477   \n",
              "1A-0055517-il      Exact                 2131 183rd St, HOMEWOOD, IL, 60430   \n",
              "1A-0011782-il        NaN                                                NaN   \n",
              "1A-0097553-il        NaN                                                NaN   \n",
              "1A-0102729-il      Exact              132 S Ashland Ave, CHICAGO, IL, 60607   \n",
              "1A-0092054-il      Exact        8712 S Stony Island Ave, CHICAGO, IL, 60617   \n",
              "1A-1124137-il      Exact                   17 W Main St, OAKDALE, IL, 62268   \n",
              "1A-0006434-il      Exact              1930 W Foster Ave, CHICAGO, IL, 60640   \n",
              "1A-0097366-il  Non_Exact            3929 War Memorial Dr, PEORIA, IL, 61614   \n",
              "1A-1139716-il        NaN                                                NaN   \n",
              "1A-0074547-il      Exact             149 W Lincoln Ave, HINCKLEY, IL, 60520   \n",
              "1A-0091103-il      Exact           2015 S Mount Zion Rd, DECATUR, IL, 62521   \n",
              "1A-1121486-il  Non_Exact      1302 Ave of Mid-America, EFFINGHAM, IL, 62401   \n",
              "1A-1121299-il      Exact               980 Grand Ave, LAKE VILLA, IL, 60046   \n",
              "1A-0007572-il      Exact                440 E Grand Ave, CHICAGO, IL, 60611   \n",
              "\n",
              "                                 5            6    7     8      9         10  \\\n",
              "0                                                                              \n",
              "1A-1129102-il   -88.21313,41.264584  111529246.0    L  17.0  197.0  884003.0   \n",
              "1A-0019677-il    -87.70788,41.94954  111757193.0    R  17.0   31.0  160700.0   \n",
              "1A-0104946-il                   NaN          NaN  NaN   NaN    NaN       NaN   \n",
              "1A-0018466-il   -87.68571,41.964237  111760453.0    L  17.0   31.0   40900.0   \n",
              "1A-1133724-il  -87.735176,41.625267  111825291.0    L  17.0   31.0  824601.0   \n",
              "1A-1129584-il    -89.95829,38.73818  635635193.0    L  17.0  119.0  403533.0   \n",
              "1A-0087373-il  -87.670586,41.905956  111764813.0    L  17.0   31.0  241400.0   \n",
              "1A-0092724-il                   NaN          NaN  NaN   NaN    NaN       NaN   \n",
              "1A-1133609-il    -87.86507,41.11778   98356419.0    R  17.0   91.0   12300.0   \n",
              "1A-0018340-il   -87.64646,41.830734  605494805.0    L  17.0   31.0  839900.0   \n",
              "1A-1141472-il    -90.32707,39.11882   97876804.0    L  17.0   83.0   10401.0   \n",
              "1A-1137091-il                   NaN          NaN  NaN   NaN    NaN       NaN   \n",
              "1A-1141231-il                   NaN          NaN  NaN   NaN    NaN       NaN   \n",
              "1A-0019792-il                   NaN          NaN  NaN   NaN    NaN       NaN   \n",
              "1A-1141357-il    -89.59171,40.69383    8720182.0    L  17.0  143.0    1200.0   \n",
              "1B-1138021-il    -87.6487,41.886883  111767950.0    L  17.0   31.0  833000.0   \n",
              "1A-0098398-il                   NaN          NaN  NaN   NaN    NaN       NaN   \n",
              "1A-1121741-il     -87.8632,42.35947  119641576.0    L  17.0   97.0  862604.0   \n",
              "1A-0077571-il                   NaN          NaN  NaN   NaN    NaN       NaN   \n",
              "1A-0110157-il    -89.01434,42.39195   49293105.0    R  17.0  201.0    3805.0   \n",
              "1A-1132881-il                   NaN          NaN  NaN   NaN    NaN       NaN   \n",
              "1A-1121970-il    -89.83273,42.10298   27680307.0    R  17.0   15.0  960100.0   \n",
              "1A-0039053-il    -89.94127,38.92008  107744867.0    L  17.0  119.0  402802.0   \n",
              "1A-1141104-il    -89.361275,40.1459   22455613.0    L  17.0  107.0  953200.0   \n",
              "1A-0109271-il   -89.23603,37.995388   93120879.0    R  17.0  145.0   30600.0   \n",
              "1A-0098157-il                   NaN          NaN  NaN   NaN    NaN       NaN   \n",
              "1A-0066316-il                   NaN          NaN  NaN   NaN    NaN       NaN   \n",
              "1G-0080277-il                   NaN          NaN  NaN   NaN    NaN       NaN   \n",
              "1A-1133838-il   -88.02578,41.835102  112532770.0    R  17.0   43.0  844305.0   \n",
              "1A-1133851-il   -87.93681,42.085632  111719654.0    L  17.0   31.0  802701.0   \n",
              "...                             ...          ...  ...   ...    ...       ...   \n",
              "1A-0085392-il   -90.05686,38.901573  107719991.0    R  17.0  119.0  401722.0   \n",
              "1A-1132708-il                   NaN          NaN  NaN   NaN    NaN       NaN   \n",
              "1A-1132136-il   -87.67757,41.910423  111764172.0    L  17.0   31.0  240500.0   \n",
              "1A-0065212-il   -88.01976,42.137684  611131032.0    R  17.0   31.0  803606.0   \n",
              "1A-0005864-il   -91.38697,39.935574   35064233.0    R  17.0    1.0     600.0   \n",
              "1A-0080266-il    -87.95886,41.87048  112706619.0    L  17.0   43.0  844601.0   \n",
              "1A-0090918-il   -89.61184,40.699764    8716726.0    L  17.0  143.0    1800.0   \n",
              "1A-1136112-il     -90.6076,40.32758    5372464.0    L  17.0  109.0   11000.0   \n",
              "1A-0010831-il   -87.533775,41.70274  605587738.0    L  17.0   31.0  520400.0   \n",
              "1A-1139529-il                   NaN          NaN  NaN   NaN    NaN       NaN   \n",
              "1A-0009653-il   -87.85266,41.940067  111746309.0    L  17.0   31.0  811500.0   \n",
              "1B-1132563-il   -87.70553,42.034832  111844987.0    L  17.0   31.0  809700.0   \n",
              "1A-1136680-il     -87.696,41.922085  111762645.0    R  17.0   31.0  221400.0   \n",
              "1A-1136493-il    -88.30809,42.48774  119841617.0    R  17.0  111.0  870101.0   \n",
              "1G-0055615-il    -87.62437,41.88895  616783790.0    L  17.0   31.0   81500.0   \n",
              "1A-1132510-il    -87.67998,39.17325  605662475.0    R  17.0   23.0   60100.0   \n",
              "1A-0055517-il    -87.6689,41.557228  111709529.0    L  17.0   31.0  828601.0   \n",
              "1A-0011782-il                   NaN          NaN  NaN   NaN    NaN       NaN   \n",
              "1A-0097553-il                   NaN          NaN  NaN   NaN    NaN       NaN   \n",
              "1A-0102729-il  -87.666855,41.879738  111766296.0    R  17.0   31.0  838100.0   \n",
              "1A-0092054-il   -87.585655,41.73662  111775350.0    R  17.0   31.0  480200.0   \n",
              "1A-1124137-il     -89.5037,38.26167   93156718.0    R  17.0  189.0  950400.0   \n",
              "1A-0006434-il    -87.67776,41.97607  605185586.0    R  17.0   31.0   40100.0   \n",
              "1A-0097366-il   -89.61777,40.734314    8721306.0    R  17.0  143.0    2800.0   \n",
              "1A-1139716-il                   NaN          NaN  NaN   NaN    NaN       NaN   \n",
              "1A-0074547-il   -88.64168,41.768997   52262398.0    L  17.0   37.0    1700.0   \n",
              "1A-0091103-il   -88.87823,39.818577  610720566.0    R  17.0  115.0    2402.0   \n",
              "1A-1121486-il   -88.55936,39.139683   94769366.0    R  17.0   49.0  950700.0   \n",
              "1A-1121299-il   -88.05803,42.415443  119670725.0    L  17.0   97.0  861012.0   \n",
              "1A-0007572-il   -87.61598,41.891888  605072879.0    L  17.0   31.0   81402.0   \n",
              "\n",
              "                   11  \n",
              "0                      \n",
              "1A-1129102-il  2017.0  \n",
              "1A-0019677-il  4005.0  \n",
              "1A-0104946-il     NaN  \n",
              "1A-0018466-il  1009.0  \n",
              "1A-1133724-il  1021.0  \n",
              "1A-1129584-il  3057.0  \n",
              "1A-0087373-il  3003.0  \n",
              "1A-0092724-il     NaN  \n",
              "1A-1133609-il  1025.0  \n",
              "1A-0018340-il  2000.0  \n",
              "1A-1141472-il  1016.0  \n",
              "1A-1137091-il     NaN  \n",
              "1A-1141231-il     NaN  \n",
              "1A-0019792-il     NaN  \n",
              "1A-1141357-il  1065.0  \n",
              "1B-1138021-il  1021.0  \n",
              "1A-0098398-il     NaN  \n",
              "1A-1121741-il  1004.0  \n",
              "1A-0077571-il     NaN  \n",
              "1A-0110157-il  2074.0  \n",
              "1A-1132881-il     NaN  \n",
              "1A-1121970-il  4018.0  \n",
              "1A-0039053-il  2130.0  \n",
              "1A-1141104-il  4031.0  \n",
              "1A-0109271-il  3046.0  \n",
              "1A-0098157-il     NaN  \n",
              "1A-0066316-il     NaN  \n",
              "1G-0080277-il     NaN  \n",
              "1A-1133838-il  3018.0  \n",
              "1A-1133851-il  1017.0  \n",
              "...               ...  \n",
              "1A-0085392-il  1010.0  \n",
              "1A-1132708-il     NaN  \n",
              "1A-1132136-il  1026.0  \n",
              "1A-0065212-il  3004.0  \n",
              "1A-0005864-il  2002.0  \n",
              "1A-0080266-il  3008.0  \n",
              "1A-0090918-il  3017.0  \n",
              "1A-1136112-il  3133.0  \n",
              "1A-0010831-il  4018.0  \n",
              "1A-1139529-il     NaN  \n",
              "1A-0009653-il  1008.0  \n",
              "1B-1132563-il  3025.0  \n",
              "1A-1136680-il  2001.0  \n",
              "1A-1136493-il  2027.0  \n",
              "1G-0055615-il  3013.0  \n",
              "1A-1132510-il  6132.0  \n",
              "1A-0055517-il  4002.0  \n",
              "1A-0011782-il     NaN  \n",
              "1A-0097553-il     NaN  \n",
              "1A-0102729-il  1007.0  \n",
              "1A-0092054-il  1000.0  \n",
              "1A-1124137-il  4065.0  \n",
              "1A-0006434-il  2020.0  \n",
              "1A-0097366-il  2001.0  \n",
              "1A-1139716-il     NaN  \n",
              "1A-0074547-il  2036.0  \n",
              "1A-0091103-il  4000.0  \n",
              "1A-1121486-il  1040.0  \n",
              "1A-1121299-il  1076.0  \n",
              "1A-0007572-il  1009.0  \n",
              "\n",
              "[23847 rows x 11 columns]"
            ]
          },
          "metadata": {
            "tags": []
          },
          "execution_count": 190
        }
      ]
    },
    {
      "cell_type": "code",
      "metadata": {
        "id": "8whWaXKzod_8",
        "colab_type": "code",
        "colab": {
          "base_uri": "https://localhost:8080/",
          "height": 226
        },
        "outputId": "369078c0-0d02-44e9-d4e7-76dfda119895"
      },
      "source": [
        "nomatchs.head(5)"
      ],
      "execution_count": null,
      "outputs": [
        {
          "output_type": "execute_result",
          "data": {
            "text/html": [
              "<div>\n",
              "<style scoped>\n",
              "    .dataframe tbody tr th:only-of-type {\n",
              "        vertical-align: middle;\n",
              "    }\n",
              "\n",
              "    .dataframe tbody tr th {\n",
              "        vertical-align: top;\n",
              "    }\n",
              "\n",
              "    .dataframe thead th {\n",
              "        text-align: right;\n",
              "    }\n",
              "</style>\n",
              "<table border=\"1\" class=\"dataframe\">\n",
              "  <thead>\n",
              "    <tr style=\"text-align: right;\">\n",
              "      <th></th>\n",
              "      <th>0</th>\n",
              "      <th>1</th>\n",
              "      <th>2</th>\n",
              "      <th>3</th>\n",
              "    </tr>\n",
              "    <tr>\n",
              "      <th>0</th>\n",
              "      <th></th>\n",
              "      <th></th>\n",
              "      <th></th>\n",
              "      <th></th>\n",
              "    </tr>\n",
              "  </thead>\n",
              "  <tbody>\n",
              "    <tr>\n",
              "      <th>1A-0104946-il</th>\n",
              "      <td>3000 SOUTH RIVER ROAD</td>\n",
              "      <td>DES PLAINES</td>\n",
              "      <td>IL</td>\n",
              "      <td>60018</td>\n",
              "    </tr>\n",
              "    <tr>\n",
              "      <th>1A-0092724-il</th>\n",
              "      <td>862 STATE HIGHWAY 34</td>\n",
              "      <td>HEROD</td>\n",
              "      <td>IL</td>\n",
              "      <td>62947</td>\n",
              "    </tr>\n",
              "    <tr>\n",
              "      <th>1A-1137091-il</th>\n",
              "      <td>1715 FREEDOM DR</td>\n",
              "      <td>NAPERVILLE</td>\n",
              "      <td>IL</td>\n",
              "      <td>60563</td>\n",
              "    </tr>\n",
              "    <tr>\n",
              "      <th>1A-1141231-il</th>\n",
              "      <td>9642 S WESTERN AVE</td>\n",
              "      <td>EVERGREEN PARK</td>\n",
              "      <td>IL</td>\n",
              "      <td>60805</td>\n",
              "    </tr>\n",
              "    <tr>\n",
              "      <th>1A-0019792-il</th>\n",
              "      <td>607 NE 13TH ST</td>\n",
              "      <td>CASEY</td>\n",
              "      <td>IL</td>\n",
              "      <td>62420</td>\n",
              "    </tr>\n",
              "  </tbody>\n",
              "</table>\n",
              "</div>"
            ],
            "text/plain": [
              "                                   0                1    2       3\n",
              "0                                                                 \n",
              "1A-0104946-il  3000 SOUTH RIVER ROAD      DES PLAINES   IL   60018\n",
              "1A-0092724-il   862 STATE HIGHWAY 34            HEROD   IL   62947\n",
              "1A-1137091-il        1715 FREEDOM DR       NAPERVILLE   IL   60563\n",
              "1A-1141231-il     9642 S WESTERN AVE   EVERGREEN PARK   IL   60805\n",
              "1A-0019792-il         607 NE 13TH ST            CASEY   IL   62420"
            ]
          },
          "metadata": {
            "tags": []
          },
          "execution_count": 192
        }
      ]
    },
    {
      "cell_type": "code",
      "metadata": {
        "id": "lpTT0aymoLks",
        "colab_type": "code",
        "colab": {
          "base_uri": "https://localhost:8080/",
          "height": 166
        },
        "outputId": "4fa906b7-138f-43c3-a2b8-81effed8b1d9"
      },
      "source": [
        "noadds2=nomatch2[['street','city','state','zip_code']]\n",
        "noadds2.head(3)"
      ],
      "execution_count": null,
      "outputs": [
        {
          "output_type": "execute_result",
          "data": {
            "text/html": [
              "<div>\n",
              "<style scoped>\n",
              "    .dataframe tbody tr th:only-of-type {\n",
              "        vertical-align: middle;\n",
              "    }\n",
              "\n",
              "    .dataframe tbody tr th {\n",
              "        vertical-align: top;\n",
              "    }\n",
              "\n",
              "    .dataframe thead th {\n",
              "        text-align: right;\n",
              "    }\n",
              "</style>\n",
              "<table border=\"1\" class=\"dataframe\">\n",
              "  <thead>\n",
              "    <tr style=\"text-align: right;\">\n",
              "      <th></th>\n",
              "      <th>street</th>\n",
              "      <th>city</th>\n",
              "      <th>state</th>\n",
              "      <th>zip_code</th>\n",
              "    </tr>\n",
              "    <tr>\n",
              "      <th>0</th>\n",
              "      <th></th>\n",
              "      <th></th>\n",
              "      <th></th>\n",
              "      <th></th>\n",
              "    </tr>\n",
              "  </thead>\n",
              "  <tbody>\n",
              "    <tr>\n",
              "      <th>1A-0104946-il</th>\n",
              "      <td>3000 SOUTH RIVER ROAD</td>\n",
              "      <td>DES PLAINES</td>\n",
              "      <td>IL</td>\n",
              "      <td>60018</td>\n",
              "    </tr>\n",
              "    <tr>\n",
              "      <th>1A-0092724-il</th>\n",
              "      <td>862 STATE HIGHWAY 34</td>\n",
              "      <td>HEROD</td>\n",
              "      <td>IL</td>\n",
              "      <td>62947</td>\n",
              "    </tr>\n",
              "    <tr>\n",
              "      <th>1A-1137091-il</th>\n",
              "      <td>1715 FREEDOM DR</td>\n",
              "      <td>NAPERVILLE</td>\n",
              "      <td>IL</td>\n",
              "      <td>60563</td>\n",
              "    </tr>\n",
              "  </tbody>\n",
              "</table>\n",
              "</div>"
            ],
            "text/plain": [
              "                              street          city state zip_code\n",
              "0                                                                \n",
              "1A-0104946-il  3000 SOUTH RIVER ROAD   DES PLAINES    IL    60018\n",
              "1A-0092724-il   862 STATE HIGHWAY 34         HEROD    IL    62947\n",
              "1A-1137091-il        1715 FREEDOM DR    NAPERVILLE    IL    60563"
            ]
          },
          "metadata": {
            "tags": []
          },
          "execution_count": 128
        }
      ]
    },
    {
      "cell_type": "code",
      "metadata": {
        "id": "HEwJxS-Xl6ll",
        "colab_type": "code",
        "colab": {
          "base_uri": "https://localhost:8080/",
          "height": 33
        },
        "outputId": "963e6981-1bb5-42a9-b34a-62e9daa7c255"
      },
      "source": [
        "len(nomatch), len(nomatch2)"
      ],
      "execution_count": null,
      "outputs": [
        {
          "output_type": "execute_result",
          "data": {
            "text/plain": [
              "(7496, 4556)"
            ]
          },
          "metadata": {
            "tags": []
          },
          "execution_count": 129
        }
      ]
    },
    {
      "cell_type": "code",
      "metadata": {
        "id": "a4k7SyMzIF1X",
        "colab_type": "code",
        "colab": {}
      },
      "source": [
        "ls"
      ],
      "execution_count": null,
      "outputs": []
    },
    {
      "cell_type": "code",
      "metadata": {
        "id": "0-U-if0kqivA",
        "colab_type": "code",
        "colab": {}
      },
      "source": [
        "n_splits = len(noadds2.index)//10000 +1\n",
        "\n",
        "for i, new_df in enumerate(np.array_split(noadds,n_splits)):\n",
        "    with open(f\"tryagain.{i}.csv\",\"w\") as fo:\n",
        "            fo.write(new_df.to_csv())"
      ],
      "execution_count": null,
      "outputs": []
    },
    {
      "cell_type": "code",
      "metadata": {
        "id": "mYZiaP41q4Mn",
        "colab_type": "code",
        "colab": {
          "base_uri": "https://localhost:8080/",
          "height": 67
        },
        "outputId": "47021fc1-c021-429e-ccfa-dd293e4c893a"
      },
      "source": [
        "!curl --form addressFile=@tryagain.0.csv --form benchmark=Public_AR_Census2010 --form vintage=Census2010_Census2010  https://geocoding.geo.census.gov/geocoder/geographies/addressbatch --output IL.tryagain.0.geocoderesult.csv"
      ],
      "execution_count": null,
      "outputs": [
        {
          "output_type": "stream",
          "text": [
            "  % Total    % Received % Xferd  Average Speed   Time    Time     Time  Current\n",
            "                                 Dload  Upload   Total   Spent    Left  Speed\n",
            "100 1283k  100  953k  100  329k    767    264  0:21:17  0:21:13  0:00:04  261k\n"
          ],
          "name": "stdout"
        }
      ]
    },
    {
      "cell_type": "code",
      "metadata": {
        "id": "-VhXEqzAykM1",
        "colab_type": "code",
        "colab": {}
      },
      "source": [
        "geocoded2=pd.read_csv('IL.tryagain.0.geocoderesult.csv', encoding = \"ISO-8859-1\")\n",
        "#I need to add headers\n"
      ],
      "execution_count": null,
      "outputs": []
    },
    {
      "cell_type": "code",
      "metadata": {
        "id": "nyuZZzpd1sC_",
        "colab_type": "code",
        "colab": {}
      },
      "source": [
        "nomatch2=geocoded2[geocoded2['No_Match'].isnull()]\n",
        "match2 = geocoded2[geocoded2['No_Match'].notnull()]\n",
        "#nomatch2=geocoded2[geocoded2[3].isnull()]\n",
        "#match2=geocoded2[geocoded2[3].notnull()]\n",
        "#len(nomatch2), len(match2), len(nomatch2)+ len(match2), len(nomatch)"
      ],
      "execution_count": null,
      "outputs": []
    },
    {
      "cell_type": "code",
      "metadata": {
        "id": "aZXpuO-f17xh",
        "colab_type": "code",
        "colab": {
          "base_uri": "https://localhost:8080/",
          "height": 161
        },
        "outputId": "904703e9-f812-45cc-9829-bcaf8ad6861d"
      },
      "source": [
        "len(nomatch2),len(match2), len(nomatch), len(match)"
      ],
      "execution_count": null,
      "outputs": [
        {
          "output_type": "error",
          "ename": "NameError",
          "evalue": "ignored",
          "traceback": [
            "\u001b[0;31m---------------------------------------------------------------------------\u001b[0m",
            "\u001b[0;31mNameError\u001b[0m                                 Traceback (most recent call last)",
            "\u001b[0;32m<ipython-input-144-3cb73a1632ea>\u001b[0m in \u001b[0;36m<module>\u001b[0;34m()\u001b[0m\n\u001b[0;32m----> 1\u001b[0;31m \u001b[0mlen\u001b[0m\u001b[0;34m(\u001b[0m\u001b[0mnomatch2\u001b[0m\u001b[0;34m)\u001b[0m\u001b[0;34m,\u001b[0m\u001b[0mlen\u001b[0m\u001b[0;34m(\u001b[0m\u001b[0mmatch2\u001b[0m\u001b[0;34m)\u001b[0m\u001b[0;34m,\u001b[0m \u001b[0mlen\u001b[0m\u001b[0;34m(\u001b[0m\u001b[0mnomatch\u001b[0m\u001b[0;34m)\u001b[0m\u001b[0;34m,\u001b[0m \u001b[0mlen\u001b[0m\u001b[0;34m(\u001b[0m\u001b[0mmatch\u001b[0m\u001b[0;34m)\u001b[0m\u001b[0;34m\u001b[0m\u001b[0;34m\u001b[0m\u001b[0m\n\u001b[0m",
            "\u001b[0;31mNameError\u001b[0m: name 'match' is not defined"
          ]
        }
      ]
    },
    {
      "cell_type": "code",
      "metadata": {
        "id": "JwZW06Js155k",
        "colab_type": "code",
        "colab": {}
      },
      "source": [
        "\n",
        "nomatch[['street','city','state','zip_code']] =nomatch['219 E MAIN ST, BRAIDWOOD, IL, 60408'].str.split(',', n=3,expand=True)\n"
      ],
      "execution_count": null,
      "outputs": []
    },
    {
      "cell_type": "code",
      "metadata": {
        "id": "kxu8oQUhlMoV",
        "colab_type": "code",
        "colab": {
          "base_uri": "https://localhost:8080/",
          "height": 70
        },
        "outputId": "34fdb564-cb09-47c9-bf96-20b57df22712"
      },
      "source": [
        "!curl --form addressFile=@adds0.csv --form benchmark=Public_AR_Census2010 --form vintage=Census2010_Census2010  https://geocoding.geo.census.gov/geocoder/geographies/addressbatch --output geocoderesult.csv"
      ],
      "execution_count": null,
      "outputs": [
        {
          "output_type": "stream",
          "text": [
            "  % Total    % Received % Xferd  Average Speed   Time    Time     Time  Current\n",
            "                                 Dload  Upload   Total   Spent    Left  Speed\n",
            "100 1513k  100 1122k  100  390k    680    236  0:28:16  0:28:09  0:00:07  263k\n"
          ],
          "name": "stdout"
        }
      ]
    },
    {
      "cell_type": "code",
      "metadata": {
        "id": "JAEpKtqoMeQz",
        "colab_type": "code",
        "colab": {}
      },
      "source": [
        "IL_batch"
      ],
      "execution_count": null,
      "outputs": []
    },
    {
      "cell_type": "markdown",
      "metadata": {
        "id": "dxBGfvPrKpYW",
        "colab_type": "text"
      },
      "source": [
        "###MI Liquor Licences"
      ]
    },
    {
      "cell_type": "markdown",
      "metadata": {
        "id": "FCbzlXE5_rg2",
        "colab_type": "text"
      },
      "source": [
        "SoM_LGUs are restrictions, there dont seem to be an easy way to get this information because of layout, but it might be fun to see the impact of restrictions \n",
        "\n",
        "[Licensing Lists](https://www.michigan.gov/lara/0,4601,7-154-89334_10570_12905---,00.html)\n",
        "\n",
        "[Sunday Sales Opt Out List ](https://www.michigan.gov/documents/lara/Master_Sunday_Sales_List_04-21-2015_487505_7.pdf)"
      ]
    },
    {
      "cell_type": "code",
      "metadata": {
        "id": "VPS--KYg78Ts",
        "colab_type": "code",
        "colab": {}
      },
      "source": [
        "#MI restrictions\t\n",
        "#!wget --header=\"Host: customers.mlcc.michigan.gov\" --header=\"User-Agent: Mozilla/5.0 (Windows NT 10.0; Win64; x64) AppleWebKit/537.36 (KHTML, like Gecko) Chrome/73.0.3683.86 Safari/537.36\" --header=\"Accept: text/html,application/xhtml+xml,application/xml;q=0.9,image/webp,image/apng,*/*;q=0.8,application/signed-exchange;v=b3\" --header=\"Accept-Language: en-US,en;q=0.9\" --header=\"Referer: https://customers.mlcc.michigan.gov/SoM_ActiveEscrowLicenseList\" --header=\"Cookie: _ga=GA1.2.1848601613.1554374262; _gid=GA1.2.50949381.1554374262; _gat_UA-25583843-1=1; pctrk=c7f87c41-99ff-46e8-b350-6eef9edeb782\" --header=\"Connection: keep-alive\" \"https://customers.mlcc.michigan.gov/SoM_LGUs\" -O \"MLCC AIMS - LGUs.csv\" -c"
      ],
      "execution_count": null,
      "outputs": []
    },
    {
      "cell_type": "code",
      "metadata": {
        "id": "WbQRy9gq3z_D",
        "colab_type": "code",
        "colab": {}
      },
      "source": [
        "# doesnt include the restrictons\n",
        "#mi_lq_retail_license_quota = pd.read_excel('MLCC AIMS - LGUs.xlsx')"
      ],
      "execution_count": null,
      "outputs": []
    },
    {
      "cell_type": "code",
      "metadata": {
        "id": "Nk_L1k6y9HLL",
        "colab_type": "code",
        "colab": {
          "base_uri": "https://localhost:8080/",
          "height": 212
        },
        "outputId": "12c80144-9f8d-4fac-ca94-2161a03d70be"
      },
      "source": [
        "#updated weekly:   https://www.michigan.gov/lara/0,4601,7-154-89334_10570_12905---,00.html\n",
        "\n",
        "!wget https://www.michigan.gov/documents/lara/liclist_639292_7.xlsx"
      ],
      "execution_count": null,
      "outputs": [
        {
          "output_type": "stream",
          "text": [
            "--2019-04-29 07:53:47--  https://www.michigan.gov/documents/lara/liclist_639292_7.xlsx\n",
            "Resolving www.michigan.gov (www.michigan.gov)... 23.44.154.155\n",
            "Connecting to www.michigan.gov (www.michigan.gov)|23.44.154.155|:443... connected.\n",
            "HTTP request sent, awaiting response... 200 OK\n",
            "Length: unspecified [application/vnd.openxmlformats-officedocument.spreadsheetml.sheet]\n",
            "Saving to: ‘liclist_639292_7.xlsx’\n",
            "\n",
            "liclist_639292_7.xl     [  <=>               ]   3.20M   174KB/s    in 19s     \n",
            "\n",
            "2019-04-29 07:54:06 (175 KB/s) - ‘liclist_639292_7.xlsx’ saved [3351830]\n",
            "\n"
          ],
          "name": "stdout"
        }
      ]
    },
    {
      "cell_type": "code",
      "metadata": {
        "id": "1GGcb7JLAMsG",
        "colab_type": "code",
        "colab": {}
      },
      "source": [
        "mi_lq= pd.read_excel(\"liclist_639292_7.xlsx\", header=1)"
      ],
      "execution_count": null,
      "outputs": []
    },
    {
      "cell_type": "code",
      "metadata": {
        "id": "F-tsJc11AaXy",
        "colab_type": "code",
        "colab": {
          "base_uri": "https://localhost:8080/",
          "height": 372
        },
        "outputId": "fe3b20d8-92cf-4461-f6cd-06dea98b952d"
      },
      "source": [
        "mi_lq.info()"
      ],
      "execution_count": null,
      "outputs": [
        {
          "output_type": "stream",
          "text": [
            "<class 'pandas.core.frame.DataFrame'>\n",
            "RangeIndex: 32976 entries, 0 to 32975\n",
            "Data columns (total 15 columns):\n",
            "LARA Business ID                   32976 non-null int64\n",
            "Business Status                    32976 non-null object\n",
            "Account Name                       32976 non-null object\n",
            "DBA                                28835 non-null object\n",
            "County: County                     32976 non-null object\n",
            "Current LGU: LGU Name              32966 non-null object\n",
            "Address                            32972 non-null object\n",
            "Group                              32976 non-null object\n",
            "Type                               32976 non-null object\n",
            "Subtype                            13195 non-null object\n",
            "Statute                            3448 non-null object\n",
            "Status                             32976 non-null object\n",
            "Number                             32976 non-null object\n",
            "Statute: Ownership Transferable    32248 non-null object\n",
            "Statute: Location Transferable     32248 non-null object\n",
            "dtypes: int64(1), object(14)\n",
            "memory usage: 3.8+ MB\n"
          ],
          "name": "stdout"
        }
      ]
    },
    {
      "cell_type": "code",
      "metadata": {
        "id": "niBa4ConAadW",
        "colab_type": "code",
        "colab": {}
      },
      "source": [
        "mi_lq[\"Status\"].unique(), mi_lq[\"Business Status\"].unique(), mi_lq[\"Group\"].unique(), mi_lq[\"Subtype\"].unique(), mi_lq[\"Type\"].describe(), mi_lq[\"Type\"].unique()"
      ],
      "execution_count": null,
      "outputs": []
    },
    {
      "cell_type": "code",
      "metadata": {
        "id": "TuRFqeGUrPxF",
        "colab_type": "code",
        "colab": {}
      },
      "source": [
        "mi_lq = mi_lq[mi_lq.Status == \"Active\"]\n",
        "mi_lq = mi_lq[mi_lq[\"Business Status\"] == \"Active\"] "
      ],
      "execution_count": null,
      "outputs": []
    },
    {
      "cell_type": "markdown",
      "metadata": {
        "id": "c3bSfSpivTY3",
        "colab_type": "text"
      },
      "source": [
        " EXTRACT NUMBERS\n",
        ">df['weekNo'] = df['Financial Week Name'].str.extract('(\\d+)').astype(int)\n",
        "\n",
        "numpy has a nice way of using conditional:\n",
        "  >  df['profitable'] = np.where(df['price']>=15.00, True, False)\n",
        "    \n",
        "reverse it\n",
        ">df['Address'].str.rsplit(',', 2, expand=True)[1]\n",
        " \n",
        " did\n",
        ">mi_lq['comma_count'] = mi_lq.Address.str.count(',')\n",
        "mi_lq[['address','city','state_zip']]= mi_lq['Address'].str.split(',',expand=True)      \n",
        "mi_lq[['address','street2','city','state_zip']] = mi_lq['Address'].str.split(',',expand=True)  \n",
        "df[['address','street2','city','state_zip']] = df.loc[df['comma_count'] == 3].Address.str.split(',',expand=True) \n",
        "mi_lq[['street','city','state_zip']]=mi_lq['Address'].str.rsplit(',', 2, expand=True)\n",
        "df['Address'].str.split(',',expand=True)\n",
        "30000=2, 30ish=3, 3ish=4, 2(street,city, state zip) 3(steet, street2,city,state zip) 4(uhhhh....delete)\n",
        "df[['address','street2','street3','city','state_zip']] = df.loc[df['comma_count'] == 4].Address.str.split(',',expand=True)   \n",
        "df['Address']=df['Address'].str.replace(\" United States\",\"\")\n",
        "df.loc[df['comma_count'] == 4] "
      ]
    },
    {
      "cell_type": "code",
      "metadata": {
        "id": "c8-hdanbTqe3",
        "colab_type": "code",
        "colab": {
          "base_uri": "https://localhost:8080/",
          "height": 355
        },
        "outputId": "2b868062-6337-4b41-f148-4e70ac8212f5"
      },
      "source": [
        "!pip install pandas_usaddress\n",
        "import pandas_usaddress"
      ],
      "execution_count": null,
      "outputs": [
        {
          "output_type": "stream",
          "text": [
            "Collecting pandas_usaddress\n",
            "\u001b[?25l  Downloading https://files.pythonhosted.org/packages/fe/b7/7734c959d133d63179903d9b06d8fd11aefba1298e511deb0c601cbb93bc/pandas_usaddress-0.21-py3-none-any.whl (320kB)\n",
            "\u001b[K    100% |████████████████████████████████| 327kB 31.9MB/s \n",
            "\u001b[?25hCollecting usaddress (from pandas_usaddress)\n",
            "\u001b[?25l  Downloading https://files.pythonhosted.org/packages/d3/6c/3da44f6f41834cd4c2c0fadf29d11e8493bcf80811f5bd9ec542a08b9996/usaddress-0.5.10-py2.py3-none-any.whl (63kB)\n",
            "\u001b[K    100% |████████████████████████████████| 71kB 35.1MB/s \n",
            "\u001b[?25hRequirement already satisfied: pandas in /usr/local/lib/python3.6/dist-packages (from pandas_usaddress) (0.24.2)\n",
            "Requirement already satisfied: future>=0.14 in /usr/local/lib/python3.6/dist-packages (from usaddress->pandas_usaddress) (0.16.0)\n",
            "Collecting probableparsing (from usaddress->pandas_usaddress)\n",
            "  Downloading https://files.pythonhosted.org/packages/e1/6b/91255cbf739a835df41af530a36798397d70342d152b773b5b0fe3001843/probableparsing-0.0.1-py2.py3-none-any.whl\n",
            "Collecting python-crfsuite>=0.7 (from usaddress->pandas_usaddress)\n",
            "\u001b[?25l  Downloading https://files.pythonhosted.org/packages/2f/86/cfcd71edca9d25d3d331209a20f6314b6f3f134c29478f90559cee9ce091/python_crfsuite-0.9.6-cp36-cp36m-manylinux1_x86_64.whl (754kB)\n",
            "\u001b[K    100% |████████████████████████████████| 757kB 27.4MB/s \n",
            "\u001b[?25hRequirement already satisfied: python-dateutil>=2.5.0 in /usr/local/lib/python3.6/dist-packages (from pandas->pandas_usaddress) (2.5.3)\n",
            "Requirement already satisfied: pytz>=2011k in /usr/local/lib/python3.6/dist-packages (from pandas->pandas_usaddress) (2018.9)\n",
            "Requirement already satisfied: numpy>=1.12.0 in /usr/local/lib/python3.6/dist-packages (from pandas->pandas_usaddress) (1.16.3)\n",
            "Requirement already satisfied: six>=1.5 in /usr/local/lib/python3.6/dist-packages (from python-dateutil>=2.5.0->pandas->pandas_usaddress) (1.12.0)\n",
            "Installing collected packages: probableparsing, python-crfsuite, usaddress, pandas-usaddress\n",
            "Successfully installed pandas-usaddress-0.21 probableparsing-0.0.1 python-crfsuite-0.9.6 usaddress-0.5.10\n"
          ],
          "name": "stdout"
        }
      ]
    },
    {
      "cell_type": "code",
      "metadata": {
        "id": "tf6ZcuFbZS8M",
        "colab_type": "code",
        "colab": {}
      },
      "source": [
        "#initiate usaddress\n",
        "mi_lq = pandas_usaddress.tag(mi_lq, ['Address'], granularity='low', standardize=True)"
      ],
      "execution_count": null,
      "outputs": []
    },
    {
      "cell_type": "code",
      "metadata": {
        "id": "NMDdLBHvxZcU",
        "colab_type": "code",
        "colab": {}
      },
      "source": [
        "mi_lq=mi_lq[mi_lq['StateName']=='mi']\n",
        "#mi_lq=mi_lq[mi_lq['County: County']!='OUTSTATE']"
      ],
      "execution_count": null,
      "outputs": []
    },
    {
      "cell_type": "code",
      "metadata": {
        "id": "IMyKerpVzUyi",
        "colab_type": "code",
        "colab": {}
      },
      "source": [
        "mi_lq=mi_lq.loc[(mi_lq['Group']!='Manufacturer')& (mi_lq['Group']!='Wholesale')]"
      ],
      "execution_count": null,
      "outputs": []
    },
    {
      "cell_type": "code",
      "metadata": {
        "id": "GQ4lF1WPe2xh",
        "colab_type": "code",
        "colab": {}
      },
      "source": [
        "mi_lq[['zip_code','zip_p_four']]= mi_lq['ZipCode'].str.split('-',expand=True)"
      ],
      "execution_count": null,
      "outputs": []
    },
    {
      "cell_type": "code",
      "metadata": {
        "id": "_V_x7aEafTMg",
        "colab_type": "code",
        "colab": {}
      },
      "source": [
        "#concat AddressNumber and StreetTag"
      ],
      "execution_count": null,
      "outputs": []
    },
    {
      "cell_type": "code",
      "metadata": {
        "id": "_dz8dUSb516j",
        "colab_type": "code",
        "colab": {}
      },
      "source": [
        "mi_lq"
      ],
      "execution_count": null,
      "outputs": []
    },
    {
      "cell_type": "code",
      "metadata": {
        "id": "S7pTZc9XqD6m",
        "colab_type": "code",
        "colab": {}
      },
      "source": [
        "rename columns\n",
        "PlaceName = city\n",
        "StateName = state"
      ],
      "execution_count": null,
      "outputs": []
    },
    {
      "cell_type": "code",
      "metadata": {
        "id": "1zbLln9j3azk",
        "colab_type": "code",
        "colab": {}
      },
      "source": [
        "mi_lq['type'] = mi_lq['Group'].apply(lambda x: 'Retail - Off Premises' if x in ['Retail - Off Premises','Retail - Off Premise'] else \"Retail - On Premise\")\n"
      ],
      "execution_count": null,
      "outputs": []
    },
    {
      "cell_type": "code",
      "metadata": {
        "id": "qz-bJHAUD-fF",
        "colab_type": "code",
        "colab": {}
      },
      "source": [
        "mi_lq"
      ],
      "execution_count": null,
      "outputs": []
    },
    {
      "cell_type": "code",
      "metadata": {
        "id": "FP1NdWecFejz",
        "colab_type": "code",
        "colab": {}
      },
      "source": [
        "import numpy as np\n",
        "g= mi_lq.groupby('LARA Business ID')['Group'].apply(np.unique)\n",
        "g=g.reset_'License Type'index()\n",
        "g['n'] = g.Group.agg(np.size)\n"
      ],
      "execution_count": null,
      "outputs": []
    },
    {
      "cell_type": "code",
      "metadata": {
        "id": "HkxRmMpA8giV",
        "colab_type": "code",
        "colab": {}
      },
      "source": [
        "mi_lqq=pd.concat([mi_lq.set_index('LARA Business ID'),g.set_index('LARA Business ID')], axis=1, join='inner').reset_index()"
      ],
      "execution_count": null,
      "outputs": []
    },
    {
      "cell_type": "code",
      "metadata": {
        "id": "m_WYeFw54aPb",
        "colab_type": "code",
        "colab": {}
      },
      "source": [
        "g['on'] = np.where(g['n']==2, 'Retail-On Premises', None)"
      ],
      "execution_count": null,
      "outputs": []
    },
    {
      "cell_type": "code",
      "metadata": {
        "id": "_r1xrjfCqimv",
        "colab_type": "code",
        "colab": {}
      },
      "source": [
        "mi_lqq.sort_values('LARA Business ID')"
      ],
      "execution_count": null,
      "outputs": []
    },
    {
      "cell_type": "code",
      "metadata": {
        "id": "2tcbebUs8jij",
        "colab_type": "code",
        "colab": {}
      },
      "source": [
        "import numpy as np"
      ],
      "execution_count": null,
      "outputs": []
    },
    {
      "cell_type": "code",
      "metadata": {
        "id": "Nly0J27jq2AU",
        "colab_type": "code",
        "colab": {}
      },
      "source": [
        "#if DBA=NAN, than Account Name=DBA\n",
        "mi_lq.DBA = np.where(mi_lq.DBA.isna(), mi_lq['Account Name'], mi_lq.DBA)\n",
        "#or\n",
        "#mi_lq.loc[mi_lq['DBA'].isna(),'DBA' ] = mi_lq[ mi_lq['DBA'].isna() ]['Account Name']"
      ],
      "execution_count": null,
      "outputs": []
    },
    {
      "cell_type": "code",
      "metadata": {
        "id": "xNml3uxcrBip",
        "colab_type": "code",
        "colab": {}
      },
      "source": [
        "create ID"
      ],
      "execution_count": null,
      "outputs": []
    },
    {
      "cell_type": "code",
      "metadata": {
        "id": "53Hxd52Uo_Ra",
        "colab_type": "code",
        "colab": {}
      },
      "source": [
        "import pandas_profiling\n",
        "pandas_profiling.ProfileReport(mi_lq)"
      ],
      "execution_count": null,
      "outputs": []
    },
    {
      "cell_type": "code",
      "metadata": {
        "id": "syGDrLHhAag4",
        "colab_type": "code",
        "colab": {}
      },
      "source": [
        "mi_lq[:].nunique()"
      ],
      "execution_count": null,
      "outputs": []
    },
    {
      "cell_type": "markdown",
      "metadata": {
        "id": "nnTf4D2tGzG6",
        "colab_type": "text"
      },
      "source": [
        "Tax data for MI Brewers and wine makers can be found [Here ](https://www.michigan.gov/lara/0,4601,7-154-89334_10570_66999-466571--,00.html), and has licence number so we could combine it with licence data.\n",
        "\n",
        "MI also has a \"Michigan Liquor Control Commission, New Item Price List\" that includes(ADA_NO. ,  CODE#  ,  BRAND NAME,  PROOF,  SIZE_IN_ML  ,  PACK_SIZE ,  BASE_PRICE,  LICENSEE_PRICE,  MINIMUM_SHELF_ PRICE)\n",
        "\n",
        "searchable version @ http://w1.lara.state.mi.us/LiquorControlPriceList/\n",
        "\n",
        "or txt file:\n",
        "http://w1.lara.state.mi.us/MLCCFiles/image/webprbk.txt\n"
      ]
    },
    {
      "cell_type": "code",
      "metadata": {
        "id": "Dhgacw5g9HOe",
        "colab_type": "code",
        "colab": {}
      },
      "source": [
        "# Michigan Counties and their Corresponding\n",
        "# County Code Numbers(Liquor Control Commission) https://www.michigan.gov/documents/CIS_Cis_LCC_counties_26989_7.pdf\n",
        "\n",
        "Mi_Counties = {1 : 'ALCONA', 2 : 'ALGER', 3 : 'ALLEGAN', 4 : 'ALPENA', 5 : 'ANTRIM', 7 : 'BARAGA', 8 : 'BARRY', \n",
        "                  9 : 'BAY', 10 : 'BENZIE', 11 : 'BERRIEN', 12 : 'BRANCH', 13 : 'CALHOUN', 14 : 'CASS', 15 : 'CHARLEVOIX', \n",
        "                  16 : 'CHEBOYGAN', 17 : 'CHIPPEWA', 18 : 'CLARE', 19 : 'CLINTON', 20 : 'CRAWFORD',21 : 'DELTA', \n",
        "                  22 : 'DICKINSON', 23 : 'EATON', 24 : 'EMMET', 25 : 'GENESEE', 26 : 'GLADWIN', 27 : 'GOGEBIC', \n",
        "                  28 : 'GRAND TRAVERSE', 29 : 'GRATIOT', 30 : 'HILLSDALE', 31 : 'HOUGHTON', 32 : 'HURON', 33 : 'INGHAM', \n",
        "                  34 : 'IONIA', 35 : 'IOSCO',36 : 'IRON', 37 : 'ISABELLA', 38 : 'JACKSON', 39 : 'KALAMAZOO', 40 : 'KALKASKA',\n",
        "                  41 : 'KENT', 42 : 'KEWEENAW',43 : 'LAKE',44 : 'LAPEER',45 : 'LEELANAU',46 : 'LENAWEE',47 : 'LIVINGSTON',\n",
        "                  48 : 'LUCE',49 : 'MACKINAC',50 : 'MACOMB',51 : 'MANISTEE',52 : 'MARQUETTE',53 : 'MASON',54 : 'MECOSTA',\n",
        "                  55 : 'MENOMINEE',56 : 'MIDLAND',57 : 'MISSAUKEE',58 : 'MONROE',59 : 'MONTCALM',60 : 'MONTMORENCY',\n",
        "                  61 : 'MUSKEGON',62 : 'NEWAYGO',63 : 'OAKLAND',64 : 'OCEANA',65 : 'OGEMAW',66 : 'ONTONAGON',\n",
        "                  67 : 'OSCEOLA',68 : 'OSCODA',69 : 'OTSEGO',70 : 'OTTAWA',71 : 'PRESQUE ISLE',72 : 'ROSCOMMON',\n",
        "                  73 : 'SAGINAW',74 : 'ST. CLAIR',75 : 'ST. JOSEPH',76 : 'SANILAC',77 : 'SCHOOLCRAFT',78 : 'SHIAWASSEE',\n",
        "                  79 : 'TUSCOLA',80 : 'VAN BUREN',81 : 'WASHTENAW',82 : 'WAYNE',83 : 'WEXFORD'}"
      ],
      "execution_count": null,
      "outputs": []
    },
    {
      "cell_type": "code",
      "metadata": {
        "id": "-rtlXL0ohmNr",
        "colab_type": "code",
        "colab": {}
      },
      "source": [
        "'corp_name', 'dba_name', 'street', 'street2', 'city', 'state',\n",
        "       'zip_code', 'county', 'retail_off_premises'"
      ],
      "execution_count": null,
      "outputs": []
    },
    {
      "cell_type": "markdown",
      "metadata": {
        "id": "0ZraWkkbfRfU",
        "colab_type": "text"
      },
      "source": [
        "##cenpy"
      ]
    },
    {
      "cell_type": "code",
      "metadata": {
        "id": "GPooMoGJyn-f",
        "colab_type": "code",
        "colab": {}
      },
      "source": [
        "datasets = list(cen.explorer.available(verbose=True).items())\n",
        "\n",
        "pd.DataFrame(datasets)\n"
      ],
      "execution_count": null,
      "outputs": []
    },
    {
      "cell_type": "code",
      "metadata": {
        "id": "y9hwoNzVKdg9",
        "colab_type": "code",
        "colab": {}
      },
      "source": [
        "cenlist=cen.explorer.available()"
      ],
      "execution_count": null,
      "outputs": []
    },
    {
      "cell_type": "code",
      "metadata": {
        "id": "eehRQm1K8FTY",
        "colab_type": "code",
        "colab": {}
      },
      "source": [
        "cenlist = pd.DataFrame(cenlist)\n",
        "#cenlist['modified'][0], type(cenlist['modified'][0])\n",
        "#cenlist['modified']= pd.to_datetime(cenlist['modified']) \n",
        "#print(cenlist['modified'][0], type(cenlist['modified'][0]))\n",
        "cenlist.head(3)"
      ],
      "execution_count": null,
      "outputs": []
    },
    {
      "cell_type": "code",
      "metadata": {
        "id": "CnnJ64nKNvow",
        "colab_type": "code",
        "colab": {
          "base_uri": "https://localhost:8080/",
          "height": 34
        },
        "outputId": "ec13021c-7bfd-4de1-a95a-13d37acef4d1"
      },
      "source": [
        "cenlist['modified']= pd.to_datetime(cenlist['modified']) \n",
        "print(cenlist['modified'][0], type(cenlist['modified'][0]))\n"
      ],
      "execution_count": null,
      "outputs": [
        {
          "output_type": "stream",
          "text": [
            "2017-02-09 00:00:00 <class 'pandas._libs.tslib.Timestamp'>\n"
          ],
          "name": "stdout"
        }
      ]
    },
    {
      "cell_type": "code",
      "metadata": {
        "id": "kKYuTGdzha96",
        "colab_type": "code",
        "colab": {}
      },
      "source": [
        "pd.set_option('display.max_columns', None)  \n",
        "pd.set_option('display.max_rows', None) \n",
        "#pd.reset_option('display.max_colwidth')\n",
        "cenlist.head()"
      ],
      "execution_count": null,
      "outputs": []
    },
    {
      "cell_type": "code",
      "metadata": {
        "id": "Uwws7hQmPMBv",
        "colab_type": "code",
        "colab": {}
      },
      "source": [
        "#cenlist[(cenlist['modified'] > '2018-01-01') & (cenlist['modified'] < '2017-01-01')]\n",
        "\n",
        "#cenlist = cenlist[(cenlist['modified'] > '2018-07-01')] \n",
        "#cenlist = cenlist[(cenlist['c_isTimeseries']!= True )] \n",
        "#cenlist[\"c_dataset_str\"] = ''.join(map(str, cenlist['c_dataset']))\n",
        "\n",
        "cenlist['c_dataset_str'] = cenlist['c_dataset'].apply(lambda x: ', '.join(x))\n",
        "cenlist[cenlist[\"c_dataset_str\"].str.contains(\"acs\")].sort_values(by='modified',ascending=False )\n",
        "\n",
        "#temp=cenlist[cenlist[\"c_dataset_str\"].str.contains(\"poverty\")]\n",
        "#cenlist = cenlist[(cenlist['vintage'] > 2016)] \n",
        "\n",
        "#temp.sort_values(by='modified', )\n",
        "#cenlist"
      ],
      "execution_count": null,
      "outputs": []
    },
    {
      "cell_type": "markdown",
      "metadata": {
        "id": "so8hbrr4DIRI",
        "colab_type": "text"
      },
      "source": [
        "Time Series International Database: International Populations by 5 Year Age Groups and Sex    \n",
        "- https://api.census.gov/data/timeseries/idb/5year\n",
        "\n",
        "Time Series Economic Indicators Time Series -: Construction Spending\n",
        "- https://api.census.gov/data/timeseries/eits/vip\n",
        "\n",
        "Time Series Economic Indicators Time Series -: New Home Sales\n",
        "- https://api.census.gov/data/timeseries/eits/ressales\n",
        "\n",
        "Time Series Economic Indicators Time Series -: New Residential Construction\n",
        "- https://api.census.gov/data/timeseries/eits/resconst\n",
        "\n",
        "Time Series Economic Indicators Time Series -: Quarterly Summary of State and Local Taxes\n",
        "- https://api.census.gov/data/timeseries/eits/qtax\n",
        "\n",
        "Time Series Economic Indicators Time Series -: Quarterly Services Survey\n",
        "- \thttps://api.census.gov/data/timeseries/eits/qss\n",
        "\n",
        "Others\n",
        "- Time Series Economic Indicators Time Series -: Quarterly Survey of Public Pensions\n",
        "\n",
        "- Time Series Economic Indicators Time Series -: Quarterly Financial Report\n",
        "\n",
        "- Time Series Economic Indicators Time Series -: Monthly Wholesale Trade: Sales and Inventories\n",
        "- Time Series Economic Indicators Time Series -: Manufacturing and Trade Inventories and Sales\n",
        "- Time Series Economic Indicators Time Series -: Monthly Retail Trade and Food Services\n",
        "- Time Series Economic Indicators Time Series -: Manufactured Homes Survey\n",
        "- Time Series Economic Indicators Time Series -: Advance Monthly Sales for Retail and Food Services\n",
        "\n",
        "- Time Series Economic Indicators Time Series -: Manufacturers Shipments, Inventories, and Orders\n",
        "\n",
        "- Time Series Economic Indicators Time Series -: Housing Vacancies and Homeownership\n",
        "\n",
        "- Time Series Business Dynamics Statistics: Firm Statistics Business Dynamics Statistics (BDS\n",
        "\n",
        "- 2016 County Business Patterns - Zip Code Business Patterns: Total For Zip Code"
      ]
    },
    {
      "cell_type": "markdown",
      "metadata": {
        "id": "rrMLOt64GoeO",
        "colab_type": "text"
      },
      "source": [
        "Data sets can be found here(https://api.census.gov/data.html)\n",
        "\n",
        "\n",
        "ACS 5-Year Detailed Tables\n",
        "- The American Community Survey (ACS) is an ongoing survey that provides data every year -- giving communities the current information they need to plan investments and services. The ACS covers a broad range of topics about social, economic, demographic, and housing characteristics of the U.S. population. Summary files include the following geographies: nation, all states (including DC and Puerto Rico), all metropolitan areas, all congressional districts (114th congress), all counties, all places, and all tracts and block groups. Summary files contain the most detailed cross-tabulations, many of which are published down to block groups. The data are population and housing counts. There are over 64,000 variables in this dataset.  \n",
        "\n",
        "ACS 5-Year Comparison Profiles \n",
        " - The American Community Survey (ACS) is an ongoing survey that provides data every year -- giving communities the current information they need to plan investments and services. The ACS covers a broad range of topics about social, economic, demographic, and housing characteristics of the U.S. population. The comparison profiles include the following geographies: nation, all states (including DC and Puerto Rico), all metropolitan areas, all congressional districts, all counties and all places with a population of 5,000 or more. Comparison profiles are similar to data profiles but also include comparisons with past-year data. The current year data are compared with prior 5-Year data and include statistical significance testing. There are over 3,000 variables in this dataset.  \n",
        "\n",
        "ACS 5-Year Data Profiles    \n",
        " - The American Community Survey (ACS) is an ongoing survey that provides data every year -- giving communities the current information they need to plan investments and services. The ACS covers a broad range of topics about social, economic, demographic, and housing characteristics of the U.S. population. The data profiles include the following geographies: nation, all states (including DC and Puerto Rico), all metropolitan areas, all congressional districts, all counties, all places and all tracts. Data profiles contain broad social, economic, housing, and demographic information. The data are presented as both counts and percentages. There are over 2,400 variables in this dataset.  \n",
        " \n",
        " ACS 5-Year Subject Tables  \n",
        " - The American Community Survey (ACS) is an ongoing survey that provides data every year -- giving communities the current information they need to plan investments and services. The ACS covers a broad range of topics about social, economic, demographic, and housing characteristics of the U.S. population. The subject tables include the following geographies: nation, all states (including DC and Puerto Rico), all metropolitan areas, all congressional districts, all counties, all places and all tracts. Subject tables provide an overview of the estimates available in a particular topic. The data are presented as both counts and percentages. There are over 66,000 variables in this dataset."
      ]
    },
    {
      "cell_type": "code",
      "metadata": {
        "id": "IJfUzw6QxvpW",
        "colab_type": "code",
        "colab": {}
      },
      "source": [
        "import pandas as pd\n",
        "import cenpy as cen\n",
        "import pysal\n"
      ],
      "execution_count": null,
      "outputs": []
    },
    {
      "cell_type": "markdown",
      "metadata": {
        "id": "rIWiAqzZ2EK8",
        "colab_type": "text"
      },
      "source": [
        "### ZBP (Zip Code Business Patterns)\n",
        "#### (in-procees)"
      ]
    },
    {
      "cell_type": "markdown",
      "metadata": {
        "id": "noL94h9t2ZXy",
        "colab_type": "text"
      },
      "source": [
        "### I want detail NAICS Industry Code, it returns summary"
      ]
    },
    {
      "cell_type": "code",
      "metadata": {
        "id": "MdNGyg8IGOhx",
        "colab_type": "code",
        "colab": {}
      },
      "source": [
        "2016 County Business Patterns - Zip Code Business Patterns: Total For Zip Code\n",
        "#ZIP Code Business Patterns (ZBP) is an annual series that provides economic data by ZIP Code. \n",
        "#This table includes the number of establishments, employment during the week of March 12,\n",
        "#first quarter payroll, and annual payroll for All Industries by 5-digit ZIP Code. \n",
        "#All Industries is set using SIC=00 from 1994 to 1997 and then with NAICS=00 from 1998 to present\n",
        "\n",
        "\thttps://api.census.gov/data/2016/zbp"
      ],
      "execution_count": null,
      "outputs": []
    },
    {
      "cell_type": "code",
      "metadata": {
        "id": "XoO3LzeBkfXZ",
        "colab_type": "code",
        "colab": {
          "base_uri": "https://localhost:8080/",
          "height": 54
        },
        "outputId": "51cf825a-143a-468d-d9c3-2d47b3a8d2d9"
      },
      "source": [
        "api = 'ZBPTotal2016'\n",
        "cen.explorer.explain(api)\n"
      ],
      "execution_count": null,
      "outputs": [
        {
          "output_type": "execute_result",
          "data": {
            "text/plain": [
              "{'2016 County Business Patterns - Zip Code Business Patterns: Total For Zip Code': 'ZIP Code Business Patterns (ZBP) is an annual series that provides economic data by ZIP Code.  This table includes the number of establishments, employment during the week of March 12, first quarter payroll, and annual payroll for All Industries by 5-digit ZIP Code.  All Industries is set using SIC=00 from 1994 to 1997 and then with NAICS=00 from 1998 to present.'}"
            ]
          },
          "metadata": {
            "tags": []
          },
          "execution_count": 43
        }
      ]
    },
    {
      "cell_type": "code",
      "metadata": {
        "id": "aw0XXTE3k4RQ",
        "colab_type": "code",
        "colab": {
          "base_uri": "https://localhost:8080/",
          "height": 34
        },
        "outputId": "73aa24c4-1064-4f2e-9730-41176889472e"
      },
      "source": [
        "api_conn = cen.base.Connection(api)\n",
        "api_conn"
      ],
      "execution_count": null,
      "outputs": [
        {
          "output_type": "execute_result",
          "data": {
            "text/plain": [
              "Connection to 2016 County Business Patterns - Zip Code Business Patterns: Total For Zip Code (ID: http://api.census.gov/data/id/ZBPTotal2016)"
            ]
          },
          "metadata": {
            "tags": []
          },
          "execution_count": 44
        }
      ]
    },
    {
      "cell_type": "code",
      "metadata": {
        "id": "v6J56Drcqwwk",
        "colab_type": "code",
        "colab": {
          "base_uri": "https://localhost:8080/",
          "height": 106
        },
        "outputId": "5253818d-7ca7-46ba-8fdd-d0bfb229696a"
      },
      "source": [
        "# Find the required fields\n",
        "# The query will fail if these are not passed as keyword arguments. we can use a wild card(*)\n",
        "\n",
        "api_conn.variables[~ api_conn.variables.required.isnull()]"
      ],
      "execution_count": null,
      "outputs": [
        {
          "output_type": "execute_result",
          "data": {
            "text/html": [
              "<div>\n",
              "<style scoped>\n",
              "    .dataframe tbody tr th:only-of-type {\n",
              "        vertical-align: middle;\n",
              "    }\n",
              "\n",
              "    .dataframe tbody tr th {\n",
              "        vertical-align: top;\n",
              "    }\n",
              "\n",
              "    .dataframe thead th {\n",
              "        text-align: right;\n",
              "    }\n",
              "</style>\n",
              "<table border=\"1\" class=\"dataframe\">\n",
              "  <thead>\n",
              "    <tr style=\"text-align: right;\">\n",
              "      <th></th>\n",
              "      <th>concept</th>\n",
              "      <th>group</th>\n",
              "      <th>label</th>\n",
              "      <th>limit</th>\n",
              "      <th>predicateOnly</th>\n",
              "      <th>predicateType</th>\n",
              "      <th>required</th>\n",
              "    </tr>\n",
              "  </thead>\n",
              "  <tbody>\n",
              "    <tr>\n",
              "      <th>EMPSZES</th>\n",
              "      <td>Employer Statistics</td>\n",
              "      <td>N/A</td>\n",
              "      <td>Employment size of establishment</td>\n",
              "      <td>10</td>\n",
              "      <td>NaN</td>\n",
              "      <td>string</td>\n",
              "      <td>default displayed</td>\n",
              "    </tr>\n",
              "    <tr>\n",
              "      <th>NAICS2012</th>\n",
              "      <td>Industry classification</td>\n",
              "      <td>N/A</td>\n",
              "      <td>NAICS Industry Code</td>\n",
              "      <td>2016</td>\n",
              "      <td>NaN</td>\n",
              "      <td>string</td>\n",
              "      <td>default displayed</td>\n",
              "    </tr>\n",
              "  </tbody>\n",
              "</table>\n",
              "</div>"
            ],
            "text/plain": [
              "                           concept group                             label  \\\n",
              "EMPSZES        Employer Statistics   N/A  Employment size of establishment   \n",
              "NAICS2012  Industry classification   N/A               NAICS Industry Code   \n",
              "\n",
              "          limit predicateOnly predicateType           required  \n",
              "EMPSZES      10           NaN        string  default displayed  \n",
              "NAICS2012  2016           NaN        string  default displayed  "
            ]
          },
          "metadata": {
            "tags": []
          },
          "execution_count": 54
        }
      ]
    },
    {
      "cell_type": "code",
      "metadata": {
        "id": "mcrdNbXi0BL-",
        "colab_type": "code",
        "colab": {}
      },
      "source": [
        "api_conn.variables"
      ],
      "execution_count": null,
      "outputs": []
    },
    {
      "cell_type": "code",
      "metadata": {
        "id": "0AVxlMUxrw0R",
        "colab_type": "code",
        "colab": {
          "base_uri": "https://localhost:8080/",
          "height": 34
        },
        "outputId": "701c9307-8ab5-43c2-f364-28aa06d18993"
      },
      "source": [
        "api_conn.geographies.keys()"
      ],
      "execution_count": null,
      "outputs": [
        {
          "output_type": "execute_result",
          "data": {
            "text/plain": [
              "dict_keys(['fips'])"
            ]
          },
          "metadata": {
            "tags": []
          },
          "execution_count": 55
        }
      ]
    },
    {
      "cell_type": "code",
      "metadata": {
        "id": "tZO6-HEnsBid",
        "colab_type": "code",
        "colab": {
          "base_uri": "https://localhost:8080/",
          "height": 77
        },
        "outputId": "d7c18df7-ab38-46a9-ead2-edfc3ca0dab4"
      },
      "source": [
        "api_conn.geographies['fips']"
      ],
      "execution_count": null,
      "outputs": [
        {
          "output_type": "execute_result",
          "data": {
            "text/html": [
              "<div>\n",
              "<style scoped>\n",
              "    .dataframe tbody tr th:only-of-type {\n",
              "        vertical-align: middle;\n",
              "    }\n",
              "\n",
              "    .dataframe tbody tr th {\n",
              "        vertical-align: top;\n",
              "    }\n",
              "\n",
              "    .dataframe thead th {\n",
              "        text-align: right;\n",
              "    }\n",
              "</style>\n",
              "<table border=\"1\" class=\"dataframe\">\n",
              "  <thead>\n",
              "    <tr style=\"text-align: right;\">\n",
              "      <th></th>\n",
              "      <th>geoLevelId</th>\n",
              "      <th>limit</th>\n",
              "      <th>name</th>\n",
              "    </tr>\n",
              "  </thead>\n",
              "  <tbody>\n",
              "    <tr>\n",
              "      <th>0</th>\n",
              "      <td>861</td>\n",
              "      <td>38792</td>\n",
              "      <td>zipcode</td>\n",
              "    </tr>\n",
              "  </tbody>\n",
              "</table>\n",
              "</div>"
            ],
            "text/plain": [
              "  geoLevelId  limit     name\n",
              "0        861  38792  zipcode"
            ]
          },
          "metadata": {
            "tags": []
          },
          "execution_count": 56
        }
      ]
    },
    {
      "cell_type": "code",
      "metadata": {
        "id": "OZlNZ5YOk4jL",
        "colab_type": "code",
        "colab": {}
      },
      "source": [
        "print ('Attributes in the zbp:', api_conn.variables.shape[0])\n",
        "api_conn.variables"
      ],
      "execution_count": null,
      "outputs": []
    },
    {
      "cell_type": "code",
      "metadata": {
        "id": "Kzqwew3Dl-II",
        "colab_type": "code",
        "colab": {}
      },
      "source": [
        "cols = api_conn.varslike('EMP',engine='fnmatch')\n",
        "cols.extend(['EMPSZES_TTL','ESTAB','FOOTID_GEO','FOOTID_NAICS','GEOTYPE','GEO_ID','GEO_TTL','NAICS2012_TTL','PAYANN','ST','YEAR','ZIPCODE']) #'NAICS2012', 'EMPSZES'\n"
      ],
      "execution_count": null,
      "outputs": []
    },
    {
      "cell_type": "code",
      "metadata": {
        "id": "MnJBjJPhnri2",
        "colab_type": "code",
        "colab": {
          "base_uri": "https://localhost:8080/",
          "height": 195
        },
        "outputId": "ec031e59-dd13-4622-8422-3f5adf3bfc4a"
      },
      "source": [
        "cols_detail = pd.DataFrame(api_conn.variables.label)\n",
        "cols_detail.sample(5)"
      ],
      "execution_count": null,
      "outputs": [
        {
          "output_type": "execute_result",
          "data": {
            "text/html": [
              "<div>\n",
              "<style scoped>\n",
              "    .dataframe tbody tr th:only-of-type {\n",
              "        vertical-align: middle;\n",
              "    }\n",
              "\n",
              "    .dataframe tbody tr th {\n",
              "        vertical-align: top;\n",
              "    }\n",
              "\n",
              "    .dataframe thead th {\n",
              "        text-align: right;\n",
              "    }\n",
              "</style>\n",
              "<table border=\"1\" class=\"dataframe\">\n",
              "  <thead>\n",
              "    <tr style=\"text-align: right;\">\n",
              "      <th></th>\n",
              "      <th>label</th>\n",
              "    </tr>\n",
              "  </thead>\n",
              "  <tbody>\n",
              "    <tr>\n",
              "      <th>ESTAB_F</th>\n",
              "      <td>Flag for Total number of Establishments</td>\n",
              "    </tr>\n",
              "    <tr>\n",
              "      <th>EMPSZES</th>\n",
              "      <td>Employment size of establishment</td>\n",
              "    </tr>\n",
              "    <tr>\n",
              "      <th>PAYQTR1</th>\n",
              "      <td>Total First Quarter Payroll</td>\n",
              "    </tr>\n",
              "    <tr>\n",
              "      <th>GEO_TTL</th>\n",
              "      <td>Title of Geography</td>\n",
              "    </tr>\n",
              "    <tr>\n",
              "      <th>ZIPCODE</th>\n",
              "      <td>FIPS Zip</td>\n",
              "    </tr>\n",
              "  </tbody>\n",
              "</table>\n",
              "</div>"
            ],
            "text/plain": [
              "                                           label\n",
              "ESTAB_F  Flag for Total number of Establishments\n",
              "EMPSZES         Employment size of establishment\n",
              "PAYQTR1              Total First Quarter Payroll\n",
              "GEO_TTL                       Title of Geography\n",
              "ZIPCODE                                 FIPS Zip"
            ]
          },
          "metadata": {
            "tags": []
          },
          "execution_count": 77
        }
      ]
    },
    {
      "cell_type": "code",
      "metadata": {
        "id": "xQjcQlXYn08y",
        "colab_type": "code",
        "colab": {}
      },
      "source": [
        "data =  api_conn.query(cols=cols, geo_unit='zipcode:*')"
      ],
      "execution_count": null,
      "outputs": []
    },
    {
      "cell_type": "code",
      "metadata": {
        "id": "lO9YUaF3n1Ir",
        "colab_type": "code",
        "colab": {
          "base_uri": "https://localhost:8080/",
          "height": 343
        },
        "outputId": "d5c90cb8-c0a1-4b05-a6f9-0efef1dc49e5"
      },
      "source": [
        "data.sample(10)"
      ],
      "execution_count": null,
      "outputs": [
        {
          "output_type": "execute_result",
          "data": {
            "text/html": [
              "<div>\n",
              "<style scoped>\n",
              "    .dataframe tbody tr th:only-of-type {\n",
              "        vertical-align: middle;\n",
              "    }\n",
              "\n",
              "    .dataframe tbody tr th {\n",
              "        vertical-align: top;\n",
              "    }\n",
              "\n",
              "    .dataframe thead th {\n",
              "        text-align: right;\n",
              "    }\n",
              "</style>\n",
              "<table border=\"1\" class=\"dataframe\">\n",
              "  <thead>\n",
              "    <tr style=\"text-align: right;\">\n",
              "      <th></th>\n",
              "      <th>EMP</th>\n",
              "      <th>EMPSZES_TTL</th>\n",
              "      <th>ESTAB</th>\n",
              "      <th>FOOTID_GEO</th>\n",
              "      <th>FOOTID_NAICS</th>\n",
              "      <th>GEOTYPE</th>\n",
              "      <th>GEO_ID</th>\n",
              "      <th>GEO_TTL</th>\n",
              "      <th>NAICS2012_TTL</th>\n",
              "      <th>PAYANN</th>\n",
              "      <th>ST</th>\n",
              "      <th>YEAR</th>\n",
              "      <th>ZIPCODE</th>\n",
              "      <th>zipcode</th>\n",
              "    </tr>\n",
              "  </thead>\n",
              "  <tbody>\n",
              "    <tr>\n",
              "      <th>13436</th>\n",
              "      <td>53</td>\n",
              "      <td>All establishments</td>\n",
              "      <td>7</td>\n",
              "      <td>None</td>\n",
              "      <td>None</td>\n",
              "      <td>14</td>\n",
              "      <td>8610000US34445</td>\n",
              "      <td>34445(HOLDER,FL)</td>\n",
              "      <td>Total for all sectors</td>\n",
              "      <td>1220</td>\n",
              "      <td>12</td>\n",
              "      <td>2016</td>\n",
              "      <td>34445</td>\n",
              "      <td>34445</td>\n",
              "    </tr>\n",
              "    <tr>\n",
              "      <th>1614</th>\n",
              "      <td>0</td>\n",
              "      <td>All establishments</td>\n",
              "      <td>3</td>\n",
              "      <td>None</td>\n",
              "      <td>None</td>\n",
              "      <td>14</td>\n",
              "      <td>8610000US05439</td>\n",
              "      <td>05439(COLCHESTER,VT)</td>\n",
              "      <td>Total for all sectors</td>\n",
              "      <td>0</td>\n",
              "      <td>50</td>\n",
              "      <td>2016</td>\n",
              "      <td>05439</td>\n",
              "      <td>05439</td>\n",
              "    </tr>\n",
              "    <tr>\n",
              "      <th>32305</th>\n",
              "      <td>10829</td>\n",
              "      <td>All establishments</td>\n",
              "      <td>732</td>\n",
              "      <td>None</td>\n",
              "      <td>None</td>\n",
              "      <td>14</td>\n",
              "      <td>8610000US80246</td>\n",
              "      <td>80246(DENVER,CO)</td>\n",
              "      <td>Total for all sectors</td>\n",
              "      <td>476028</td>\n",
              "      <td>08</td>\n",
              "      <td>2016</td>\n",
              "      <td>80246</td>\n",
              "      <td>80246</td>\n",
              "    </tr>\n",
              "    <tr>\n",
              "      <th>5026</th>\n",
              "      <td>1708</td>\n",
              "      <td>All establishments</td>\n",
              "      <td>12</td>\n",
              "      <td>None</td>\n",
              "      <td>None</td>\n",
              "      <td>14</td>\n",
              "      <td>8610000US15077</td>\n",
              "      <td>15077(SHIPPINGPORT,PA)</td>\n",
              "      <td>Total for all sectors</td>\n",
              "      <td>144566</td>\n",
              "      <td>42</td>\n",
              "      <td>2016</td>\n",
              "      <td>15077</td>\n",
              "      <td>15077</td>\n",
              "    </tr>\n",
              "    <tr>\n",
              "      <th>26902</th>\n",
              "      <td>32</td>\n",
              "      <td>All establishments</td>\n",
              "      <td>3</td>\n",
              "      <td>None</td>\n",
              "      <td>None</td>\n",
              "      <td>14</td>\n",
              "      <td>8610000US67364</td>\n",
              "      <td>67364(TYRO,KS)</td>\n",
              "      <td>Total for all sectors</td>\n",
              "      <td>605</td>\n",
              "      <td>20</td>\n",
              "      <td>2016</td>\n",
              "      <td>67364</td>\n",
              "      <td>67364</td>\n",
              "    </tr>\n",
              "    <tr>\n",
              "      <th>12428</th>\n",
              "      <td>9917</td>\n",
              "      <td>All establishments</td>\n",
              "      <td>851</td>\n",
              "      <td>None</td>\n",
              "      <td>None</td>\n",
              "      <td>14</td>\n",
              "      <td>8610000US32503</td>\n",
              "      <td>32503(PENSACOLA,FL)</td>\n",
              "      <td>Total for all sectors</td>\n",
              "      <td>389126</td>\n",
              "      <td>12</td>\n",
              "      <td>2016</td>\n",
              "      <td>32503</td>\n",
              "      <td>32503</td>\n",
              "    </tr>\n",
              "    <tr>\n",
              "      <th>34150</th>\n",
              "      <td>6</td>\n",
              "      <td>All establishments</td>\n",
              "      <td>4</td>\n",
              "      <td>None</td>\n",
              "      <td>None</td>\n",
              "      <td>14</td>\n",
              "      <td>8610000US87044</td>\n",
              "      <td>87044(PONDEROSA,NM)</td>\n",
              "      <td>Total for all sectors</td>\n",
              "      <td>171</td>\n",
              "      <td>35</td>\n",
              "      <td>2016</td>\n",
              "      <td>87044</td>\n",
              "      <td>87044</td>\n",
              "    </tr>\n",
              "    <tr>\n",
              "      <th>4710</th>\n",
              "      <td>547</td>\n",
              "      <td>All establishments</td>\n",
              "      <td>92</td>\n",
              "      <td>None</td>\n",
              "      <td>None</td>\n",
              "      <td>14</td>\n",
              "      <td>8610000US14487</td>\n",
              "      <td>14487(LIVONIA,NY)</td>\n",
              "      <td>Total for all sectors</td>\n",
              "      <td>14843</td>\n",
              "      <td>36</td>\n",
              "      <td>2016</td>\n",
              "      <td>14487</td>\n",
              "      <td>14487</td>\n",
              "    </tr>\n",
              "    <tr>\n",
              "      <th>1749</th>\n",
              "      <td>4992</td>\n",
              "      <td>All establishments</td>\n",
              "      <td>368</td>\n",
              "      <td>None</td>\n",
              "      <td>None</td>\n",
              "      <td>14</td>\n",
              "      <td>8610000US05819</td>\n",
              "      <td>05819(SAINT JOHNSBURY,VT)</td>\n",
              "      <td>Total for all sectors</td>\n",
              "      <td>202078</td>\n",
              "      <td>50</td>\n",
              "      <td>2016</td>\n",
              "      <td>05819</td>\n",
              "      <td>05819</td>\n",
              "    </tr>\n",
              "    <tr>\n",
              "      <th>30181</th>\n",
              "      <td>7783</td>\n",
              "      <td>All establishments</td>\n",
              "      <td>546</td>\n",
              "      <td>None</td>\n",
              "      <td>None</td>\n",
              "      <td>14</td>\n",
              "      <td>8610000US75670</td>\n",
              "      <td>75670(MARSHALL,TX)</td>\n",
              "      <td>Total for all sectors</td>\n",
              "      <td>248633</td>\n",
              "      <td>48</td>\n",
              "      <td>2016</td>\n",
              "      <td>75670</td>\n",
              "      <td>75670</td>\n",
              "    </tr>\n",
              "  </tbody>\n",
              "</table>\n",
              "</div>"
            ],
            "text/plain": [
              "         EMP         EMPSZES_TTL ESTAB FOOTID_GEO FOOTID_NAICS GEOTYPE  \\\n",
              "13436     53  All establishments     7       None         None      14   \n",
              "1614       0  All establishments     3       None         None      14   \n",
              "32305  10829  All establishments   732       None         None      14   \n",
              "5026    1708  All establishments    12       None         None      14   \n",
              "26902     32  All establishments     3       None         None      14   \n",
              "12428   9917  All establishments   851       None         None      14   \n",
              "34150      6  All establishments     4       None         None      14   \n",
              "4710     547  All establishments    92       None         None      14   \n",
              "1749    4992  All establishments   368       None         None      14   \n",
              "30181   7783  All establishments   546       None         None      14   \n",
              "\n",
              "               GEO_ID                    GEO_TTL          NAICS2012_TTL  \\\n",
              "13436  8610000US34445           34445(HOLDER,FL)  Total for all sectors   \n",
              "1614   8610000US05439       05439(COLCHESTER,VT)  Total for all sectors   \n",
              "32305  8610000US80246           80246(DENVER,CO)  Total for all sectors   \n",
              "5026   8610000US15077     15077(SHIPPINGPORT,PA)  Total for all sectors   \n",
              "26902  8610000US67364             67364(TYRO,KS)  Total for all sectors   \n",
              "12428  8610000US32503        32503(PENSACOLA,FL)  Total for all sectors   \n",
              "34150  8610000US87044        87044(PONDEROSA,NM)  Total for all sectors   \n",
              "4710   8610000US14487          14487(LIVONIA,NY)  Total for all sectors   \n",
              "1749   8610000US05819  05819(SAINT JOHNSBURY,VT)  Total for all sectors   \n",
              "30181  8610000US75670         75670(MARSHALL,TX)  Total for all sectors   \n",
              "\n",
              "       PAYANN  ST  YEAR ZIPCODE zipcode  \n",
              "13436    1220  12  2016   34445   34445  \n",
              "1614        0  50  2016   05439   05439  \n",
              "32305  476028  08  2016   80246   80246  \n",
              "5026   144566  42  2016   15077   15077  \n",
              "26902     605  20  2016   67364   67364  \n",
              "12428  389126  12  2016   32503   32503  \n",
              "34150     171  35  2016   87044   87044  \n",
              "4710    14843  36  2016   14487   14487  \n",
              "1749   202078  50  2016   05819   05819  \n",
              "30181  248633  48  2016   75670   75670  "
            ]
          },
          "metadata": {
            "tags": []
          },
          "execution_count": 94
        }
      ]
    },
    {
      "cell_type": "code",
      "metadata": {
        "id": "gHdFzt7txHJ-",
        "colab_type": "code",
        "colab": {
          "base_uri": "https://localhost:8080/",
          "height": 195
        },
        "outputId": "910a61fa-afea-4db1-eb7c-986f8f438885"
      },
      "source": [
        " data.head(5)"
      ],
      "execution_count": null,
      "outputs": [
        {
          "output_type": "execute_result",
          "data": {
            "text/html": [
              "<div>\n",
              "<style scoped>\n",
              "    .dataframe tbody tr th:only-of-type {\n",
              "        vertical-align: middle;\n",
              "    }\n",
              "\n",
              "    .dataframe tbody tr th {\n",
              "        vertical-align: top;\n",
              "    }\n",
              "\n",
              "    .dataframe thead th {\n",
              "        text-align: right;\n",
              "    }\n",
              "</style>\n",
              "<table border=\"1\" class=\"dataframe\">\n",
              "  <thead>\n",
              "    <tr style=\"text-align: right;\">\n",
              "      <th></th>\n",
              "      <th>EMP</th>\n",
              "      <th>EMPSZES_TTL</th>\n",
              "      <th>ESTAB</th>\n",
              "      <th>FOOTID_GEO</th>\n",
              "      <th>FOOTID_NAICS</th>\n",
              "      <th>GEOTYPE</th>\n",
              "      <th>GEO_ID</th>\n",
              "      <th>GEO_TTL</th>\n",
              "      <th>NAICS2012_TTL</th>\n",
              "      <th>PAYANN</th>\n",
              "      <th>ST</th>\n",
              "      <th>YEAR</th>\n",
              "      <th>ZIPCODE</th>\n",
              "      <th>zipcode</th>\n",
              "    </tr>\n",
              "  </thead>\n",
              "  <tbody>\n",
              "    <tr>\n",
              "      <th>0</th>\n",
              "      <td>0</td>\n",
              "      <td>All establishments</td>\n",
              "      <td>2</td>\n",
              "      <td>None</td>\n",
              "      <td>None</td>\n",
              "      <td>14</td>\n",
              "      <td>8610000US00501</td>\n",
              "      <td>00501(HOLTSVILLE,NY)</td>\n",
              "      <td>Total for all sectors</td>\n",
              "      <td>0</td>\n",
              "      <td>36</td>\n",
              "      <td>2016</td>\n",
              "      <td>00501</td>\n",
              "      <td>00501</td>\n",
              "    </tr>\n",
              "    <tr>\n",
              "      <th>1</th>\n",
              "      <td>9127</td>\n",
              "      <td>All establishments</td>\n",
              "      <td>472</td>\n",
              "      <td>None</td>\n",
              "      <td>None</td>\n",
              "      <td>14</td>\n",
              "      <td>8610000US01001</td>\n",
              "      <td>01001(AGAWAM,MA)</td>\n",
              "      <td>Total for all sectors</td>\n",
              "      <td>376492</td>\n",
              "      <td>25</td>\n",
              "      <td>2016</td>\n",
              "      <td>01001</td>\n",
              "      <td>01001</td>\n",
              "    </tr>\n",
              "    <tr>\n",
              "      <th>2</th>\n",
              "      <td>18894</td>\n",
              "      <td>All establishments</td>\n",
              "      <td>564</td>\n",
              "      <td>None</td>\n",
              "      <td>None</td>\n",
              "      <td>14</td>\n",
              "      <td>8610000US01002</td>\n",
              "      <td>01002(AMHERST,MA)</td>\n",
              "      <td>Total for all sectors</td>\n",
              "      <td>472633</td>\n",
              "      <td>25</td>\n",
              "      <td>2016</td>\n",
              "      <td>01002</td>\n",
              "      <td>01002</td>\n",
              "    </tr>\n",
              "    <tr>\n",
              "      <th>3</th>\n",
              "      <td>288</td>\n",
              "      <td>All establishments</td>\n",
              "      <td>21</td>\n",
              "      <td>None</td>\n",
              "      <td>None</td>\n",
              "      <td>14</td>\n",
              "      <td>8610000US01003</td>\n",
              "      <td>01003(AMHERST,MA)</td>\n",
              "      <td>Total for all sectors</td>\n",
              "      <td>10461</td>\n",
              "      <td>25</td>\n",
              "      <td>2016</td>\n",
              "      <td>01003</td>\n",
              "      <td>01003</td>\n",
              "    </tr>\n",
              "    <tr>\n",
              "      <th>4</th>\n",
              "      <td>193</td>\n",
              "      <td>All establishments</td>\n",
              "      <td>14</td>\n",
              "      <td>None</td>\n",
              "      <td>None</td>\n",
              "      <td>14</td>\n",
              "      <td>8610000US01004</td>\n",
              "      <td>01004(AMHERST,MA)</td>\n",
              "      <td>Total for all sectors</td>\n",
              "      <td>5915</td>\n",
              "      <td>25</td>\n",
              "      <td>2016</td>\n",
              "      <td>01004</td>\n",
              "      <td>01004</td>\n",
              "    </tr>\n",
              "  </tbody>\n",
              "</table>\n",
              "</div>"
            ],
            "text/plain": [
              "     EMP         EMPSZES_TTL ESTAB FOOTID_GEO FOOTID_NAICS GEOTYPE  \\\n",
              "0      0  All establishments     2       None         None      14   \n",
              "1   9127  All establishments   472       None         None      14   \n",
              "2  18894  All establishments   564       None         None      14   \n",
              "3    288  All establishments    21       None         None      14   \n",
              "4    193  All establishments    14       None         None      14   \n",
              "\n",
              "           GEO_ID               GEO_TTL          NAICS2012_TTL  PAYANN  ST  \\\n",
              "0  8610000US00501  00501(HOLTSVILLE,NY)  Total for all sectors       0  36   \n",
              "1  8610000US01001      01001(AGAWAM,MA)  Total for all sectors  376492  25   \n",
              "2  8610000US01002     01002(AMHERST,MA)  Total for all sectors  472633  25   \n",
              "3  8610000US01003     01003(AMHERST,MA)  Total for all sectors   10461  25   \n",
              "4  8610000US01004     01004(AMHERST,MA)  Total for all sectors    5915  25   \n",
              "\n",
              "   YEAR ZIPCODE zipcode  \n",
              "0  2016   00501   00501  \n",
              "1  2016   01001   01001  \n",
              "2  2016   01002   01002  \n",
              "3  2016   01003   01003  \n",
              "4  2016   01004   01004  "
            ]
          },
          "metadata": {
            "tags": []
          },
          "execution_count": 83
        }
      ]
    },
    {
      "cell_type": "markdown",
      "metadata": {
        "id": "aSz3f-hFg9tU",
        "colab_type": "text"
      },
      "source": [
        "### Small Area Income and Poverty Estimates (SAIPE)\n",
        "#### (in-process)"
      ]
    },
    {
      "cell_type": "markdown",
      "metadata": {
        "id": "vMaOJW9Uh0bS",
        "colab_type": "text"
      },
      "source": [
        "The U.S. Census Bureau's Small Area Income and Poverty Estimates (SAIPE) program provides annual estimates of income and poverty statistics for all school districts, counties, and states. The main objective of this program is to provide estimates of income and poverty for the administration of federal programs and the allocation of federal funds to local jurisdictions. In addition to these federal programs, state and local programs use the income and poverty estimates for distributing funds and managing programs. In order to implement provisions under Title I of the Elementary and Secondary Education Act as amended, we produce total population, number of children ages 5 to 17, and number of related children ages 5 to 17 in families in poverty estimates for school districts.\t"
      ]
    },
    {
      "cell_type": "markdown",
      "metadata": {
        "id": "AVgV9uJWiUk6",
        "colab_type": "text"
      },
      "source": [
        "API:  https://api.census.gov/data/timeseries/poverty/saipe/schdist"
      ]
    },
    {
      "cell_type": "code",
      "metadata": {
        "id": "KRvQy_h1uVHf",
        "colab_type": "code",
        "colab": {
          "base_uri": "https://localhost:8080/",
          "height": 251
        },
        "outputId": "9cb2d3e3-3c69-49f1-9ca8-1f9a877e4856"
      },
      "source": [
        "txt_school_districts=[]\n",
        "for i in range(3, 17):\n",
        "    leading_zero= \"0\"\n",
        "    if i<10:\n",
        "        url=\"https://www2.census.gov/programs-surveys/saipe/datasets/20\"+ leading_zero + str(i) + \"/20\" +leading_zero+ str(i)+ \"-school-districts/ussd\" +leading_zero+ str(i) +\".txt\"\n",
        "    else:\n",
        "        url=\"https://www2.census.gov/programs-surveys/saipe/datasets/20\" + str(i) + \"/20\"+ str(i)+ \"-school-districts/ussd\" + str(i) +\".txt\"    \n",
        "    txt_school_districts.append(url)\n",
        "txt_school_districts    \n"
      ],
      "execution_count": null,
      "outputs": [
        {
          "output_type": "execute_result",
          "data": {
            "text/plain": [
              "['https://www2.census.gov/programs-surveys/saipe/datasets/2003/2003-school-districts/ussd03.txt',\n",
              " 'https://www2.census.gov/programs-surveys/saipe/datasets/2004/2004-school-districts/ussd04.txt',\n",
              " 'https://www2.census.gov/programs-surveys/saipe/datasets/2005/2005-school-districts/ussd05.txt',\n",
              " 'https://www2.census.gov/programs-surveys/saipe/datasets/2006/2006-school-districts/ussd06.txt',\n",
              " 'https://www2.census.gov/programs-surveys/saipe/datasets/2007/2007-school-districts/ussd07.txt',\n",
              " 'https://www2.census.gov/programs-surveys/saipe/datasets/2008/2008-school-districts/ussd08.txt',\n",
              " 'https://www2.census.gov/programs-surveys/saipe/datasets/2009/2009-school-districts/ussd09.txt',\n",
              " 'https://www2.census.gov/programs-surveys/saipe/datasets/2010/2010-school-districts/ussd10.txt',\n",
              " 'https://www2.census.gov/programs-surveys/saipe/datasets/2011/2011-school-districts/ussd11.txt',\n",
              " 'https://www2.census.gov/programs-surveys/saipe/datasets/2012/2012-school-districts/ussd12.txt',\n",
              " 'https://www2.census.gov/programs-surveys/saipe/datasets/2013/2013-school-districts/ussd13.txt',\n",
              " 'https://www2.census.gov/programs-surveys/saipe/datasets/2014/2014-school-districts/ussd14.txt',\n",
              " 'https://www2.census.gov/programs-surveys/saipe/datasets/2015/2015-school-districts/ussd15.txt',\n",
              " 'https://www2.census.gov/programs-surveys/saipe/datasets/2016/2016-school-districts/ussd16.txt']"
            ]
          },
          "metadata": {
            "tags": []
          },
          "execution_count": 192
        }
      ]
    },
    {
      "cell_type": "code",
      "metadata": {
        "id": "0IwIGeCq3q2S",
        "colab_type": "code",
        "colab": {}
      },
      "source": [
        "pd.read_table('https://www2.census.gov/programs-surveys/saipe/datasets/2003/2003-school-districts/ussd03.txt', sep='\\t' )"
      ],
      "execution_count": null,
      "outputs": []
    },
    {
      "cell_type": "code",
      "metadata": {
        "id": "fx7hPRHaG7UW",
        "colab_type": "code",
        "colab": {}
      },
      "source": [
        "#xls file 2003-2016\n",
        "!wget \"https://www2.census.gov/programs-surveys/saipe/datasets/2003/2003-school-districts/ussd03.xls\""
      ],
      "execution_count": null,
      "outputs": []
    },
    {
      "cell_type": "markdown",
      "metadata": {
        "id": "KmrDDRNJppUa",
        "colab_type": "text"
      },
      "source": [
        "\n",
        "### Quarterly Work Indicators (QWI) \n",
        "#### (possible-inclusion)"
      ]
    },
    {
      "cell_type": "code",
      "metadata": {
        "id": "6x1GJHc9sMud",
        "colab_type": "code",
        "colab": {}
      },
      "source": [
        "qwi_connection = cen.base.Connection('QWISA')"
      ],
      "execution_count": null,
      "outputs": []
    },
    {
      "cell_type": "markdown",
      "metadata": {
        "id": "EilJKzjvqBlg",
        "colab_type": "text"
      },
      "source": [
        "\"The QWI are a set of 32 economic indicators including employment, job creation/destruction, wages, hires, and other measures of employment flows. The QWI are reported based on detailed firm characteristics (geography, industry, age, size) and worker demographics (sex, age, education, race, ethnicity) and are available tabulated to national*, state, metropolitan/micropolitan areas, county, and workforce investment areas (WIA). The QWI are unique in their ability to track both firm and worker characteristics over time – enabling analyses such as a longitudinal look at wages by worker sex and age across counties, ranking job creation rates of young firms across NAICS industry groups, and comparing hiring levels by worker race and education levels across a selection of metropolitan areas.\"\n",
        "[(census.gov)](https://www.census.gov/data/developers/data-sets/qwi.html)"
      ]
    },
    {
      "cell_type": "code",
      "metadata": {
        "id": "Q4yWwV2koWMS",
        "colab_type": "code",
        "colab": {}
      },
      "source": [
        "# Specify all counties\n",
        "g_unit = 'county:*'\n",
        "# state \n",
        "g_filter = {'state': '17'}\n",
        "# Specify time period\n",
        "time = 'from 1990-Q1 to 2019-Q1'\n",
        "# Uses .varslike to pull in all indicator names\n",
        "cols = qwi_connection.varslike('Emp')     # Employment\n",
        "hira = qwi_connection.varslike('HirA')   # Hiring\n",
        "earn = qwi_connection.varslike('Earn')   # Earning\n",
        "pay = qwi_connection.varslike('Pay')     # Payroll\n",
        "frm = qwi_connection.varslike('Frm')     # Firm Job Stats\n",
        "sep = qwi_connection.varslike('sep')     # Seperations\n",
        "\n",
        "# Extend cols to add additional variables\n",
        "cols.extend(hira)\n",
        "cols.extend(earn)\n",
        "cols.extend(pay)\n",
        "cols.extend(frm)\n",
        "cols.extend(sep)"
      ],
      "execution_count": null,
      "outputs": []
    },
    {
      "cell_type": "code",
      "metadata": {
        "id": "c8QXJQJ4of_A",
        "colab_type": "code",
        "colab": {}
      },
      "source": [
        "test = qwi_connection.query(cols = cols, time = time, geo_filter = g_filter, geo_unit = g_unit)"
      ],
      "execution_count": null,
      "outputs": []
    },
    {
      "cell_type": "code",
      "metadata": {
        "id": "pfEB2Llur5hF",
        "colab_type": "code",
        "colab": {
          "base_uri": "https://localhost:8080/",
          "height": 33
        },
        "outputId": "1ed9d069-773c-4253-b854-6a45f519fb0d"
      },
      "source": [
        "len(test)"
      ],
      "execution_count": null,
      "outputs": [
        {
          "output_type": "execute_result",
          "data": {
            "text/plain": [
              "10200"
            ]
          },
          "metadata": {
            "tags": []
          },
          "execution_count": 17
        }
      ]
    },
    {
      "cell_type": "code",
      "metadata": {
        "id": "NLrftsZrpAnP",
        "colab_type": "code",
        "colab": {}
      },
      "source": [
        "test.head(10)"
      ],
      "execution_count": null,
      "outputs": []
    },
    {
      "cell_type": "markdown",
      "metadata": {
        "id": "dNWQCkT2QJu5",
        "colab_type": "text"
      },
      "source": [
        "SAIPESchoolDistrictsTimeSeries, ZBPTotal2016- zbp\n",
        "\n",
        "---\n",
        "\n",
        "timeseries, poverty, saipe, schdist\n",
        "\n",
        "\n",
        "QWI"
      ]
    },
    {
      "cell_type": "markdown",
      "metadata": {
        "id": "Xl9SaBb19Sup",
        "colab_type": "text"
      },
      "source": [
        "### ACS 5 YEAR"
      ]
    },
    {
      "cell_type": "code",
      "metadata": {
        "id": "V3IH2uoUWoHi",
        "colab_type": "code",
        "colab": {
          "base_uri": "https://localhost:8080/",
          "height": 459
        },
        "outputId": "38102699-bbbb-40e0-cf32-02d7056b71f4"
      },
      "source": [
        "!pip install cenpy"
      ],
      "execution_count": null,
      "outputs": [
        {
          "output_type": "stream",
          "text": [
            "Collecting cenpy\n",
            "  Downloading https://files.pythonhosted.org/packages/4f/8e/0acebcf7799390922a8f654ae6313e889e2900f4e5aef6f05d04afe090c6/cenpy-0.9.9.post1.tar.gz\n",
            "Requirement already satisfied: pandas in /usr/local/lib/python3.6/dist-packages (from cenpy) (0.24.2)\n",
            "Requirement already satisfied: requests in /usr/local/lib/python3.6/dist-packages (from cenpy) (2.21.0)\n",
            "Collecting libpysal (from cenpy)\n",
            "\u001b[?25l  Downloading https://files.pythonhosted.org/packages/c5/6b/6107c51b172a7032bc7e85acd35638af2b9b66dec6d3df042664792d3fde/libpysal-4.0.1.tar.gz (24.4MB)\n",
            "\u001b[K     |████████████████████████████████| 24.4MB 13.7MB/s \n",
            "\u001b[?25hRequirement already satisfied: numpy>=1.12.0 in /usr/local/lib/python3.6/dist-packages (from pandas->cenpy) (1.16.4)\n",
            "Requirement already satisfied: pytz>=2011k in /usr/local/lib/python3.6/dist-packages (from pandas->cenpy) (2018.9)\n",
            "Requirement already satisfied: python-dateutil>=2.5.0 in /usr/local/lib/python3.6/dist-packages (from pandas->cenpy) (2.5.3)\n",
            "Requirement already satisfied: urllib3<1.25,>=1.21.1 in /usr/local/lib/python3.6/dist-packages (from requests->cenpy) (1.24.3)\n",
            "Requirement already satisfied: idna<2.9,>=2.5 in /usr/local/lib/python3.6/dist-packages (from requests->cenpy) (2.8)\n",
            "Requirement already satisfied: chardet<3.1.0,>=3.0.2 in /usr/local/lib/python3.6/dist-packages (from requests->cenpy) (3.0.4)\n",
            "Requirement already satisfied: certifi>=2017.4.17 in /usr/local/lib/python3.6/dist-packages (from requests->cenpy) (2019.6.16)\n",
            "Requirement already satisfied: scipy>=0.11 in /usr/local/lib/python3.6/dist-packages (from libpysal->cenpy) (1.3.0)\n",
            "Requirement already satisfied: six>=1.5 in /usr/local/lib/python3.6/dist-packages (from python-dateutil>=2.5.0->pandas->cenpy) (1.12.0)\n",
            "Building wheels for collected packages: cenpy, libpysal\n",
            "  Building wheel for cenpy (setup.py) ... \u001b[?25l\u001b[?25hdone\n",
            "  Stored in directory: /root/.cache/pip/wheels/79/52/f1/312cd88b8e1d64be0bec4646cf66ce0e033c838d56586a4f40\n",
            "  Building wheel for libpysal (setup.py) ... \u001b[?25l\u001b[?25hdone\n",
            "  Stored in directory: /root/.cache/pip/wheels/b9/7a/55/777eb685de870d4633c21d7ffe537ecc5ad4eede1bb3d0468e\n",
            "Successfully built cenpy libpysal\n",
            "Installing collected packages: libpysal, cenpy\n",
            "Successfully installed cenpy-0.9.9.post1 libpysal-4.0.1\n"
          ],
          "name": "stdout"
        }
      ]
    },
    {
      "cell_type": "code",
      "metadata": {
        "id": "JazXpZfb2E9w",
        "colab_type": "code",
        "colab": {
          "base_uri": "https://localhost:8080/",
          "height": 54
        },
        "outputId": "33971706-6d28-4c24-e48f-21437c2dbf5f"
      },
      "source": [
        "import pandas as pd\n",
        "import cenpy as cen\n",
        "import pysal\n",
        "#ACSDT5Y2011\n",
        "api = 'ACSDT5Y2017'\n",
        "cen.explorer.explain(api)"
      ],
      "execution_count": null,
      "outputs": [
        {
          "output_type": "execute_result",
          "data": {
            "text/plain": [
              "{'ACS 5-Year Detailed Tables': 'The American Community Survey (ACS) is an ongoing survey that provides data every year -- giving communities the current information they need to plan investments and services. The ACS covers a broad range of topics about social, economic, demographic, and housing characteristics of the U.S. population.  Summary files include the following geographies: nation, all states (including DC and Puerto Rico), all metropolitan areas, all congressional districts (114th congress), all counties, all places, and all tracts and block groups.  Summary files contain the most detailed cross-tabulations, many of which are published down to block groups. The data are population and housing counts. There are over 64,000 variables in this dataset.'}"
            ]
          },
          "metadata": {
            "tags": []
          },
          "execution_count": 5
        }
      ]
    },
    {
      "cell_type": "code",
      "metadata": {
        "id": "jjghNOu22Mq4",
        "colab_type": "code",
        "colab": {
          "base_uri": "https://localhost:8080/",
          "height": 34
        },
        "outputId": "c617664f-fdc9-41c7-d34b-8750027c39b2"
      },
      "source": [
        "api_conn = cen.base.Connection(api)\n",
        "api_conn"
      ],
      "execution_count": null,
      "outputs": [
        {
          "output_type": "execute_result",
          "data": {
            "text/plain": [
              "Connection to ACS 5-Year Detailed Tables (ID: https://api.census.gov/data/id/ACSDT5Y2017)"
            ]
          },
          "metadata": {
            "tags": []
          },
          "execution_count": 6
        }
      ]
    },
    {
      "cell_type": "code",
      "metadata": {
        "id": "ZSrbQFZn2anj",
        "colab_type": "code",
        "colab": {
          "base_uri": "https://localhost:8080/",
          "height": 70
        },
        "outputId": "a5aabd35-5462-4f8d-b200-a8b4b690598b"
      },
      "source": [
        "#Acquiring Data\n",
        "#Geographical specification\n",
        "#Cenpy uses FIPS codes to specify the geographical extent of the data to be downloaded. \n",
        "#The object con is our connection to the api, and the attribute geographies is a dictionary.\n",
        "\n",
        "print(type(api_conn))\n",
        "print(type(api_conn.geographies))\n",
        "print(api_conn.geographies.keys())"
      ],
      "execution_count": null,
      "outputs": [
        {
          "output_type": "stream",
          "text": [
            "<class 'cenpy.remote.APIConnection'>\n",
            "<class 'dict'>\n",
            "dict_keys(['fips'])\n"
          ],
          "name": "stdout"
        }
      ]
    },
    {
      "cell_type": "code",
      "metadata": {
        "id": "Dnp68Rlj2pqA",
        "colab_type": "code",
        "colab": {
          "base_uri": "https://localhost:8080/",
          "height": 358
        },
        "outputId": "3a2d40e3-deb6-42eb-eec7-8004a3d709a7"
      },
      "source": [
        "# print head of data frame in the geographies dictionary\n",
        "#len(con.geographies['fips']) \n",
        "api_conn.geographies['fips'].head(10)\n",
        "# we want to use the tract so we are going to need to pass in the state and county"
      ],
      "execution_count": null,
      "outputs": [
        {
          "output_type": "execute_result",
          "data": {
            "text/html": [
              "<div>\n",
              "<style scoped>\n",
              "    .dataframe tbody tr th:only-of-type {\n",
              "        vertical-align: middle;\n",
              "    }\n",
              "\n",
              "    .dataframe tbody tr th {\n",
              "        vertical-align: top;\n",
              "    }\n",
              "\n",
              "    .dataframe thead th {\n",
              "        text-align: right;\n",
              "    }\n",
              "</style>\n",
              "<table border=\"1\" class=\"dataframe\">\n",
              "  <thead>\n",
              "    <tr style=\"text-align: right;\">\n",
              "      <th></th>\n",
              "      <th>geoLevelDisplay</th>\n",
              "      <th>name</th>\n",
              "      <th>optionalWithWCFor</th>\n",
              "      <th>referenceDate</th>\n",
              "      <th>requires</th>\n",
              "      <th>wildcard</th>\n",
              "    </tr>\n",
              "  </thead>\n",
              "  <tbody>\n",
              "    <tr>\n",
              "      <th>0</th>\n",
              "      <td>010</td>\n",
              "      <td>us</td>\n",
              "      <td>NaN</td>\n",
              "      <td>2017-01-01</td>\n",
              "      <td>NaN</td>\n",
              "      <td>NaN</td>\n",
              "    </tr>\n",
              "    <tr>\n",
              "      <th>1</th>\n",
              "      <td>020</td>\n",
              "      <td>region</td>\n",
              "      <td>NaN</td>\n",
              "      <td>2017-01-01</td>\n",
              "      <td>NaN</td>\n",
              "      <td>NaN</td>\n",
              "    </tr>\n",
              "    <tr>\n",
              "      <th>2</th>\n",
              "      <td>030</td>\n",
              "      <td>division</td>\n",
              "      <td>NaN</td>\n",
              "      <td>2017-01-01</td>\n",
              "      <td>NaN</td>\n",
              "      <td>NaN</td>\n",
              "    </tr>\n",
              "    <tr>\n",
              "      <th>3</th>\n",
              "      <td>040</td>\n",
              "      <td>state</td>\n",
              "      <td>NaN</td>\n",
              "      <td>2017-01-01</td>\n",
              "      <td>NaN</td>\n",
              "      <td>NaN</td>\n",
              "    </tr>\n",
              "    <tr>\n",
              "      <th>4</th>\n",
              "      <td>050</td>\n",
              "      <td>county</td>\n",
              "      <td>state</td>\n",
              "      <td>2017-01-01</td>\n",
              "      <td>[state]</td>\n",
              "      <td>[state]</td>\n",
              "    </tr>\n",
              "    <tr>\n",
              "      <th>5</th>\n",
              "      <td>060</td>\n",
              "      <td>county subdivision</td>\n",
              "      <td>county</td>\n",
              "      <td>2017-01-01</td>\n",
              "      <td>[state, county]</td>\n",
              "      <td>[county]</td>\n",
              "    </tr>\n",
              "    <tr>\n",
              "      <th>6</th>\n",
              "      <td>067</td>\n",
              "      <td>subminor civil division</td>\n",
              "      <td>NaN</td>\n",
              "      <td>2017-01-01</td>\n",
              "      <td>[state, county, county subdivision]</td>\n",
              "      <td>NaN</td>\n",
              "    </tr>\n",
              "    <tr>\n",
              "      <th>7</th>\n",
              "      <td>070</td>\n",
              "      <td>place/remainder (or part)</td>\n",
              "      <td>NaN</td>\n",
              "      <td>2017-01-01</td>\n",
              "      <td>[state, county, county subdivision]</td>\n",
              "      <td>NaN</td>\n",
              "    </tr>\n",
              "    <tr>\n",
              "      <th>8</th>\n",
              "      <td>140</td>\n",
              "      <td>tract</td>\n",
              "      <td>county</td>\n",
              "      <td>2017-01-01</td>\n",
              "      <td>[state, county]</td>\n",
              "      <td>[county]</td>\n",
              "    </tr>\n",
              "    <tr>\n",
              "      <th>9</th>\n",
              "      <td>150</td>\n",
              "      <td>block group</td>\n",
              "      <td>tract</td>\n",
              "      <td>2017-01-01</td>\n",
              "      <td>[state, county, tract]</td>\n",
              "      <td>[tract]</td>\n",
              "    </tr>\n",
              "  </tbody>\n",
              "</table>\n",
              "</div>"
            ],
            "text/plain": [
              "  geoLevelDisplay  ...  wildcard\n",
              "0             010  ...       NaN\n",
              "1             020  ...       NaN\n",
              "2             030  ...       NaN\n",
              "3             040  ...       NaN\n",
              "4             050  ...   [state]\n",
              "5             060  ...  [county]\n",
              "6             067  ...       NaN\n",
              "7             070  ...       NaN\n",
              "8             140  ...  [county]\n",
              "9             150  ...   [tract]\n",
              "\n",
              "[10 rows x 6 columns]"
            ]
          },
          "metadata": {
            "tags": []
          },
          "execution_count": 8
        }
      ]
    },
    {
      "cell_type": "code",
      "metadata": {
        "id": "RRQUzoOf3iTM",
        "colab_type": "code",
        "colab": {}
      },
      "source": [
        "g_unit = 'tract:*'\n",
        "g_filter = {'state':'17'}\n"
      ],
      "execution_count": null,
      "outputs": []
    },
    {
      "cell_type": "code",
      "metadata": {
        "id": "VTFU08sJ3l0h",
        "colab_type": "code",
        "colab": {
          "base_uri": "https://localhost:8080/",
          "height": 924
        },
        "outputId": "3918e6e5-a203-4e46-b616-d03002152571"
      },
      "source": [
        "print ('Attributes in the ACS:', api_conn.variables.shape[0])\n",
        "api_conn.variables.head(10)"
      ],
      "execution_count": null,
      "outputs": [
        {
          "output_type": "stream",
          "text": [
            "Attributes in the ACS: 25110\n"
          ],
          "name": "stdout"
        },
        {
          "output_type": "execute_result",
          "data": {
            "text/html": [
              "<div>\n",
              "<style scoped>\n",
              "    .dataframe tbody tr th:only-of-type {\n",
              "        vertical-align: middle;\n",
              "    }\n",
              "\n",
              "    .dataframe tbody tr th {\n",
              "        vertical-align: top;\n",
              "    }\n",
              "\n",
              "    .dataframe thead th {\n",
              "        text-align: right;\n",
              "    }\n",
              "</style>\n",
              "<table border=\"1\" class=\"dataframe\">\n",
              "  <thead>\n",
              "    <tr style=\"text-align: right;\">\n",
              "      <th></th>\n",
              "      <th>attributes</th>\n",
              "      <th>concept</th>\n",
              "      <th>group</th>\n",
              "      <th>label</th>\n",
              "      <th>limit</th>\n",
              "      <th>predicateOnly</th>\n",
              "      <th>predicateType</th>\n",
              "      <th>required</th>\n",
              "      <th>values</th>\n",
              "    </tr>\n",
              "  </thead>\n",
              "  <tbody>\n",
              "    <tr>\n",
              "      <th>for</th>\n",
              "      <td>NaN</td>\n",
              "      <td>Census API Geography Specification</td>\n",
              "      <td>N/A</td>\n",
              "      <td>Census API FIPS 'for' clause</td>\n",
              "      <td>0</td>\n",
              "      <td>True</td>\n",
              "      <td>fips-for</td>\n",
              "      <td>NaN</td>\n",
              "      <td>NaN</td>\n",
              "    </tr>\n",
              "    <tr>\n",
              "      <th>in</th>\n",
              "      <td>NaN</td>\n",
              "      <td>Census API Geography Specification</td>\n",
              "      <td>N/A</td>\n",
              "      <td>Census API FIPS 'in' clause</td>\n",
              "      <td>0</td>\n",
              "      <td>True</td>\n",
              "      <td>fips-in</td>\n",
              "      <td>NaN</td>\n",
              "      <td>NaN</td>\n",
              "    </tr>\n",
              "    <tr>\n",
              "      <th>ucgid</th>\n",
              "      <td>NaN</td>\n",
              "      <td>Census API Geography Specification</td>\n",
              "      <td>N/A</td>\n",
              "      <td>Uniform Census Geography Identifier clause</td>\n",
              "      <td>0</td>\n",
              "      <td>True</td>\n",
              "      <td>ucgid</td>\n",
              "      <td>NaN</td>\n",
              "      <td>NaN</td>\n",
              "    </tr>\n",
              "    <tr>\n",
              "      <th>B24022_060E</th>\n",
              "      <td>B24022_060M,B24022_060MA,B24022_060EA</td>\n",
              "      <td>SEX BY OCCUPATION AND MEDIAN EARNINGS IN THE P...</td>\n",
              "      <td>B24022</td>\n",
              "      <td>Estimate!!Total!!Female!!Service occupations!!...</td>\n",
              "      <td>0</td>\n",
              "      <td>NaN</td>\n",
              "      <td>int</td>\n",
              "      <td>NaN</td>\n",
              "      <td>NaN</td>\n",
              "    </tr>\n",
              "    <tr>\n",
              "      <th>B19001B_014E</th>\n",
              "      <td>B19001B_014M,B19001B_014MA,B19001B_014EA</td>\n",
              "      <td>HOUSEHOLD INCOME IN THE PAST 12 MONTHS (IN 201...</td>\n",
              "      <td>B19001B</td>\n",
              "      <td>Estimate!!Total!!$100 000 to $124 999</td>\n",
              "      <td>0</td>\n",
              "      <td>NaN</td>\n",
              "      <td>int</td>\n",
              "      <td>NaN</td>\n",
              "      <td>NaN</td>\n",
              "    </tr>\n",
              "    <tr>\n",
              "      <th>B07007PR_019E</th>\n",
              "      <td>B07007PR_019M,B07007PR_019MA,B07007PR_019EA</td>\n",
              "      <td>GEOGRAPHICAL MOBILITY IN THE PAST YEAR BY CITI...</td>\n",
              "      <td>B07007PR</td>\n",
              "      <td>Estimate!!Total!!Moved from different municipi...</td>\n",
              "      <td>0</td>\n",
              "      <td>NaN</td>\n",
              "      <td>int</td>\n",
              "      <td>NaN</td>\n",
              "      <td>NaN</td>\n",
              "    </tr>\n",
              "    <tr>\n",
              "      <th>B19101A_004E</th>\n",
              "      <td>B19101A_004M,B19101A_004MA,B19101A_004EA</td>\n",
              "      <td>FAMILY INCOME IN THE PAST 12 MONTHS (IN 2017 I...</td>\n",
              "      <td>B19101A</td>\n",
              "      <td>Estimate!!Total!!$15 000 to $19 999</td>\n",
              "      <td>0</td>\n",
              "      <td>NaN</td>\n",
              "      <td>int</td>\n",
              "      <td>NaN</td>\n",
              "      <td>NaN</td>\n",
              "    </tr>\n",
              "    <tr>\n",
              "      <th>B24022_061E</th>\n",
              "      <td>B24022_061M,B24022_061MA,B24022_061EA</td>\n",
              "      <td>SEX BY OCCUPATION AND MEDIAN EARNINGS IN THE P...</td>\n",
              "      <td>B24022</td>\n",
              "      <td>Estimate!!Total!!Female!!Service occupations!!...</td>\n",
              "      <td>0</td>\n",
              "      <td>NaN</td>\n",
              "      <td>int</td>\n",
              "      <td>NaN</td>\n",
              "      <td>NaN</td>\n",
              "    </tr>\n",
              "    <tr>\n",
              "      <th>B19001B_013E</th>\n",
              "      <td>B19001B_013M,B19001B_013MA,B19001B_013EA</td>\n",
              "      <td>HOUSEHOLD INCOME IN THE PAST 12 MONTHS (IN 201...</td>\n",
              "      <td>B19001B</td>\n",
              "      <td>Estimate!!Total!!$75 000 to $99 999</td>\n",
              "      <td>0</td>\n",
              "      <td>NaN</td>\n",
              "      <td>int</td>\n",
              "      <td>NaN</td>\n",
              "      <td>NaN</td>\n",
              "    </tr>\n",
              "    <tr>\n",
              "      <th>B07007PR_018E</th>\n",
              "      <td>B07007PR_018M,B07007PR_018MA,B07007PR_018EA</td>\n",
              "      <td>GEOGRAPHICAL MOBILITY IN THE PAST YEAR BY CITI...</td>\n",
              "      <td>B07007PR</td>\n",
              "      <td>Estimate!!Total!!Moved from different municipi...</td>\n",
              "      <td>0</td>\n",
              "      <td>NaN</td>\n",
              "      <td>int</td>\n",
              "      <td>NaN</td>\n",
              "      <td>NaN</td>\n",
              "    </tr>\n",
              "  </tbody>\n",
              "</table>\n",
              "</div>"
            ],
            "text/plain": [
              "                                                attributes  ... values\n",
              "for                                                    NaN  ...    NaN\n",
              "in                                                     NaN  ...    NaN\n",
              "ucgid                                                  NaN  ...    NaN\n",
              "B24022_060E          B24022_060M,B24022_060MA,B24022_060EA  ...    NaN\n",
              "B19001B_014E      B19001B_014M,B19001B_014MA,B19001B_014EA  ...    NaN\n",
              "B07007PR_019E  B07007PR_019M,B07007PR_019MA,B07007PR_019EA  ...    NaN\n",
              "B19101A_004E      B19101A_004M,B19101A_004MA,B19101A_004EA  ...    NaN\n",
              "B24022_061E          B24022_061M,B24022_061MA,B24022_061EA  ...    NaN\n",
              "B19001B_013E      B19001B_013M,B19001B_013MA,B19001B_013EA  ...    NaN\n",
              "B07007PR_018E  B07007PR_018M,B07007PR_018MA,B07007PR_018EA  ...    NaN\n",
              "\n",
              "[10 rows x 9 columns]"
            ]
          },
          "metadata": {
            "tags": []
          },
          "execution_count": 10
        }
      ]
    },
    {
      "cell_type": "code",
      "metadata": {
        "id": "Q2PODtPL3l3V",
        "colab_type": "code",
        "colab": {}
      },
      "source": [
        "#https://api.census.gov/data/2017/acs/acs5/cprofile.html\n",
        "\n",
        "# 'B01001A_001E', POPULATION\n",
        "# 'B25001_001E' , HOUSING UNITS\n",
        "# 'B25035_001E' , MEDIAN year structur built\n",
        "# 'B25058_001E' , MEDIAN CONTRACT RENT (DOLLARS)\n",
        "# 'B25071_001E' , MEDIAN GROSS RENT AS A PERCENTAGE OF HOUSEHOLD INCOME IN THE PAST 12 MONTHS (DOLLARS)\n",
        "# 'B25090_001E' , Estimate!!Aggregate real estate taxes paid (dollars)\n",
        "# 'B25092_001E' , MEDIAN SELECTED MONTHLY OWNER COSTS AS A PERCENTAGE OF HOUSEHOLD INCOME IN THE PAST 12 MONTHS\n",
        "\n",
        "# 'B17006_001E', POVERTY STATUS IN THE PAST 12 MONTHS OF RELATED CHILDREN UNDER 18 YEARS\n",
        "\n",
        "# B19083_001E, GINI INDEX OF INCOME INEQUALITY\n",
        "# B19082_006E, SHARES OF AGGREGATE HOUSEHOLD INCOME BY QUINTILE\n",
        "# B19058_001E, PUBLIC ASSISTANCE INCOME OR FOOD STAMPS/SNAP IN THE PAST 12 MONTHS FOR HOUSEHOLDS\n",
        "# B19053_001E, SELF-EMPLOYMENT INCOME IN THE PAST 12 MONTHS FOR HOUSEHOLDS\n",
        "# B19054_001E, INTEREST, DIVIDENDS, OR NET RENTAL INCOME IN THE PAST 12 MONTHS FOR HOUSEHOLDS\n",
        "# B19052_001E, WAGE OR SALARY INCOME IN THE PAST 12 MONTHS FOR HOUSEHOLDS\n",
        "\n",
        "# B08532_001E, MEANS OF TRANSPORTATION TO WORK BY TIME ARRIVING AT WORK FROM HOME FOR WORKPLACE GEOGRAPHY\n",
        "# B08532_002E,\tEstimate!!Total!!12:00 a.m. to 4:59 a.m.\n",
        "# B08532_003E,\tEstimate!!Total!!5:00 a.m. to 5:29 a.m.\t\n",
        "# B08532_004E,\tEstimate!!Total!!5:30 a.m. to 5:59 a.m.\t\n",
        "# B08532_005E,\tEstimate!!Total!!6:00 a.m. to 6:29 a.m.\t\n",
        "# B08532_006E,\tEstimate!!Total!!6:30 a.m. to 6:59 a.m.\t\n",
        "# B08532_007E,\tEstimate!!Total!!7:00 a.m. to 7:29 a.m.\t\n",
        "# B08532_008E,\tEstimate!!Total!!7:30 a.m. to 7:59 a.m.\t\t\n",
        "# B08532_009E,\tEstimate!!Total!!8:00 a.m. to 8:29 a.m.\t\n",
        "# B08532_010E,\tEstimate!!Total!!8:30 a.m. to 8:59 a.m.\n",
        "# B08532_011E,\tEstimate!!Total!!9:00 a.m. to 9:59 a.m.\t\t\n",
        "# B08532_012E,\tEstimate!!Total!!10:00 a.m. to 10:59 a.m.\t\t\n",
        "# B08532_013E,\tEstimate!!Total!!11:00 a.m. to 11:59 a.m.\t\n",
        "# B08532_014E,\tEstimate!!Total!!12:00 p.m. to 3:59 p.m.\t\n",
        "# B08532_015E,\tEstimate!!Total!!4:00 p.m. to 11:59 p.m.\n",
        "# B08521_001E,\tEstimate!!Median earnings in the past 12 months!!Total\t\n",
        "# B08521_002E,\tEstimate!!Median earnings in the past 12 months!!Total!!Car, truck, or van - drove alone\t\n",
        "# B08521_003E,\tEstimate!!Median earnings in the past 12 months!!Total!!Car, truck, or van - carpooled\t\n",
        "# B08521_004E,\tEstimate!!Median earnings in the past 12 months!!Total!!Public transportation (excluding taxicab)\t\n",
        "# B08521_005E,\tEstimate!!Median earnings in the past 12 months!!Total!!Walked\t\n",
        "# B08521_006E,\tEstimate!!Median earnings in the past 12 months!!Total!!Taxicab, motorcycle, bicycle, or other means\t\t\n",
        "# B08521_007E,\tEstimate!!Median earnings in the past 12 months!!Total!!Worked at home\n",
        "# B08012_001E,\tEstimate!!Total\tSEX OF WORKERS BY TRAVEL TIME TO WORK\t\n",
        "# B08012_002E,\tEstimate!!Total!!Less than 5 minutes\t\t\n",
        "# B08012_003E,\tEstimate!!Total!!5 to 9 minutes\t\n",
        "# B08012_004E,\tEstimate!!Total!!10 to 14 minutes\t\t\n",
        "# B08012_005E,\tEstimate!!Total!!15 to 19 minutes\t\t\n",
        "# B08012_006E,\tEstimate!!Total!!20 to 24 minutes\t\t\n",
        "# B08012_007E,\tEstimate!!Total!!25 to 29 minutes\t\t\n",
        "# B08012_008E,\tEstimate!!Total!!30 to 34 minutes\t\n",
        "# B08012_009E,\tEstimate!!Total!!35 to 39 minutes\t\t\n",
        "# B08012_010E,\tEstimate!!Total!!40 to 44 minutes\t\t\n",
        "# B08012_011E,\tEstimate!!Total!!45 to 59 minutes\t\t\n",
        "# B08012_012E,\tEstimate!!Total!!60 to 89 minutes\t\t\n",
        "# B08012_013E,\tEstimate!!Total!!90 or more minutes\t\n",
        "\n",
        "# B24121_001E - B24121_526E MEDIAN EARNINGS BY OCCUPATION (TOTAL)\n",
        "# B24122_001E - B24122_526E MEDIAN EARNINGS BY OCCUPATION (MALE)\n",
        "# B24123_001E - B24123_526E MEDIAN EARNINGS BY OCCUPATION (FEMALE)\n",
        "# B24124_001E - B24124_526E OCCUPATION FOR THE FULL-TIME, YEAR-ROUND CIVILIAN EMPLOYED POPULATION\n",
        "# B24125_001E - B24125_526E Population by OCCUPATION(MALE)\n",
        "# B24126_001E - B24126_526E Population by OCCUPATION(FEMALE)\n",
        "\n",
        "#             POPULATION  , HOUSING UNITS , avg yr_built ,  MEDIAN RENT  , RENT % INCOME , real-estate taxes , OWNER_COSTS % INCOME\n",
        "#housing = ('B01001A_001E', 'B25001_001E' , 'B25035_001E', 'B25058_001E' , 'B25071_001E' , 'B25090_001E'     ,  'B25092_001E' )\n",
        "\n",
        "#might want to add geoid\n",
        "\n",
        "cols = api_conn.varslike('B01001A_001E')\n",
        "cols.extend(['B25001_001E' , 'B25035_001E', 'B25058_001E' , 'B25071_001E' , 'B25090_001E'  ,  'B25092_001E'])"
      ],
      "execution_count": null,
      "outputs": []
    },
    {
      "cell_type": "code",
      "metadata": {
        "id": "MCb4PcULQ3WQ",
        "colab_type": "code",
        "colab": {
          "base_uri": "https://localhost:8080/",
          "height": 34
        },
        "outputId": "3379ac6f-1833-4f21-cd5c-2d6a62f5fead"
      },
      "source": [
        "\n",
        "len(cols)"
      ],
      "execution_count": null,
      "outputs": [
        {
          "output_type": "execute_result",
          "data": {
            "text/plain": [
              "7"
            ]
          },
          "metadata": {
            "tags": []
          },
          "execution_count": 12
        }
      ]
    },
    {
      "cell_type": "code",
      "metadata": {
        "id": "eQYvA5OwQ5Qp",
        "colab_type": "code",
        "colab": {
          "base_uri": "https://localhost:8080/",
          "height": 140
        },
        "outputId": "92f4fa69-9350-49f1-a2dc-0649a5ada9f5"
      },
      "source": [
        "cols #B25035e1"
      ],
      "execution_count": null,
      "outputs": [
        {
          "output_type": "execute_result",
          "data": {
            "text/plain": [
              "['B01001A_001E',\n",
              " 'B25001_001E',\n",
              " 'B25035_001E',\n",
              " 'B25058_001E',\n",
              " 'B25071_001E',\n",
              " 'B25090_001E',\n",
              " 'B25092_001E']"
            ]
          },
          "metadata": {
            "tags": []
          },
          "execution_count": 13
        }
      ]
    },
    {
      "cell_type": "code",
      "metadata": {
        "id": "1uNY4_TzRriD",
        "colab_type": "code",
        "colab": {
          "base_uri": "https://localhost:8080/",
          "height": 203
        },
        "outputId": "6287e4d0-c81c-49e9-f933-9d06a9bf873a"
      },
      "source": [
        "cols_detail = pd.DataFrame(api_conn.variables.label)\n",
        "cols_detail.sample(5)"
      ],
      "execution_count": null,
      "outputs": [
        {
          "output_type": "execute_result",
          "data": {
            "text/html": [
              "<div>\n",
              "<style scoped>\n",
              "    .dataframe tbody tr th:only-of-type {\n",
              "        vertical-align: middle;\n",
              "    }\n",
              "\n",
              "    .dataframe tbody tr th {\n",
              "        vertical-align: top;\n",
              "    }\n",
              "\n",
              "    .dataframe thead th {\n",
              "        text-align: right;\n",
              "    }\n",
              "</style>\n",
              "<table border=\"1\" class=\"dataframe\">\n",
              "  <thead>\n",
              "    <tr style=\"text-align: right;\">\n",
              "      <th></th>\n",
              "      <th>label</th>\n",
              "    </tr>\n",
              "  </thead>\n",
              "  <tbody>\n",
              "    <tr>\n",
              "      <th>B24123_494E</th>\n",
              "      <td>Estimate!!Total!!Flight attendants</td>\n",
              "    </tr>\n",
              "    <tr>\n",
              "      <th>B24126_499E</th>\n",
              "      <td>Estimate!!Total!!Motor vehicle operators all o...</td>\n",
              "    </tr>\n",
              "    <tr>\n",
              "      <th>B25124_023E</th>\n",
              "      <td>Estimate!!Total!!Owner occupied!!3-person hous...</td>\n",
              "    </tr>\n",
              "    <tr>\n",
              "      <th>B05003G_002E</th>\n",
              "      <td>Estimate!!Total!!Male</td>\n",
              "    </tr>\n",
              "    <tr>\n",
              "      <th>B25087_031E</th>\n",
              "      <td>Estimate!!Total!!Housing units without a mortg...</td>\n",
              "    </tr>\n",
              "  </tbody>\n",
              "</table>\n",
              "</div>"
            ],
            "text/plain": [
              "                                                          label\n",
              "B24123_494E                  Estimate!!Total!!Flight attendants\n",
              "B24126_499E   Estimate!!Total!!Motor vehicle operators all o...\n",
              "B25124_023E   Estimate!!Total!!Owner occupied!!3-person hous...\n",
              "B05003G_002E                              Estimate!!Total!!Male\n",
              "B25087_031E   Estimate!!Total!!Housing units without a mortg..."
            ]
          },
          "metadata": {
            "tags": []
          },
          "execution_count": 14
        }
      ]
    },
    {
      "cell_type": "code",
      "metadata": {
        "id": "28slfaoj3l6B",
        "colab_type": "code",
        "colab": {}
      },
      "source": [
        "data =  api_conn.query(cols, geo_unit=g_unit, geo_filter=g_filter)\n"
      ],
      "execution_count": null,
      "outputs": []
    },
    {
      "cell_type": "code",
      "metadata": {
        "id": "RqmRwcWr3l8f",
        "colab_type": "code",
        "colab": {
          "base_uri": "https://localhost:8080/",
          "height": 1000
        },
        "outputId": "52b2db7e-f9e9-4109-a847-baaca523f39e"
      },
      "source": [
        "\n",
        "num = data._get_numeric_data()\n",
        "num[num < 0] = NAN\n",
        "#need to set up filter to change all the -666666666 to either 0 or nan, or maybe an average of all the conneting tracts"
      ],
      "execution_count": null,
      "outputs": [
        {
          "output_type": "execute_result",
          "data": {
            "text/html": [
              "<div>\n",
              "<style scoped>\n",
              "    .dataframe tbody tr th:only-of-type {\n",
              "        vertical-align: middle;\n",
              "    }\n",
              "\n",
              "    .dataframe tbody tr th {\n",
              "        vertical-align: top;\n",
              "    }\n",
              "\n",
              "    .dataframe thead th {\n",
              "        text-align: right;\n",
              "    }\n",
              "</style>\n",
              "<table border=\"1\" class=\"dataframe\">\n",
              "  <thead>\n",
              "    <tr style=\"text-align: right;\">\n",
              "      <th></th>\n",
              "      <th>B01001A_001E</th>\n",
              "      <th>B25001_001E</th>\n",
              "      <th>B25035_001E</th>\n",
              "      <th>B25058_001E</th>\n",
              "      <th>B25071_001E</th>\n",
              "      <th>B25090_001E</th>\n",
              "      <th>B25092_001E</th>\n",
              "      <th>state</th>\n",
              "      <th>county</th>\n",
              "      <th>tract</th>\n",
              "    </tr>\n",
              "  </thead>\n",
              "  <tbody>\n",
              "    <tr>\n",
              "      <th>0</th>\n",
              "      <td>4967</td>\n",
              "      <td>1898</td>\n",
              "      <td>1989</td>\n",
              "      <td>1888</td>\n",
              "      <td>50.0</td>\n",
              "      <td>10748300</td>\n",
              "      <td>22.8</td>\n",
              "      <td>17</td>\n",
              "      <td>197</td>\n",
              "      <td>881002</td>\n",
              "    </tr>\n",
              "    <tr>\n",
              "      <th>1</th>\n",
              "      <td>6152</td>\n",
              "      <td>2047</td>\n",
              "      <td>1994</td>\n",
              "      <td>-666666666</td>\n",
              "      <td>-666666666.0</td>\n",
              "      <td>17640600</td>\n",
              "      <td>21.5</td>\n",
              "      <td>17</td>\n",
              "      <td>197</td>\n",
              "      <td>881105</td>\n",
              "    </tr>\n",
              "    <tr>\n",
              "      <th>2</th>\n",
              "      <td>5062</td>\n",
              "      <td>1875</td>\n",
              "      <td>1975</td>\n",
              "      <td>1169</td>\n",
              "      <td>34.8</td>\n",
              "      <td>7830200</td>\n",
              "      <td>17.8</td>\n",
              "      <td>17</td>\n",
              "      <td>197</td>\n",
              "      <td>880502</td>\n",
              "    </tr>\n",
              "    <tr>\n",
              "      <th>3</th>\n",
              "      <td>2609</td>\n",
              "      <td>1579</td>\n",
              "      <td>1963</td>\n",
              "      <td>619</td>\n",
              "      <td>43.0</td>\n",
              "      <td>3476400</td>\n",
              "      <td>17.9</td>\n",
              "      <td>17</td>\n",
              "      <td>197</td>\n",
              "      <td>883700</td>\n",
              "    </tr>\n",
              "    <tr>\n",
              "      <th>4</th>\n",
              "      <td>3999</td>\n",
              "      <td>2385</td>\n",
              "      <td>1981</td>\n",
              "      <td>1178</td>\n",
              "      <td>38.2</td>\n",
              "      <td>11042000</td>\n",
              "      <td>22.6</td>\n",
              "      <td>17</td>\n",
              "      <td>197</td>\n",
              "      <td>880105</td>\n",
              "    </tr>\n",
              "    <tr>\n",
              "      <th>5</th>\n",
              "      <td>2840</td>\n",
              "      <td>1863</td>\n",
              "      <td>1977</td>\n",
              "      <td>1420</td>\n",
              "      <td>33.7</td>\n",
              "      <td>9828400</td>\n",
              "      <td>25.5</td>\n",
              "      <td>17</td>\n",
              "      <td>197</td>\n",
              "      <td>880109</td>\n",
              "    </tr>\n",
              "    <tr>\n",
              "      <th>6</th>\n",
              "      <td>1159</td>\n",
              "      <td>644</td>\n",
              "      <td>1972</td>\n",
              "      <td>1293</td>\n",
              "      <td>38.7</td>\n",
              "      <td>2767500</td>\n",
              "      <td>21.3</td>\n",
              "      <td>17</td>\n",
              "      <td>197</td>\n",
              "      <td>880112</td>\n",
              "    </tr>\n",
              "    <tr>\n",
              "      <th>7</th>\n",
              "      <td>1462</td>\n",
              "      <td>1142</td>\n",
              "      <td>1969</td>\n",
              "      <td>1128</td>\n",
              "      <td>42.5</td>\n",
              "      <td>2122000</td>\n",
              "      <td>19.4</td>\n",
              "      <td>17</td>\n",
              "      <td>197</td>\n",
              "      <td>880113</td>\n",
              "    </tr>\n",
              "    <tr>\n",
              "      <th>8</th>\n",
              "      <td>2101</td>\n",
              "      <td>1408</td>\n",
              "      <td>1939</td>\n",
              "      <td>755</td>\n",
              "      <td>25.1</td>\n",
              "      <td>2318900</td>\n",
              "      <td>22.5</td>\n",
              "      <td>17</td>\n",
              "      <td>197</td>\n",
              "      <td>881800</td>\n",
              "    </tr>\n",
              "    <tr>\n",
              "      <th>9</th>\n",
              "      <td>5032</td>\n",
              "      <td>2147</td>\n",
              "      <td>1957</td>\n",
              "      <td>827</td>\n",
              "      <td>19.1</td>\n",
              "      <td>6019200</td>\n",
              "      <td>17.7</td>\n",
              "      <td>17</td>\n",
              "      <td>031</td>\n",
              "      <td>561000</td>\n",
              "    </tr>\n",
              "    <tr>\n",
              "      <th>10</th>\n",
              "      <td>1094</td>\n",
              "      <td>500</td>\n",
              "      <td>1957</td>\n",
              "      <td>911</td>\n",
              "      <td>33.6</td>\n",
              "      <td>620000</td>\n",
              "      <td>19.0</td>\n",
              "      <td>17</td>\n",
              "      <td>031</td>\n",
              "      <td>640100</td>\n",
              "    </tr>\n",
              "    <tr>\n",
              "      <th>11</th>\n",
              "      <td>2842</td>\n",
              "      <td>1691</td>\n",
              "      <td>1943</td>\n",
              "      <td>699</td>\n",
              "      <td>28.3</td>\n",
              "      <td>1897400</td>\n",
              "      <td>25.8</td>\n",
              "      <td>17</td>\n",
              "      <td>031</td>\n",
              "      <td>630500</td>\n",
              "    </tr>\n",
              "    <tr>\n",
              "      <th>12</th>\n",
              "      <td>1255</td>\n",
              "      <td>912</td>\n",
              "      <td>1939</td>\n",
              "      <td>547</td>\n",
              "      <td>35.5</td>\n",
              "      <td>399300</td>\n",
              "      <td>24.4</td>\n",
              "      <td>17</td>\n",
              "      <td>031</td>\n",
              "      <td>611100</td>\n",
              "    </tr>\n",
              "    <tr>\n",
              "      <th>13</th>\n",
              "      <td>2012</td>\n",
              "      <td>1225</td>\n",
              "      <td>1951</td>\n",
              "      <td>625</td>\n",
              "      <td>24.9</td>\n",
              "      <td>537300</td>\n",
              "      <td>33.3</td>\n",
              "      <td>17</td>\n",
              "      <td>031</td>\n",
              "      <td>611400</td>\n",
              "    </tr>\n",
              "    <tr>\n",
              "      <th>14</th>\n",
              "      <td>2864</td>\n",
              "      <td>1768</td>\n",
              "      <td>1965</td>\n",
              "      <td>799</td>\n",
              "      <td>32.9</td>\n",
              "      <td>2351300</td>\n",
              "      <td>24.4</td>\n",
              "      <td>17</td>\n",
              "      <td>031</td>\n",
              "      <td>640600</td>\n",
              "    </tr>\n",
              "    <tr>\n",
              "      <th>15</th>\n",
              "      <td>2800</td>\n",
              "      <td>1792</td>\n",
              "      <td>1957</td>\n",
              "      <td>865</td>\n",
              "      <td>31.8</td>\n",
              "      <td>3547500</td>\n",
              "      <td>27.8</td>\n",
              "      <td>17</td>\n",
              "      <td>031</td>\n",
              "      <td>650400</td>\n",
              "    </tr>\n",
              "    <tr>\n",
              "      <th>16</th>\n",
              "      <td>2155</td>\n",
              "      <td>1473</td>\n",
              "      <td>1950</td>\n",
              "      <td>659</td>\n",
              "      <td>37.3</td>\n",
              "      <td>1173200</td>\n",
              "      <td>19.9</td>\n",
              "      <td>17</td>\n",
              "      <td>031</td>\n",
              "      <td>660500</td>\n",
              "    </tr>\n",
              "    <tr>\n",
              "      <th>17</th>\n",
              "      <td>1625</td>\n",
              "      <td>2027</td>\n",
              "      <td>1954</td>\n",
              "      <td>884</td>\n",
              "      <td>37.0</td>\n",
              "      <td>2561400</td>\n",
              "      <td>26.0</td>\n",
              "      <td>17</td>\n",
              "      <td>031</td>\n",
              "      <td>661100</td>\n",
              "    </tr>\n",
              "    <tr>\n",
              "      <th>18</th>\n",
              "      <td>26</td>\n",
              "      <td>526</td>\n",
              "      <td>1943</td>\n",
              "      <td>558</td>\n",
              "      <td>37.5</td>\n",
              "      <td>202400</td>\n",
              "      <td>21.7</td>\n",
              "      <td>17</td>\n",
              "      <td>031</td>\n",
              "      <td>670600</td>\n",
              "    </tr>\n",
              "    <tr>\n",
              "      <th>19</th>\n",
              "      <td>0</td>\n",
              "      <td>495</td>\n",
              "      <td>1939</td>\n",
              "      <td>711</td>\n",
              "      <td>39.2</td>\n",
              "      <td>254700</td>\n",
              "      <td>18.7</td>\n",
              "      <td>17</td>\n",
              "      <td>031</td>\n",
              "      <td>690500</td>\n",
              "    </tr>\n",
              "    <tr>\n",
              "      <th>20</th>\n",
              "      <td>4</td>\n",
              "      <td>1292</td>\n",
              "      <td>1939</td>\n",
              "      <td>754</td>\n",
              "      <td>50.0</td>\n",
              "      <td>1424900</td>\n",
              "      <td>19.8</td>\n",
              "      <td>17</td>\n",
              "      <td>031</td>\n",
              "      <td>691000</td>\n",
              "    </tr>\n",
              "    <tr>\n",
              "      <th>21</th>\n",
              "      <td>26</td>\n",
              "      <td>2223</td>\n",
              "      <td>1949</td>\n",
              "      <td>769</td>\n",
              "      <td>39.9</td>\n",
              "      <td>1693800</td>\n",
              "      <td>24.3</td>\n",
              "      <td>17</td>\n",
              "      <td>031</td>\n",
              "      <td>710400</td>\n",
              "    </tr>\n",
              "    <tr>\n",
              "      <th>22</th>\n",
              "      <td>3921</td>\n",
              "      <td>1968</td>\n",
              "      <td>1957</td>\n",
              "      <td>958</td>\n",
              "      <td>23.4</td>\n",
              "      <td>4744200</td>\n",
              "      <td>19.5</td>\n",
              "      <td>17</td>\n",
              "      <td>031</td>\n",
              "      <td>740400</td>\n",
              "    </tr>\n",
              "    <tr>\n",
              "      <th>23</th>\n",
              "      <td>4536</td>\n",
              "      <td>2101</td>\n",
              "      <td>1965</td>\n",
              "      <td>932</td>\n",
              "      <td>32.2</td>\n",
              "      <td>6229700</td>\n",
              "      <td>22.8</td>\n",
              "      <td>17</td>\n",
              "      <td>031</td>\n",
              "      <td>770800</td>\n",
              "    </tr>\n",
              "    <tr>\n",
              "      <th>24</th>\n",
              "      <td>1957</td>\n",
              "      <td>1137</td>\n",
              "      <td>1969</td>\n",
              "      <td>1286</td>\n",
              "      <td>28.2</td>\n",
              "      <td>7858700</td>\n",
              "      <td>17.3</td>\n",
              "      <td>17</td>\n",
              "      <td>031</td>\n",
              "      <td>800800</td>\n",
              "    </tr>\n",
              "    <tr>\n",
              "      <th>25</th>\n",
              "      <td>5321</td>\n",
              "      <td>5252</td>\n",
              "      <td>1980</td>\n",
              "      <td>1111</td>\n",
              "      <td>29.0</td>\n",
              "      <td>4314400</td>\n",
              "      <td>21.4</td>\n",
              "      <td>17</td>\n",
              "      <td>031</td>\n",
              "      <td>081000</td>\n",
              "    </tr>\n",
              "    <tr>\n",
              "      <th>26</th>\n",
              "      <td>1998</td>\n",
              "      <td>1405</td>\n",
              "      <td>1948</td>\n",
              "      <td>808</td>\n",
              "      <td>29.2</td>\n",
              "      <td>2952600</td>\n",
              "      <td>21.6</td>\n",
              "      <td>17</td>\n",
              "      <td>031</td>\n",
              "      <td>030400</td>\n",
              "    </tr>\n",
              "    <tr>\n",
              "      <th>27</th>\n",
              "      <td>2048</td>\n",
              "      <td>1581</td>\n",
              "      <td>1939</td>\n",
              "      <td>1196</td>\n",
              "      <td>22.0</td>\n",
              "      <td>4361600</td>\n",
              "      <td>20.9</td>\n",
              "      <td>17</td>\n",
              "      <td>031</td>\n",
              "      <td>030900</td>\n",
              "    </tr>\n",
              "    <tr>\n",
              "      <th>28</th>\n",
              "      <td>1998</td>\n",
              "      <td>1326</td>\n",
              "      <td>1939</td>\n",
              "      <td>1071</td>\n",
              "      <td>28.5</td>\n",
              "      <td>2590600</td>\n",
              "      <td>22.8</td>\n",
              "      <td>17</td>\n",
              "      <td>031</td>\n",
              "      <td>031900</td>\n",
              "    </tr>\n",
              "    <tr>\n",
              "      <th>29</th>\n",
              "      <td>4495</td>\n",
              "      <td>2464</td>\n",
              "      <td>1939</td>\n",
              "      <td>1107</td>\n",
              "      <td>26.2</td>\n",
              "      <td>10794300</td>\n",
              "      <td>22.4</td>\n",
              "      <td>17</td>\n",
              "      <td>031</td>\n",
              "      <td>050200</td>\n",
              "    </tr>\n",
              "    <tr>\n",
              "      <th>...</th>\n",
              "      <td>...</td>\n",
              "      <td>...</td>\n",
              "      <td>...</td>\n",
              "      <td>...</td>\n",
              "      <td>...</td>\n",
              "      <td>...</td>\n",
              "      <td>...</td>\n",
              "      <td>...</td>\n",
              "      <td>...</td>\n",
              "      <td>...</td>\n",
              "    </tr>\n",
              "    <tr>\n",
              "      <th>3093</th>\n",
              "      <td>3329</td>\n",
              "      <td>2235</td>\n",
              "      <td>1939</td>\n",
              "      <td>867</td>\n",
              "      <td>26.9</td>\n",
              "      <td>1941700</td>\n",
              "      <td>19.3</td>\n",
              "      <td>17</td>\n",
              "      <td>031</td>\n",
              "      <td>830600</td>\n",
              "    </tr>\n",
              "    <tr>\n",
              "      <th>3094</th>\n",
              "      <td>2286</td>\n",
              "      <td>1386</td>\n",
              "      <td>1939</td>\n",
              "      <td>1239</td>\n",
              "      <td>21.4</td>\n",
              "      <td>3784400</td>\n",
              "      <td>19.4</td>\n",
              "      <td>17</td>\n",
              "      <td>031</td>\n",
              "      <td>830900</td>\n",
              "    </tr>\n",
              "    <tr>\n",
              "      <th>3095</th>\n",
              "      <td>1995</td>\n",
              "      <td>2013</td>\n",
              "      <td>1939</td>\n",
              "      <td>680</td>\n",
              "      <td>32.6</td>\n",
              "      <td>2286200</td>\n",
              "      <td>20.4</td>\n",
              "      <td>17</td>\n",
              "      <td>031</td>\n",
              "      <td>830700</td>\n",
              "    </tr>\n",
              "    <tr>\n",
              "      <th>3096</th>\n",
              "      <td>2254</td>\n",
              "      <td>1431</td>\n",
              "      <td>1939</td>\n",
              "      <td>1077</td>\n",
              "      <td>21.9</td>\n",
              "      <td>2213800</td>\n",
              "      <td>18.4</td>\n",
              "      <td>17</td>\n",
              "      <td>031</td>\n",
              "      <td>830800</td>\n",
              "    </tr>\n",
              "    <tr>\n",
              "      <th>3097</th>\n",
              "      <td>3588</td>\n",
              "      <td>1319</td>\n",
              "      <td>1977</td>\n",
              "      <td>1184</td>\n",
              "      <td>31.1</td>\n",
              "      <td>12417500</td>\n",
              "      <td>20.8</td>\n",
              "      <td>17</td>\n",
              "      <td>043</td>\n",
              "      <td>846209</td>\n",
              "    </tr>\n",
              "    <tr>\n",
              "      <th>3098</th>\n",
              "      <td>5967</td>\n",
              "      <td>2586</td>\n",
              "      <td>1991</td>\n",
              "      <td>1085</td>\n",
              "      <td>25.5</td>\n",
              "      <td>7260100</td>\n",
              "      <td>20.0</td>\n",
              "      <td>17</td>\n",
              "      <td>099</td>\n",
              "      <td>961701</td>\n",
              "    </tr>\n",
              "    <tr>\n",
              "      <th>3099</th>\n",
              "      <td>3074</td>\n",
              "      <td>1305</td>\n",
              "      <td>1988</td>\n",
              "      <td>598</td>\n",
              "      <td>23.4</td>\n",
              "      <td>4335100</td>\n",
              "      <td>19.7</td>\n",
              "      <td>17</td>\n",
              "      <td>099</td>\n",
              "      <td>961702</td>\n",
              "    </tr>\n",
              "    <tr>\n",
              "      <th>3100</th>\n",
              "      <td>3502</td>\n",
              "      <td>1278</td>\n",
              "      <td>1945</td>\n",
              "      <td>1750</td>\n",
              "      <td>21.3</td>\n",
              "      <td>10966800</td>\n",
              "      <td>20.2</td>\n",
              "      <td>17</td>\n",
              "      <td>031</td>\n",
              "      <td>819600</td>\n",
              "    </tr>\n",
              "    <tr>\n",
              "      <th>3101</th>\n",
              "      <td>449</td>\n",
              "      <td>1201</td>\n",
              "      <td>1967</td>\n",
              "      <td>1413</td>\n",
              "      <td>50.0</td>\n",
              "      <td>4905400</td>\n",
              "      <td>24.2</td>\n",
              "      <td>17</td>\n",
              "      <td>031</td>\n",
              "      <td>827804</td>\n",
              "    </tr>\n",
              "    <tr>\n",
              "      <th>3102</th>\n",
              "      <td>1810</td>\n",
              "      <td>2315</td>\n",
              "      <td>1962</td>\n",
              "      <td>625</td>\n",
              "      <td>39.1</td>\n",
              "      <td>3095900</td>\n",
              "      <td>22.0</td>\n",
              "      <td>17</td>\n",
              "      <td>031</td>\n",
              "      <td>827500</td>\n",
              "    </tr>\n",
              "    <tr>\n",
              "      <th>3103</th>\n",
              "      <td>1418</td>\n",
              "      <td>1686</td>\n",
              "      <td>1964</td>\n",
              "      <td>1238</td>\n",
              "      <td>41.1</td>\n",
              "      <td>4742000</td>\n",
              "      <td>21.2</td>\n",
              "      <td>17</td>\n",
              "      <td>031</td>\n",
              "      <td>827801</td>\n",
              "    </tr>\n",
              "    <tr>\n",
              "      <th>3104</th>\n",
              "      <td>2882</td>\n",
              "      <td>3743</td>\n",
              "      <td>1990</td>\n",
              "      <td>772</td>\n",
              "      <td>20.8</td>\n",
              "      <td>8342700</td>\n",
              "      <td>26.3</td>\n",
              "      <td>17</td>\n",
              "      <td>031</td>\n",
              "      <td>828506</td>\n",
              "    </tr>\n",
              "    <tr>\n",
              "      <th>3105</th>\n",
              "      <td>1051</td>\n",
              "      <td>1542</td>\n",
              "      <td>1940</td>\n",
              "      <td>662</td>\n",
              "      <td>47.3</td>\n",
              "      <td>1210400</td>\n",
              "      <td>18.5</td>\n",
              "      <td>17</td>\n",
              "      <td>031</td>\n",
              "      <td>829100</td>\n",
              "    </tr>\n",
              "    <tr>\n",
              "      <th>3106</th>\n",
              "      <td>1871</td>\n",
              "      <td>1617</td>\n",
              "      <td>1957</td>\n",
              "      <td>692</td>\n",
              "      <td>40.5</td>\n",
              "      <td>3088500</td>\n",
              "      <td>22.9</td>\n",
              "      <td>17</td>\n",
              "      <td>031</td>\n",
              "      <td>829500</td>\n",
              "    </tr>\n",
              "    <tr>\n",
              "      <th>3107</th>\n",
              "      <td>572</td>\n",
              "      <td>2598</td>\n",
              "      <td>1978</td>\n",
              "      <td>881</td>\n",
              "      <td>24.6</td>\n",
              "      <td>13096400</td>\n",
              "      <td>22.4</td>\n",
              "      <td>17</td>\n",
              "      <td>031</td>\n",
              "      <td>830004</td>\n",
              "    </tr>\n",
              "    <tr>\n",
              "      <th>3108</th>\n",
              "      <td>948</td>\n",
              "      <td>1948</td>\n",
              "      <td>1976</td>\n",
              "      <td>1601</td>\n",
              "      <td>50.0</td>\n",
              "      <td>11503000</td>\n",
              "      <td>21.3</td>\n",
              "      <td>17</td>\n",
              "      <td>031</td>\n",
              "      <td>830005</td>\n",
              "    </tr>\n",
              "    <tr>\n",
              "      <th>3109</th>\n",
              "      <td>720</td>\n",
              "      <td>1175</td>\n",
              "      <td>1965</td>\n",
              "      <td>640</td>\n",
              "      <td>30.6</td>\n",
              "      <td>2577800</td>\n",
              "      <td>19.7</td>\n",
              "      <td>17</td>\n",
              "      <td>031</td>\n",
              "      <td>830006</td>\n",
              "    </tr>\n",
              "    <tr>\n",
              "      <th>3110</th>\n",
              "      <td>801</td>\n",
              "      <td>2514</td>\n",
              "      <td>1975</td>\n",
              "      <td>916</td>\n",
              "      <td>29.8</td>\n",
              "      <td>4750000</td>\n",
              "      <td>23.8</td>\n",
              "      <td>17</td>\n",
              "      <td>031</td>\n",
              "      <td>830201</td>\n",
              "    </tr>\n",
              "    <tr>\n",
              "      <th>3111</th>\n",
              "      <td>3201</td>\n",
              "      <td>1539</td>\n",
              "      <td>1939</td>\n",
              "      <td>1233</td>\n",
              "      <td>33.8</td>\n",
              "      <td>12516000</td>\n",
              "      <td>17.9</td>\n",
              "      <td>17</td>\n",
              "      <td>031</td>\n",
              "      <td>808800</td>\n",
              "    </tr>\n",
              "    <tr>\n",
              "      <th>3112</th>\n",
              "      <td>1349</td>\n",
              "      <td>1678</td>\n",
              "      <td>1939</td>\n",
              "      <td>1028</td>\n",
              "      <td>40.2</td>\n",
              "      <td>2885700</td>\n",
              "      <td>28.1</td>\n",
              "      <td>17</td>\n",
              "      <td>031</td>\n",
              "      <td>809200</td>\n",
              "    </tr>\n",
              "    <tr>\n",
              "      <th>3113</th>\n",
              "      <td>4897</td>\n",
              "      <td>1981</td>\n",
              "      <td>1959</td>\n",
              "      <td>1258</td>\n",
              "      <td>34.8</td>\n",
              "      <td>8835500</td>\n",
              "      <td>20.8</td>\n",
              "      <td>17</td>\n",
              "      <td>031</td>\n",
              "      <td>810501</td>\n",
              "    </tr>\n",
              "    <tr>\n",
              "      <th>3114</th>\n",
              "      <td>5510</td>\n",
              "      <td>2803</td>\n",
              "      <td>1961</td>\n",
              "      <td>856</td>\n",
              "      <td>40.0</td>\n",
              "      <td>5415400</td>\n",
              "      <td>27.0</td>\n",
              "      <td>17</td>\n",
              "      <td>031</td>\n",
              "      <td>811100</td>\n",
              "    </tr>\n",
              "    <tr>\n",
              "      <th>3115</th>\n",
              "      <td>4369</td>\n",
              "      <td>1985</td>\n",
              "      <td>1955</td>\n",
              "      <td>955</td>\n",
              "      <td>42.4</td>\n",
              "      <td>8492800</td>\n",
              "      <td>27.9</td>\n",
              "      <td>17</td>\n",
              "      <td>031</td>\n",
              "      <td>811200</td>\n",
              "    </tr>\n",
              "    <tr>\n",
              "      <th>3116</th>\n",
              "      <td>1891</td>\n",
              "      <td>1626</td>\n",
              "      <td>1939</td>\n",
              "      <td>836</td>\n",
              "      <td>33.6</td>\n",
              "      <td>5808100</td>\n",
              "      <td>20.6</td>\n",
              "      <td>17</td>\n",
              "      <td>031</td>\n",
              "      <td>812500</td>\n",
              "    </tr>\n",
              "    <tr>\n",
              "      <th>3117</th>\n",
              "      <td>2215</td>\n",
              "      <td>1675</td>\n",
              "      <td>1939</td>\n",
              "      <td>1056</td>\n",
              "      <td>35.2</td>\n",
              "      <td>6226800</td>\n",
              "      <td>20.4</td>\n",
              "      <td>17</td>\n",
              "      <td>031</td>\n",
              "      <td>812700</td>\n",
              "    </tr>\n",
              "    <tr>\n",
              "      <th>3118</th>\n",
              "      <td>2736</td>\n",
              "      <td>1463</td>\n",
              "      <td>1939</td>\n",
              "      <td>765</td>\n",
              "      <td>28.9</td>\n",
              "      <td>3060900</td>\n",
              "      <td>20.4</td>\n",
              "      <td>17</td>\n",
              "      <td>031</td>\n",
              "      <td>814000</td>\n",
              "    </tr>\n",
              "    <tr>\n",
              "      <th>3119</th>\n",
              "      <td>2279</td>\n",
              "      <td>1303</td>\n",
              "      <td>1939</td>\n",
              "      <td>901</td>\n",
              "      <td>28.4</td>\n",
              "      <td>2680100</td>\n",
              "      <td>28.0</td>\n",
              "      <td>17</td>\n",
              "      <td>031</td>\n",
              "      <td>815000</td>\n",
              "    </tr>\n",
              "    <tr>\n",
              "      <th>3120</th>\n",
              "      <td>3701</td>\n",
              "      <td>2268</td>\n",
              "      <td>1939</td>\n",
              "      <td>804</td>\n",
              "      <td>25.1</td>\n",
              "      <td>5453000</td>\n",
              "      <td>23.1</td>\n",
              "      <td>17</td>\n",
              "      <td>031</td>\n",
              "      <td>815400</td>\n",
              "    </tr>\n",
              "    <tr>\n",
              "      <th>3121</th>\n",
              "      <td>2259</td>\n",
              "      <td>1406</td>\n",
              "      <td>1964</td>\n",
              "      <td>848</td>\n",
              "      <td>31.5</td>\n",
              "      <td>2579600</td>\n",
              "      <td>19.7</td>\n",
              "      <td>17</td>\n",
              "      <td>031</td>\n",
              "      <td>816600</td>\n",
              "    </tr>\n",
              "    <tr>\n",
              "      <th>3122</th>\n",
              "      <td>304</td>\n",
              "      <td>1921</td>\n",
              "      <td>1957</td>\n",
              "      <td>853</td>\n",
              "      <td>30.1</td>\n",
              "      <td>3921100</td>\n",
              "      <td>25.2</td>\n",
              "      <td>17</td>\n",
              "      <td>031</td>\n",
              "      <td>817101</td>\n",
              "    </tr>\n",
              "  </tbody>\n",
              "</table>\n",
              "<p>3123 rows × 10 columns</p>\n",
              "</div>"
            ],
            "text/plain": [
              "     B01001A_001E B25001_001E B25035_001E  ... state county   tract\n",
              "0            4967        1898        1989  ...    17    197  881002\n",
              "1            6152        2047        1994  ...    17    197  881105\n",
              "2            5062        1875        1975  ...    17    197  880502\n",
              "3            2609        1579        1963  ...    17    197  883700\n",
              "4            3999        2385        1981  ...    17    197  880105\n",
              "5            2840        1863        1977  ...    17    197  880109\n",
              "6            1159         644        1972  ...    17    197  880112\n",
              "7            1462        1142        1969  ...    17    197  880113\n",
              "8            2101        1408        1939  ...    17    197  881800\n",
              "9            5032        2147        1957  ...    17    031  561000\n",
              "10           1094         500        1957  ...    17    031  640100\n",
              "11           2842        1691        1943  ...    17    031  630500\n",
              "12           1255         912        1939  ...    17    031  611100\n",
              "13           2012        1225        1951  ...    17    031  611400\n",
              "14           2864        1768        1965  ...    17    031  640600\n",
              "15           2800        1792        1957  ...    17    031  650400\n",
              "16           2155        1473        1950  ...    17    031  660500\n",
              "17           1625        2027        1954  ...    17    031  661100\n",
              "18             26         526        1943  ...    17    031  670600\n",
              "19              0         495        1939  ...    17    031  690500\n",
              "20              4        1292        1939  ...    17    031  691000\n",
              "21             26        2223        1949  ...    17    031  710400\n",
              "22           3921        1968        1957  ...    17    031  740400\n",
              "23           4536        2101        1965  ...    17    031  770800\n",
              "24           1957        1137        1969  ...    17    031  800800\n",
              "25           5321        5252        1980  ...    17    031  081000\n",
              "26           1998        1405        1948  ...    17    031  030400\n",
              "27           2048        1581        1939  ...    17    031  030900\n",
              "28           1998        1326        1939  ...    17    031  031900\n",
              "29           4495        2464        1939  ...    17    031  050200\n",
              "...           ...         ...         ...  ...   ...    ...     ...\n",
              "3093         3329        2235        1939  ...    17    031  830600\n",
              "3094         2286        1386        1939  ...    17    031  830900\n",
              "3095         1995        2013        1939  ...    17    031  830700\n",
              "3096         2254        1431        1939  ...    17    031  830800\n",
              "3097         3588        1319        1977  ...    17    043  846209\n",
              "3098         5967        2586        1991  ...    17    099  961701\n",
              "3099         3074        1305        1988  ...    17    099  961702\n",
              "3100         3502        1278        1945  ...    17    031  819600\n",
              "3101          449        1201        1967  ...    17    031  827804\n",
              "3102         1810        2315        1962  ...    17    031  827500\n",
              "3103         1418        1686        1964  ...    17    031  827801\n",
              "3104         2882        3743        1990  ...    17    031  828506\n",
              "3105         1051        1542        1940  ...    17    031  829100\n",
              "3106         1871        1617        1957  ...    17    031  829500\n",
              "3107          572        2598        1978  ...    17    031  830004\n",
              "3108          948        1948        1976  ...    17    031  830005\n",
              "3109          720        1175        1965  ...    17    031  830006\n",
              "3110          801        2514        1975  ...    17    031  830201\n",
              "3111         3201        1539        1939  ...    17    031  808800\n",
              "3112         1349        1678        1939  ...    17    031  809200\n",
              "3113         4897        1981        1959  ...    17    031  810501\n",
              "3114         5510        2803        1961  ...    17    031  811100\n",
              "3115         4369        1985        1955  ...    17    031  811200\n",
              "3116         1891        1626        1939  ...    17    031  812500\n",
              "3117         2215        1675        1939  ...    17    031  812700\n",
              "3118         2736        1463        1939  ...    17    031  814000\n",
              "3119         2279        1303        1939  ...    17    031  815000\n",
              "3120         3701        2268        1939  ...    17    031  815400\n",
              "3121         2259        1406        1964  ...    17    031  816600\n",
              "3122          304        1921        1957  ...    17    031  817101\n",
              "\n",
              "[3123 rows x 10 columns]"
            ]
          },
          "metadata": {
            "tags": []
          },
          "execution_count": 16
        }
      ]
    },
    {
      "cell_type": "markdown",
      "metadata": {
        "id": "h2s8whapD6eC",
        "colab_type": "text"
      },
      "source": [
        "The Census Bureau API for extracting geometries is separate from the database API."
      ]
    },
    {
      "cell_type": "code",
      "metadata": {
        "id": "dukAXqjX3l_P",
        "colab_type": "code",
        "colab": {
          "base_uri": "https://localhost:8080/",
          "height": 510
        },
        "outputId": "0c28ef50-5405-4dd0-b153-dde143e8656e"
      },
      "source": [
        "cen.tiger.available()"
      ],
      "execution_count": null,
      "outputs": [
        {
          "output_type": "execute_result",
          "data": {
            "text/plain": [
              "[{'name': 'AIANNHA', 'type': 'MapServer'},\n",
              " {'name': 'CBSA', 'type': 'MapServer'},\n",
              " {'name': 'Hydro_LargeScale', 'type': 'MapServer'},\n",
              " {'name': 'Hydro', 'type': 'MapServer'},\n",
              " {'name': 'Labels', 'type': 'MapServer'},\n",
              " {'name': 'Legislative', 'type': 'MapServer'},\n",
              " {'name': 'Places_CouSub_ConCity_SubMCD', 'type': 'MapServer'},\n",
              " {'name': 'PUMA_TAD_TAZ_UGA_ZCTA', 'type': 'MapServer'},\n",
              " {'name': 'Region_Division', 'type': 'MapServer'},\n",
              " {'name': 'School', 'type': 'MapServer'},\n",
              " {'name': 'Special_Land_Use_Areas', 'type': 'MapServer'},\n",
              " {'name': 'State_County', 'type': 'MapServer'},\n",
              " {'name': 'tigerWMS_ACS2013', 'type': 'MapServer'},\n",
              " {'name': 'tigerWMS_ACS2014', 'type': 'MapServer'},\n",
              " {'name': 'tigerWMS_ACS2015', 'type': 'MapServer'},\n",
              " {'name': 'tigerWMS_ACS2016', 'type': 'MapServer'},\n",
              " {'name': 'tigerWMS_ACS2017', 'type': 'MapServer'},\n",
              " {'name': 'tigerWMS_ACS2018', 'type': 'MapServer'},\n",
              " {'name': 'tigerWMS_Census2010', 'type': 'MapServer'},\n",
              " {'name': 'tigerWMS_Current', 'type': 'MapServer'},\n",
              " {'name': 'tigerWMS_ECON2012', 'type': 'MapServer'},\n",
              " {'name': 'tigerWMS_PhysicalFeatures', 'type': 'MapServer'},\n",
              " {'name': 'Tracts_Blocks', 'type': 'MapServer'},\n",
              " {'name': 'Transportation_LargeScale', 'type': 'MapServer'},\n",
              " {'name': 'Transportation', 'type': 'MapServer'},\n",
              " {'name': 'TribalTracts', 'type': 'MapServer'},\n",
              " {'name': 'Urban', 'type': 'MapServer'},\n",
              " {'name': 'USLandmass', 'type': 'MapServer'}]"
            ]
          },
          "metadata": {
            "tags": []
          },
          "execution_count": 17
        }
      ]
    },
    {
      "cell_type": "code",
      "metadata": {
        "id": "G411STqk4POX",
        "colab_type": "code",
        "colab": {}
      },
      "source": [
        "con.set_mapservice('tigerWMS_ACS2013')\n",
        "\n",
        "# print layers\n",
        "con.mapservice.layers"
      ],
      "execution_count": null,
      "outputs": []
    },
    {
      "cell_type": "code",
      "metadata": {
        "id": "RMksQZxU4PkC",
        "colab_type": "code",
        "colab": {
          "base_uri": "https://localhost:8080/",
          "height": 87
        },
        "outputId": "3e8f5a17-f3ab-4e5b-8786-b25f1e0acb1c"
      },
      "source": [
        "geodata = con.mapservice.query(layer=84, where='STATE=8')"
      ],
      "execution_count": null,
      "outputs": [
        {
          "output_type": "stream",
          "text": [
            "Geopandas dataframe conversion failed! Continuing...\n"
          ],
          "name": "stdout"
        },
        {
          "output_type": "stream",
          "text": [
            "/usr/local/lib/python3.6/dist-packages/cenpy/tiger.py:189: UserWarning: Pandas doesn't allow columns to be created via a new attribute name - see https://pandas.pydata.org/pandas-docs/stable/indexing.html#attribute-access\n",
            "  outdf.crs = crs\n"
          ],
          "name": "stderr"
        }
      ]
    },
    {
      "cell_type": "code",
      "metadata": {
        "id": "Bl6s6X3s4Pmw",
        "colab_type": "code",
        "colab": {
          "base_uri": "https://localhost:8080/",
          "height": 360
        },
        "outputId": "ce50aa89-d915-4671-e746-24093f49043b"
      },
      "source": [
        "# preview geodata\n",
        "geodata.ix[:5, :5]"
      ],
      "execution_count": null,
      "outputs": [
        {
          "output_type": "stream",
          "text": [
            "/usr/local/lib/python3.6/dist-packages/ipykernel_launcher.py:1: DeprecationWarning: \n",
            ".ix is deprecated. Please use\n",
            ".loc for label based indexing or\n",
            ".iloc for positional indexing\n",
            "\n",
            "See the documentation here:\n",
            "http://pandas.pydata.org/pandas-docs/stable/indexing.html#ix-indexer-is-deprecated\n",
            "  \"\"\"Entry point for launching an IPython kernel.\n"
          ],
          "name": "stderr"
        },
        {
          "output_type": "execute_result",
          "data": {
            "text/html": [
              "<div>\n",
              "<style scoped>\n",
              "    .dataframe tbody tr th:only-of-type {\n",
              "        vertical-align: middle;\n",
              "    }\n",
              "\n",
              "    .dataframe tbody tr th {\n",
              "        vertical-align: top;\n",
              "    }\n",
              "\n",
              "    .dataframe thead th {\n",
              "        text-align: right;\n",
              "    }\n",
              "</style>\n",
              "<table border=\"1\" class=\"dataframe\">\n",
              "  <thead>\n",
              "    <tr style=\"text-align: right;\">\n",
              "      <th></th>\n",
              "      <th>AREALAND</th>\n",
              "      <th>AREAWATER</th>\n",
              "      <th>BASENAME</th>\n",
              "      <th>CENTLAT</th>\n",
              "      <th>CENTLON</th>\n",
              "    </tr>\n",
              "  </thead>\n",
              "  <tbody>\n",
              "    <tr>\n",
              "      <th>0</th>\n",
              "      <td>4376528327</td>\n",
              "      <td>25375721</td>\n",
              "      <td>La Plata</td>\n",
              "      <td>+37.2863615</td>\n",
              "      <td>-107.8435627</td>\n",
              "    </tr>\n",
              "    <tr>\n",
              "      <th>1</th>\n",
              "      <td>8206547707</td>\n",
              "      <td>4454510</td>\n",
              "      <td>Saguache</td>\n",
              "      <td>+38.0807339</td>\n",
              "      <td>-106.2808607</td>\n",
              "    </tr>\n",
              "    <tr>\n",
              "      <th>2</th>\n",
              "      <td>1419419128</td>\n",
              "      <td>3530746</td>\n",
              "      <td>Sedgwick</td>\n",
              "      <td>+40.8759564</td>\n",
              "      <td>-102.3517903</td>\n",
              "    </tr>\n",
              "    <tr>\n",
              "      <th>3</th>\n",
              "      <td>1003660601</td>\n",
              "      <td>2035929</td>\n",
              "      <td>San Juan</td>\n",
              "      <td>+37.7640122</td>\n",
              "      <td>-107.6762274</td>\n",
              "    </tr>\n",
              "    <tr>\n",
              "      <th>4</th>\n",
              "      <td>4605714032</td>\n",
              "      <td>8166134</td>\n",
              "      <td>Cheyenne</td>\n",
              "      <td>+38.8281780</td>\n",
              "      <td>-102.6034141</td>\n",
              "    </tr>\n",
              "    <tr>\n",
              "      <th>5</th>\n",
              "      <td>1913031958</td>\n",
              "      <td>3364151</td>\n",
              "      <td>Custer</td>\n",
              "      <td>+38.1086939</td>\n",
              "      <td>-105.3674060</td>\n",
              "    </tr>\n",
              "  </tbody>\n",
              "</table>\n",
              "</div>"
            ],
            "text/plain": [
              "     AREALAND  AREAWATER  BASENAME      CENTLAT       CENTLON\n",
              "0  4376528327   25375721  La Plata  +37.2863615  -107.8435627\n",
              "1  8206547707    4454510  Saguache  +38.0807339  -106.2808607\n",
              "2  1419419128    3530746  Sedgwick  +40.8759564  -102.3517903\n",
              "3  1003660601    2035929  San Juan  +37.7640122  -107.6762274\n",
              "4  4605714032    8166134  Cheyenne  +38.8281780  -102.6034141\n",
              "5  1913031958    3364151    Custer  +38.1086939  -105.3674060"
            ]
          },
          "metadata": {
            "tags": []
          },
          "execution_count": 28
        }
      ]
    },
    {
      "cell_type": "code",
      "metadata": {
        "id": "oAJi5TZe4Ppf",
        "colab_type": "code",
        "colab": {
          "base_uri": "https://localhost:8080/",
          "height": 360
        },
        "outputId": "e85d9ea7-8f81-46fa-e342-e13cef326281"
      },
      "source": [
        "newdata = pd.merge(data, geodata, left_on='county', right_on='COUNTY')\n",
        "newdata.ix[:5, -5:]"
      ],
      "execution_count": null,
      "outputs": [
        {
          "output_type": "stream",
          "text": [
            "/usr/local/lib/python3.6/dist-packages/ipykernel_launcher.py:2: DeprecationWarning: \n",
            ".ix is deprecated. Please use\n",
            ".loc for label based indexing or\n",
            ".iloc for positional indexing\n",
            "\n",
            "See the documentation here:\n",
            "http://pandas.pydata.org/pandas-docs/stable/indexing.html#ix-indexer-is-deprecated\n",
            "  \n"
          ],
          "name": "stderr"
        },
        {
          "output_type": "execute_result",
          "data": {
            "text/html": [
              "<div>\n",
              "<style scoped>\n",
              "    .dataframe tbody tr th:only-of-type {\n",
              "        vertical-align: middle;\n",
              "    }\n",
              "\n",
              "    .dataframe tbody tr th {\n",
              "        vertical-align: top;\n",
              "    }\n",
              "\n",
              "    .dataframe thead th {\n",
              "        text-align: right;\n",
              "    }\n",
              "</style>\n",
              "<table border=\"1\" class=\"dataframe\">\n",
              "  <thead>\n",
              "    <tr style=\"text-align: right;\">\n",
              "      <th></th>\n",
              "      <th>OID</th>\n",
              "      <th>STATE</th>\n",
              "      <th>STGEOMETRY.AREA</th>\n",
              "      <th>STGEOMETRY.LEN</th>\n",
              "      <th>geometry</th>\n",
              "    </tr>\n",
              "  </thead>\n",
              "  <tbody>\n",
              "    <tr>\n",
              "      <th>0</th>\n",
              "      <td>27553700234319</td>\n",
              "      <td>08</td>\n",
              "      <td>5.211597e+09</td>\n",
              "      <td>511817.561207</td>\n",
              "      <td>POLYGON ((-11644798.3074 4851335.998899996, -1...</td>\n",
              "    </tr>\n",
              "    <tr>\n",
              "      <th>1</th>\n",
              "      <td>27553703789414</td>\n",
              "      <td>08</td>\n",
              "      <td>3.523333e+09</td>\n",
              "      <td>435243.866171</td>\n",
              "      <td>(POLYGON ((-11665321.7253 4803086.1294, -11665...</td>\n",
              "    </tr>\n",
              "    <tr>\n",
              "      <th>2</th>\n",
              "      <td>27553701435070</td>\n",
              "      <td>08</td>\n",
              "      <td>3.280834e+09</td>\n",
              "      <td>291031.607339</td>\n",
              "      <td>(POLYGON ((-11760745.906 4874953.136100002, -1...</td>\n",
              "    </tr>\n",
              "    <tr>\n",
              "      <th>3</th>\n",
              "      <td>27553700234321</td>\n",
              "      <td>08</td>\n",
              "      <td>6.784688e+08</td>\n",
              "      <td>341476.209637</td>\n",
              "      <td>(POLYGON ((-11700783.4396 4811897.626999997, -...</td>\n",
              "    </tr>\n",
              "    <tr>\n",
              "      <th>4</th>\n",
              "      <td>27553711656416</td>\n",
              "      <td>08</td>\n",
              "      <td>3.653474e+09</td>\n",
              "      <td>276727.360768</td>\n",
              "      <td>POLYGON ((-11674338.3814 4803073.133100003, -1...</td>\n",
              "    </tr>\n",
              "    <tr>\n",
              "      <th>5</th>\n",
              "      <td>27553704502958</td>\n",
              "      <td>08</td>\n",
              "      <td>9.102533e+09</td>\n",
              "      <td>401354.557820</td>\n",
              "      <td>POLYGON ((-11681754.4859 4691922.856899999, -1...</td>\n",
              "    </tr>\n",
              "  </tbody>\n",
              "</table>\n",
              "</div>"
            ],
            "text/plain": [
              "              OID STATE  STGEOMETRY.AREA  STGEOMETRY.LEN  \\\n",
              "0  27553700234319    08     5.211597e+09   511817.561207   \n",
              "1  27553703789414    08     3.523333e+09   435243.866171   \n",
              "2  27553701435070    08     3.280834e+09   291031.607339   \n",
              "3  27553700234321    08     6.784688e+08   341476.209637   \n",
              "4  27553711656416    08     3.653474e+09   276727.360768   \n",
              "5  27553704502958    08     9.102533e+09   401354.557820   \n",
              "\n",
              "                                            geometry  \n",
              "0  POLYGON ((-11644798.3074 4851335.998899996, -1...  \n",
              "1  (POLYGON ((-11665321.7253 4803086.1294, -11665...  \n",
              "2  (POLYGON ((-11760745.906 4874953.136100002, -1...  \n",
              "3  (POLYGON ((-11700783.4396 4811897.626999997, -...  \n",
              "4  POLYGON ((-11674338.3814 4803073.133100003, -1...  \n",
              "5  POLYGON ((-11681754.4859 4691922.856899999, -1...  "
            ]
          },
          "metadata": {
            "tags": []
          },
          "execution_count": 29
        }
      ]
    },
    {
      "cell_type": "code",
      "metadata": {
        "id": "J_Wqo48A4PsY",
        "colab_type": "code",
        "colab": {}
      },
      "source": [
        ""
      ],
      "execution_count": null,
      "outputs": []
    }
  ]
}