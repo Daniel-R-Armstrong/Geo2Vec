{
  "nbformat": 4,
  "nbformat_minor": 0,
  "metadata": {
    "colab": {
      "name": "Project - Maidenhead(s)_by_broadcasting.ipynb",
      "version": "0.3.2",
      "provenance": [],
      "include_colab_link": true
    },
    "kernelspec": {
      "name": "python3",
      "display_name": "Python 3"
    }
  },
  "cells": [
    {
      "cell_type": "markdown",
      "metadata": {
        "id": "view-in-github",
        "colab_type": "text"
      },
      "source": [
        "<a href=\"https://colab.research.google.com/github/Daniel-R-Armstrong/geo2vec/blob/master/Project_Maidenhead(s)_by_broadcasting.ipynb\" target=\"_parent\"><img src=\"https://colab.research.google.com/assets/colab-badge.svg\" alt=\"Open In Colab\"/></a>"
      ]
    },
    {
      "cell_type": "markdown",
      "metadata": {
        "id": "td_kfMy7_awi",
        "colab_type": "text"
      },
      "source": [
        "# Maidenhead"
      ]
    },
    {
      "cell_type": "markdown",
      "metadata": {
        "id": "hvP0FYlvIi8c",
        "colab_type": "text"
      },
      "source": [
        "## Why Maidenhead"
      ]
    },
    {
      "cell_type": "markdown",
      "metadata": {
        "id": "keO4126dIo9m",
        "colab_type": "text"
      },
      "source": [
        "When I was looking for a way to measure the relevant distance between an airport and a subject location, I came across an image of an image of a maidenhead map. The goal was to have an easy way for me to find relative distance without a lot of work, oh boy was I wrong. \n",
        "Overall there isn’t really anything special about the Maidenhead coordinate system but it was the start of my geospatial journey, it forced me to learn a lot about geospatial data, and helped me to understand and use broadcasting and amazing tool when dealing with tensors of different sizes. \n"
      ]
    },
    {
      "cell_type": "markdown",
      "metadata": {
        "id": "AysyamB7bqKN",
        "colab_type": "text"
      },
      "source": [
        "## Maidenhead Summary"
      ]
    },
    {
      "cell_type": "markdown",
      "metadata": {
        "id": "5z31JrWNG7BE",
        "colab_type": "text"
      },
      "source": [
        "The Maidenhead Locator System (a.k.a. QTH Locator and IARU Locator) is a geographic coordinate system used by amateur radio operators to succinctly describe their locations(wikipedia.org). This system is being used based on the reasonable blocks that the system creates. The hypothesis is that any airport or other location data is not relevant if it is more full grid cell away from the grid cell in question. For example if you open the [Maidenhead Map](http://memeso.net/wp-content/uploads/2018/05/1525151059-latitude-longitude-map-of-us-map-usa-longitude-7-maps-with-latitude-and-on-lines.jpg) Chicago is in cell EN61, it seem logical to me that information in en50,en51,en52, en60, en61,en62, en70 en71,en 72 can all contain information that might be beneficial to understand Chicago. The Maidenhead Locator System has more layers for more precise grid location, but for my use two layers are good starting point.\n",
        "In the future I want to test a logarithmically weighted based on proximity measurement, that might provide an even better understanding of location, this is based on the thought that the closer you are to an area of interest the more important that the location distance matters. It might be interesting to experiment with a time or population density based system as well.\n",
        "\n",
        "\n",
        "```\n",
        "#         ||                          |\n",
        "# ***2*c  || ...   EN52wc    EN52xc   |   EN62ac    EN62bc     ...\n",
        "# ***2*b  || ...   EN52wb    EN52xb   |   EN62ab    EN62bb     ...\n",
        "# ***2*a  || ...   EN52wa    EN52xa   |   EN62aa    EN62ba     ...\n",
        "# --------||--------------------------|----------------------------\n",
        "# ***1*x  || ...   EN51wx    EN51xx   |   EN61ax    EN61bx     ...\n",
        "# ***1*w  || ...   EN51ww    EN51xw   |   EN61aw    EN61bw     ...\n",
        "# ***1*v  || ...   EN51wv    EN51xv   |   EN61av    EN61bv     ...\n",
        "#         ||         ...       ...    |    ...       ...       ...\n",
        "# -----------------------------------------------------------------\n",
        "#         || ...   **5*w* -> **5*x*  ->   **6*a* -> **6*b*     ...\n",
        "  \n",
        "```\n",
        "helpful websites:\n",
        "https://en.wikipedia.org/wiki/Maidenhead_Locator_System\n",
        "http://www.levinecentral.com/ham/grid_square.php"
      ]
    },
    {
      "cell_type": "code",
      "metadata": {
        "id": "jCknZjPzNPin",
        "colab_type": "code",
        "colab": {}
      },
      "source": [
        "import pandas as pd"
      ],
      "execution_count": 0,
      "outputs": []
    },
    {
      "cell_type": "markdown",
      "metadata": {
        "id": "WUoUwv61-Ij-",
        "colab_type": "text"
      },
      "source": [
        "# Airports"
      ]
    },
    {
      "cell_type": "markdown",
      "metadata": {
        "id": "3Uwv9ezP-TbP",
        "colab_type": "text"
      },
      "source": [
        "### Airports - get data"
      ]
    },
    {
      "cell_type": "code",
      "metadata": {
        "id": "hb1s5QsHLV3i",
        "colab_type": "code",
        "outputId": "3453b80d-41cb-48b3-e154-9931ed721a29",
        "colab": {
          "base_uri": "https://localhost:8080/",
          "height": 53
        }
      },
      "source": [
        "!wget --header=\"Host: www.udsmapper.org\" --header=\"User-Agent: Mozilla/5.0 (Windows NT 10.0; Win64; x64) AppleWebKit/537.36 (KHTML, like Gecko) Chrome/72.0.3626.119 Safari/537.36\" --header=\"Accept: text/html,application/xhtml+xml,application/xml;q=0.9,image/webp,image/apng,*/*;q=0.8\" --header=\"Accept-Language: en-US,en;q=0.9\" --header=\"Referer: https://www.udsmapper.org/zcta-crosswalk.cfm\" --header=\"Cookie: JSESSIONID=3D177A9BA53BF95A133BDEBEF0F0F850.cfusion; __utma=144181233.1974192477.1551962401.1551962401.1551962401.1; __utmc=144181233; __utmz=144181233.1551962401.1.1.utmcsr=google|utmccn=(organic)|utmcmd=organic|utmctr=(not%20provided); __utmt=1; __utmb=144181233.1.10.1551962401; __zlcmid=rCi4Je0zE9JXNv\" --header=\"Connection: keep-alive\" \"https://www.udsmapper.org/docs/zip_to_zcta_2018.xlsx\" -O \"zip_to_zcta_2018.xlsx\" -c -nv"
      ],
      "execution_count": 0,
      "outputs": [
        {
          "output_type": "stream",
          "text": [
            "2019-07-28 10:51:45 URL:https://www.udsmapper.org/docs/zip_to_zcta_2018.xlsx [1594030/1594030] -> \"zip_to_zcta_2018.xlsx\" [1]\n"
          ],
          "name": "stdout"
        }
      ]
    },
    {
      "cell_type": "code",
      "metadata": {
        "id": "zN7ZpDZILg2d",
        "colab_type": "code",
        "colab": {}
      },
      "source": [
        "zcta=pd.read_excel('zip_to_zcta_2018.xlsx')"
      ],
      "execution_count": 0,
      "outputs": []
    },
    {
      "cell_type": "code",
      "metadata": {
        "id": "rGeIhwryXhR7",
        "colab_type": "code",
        "outputId": "98420413-ddd6-4161-bd07-b2cfb5a53542",
        "colab": {
          "base_uri": "https://localhost:8080/",
          "height": 53
        }
      },
      "source": [
        "#I used the CurlWget chrome extention to get the location and infomration need to download the file\n",
        "!wget --header=\"Host: simplemaps.com\" --header=\"User-Agent: Mozilla/5.0 (Windows NT 10.0; Win64; x64) AppleWebKit/537.36 (KHTML, like Gecko) Chrome/71.0.3578.98 Safari/537.36\" --header=\"Accept: text/html,application/xhtml+xml,application/xml;q=0.9,image/webp,image/apng,*/*;q=0.8\" --header=\"Accept-Language: en-US,en;q=0.9\" --header=\"Referer: https://simplemaps.com/data/us-zips\" --header=\"Cookie: __cfduid=d2eeab3cb7fd5d9b5d2572bc650df34b21547543898; __utma=245557126.1069218867.1547543898.1547543898.1547543898.1; __utmc=245557126; __utmz=245557126.1547543898.1.1.utmcsr=(direct)|utmccn=(direct)|utmcmd=(none); __utmt=1; csrftoken=uUWZtNd1X0R0kob3bwH78KKVHtUddDDq; __utmb=245557126.2.10.1547543898\" --header=\"Connection: keep-alive\" \"https://simplemaps.com/static/data/us-zips/1.4/uszipsv1.4.csv\" -O \"uszipsv1.4.csv\" -c -nv"
      ],
      "execution_count": 0,
      "outputs": [
        {
          "output_type": "stream",
          "text": [
            "2019-07-28 10:52:15 URL:https://simplemaps.com/static/data/us-zips/1.4/uszipsv1.4.csv [5160760/5160760] -> \"uszipsv1.4.csv\" [1]\n"
          ],
          "name": "stdout"
        }
      ]
    },
    {
      "cell_type": "code",
      "metadata": {
        "id": "L_nVi-zAXsKA",
        "colab_type": "code",
        "outputId": "4cf524ef-8373-4e42-b9a8-b12df8b90fd5",
        "colab": {
          "base_uri": "https://localhost:8080/",
          "height": 53
        }
      },
      "source": [
        "#airport codes \n",
        "# be careful if using excel, utf-8 issue\n",
        "\n",
        "# http://ourairports.com/data/airports.csv\n",
        "# http://ourairports.com/data/\n",
        "# http://ourairports.com/data/regions.csv\n",
        "# http://ourairports.com/data/countries.csv\n",
        "# http://ourairports.com/data/runways.csv\n",
        "\n",
        "!wget --header=\"Host: ourairports.com\" --header=\"User-Agent: Mozilla/5.0 (Windows NT 10.0; Win64; x64) AppleWebKit/537.36 (KHTML, like Gecko) Chrome/71.0.3578.98 Safari/537.36\" --header=\"Accept: text/html,application/xhtml+xml,application/xml;q=0.9,image/webp,image/apng,*/*;q=0.8\" --header=\"Accept-Language: en-US,en;q=0.9\" --header=\"Referer: http://ourairports.com/data/\" --header=\"Cookie: __auc=7b07219f1688f4521993a54a6e3; __utmz=4642349.1548926735.3.2.utmcsr=google|utmccn=(organic)|utmcmd=organic|utmctr=(not%20provided); __asc=10aea150168bd2cb5870d9347ed; __utma=4642349.2073409169.1548591899.1548926440.1549362051.4; __utmc=4642349; __utmt=1; __utmb=4642349.1.10.1549362051\" --header=\"Connection: keep-alive\" \"http://ourairports.com/data/airports.csv\" -O \"airports.csv\" -c -nv\n",
        "\n",
        "df = pd.read_csv(\"airports.csv\")\n",
        "\n",
        "#I found it helpful to save the data that you are going to use because you dont know if the website that houses the data is going to break. \n",
        "# my saved airport data can be found at: \n",
        "\n",
        "#url=\"https://raw.githubusercontent.com/Daniel-R-Armstrong/Coursera_Capstone/master/airports.csv\"\n",
        "#df = pd.read_csv(url,header=None,low_memory=False)\n",
        "#headers= list(dfhead)\n",
        "\n",
        "#you might have to change the data types"
      ],
      "execution_count": 0,
      "outputs": [
        {
          "output_type": "stream",
          "text": [
            "2019-07-28 10:52:23 URL:http://ourairports.com/data/airports.csv [8351242/8351242] -> \"airports.csv\" [1]\n"
          ],
          "name": "stdout"
        }
      ]
    },
    {
      "cell_type": "markdown",
      "metadata": {
        "id": "Ozs5z1Co_SoC",
        "colab_type": "text"
      },
      "source": [
        "### Airports - explore/clean/filter"
      ]
    },
    {
      "cell_type": "code",
      "metadata": {
        "id": "I-k7bv81baJv",
        "colab_type": "code",
        "colab": {}
      },
      "source": [
        "df.dtypes"
      ],
      "execution_count": 0,
      "outputs": []
    },
    {
      "cell_type": "code",
      "metadata": {
        "id": "GjuuYgCvcvty",
        "colab_type": "code",
        "colab": {}
      },
      "source": [
        "df.columns"
      ],
      "execution_count": 0,
      "outputs": []
    },
    {
      "cell_type": "code",
      "metadata": {
        "id": "DN-qhr-2YvU3",
        "colab_type": "code",
        "colab": {}
      },
      "source": [
        "df.type.unique()"
      ],
      "execution_count": 0,
      "outputs": []
    },
    {
      "cell_type": "code",
      "metadata": {
        "id": "AYAYXVeMOAST",
        "colab_type": "code",
        "colab": {}
      },
      "source": [
        "#remove airports with with missing data\n",
        "df= df.dropna(subset=[\"municipality\",\"elevation_ft\", \"type\"])"
      ],
      "execution_count": 0,
      "outputs": []
    },
    {
      "cell_type": "code",
      "metadata": {
        "id": "yIe5k8C4c3WY",
        "colab_type": "code",
        "colab": {}
      },
      "source": [
        "# filter to medium and large airports\n",
        "df = df[df.type.str.contains('medium_airport|large_airport', regex=True)]\n",
        "\n",
        "# todo:\n",
        "#    look into impact of small_airport(?), heliport(hospitals), seaplane_base(costal?), balloonport(?)\n",
        "\n"
      ],
      "execution_count": 0,
      "outputs": []
    },
    {
      "cell_type": "code",
      "metadata": {
        "id": "ky6ZBJ7mfIIO",
        "colab_type": "code",
        "colab": {}
      },
      "source": [
        "#filter out non-us airports \n",
        "df = df[(df.iso_country == \"US\")]\n",
        "\n",
        "#df1 = df.groupby('product')['value'].sum().reset_index()"
      ],
      "execution_count": 0,
      "outputs": []
    },
    {
      "cell_type": "code",
      "metadata": {
        "id": "W7znkf7_ADeo",
        "colab_type": "code",
        "colab": {}
      },
      "source": [
        "# only had to use this when using airport.csv that I stored in github because it read them as objects\n",
        "df['latitude_deg'] = pd.to_numeric(df['latitude_deg'], errors='coerce')\n",
        "df['longitude_deg'] = pd.to_numeric(df['longitude_deg'], errors='coerce')\n",
        "df.dtypes"
      ],
      "execution_count": 0,
      "outputs": []
    },
    {
      "cell_type": "code",
      "metadata": {
        "id": "hMJJj_B5gvVE",
        "colab_type": "code",
        "colab": {}
      },
      "source": [
        "df.to_csv('med-large_airports.csv', encoding='utf-8', index=False)"
      ],
      "execution_count": 0,
      "outputs": []
    },
    {
      "cell_type": "code",
      "metadata": {
        "id": "JiVdOwhHNm0D",
        "colab_type": "code",
        "colab": {}
      },
      "source": [
        "ls"
      ],
      "execution_count": 0,
      "outputs": []
    },
    {
      "cell_type": "markdown",
      "metadata": {
        "id": "bUG6sEvfQwgd",
        "colab_type": "text"
      },
      "source": [
        "#Maidenhead"
      ]
    },
    {
      "cell_type": "markdown",
      "metadata": {
        "id": "_Mzt5ZLTrAvh",
        "colab_type": "text"
      },
      "source": [
        "## Madenhead (lat, log)"
      ]
    },
    {
      "cell_type": "code",
      "metadata": {
        "colab_type": "code",
        "id": "DkLgsBI8mUmN",
        "colab": {}
      },
      "source": [
        "# The maidenhead system:\n",
        "# Encode longitude first, and then latitude.\n",
        " \n",
        "# The first pair (a field) encodes with base 18 and the letters \"A\" to \"R\".\n",
        "    # to avoid negative number uses distance from south pole to northpole and from greenwich eastward (adjusting lat by 90 and log by 180)\n",
        "    # division of lat is in 10° increments, lon in 20° increments. \n",
        "    # size of box aprox. what you would think of as a region\n",
        "    # converting to unicode with ord() returns int(65-82)\n",
        "# The second pair (square) encodes with base 10 and the digits \"0\" to \"9\".\n",
        "    # 1° of latitude by 2° of longitude\n",
        "    # size is a small metropolitan area/large city\n",
        "# The third pair (subsquare) encodes with base 24 and the letters \"a\" to \"x\".\n",
        "    # size of a city or neighborhood. \n",
        "# The fourth pair (extended square) encodes with base 10 and the digits \"0\" to \"9\".\n",
        "    # size of a neighborhood\n",
        "    \n",
        "# ord(\"unicode chr\") = int \n",
        "# chr(int) = \"unicode chr\"\n",
        "\n",
        "def maidenhead(lat, lon):\n",
        "\n",
        "    A = ord('A')\n",
        "    a = divmod(lon+180, 20) #divmod(numerator,denominator) returns (quotient and remainder)\n",
        "    b = divmod(lat+90, 10)\n",
        "    a_field = chr(A+ int(a[0])) + chr(A+int(b[0])) # a field\n",
        "    square_lon = divmod(a[1] / 2, 1)\n",
        "    square_lat = divmod(b[1], 1)\n",
        "    square = str(int(square_lon[0])) + str(int(square_lat[0]))\n",
        "    subsquare_lon = divmod(square_lon[1]*24,1)\n",
        "    subsquare_lat = divmod(square_lat[1]*24,1)\n",
        "    subsquare = chr(A+int(subsquare_lon[0])).lower() + chr(A+int(subsquare_lat[0])).lower()\n",
        "    maidenhead = a_field + square + subsquare\n",
        "    #maidenhead = a_field + square\n",
        "    return maidenhead\n",
        "   \n",
        "    "
      ],
      "execution_count": 0,
      "outputs": []
    },
    {
      "cell_type": "markdown",
      "metadata": {
        "id": "Z9R2LK9nG-gb",
        "colab_type": "text"
      },
      "source": [
        " Maidenhead (lat, log) - test"
      ]
    },
    {
      "cell_type": "code",
      "metadata": {
        "id": "ugIw6BPxVXyo",
        "colab_type": "code",
        "outputId": "863c3dc8-43b1-448c-d3bd-57fdde87f02e",
        "colab": {
          "base_uri": "https://localhost:8080/",
          "height": 33
        }
      },
      "source": [
        "m=maidenhead(31.308800,-86.393799) #str\n",
        "m\n"
      ],
      "execution_count": 0,
      "outputs": [
        {
          "output_type": "execute_result",
          "data": {
            "text/plain": [
              "'EM61th'"
            ]
          },
          "metadata": {
            "tags": []
          },
          "execution_count": 18
        }
      ]
    },
    {
      "cell_type": "markdown",
      "metadata": {
        "id": "q7Jiujq8HEJ7",
        "colab_type": "text"
      },
      "source": [
        "Maidenhead (lat, log) - df.apply"
      ]
    },
    {
      "cell_type": "code",
      "metadata": {
        "id": "jVugItn8AuTA",
        "colab_type": "code",
        "colab": {}
      },
      "source": [
        "df['maidenhead']=df.apply(lambda x: maidenhead(lat=x['latitude_deg'], lon= x['longitude_deg']), axis=1)\n",
        "#df['d'] = df.apply(lambda x: maidenhead(a = x['a'], b = x['b'], c = x['c']), axis=1)"
      ],
      "execution_count": 0,
      "outputs": []
    },
    {
      "cell_type": "code",
      "metadata": {
        "id": "eKm_zdbZk57m",
        "colab_type": "code",
        "outputId": "53ba7813-4cc0-4edb-ddf5-63ce7d507728",
        "colab": {
          "base_uri": "https://localhost:8080/",
          "height": 290
        }
      },
      "source": [
        "df.head(3)"
      ],
      "execution_count": 0,
      "outputs": [
        {
          "output_type": "execute_result",
          "data": {
            "text/html": [
              "<div>\n",
              "<style scoped>\n",
              "    .dataframe tbody tr th:only-of-type {\n",
              "        vertical-align: middle;\n",
              "    }\n",
              "\n",
              "    .dataframe tbody tr th {\n",
              "        vertical-align: top;\n",
              "    }\n",
              "\n",
              "    .dataframe thead th {\n",
              "        text-align: right;\n",
              "    }\n",
              "</style>\n",
              "<table border=\"1\" class=\"dataframe\">\n",
              "  <thead>\n",
              "    <tr style=\"text-align: right;\">\n",
              "      <th></th>\n",
              "      <th>id</th>\n",
              "      <th>ident</th>\n",
              "      <th>type</th>\n",
              "      <th>name</th>\n",
              "      <th>latitude_deg</th>\n",
              "      <th>longitude_deg</th>\n",
              "      <th>elevation_ft</th>\n",
              "      <th>continent</th>\n",
              "      <th>iso_country</th>\n",
              "      <th>iso_region</th>\n",
              "      <th>municipality</th>\n",
              "      <th>scheduled_service</th>\n",
              "      <th>gps_code</th>\n",
              "      <th>iata_code</th>\n",
              "      <th>local_code</th>\n",
              "      <th>home_link</th>\n",
              "      <th>wikipedia_link</th>\n",
              "      <th>keywords</th>\n",
              "      <th>maidenhead</th>\n",
              "    </tr>\n",
              "  </thead>\n",
              "  <tbody>\n",
              "    <tr>\n",
              "      <th>6194</th>\n",
              "      <td>12243</td>\n",
              "      <td>5A8</td>\n",
              "      <td>medium_airport</td>\n",
              "      <td>Aleknagik / New Airport</td>\n",
              "      <td>59.2826</td>\n",
              "      <td>-158.617996</td>\n",
              "      <td>66.0</td>\n",
              "      <td>NaN</td>\n",
              "      <td>US</td>\n",
              "      <td>US-AK</td>\n",
              "      <td>Aleknagik</td>\n",
              "      <td>yes</td>\n",
              "      <td>5A8</td>\n",
              "      <td>WKK</td>\n",
              "      <td>5A8</td>\n",
              "      <td>NaN</td>\n",
              "      <td>http://en.wikipedia.org/wiki/Aleknagik_Airport</td>\n",
              "      <td>NaN</td>\n",
              "      <td>BO09qg</td>\n",
              "    </tr>\n",
              "    <tr>\n",
              "      <th>25913</th>\n",
              "      <td>19042</td>\n",
              "      <td>K79J</td>\n",
              "      <td>medium_airport</td>\n",
              "      <td>South Alabama Regional At Bill Benton Field Ai...</td>\n",
              "      <td>31.3088</td>\n",
              "      <td>-86.393799</td>\n",
              "      <td>310.0</td>\n",
              "      <td>NaN</td>\n",
              "      <td>US</td>\n",
              "      <td>US-AL</td>\n",
              "      <td>Andalusia/Opp</td>\n",
              "      <td>no</td>\n",
              "      <td>K79J</td>\n",
              "      <td>NaN</td>\n",
              "      <td>79J</td>\n",
              "      <td>NaN</td>\n",
              "      <td>http://en.wikipedia.org/wiki/Andalusia-Opp_Air...</td>\n",
              "      <td>Andalusia Opp Airport</td>\n",
              "      <td>EM61th</td>\n",
              "    </tr>\n",
              "    <tr>\n",
              "      <th>26093</th>\n",
              "      <td>3356</td>\n",
              "      <td>KABE</td>\n",
              "      <td>medium_airport</td>\n",
              "      <td>Lehigh Valley International Airport</td>\n",
              "      <td>40.6521</td>\n",
              "      <td>-75.440804</td>\n",
              "      <td>393.0</td>\n",
              "      <td>NaN</td>\n",
              "      <td>US</td>\n",
              "      <td>US-PA</td>\n",
              "      <td>Allentown</td>\n",
              "      <td>yes</td>\n",
              "      <td>KABE</td>\n",
              "      <td>ABE</td>\n",
              "      <td>ABE</td>\n",
              "      <td>NaN</td>\n",
              "      <td>http://en.wikipedia.org/wiki/Lehigh_Valley_Int...</td>\n",
              "      <td>NaN</td>\n",
              "      <td>FN20gp</td>\n",
              "    </tr>\n",
              "  </tbody>\n",
              "</table>\n",
              "</div>"
            ],
            "text/plain": [
              "          id ident  ...               keywords maidenhead\n",
              "6194   12243   5A8  ...                    NaN     BO09qg\n",
              "25913  19042  K79J  ...  Andalusia Opp Airport     EM61th\n",
              "26093   3356  KABE  ...                    NaN     FN20gp\n",
              "\n",
              "[3 rows x 19 columns]"
            ]
          },
          "metadata": {
            "tags": []
          },
          "execution_count": 21
        }
      ]
    },
    {
      "cell_type": "code",
      "metadata": {
        "id": "M6ZujtYkQv9s",
        "colab_type": "code",
        "colab": {}
      },
      "source": [
        ""
      ],
      "execution_count": 0,
      "outputs": []
    },
    {
      "cell_type": "markdown",
      "metadata": {
        "id": "1yDlTHloHOO5",
        "colab_type": "text"
      },
      "source": [
        "## Maidenhead (M2Cell, Cell2M)"
      ]
    },
    {
      "cell_type": "markdown",
      "metadata": {
        "id": "ZGbDWpZmIfFO",
        "colab_type": "text"
      },
      "source": [
        "m_cell creates an integer representation for lat and lon."
      ]
    },
    {
      "cell_type": "code",
      "metadata": {
        "id": "w9im0jP3mpyT",
        "colab_type": "code",
        "colab": {}
      },
      "source": [
        "def m_cell(lat, lon):\n",
        "    A = ord('A')\n",
        "    a = divmod(lon+180, 20) #divmod(numerator,denominator) returns (quotient and remainder)\n",
        "    b = divmod(lat+90, 10)\n",
        "    a_field_lon = int(a[0]) \n",
        "    a_field_lat = int(b[0])\n",
        "    a_field = chr(A+ int(a[0])) + chr(A+int(b[0])) # a field\n",
        "    square_lon_dm = divmod(a[1] / 2, 1)\n",
        "    square_lat_dm = divmod(b[1], 1)\n",
        "    square_lon = int(square_lon_dm[0])\n",
        "    square_lat = int(square_lat_dm[0])\n",
        "    square = str(int(square_lon_dm[0])) + str(int(square_lat_dm[0]))\n",
        "    subsquare_lon_dm = divmod(square_lon_dm[1]*24,1)\n",
        "    subsquare_lat_dm = divmod(square_lat_dm[1]*24,1)\n",
        "    subsquare_lon = int(subsquare_lon_dm[0])                \n",
        "    subsquare_lat = int(subsquare_lat_dm[0])\n",
        "    subsquare = chr(A+int(subsquare_lon_dm[0])).lower() + chr(A+int(subsquare_lat_dm[0])).lower()\n",
        "    maiden={}\n",
        "    maiden['maidenhead'] = a_field + square + subsquare\n",
        "    maiden['m_cell_lon'] = a_field_lon * 18 * 10 * 24 +  square_lon * 10 *24 + subsquare_lon\n",
        "    maiden['m_cell_lat'] = a_field_lat * 18 * 10 * 24 +  square_lat * 10 *24 + subsquare_lat\n",
        "    \n",
        "    return maiden\n",
        "\n"
      ],
      "execution_count": 0,
      "outputs": []
    },
    {
      "cell_type": "code",
      "metadata": {
        "id": "lB0-RfJhuBvz",
        "colab_type": "code",
        "outputId": "99d678ad-5714-4c0f-ceda-825b9f0ff6d1",
        "colab": {
          "base_uri": "https://localhost:8080/",
          "height": 33
        }
      },
      "source": [
        "m=m_cell(31.308800,-86.393799) #str\n",
        "m"
      ],
      "execution_count": 0,
      "outputs": [
        {
          "output_type": "execute_result",
          "data": {
            "text/plain": [
              "{'m_cell_lat': 52087, 'm_cell_lon': 18739, 'maidenhead': 'EM61th'}"
            ]
          },
          "metadata": {
            "tags": []
          },
          "execution_count": 23
        }
      ]
    },
    {
      "cell_type": "markdown",
      "metadata": {
        "id": "0p5_xQAPHUox",
        "colab_type": "text"
      },
      "source": [
        "Cell to Maidenhead"
      ]
    },
    {
      "cell_type": "code",
      "metadata": {
        "id": "beIkWrntwA4W",
        "colab_type": "code",
        "colab": {}
      },
      "source": [
        "def cell2maidenhead(lat_cell, lon_cell):   \n",
        "    A = ord('A')\n",
        "    lon_f=divmod(lon_cell,24*10*18)\n",
        "    lon_s= divmod(lon_f[1],10*24)\n",
        "    lat_f=divmod(lat_cell,24*10*18)\n",
        "    lat_s= divmod(lat_f[1],10*24)\n",
        "    a_field = chr(A+int(lon_f[0])) + chr(A+int( lat_f[0]))\n",
        "    square = str(int(lon_s[0])) + str(int(lat_s[0]))\n",
        "    subsquare = chr(A+int(lon_s[1])).lower() + chr(A+int(lat_s[1])).lower()\n",
        "    maidenhead = a_field + square + subsquare\n",
        "    \n",
        "    return maidenhead\n"
      ],
      "execution_count": 0,
      "outputs": []
    },
    {
      "cell_type": "code",
      "metadata": {
        "id": "qj66MO7u1Rml",
        "colab_type": "code",
        "outputId": "c4803583-9074-4a2f-f62b-cb5ab8e6ef01",
        "colab": {
          "base_uri": "https://localhost:8080/",
          "height": 33
        }
      },
      "source": [
        "cell2maidenhead(52087,18739)"
      ],
      "execution_count": 0,
      "outputs": [
        {
          "output_type": "execute_result",
          "data": {
            "text/plain": [
              "'EM61th'"
            ]
          },
          "metadata": {
            "tags": []
          },
          "execution_count": 25
        }
      ]
    },
    {
      "cell_type": "markdown",
      "metadata": {
        "id": "exeEsHNJrG7W",
        "colab_type": "text"
      },
      "source": [
        "# Maidenheads"
      ]
    },
    {
      "cell_type": "markdown",
      "metadata": {
        "id": "RLOM_0tAEuYR",
        "colab_type": "text"
      },
      "source": [
        "### maidenheadsw (for loop) "
      ]
    },
    {
      "cell_type": "markdown",
      "metadata": {
        "id": "tTiNQLrrOmM7",
        "colab_type": "text"
      },
      "source": [
        "My first attempt to get a list of maidenheads was to first get the sw corner then loop through all the other cells and add them to a list. After learning about numpy and broadcasting I discovered that this type of looping is not the best way to solve the problem, but I wanted to keep the code since I liked writing it. since I was able to get the sw maidenhead, I could have created a loop grabbing all the rest of the required cells, but luckily there is a much better way by using a technique called broadcasting, which makes it possible to use arithmetic on arrays of different sizes."
      ]
    },
    {
      "cell_type": "code",
      "metadata": {
        "id": "FF1xjPAnmigR",
        "colab_type": "code",
        "colab": {}
      },
      "source": [
        "import math \n",
        "#takes lat and long and finds the sw maidenhead using n, as the number of width/height\n",
        "\n",
        "def maidenheadsw(lat, lon, n):\n",
        "    num_maidenheads = (n*2+1)**2\n",
        "    columns = math.sqrt(num_maidenheads)\n",
        "    rows = math.sqrt(num_maidenheads)\n",
        "\n",
        "    A = ord('A')\n",
        "    # field\n",
        "    field_lon = divmod(lon+180, 20)\n",
        "    field_lat = divmod(lat+90, 10)\n",
        "    field = chr(A+ int(field_lon[0])) + chr(A+int(field_lat[0])) \n",
        "    \n",
        "    # Square\n",
        "    square_lon = divmod(field_lon[1] / 2, 1)\n",
        "    square_lat = divmod(field_lat[1], 1)\n",
        "    square = str(int(square_lon[0])) + str(int(square_lat[0]))\n",
        "    \n",
        "    # Subsquare\n",
        "    subsquare_lon = divmod(square_lon[1]*24,1)\n",
        "    subsquare_lat = divmod(square_lat[1]*24,1)\n",
        "    subsquare = chr(A+int(subsquare_lon[0])).lower() + chr(A+int(subsquare_lat[0])).lower()\n",
        "    # Maidenhead\n",
        "    maidenhead = field + square + subsquare\n",
        "    # maidenhead = field + square\n",
        "\n",
        "    subsquare_lat_s = int(subsquare_lat[0]) - n\n",
        "    #subsquare_lat_n = int(subsquare_lat[0]) + n \n",
        "    subsquare_lon_w = int(subsquare_lon[0]) - n\n",
        "    #subsquare_lon_e = int(subsquare_lon[0]) + n\n",
        "    ss_lat_cycles = 0\n",
        "    ss_lon_cycles = 0\n",
        "    s_lat_cycles = 0\n",
        "    s_lon_cycles = 0\n",
        "    field_lat_s = int(field_lat[0])\n",
        "    field_lon_w = int(field_lon[0])\n",
        "    square_lat_s= int(square_lat[0])\n",
        "    square_lon_w= int(square_lon[0])                   \n",
        "\n",
        "    maiden_sw={}\n",
        "\n",
        "    # subsquare_lat_s\n",
        "    \n",
        "    while subsquare_lat_s < 0:\n",
        "        ss_lat_cycles += 1\n",
        "        subsquare_lat_s += 24\n",
        "    else:\n",
        "        maiden_sw['subsquare_lat_s']=subsquare_lat_s\n",
        "        #print(maiden_sw['subsquare_lat_s'])\n",
        "        #print(ss_lat_cycles)\n",
        "    \n",
        "    # subsquare_lon_w\n",
        "    \n",
        "    while subsquare_lon_w < 0:\n",
        "        ss_lon_cycles += 1\n",
        "        subsquare_lon_w += 24\n",
        "    else:\n",
        "        maiden_sw['subsquare_lon_w']=subsquare_lon_w\n",
        "        #print(maiden_sw['subsquare_lon_w'])\n",
        "        #print(ss_lon_cycles)\n",
        "        \n",
        "   # square_lat_s\n",
        "    \n",
        "    while square_lat_s - ss_lat_cycles < 0:\n",
        "        s_lat_cycles += 1\n",
        "        square_lat_s  += 10\n",
        "    else:\n",
        "        maiden_sw['square_lat_s']= square_lat_s - ss_lat_cycles\n",
        "        #maiden_sw['s_lat_cycles']=s_lat_cycles\n",
        "        #print(maiden_sw['square_lat_s'])\n",
        "        #print(s_lat_cycles)\n",
        "\n",
        "    # square_lon_w\n",
        "    \n",
        "    while square_lon_w - ss_lon_cycles < 0:\n",
        "        s_lon_cycles += 1\n",
        "        square_lon_w  += 10\n",
        "    else:\n",
        "        maiden_sw['square_lon_w']= square_lon_w - ss_lon_cycles\n",
        "        #maiden_sw['s_lat_cycles']=s_lat_cycles\n",
        "        #print(maiden_sw['square_lon_w'])\n",
        "        #print(s_lon_cycles) \n",
        "            \n",
        "    # field_lat_s \n",
        "    \n",
        "    while field_lat_s - s_lat_cycles < 0:\n",
        "        field_lat_s += 18\n",
        "    else:\n",
        "        maiden_sw['field_lat_s']=field_lat_s - s_lat_cycles\n",
        "        #print(maiden_sw['field_lat_s'])\n",
        "        \n",
        "   # field_lon_w \n",
        "    \n",
        "    while field_lon_w - s_lon_cycles < 0:\n",
        "        field_lon_w += 18\n",
        "    else:\n",
        "        maiden_sw['field_lon_w']=field_lon_w - s_lon_cycles\n",
        "        #print(maiden_sw['field_lat_s'])  \n",
        "\n",
        "    return maiden_sw#, columns"
      ],
      "execution_count": 0,
      "outputs": []
    },
    {
      "cell_type": "code",
      "metadata": {
        "id": "TJe-wvbA0ZbP",
        "colab_type": "code",
        "outputId": "fb34dcec-cd44-4bda-e957-6945151e27f1",
        "colab": {
          "base_uri": "https://localhost:8080/",
          "height": 117
        }
      },
      "source": [
        "msw=maidenheadsw(31.308800,-86.393799, 25);msw\n"
      ],
      "execution_count": 0,
      "outputs": [
        {
          "output_type": "execute_result",
          "data": {
            "text/plain": [
              "{'field_lat_s': 12,\n",
              " 'field_lon_w': 4,\n",
              " 'square_lat_s': 0,\n",
              " 'square_lon_w': 5,\n",
              " 'subsquare_lat_s': 6,\n",
              " 'subsquare_lon_w': 18}"
            ]
          },
          "metadata": {
            "tags": []
          },
          "execution_count": 56
        }
      ]
    },
    {
      "cell_type": "markdown",
      "metadata": {
        "id": "zQ8Y3ojMXI_O",
        "colab_type": "text"
      },
      "source": [
        "## Using  Numpy and Broadcasting to get list of Maidenheads"
      ]
    },
    {
      "cell_type": "markdown",
      "metadata": {
        "id": "dnnjzxmDRj2C",
        "colab_type": "text"
      },
      "source": [
        "### Numpy Basics"
      ]
    },
    {
      "cell_type": "markdown",
      "metadata": {
        "id": "bzNfjlJx79IG",
        "colab_type": "text"
      },
      "source": [
        "The np.arrange function by defalt returns a \"rank one array\"\n",
        "\n",
        "```\n",
        "x = np.arange(5); x.shape\n",
        ">> (5,)\n",
        "```\n",
        "The problem is that rank one arrays dont work I would normally expect:\n",
        "\n",
        "```\n",
        "np.array_equal(x,x.T) \n",
        ">>True\n",
        "```\n",
        "That is because x and its transpose x.T have a shape of =  (5, )\n",
        "To convert this to a vector you can use the .reshape() function. \n",
        "\n",
        "```\n",
        "x = x.reshape((1,25)) # or x.reshape((1,len(x)))\n",
        "x, x.shape\n",
        ">>(array([[0, 1, 2, 3, 4]]), (1, 5))\n",
        "```\n",
        "-note* - x has double [[_]]'s now\n",
        "\n",
        "To avoid using .reshape() all the time you could use np.nweaxis when creating the array\n",
        "```\n",
        "col_a= np.arange(cols)[np.newaxis]  # or np.arange(cols).reshape((5,1))\n",
        "row_a= np.arange(rows)[:, np.newaxis]  # or np.arange(rows).reshape((1,5))\n",
        "\n",
        "```\n",
        "It migh be a good habbit to add an assertation statement\n",
        "```\n",
        "assert(x.shape == (1,5))\n",
        "```"
      ]
    },
    {
      "cell_type": "markdown",
      "metadata": {
        "id": "OgTYZsdsVC6x",
        "colab_type": "text"
      },
      "source": [
        "#### Broadcasting"
      ]
    },
    {
      "cell_type": "markdown",
      "metadata": {
        "id": "caoK9ciPVDFZ",
        "colab_type": "text"
      },
      "source": [
        "#### Visualization of broadcasting:  \n"
      ]
    },
    {
      "cell_type": "markdown",
      "metadata": {
        "id": "PcU40NmBlj8e",
        "colab_type": "text"
      },
      "source": [
        "\n",
        "<img src=\"https://jakevdp.github.io/PythonDataScienceHandbook/figures/02.05-broadcasting.png\" alt=\"Broadcasting Visual\"> \n",
        "  \n"
      ]
    },
    {
      "cell_type": "markdown",
      "metadata": {
        "id": "aPLHnU2LT5KY",
        "colab_type": "text"
      },
      "source": [
        "The plan"
      ]
    },
    {
      "cell_type": "markdown",
      "metadata": {
        "id": "Q5GWVsLDPl-F",
        "colab_type": "text"
      },
      "source": [
        "\n",
        "We are going to use Numpy to create a matrix of the adjustments to maidenhead, which will be used to create a list of maidenheads. \n",
        "n is the number of cells/maidenheads on each side of the subject maidenhead. an n=2 would give us 2 on each side of the subject, or 25 cells/maidenheads in total. \n",
        "```\n",
        "            *  *  *  *  *\n",
        "            *  *  *  *  *\n",
        "            *  *  S  *  *\n",
        "            *  *  *  *  *\n",
        "            *  *  *  *  *\n",
        "\n",
        "```\n",
        "\n"
      ]
    },
    {
      "cell_type": "markdown",
      "metadata": {
        "id": "PNqFROznWu9w",
        "colab_type": "text"
      },
      "source": [
        "Maidenheads follow a pattern\n",
        "\n",
        "```\n",
        "#         ||                          |\n",
        "# ***2*c  || ...   EN52wc    EN52xc   |   EN62ac    EN62bc     ...\n",
        "# ***2*b  || ...   EN52wb    EN52xb   |   EN62ab    EN62bb     ...\n",
        "# ***2*a  || ...   EN52wa    EN52xa   |   EN62aa    EN62ba     ...\n",
        "# --------||--------------------------|----------------------------\n",
        "# ***1*x  || ...   EN51wx    EN51xx   |   EN61ax    EN61bx     ...\n",
        "# ***1*w  || ...   EN51ww    EN51xw   |   EN61aw    EN61bw     ...\n",
        "# ***1*v  || ...   EN51wv    EN51xv   |   EN61av    EN61bv     ...\n",
        "#         ||         ...       ...    |    ...       ...       ...\n",
        "# -----------------------------------------------------------------\n",
        "#         || ...   **5*w* -> **5*x*  ->   **6*a* -> **6*b*     ...\n",
        "  \n",
        "```\n",
        "what we need to do is make two differnt arrays that can be used for the adjustments that need to be made."
      ]
    },
    {
      "cell_type": "markdown",
      "metadata": {
        "id": "DjLwTp1iWsdH",
        "colab_type": "text"
      },
      "source": [
        "\n",
        "we want to build two different arrays so that we can use broadcasting to get a list of all the maindenheads\n",
        "\n",
        "```\n",
        "array([[ 2,  2,  2,  2,  2],\n",
        "       [ 1,  1,  1,  1,  1],\n",
        "       [ 0,  0,  0,  0,  0],\n",
        "       [-1, -1, -1, -1, -1],\n",
        "       [-2, -2, -2, -2, -2]])\n",
        "       \n",
        "```\n",
        "And\n",
        "```\n",
        "array([[-2, -1,  0,  1,  2],\n",
        "       [-2, -1,  0,  1,  2],\n",
        "       [-2, -1,  0,  1,  2],\n",
        "       [-2, -1,  0,  1,  2],\n",
        "       [-2, -1,  0,  1,  2]])\n",
        "\n",
        "```\n"
      ]
    },
    {
      "cell_type": "markdown",
      "metadata": {
        "id": "gaLeLBz7R4pZ",
        "colab_type": "text"
      },
      "source": [
        "### Set-up  : matix or numpy.ndarray. \n"
      ]
    },
    {
      "cell_type": "markdown",
      "metadata": {
        "id": "DMFpt6wClp1Z",
        "colab_type": "text"
      },
      "source": [
        "\n",
        "A Matrix is a speical type of ndarray"
      ]
    },
    {
      "cell_type": "code",
      "metadata": {
        "id": "jZzh9uWbzlIx",
        "colab_type": "code",
        "colab": {}
      },
      "source": [
        "n=2\n",
        "num_maidenheads = (n*2+1)**2\n",
        "n_rows = n_cols = int(math.sqrt(num_maidenheads))"
      ],
      "execution_count": 0,
      "outputs": []
    },
    {
      "cell_type": "markdown",
      "metadata": {
        "id": "JeZU3jHPTia2",
        "colab_type": "text"
      },
      "source": [
        "Create a n_row by n_cols array of all ones"
      ]
    },
    {
      "cell_type": "code",
      "metadata": {
        "id": "FNxR6VlZRuvH",
        "colab_type": "code",
        "outputId": "71ace446-dc93-44e7-c400-e513b4769d19",
        "colab": {
          "base_uri": "https://localhost:8080/",
          "height": 100
        }
      },
      "source": [
        "import numpy as np\n",
        "x = np.ones((n_rows,n_cols), dtype=np.int);x, x.shape"
      ],
      "execution_count": 0,
      "outputs": [
        {
          "output_type": "execute_result",
          "data": {
            "text/plain": [
              "(array([[1, 1, 1, 1, 1],\n",
              "        [1, 1, 1, 1, 1],\n",
              "        [1, 1, 1, 1, 1],\n",
              "        [1, 1, 1, 1, 1],\n",
              "        [1, 1, 1, 1, 1]]), (5, 5))"
            ]
          },
          "metadata": {
            "tags": []
          },
          "execution_count": 32
        }
      ]
    },
    {
      "cell_type": "markdown",
      "metadata": {
        "id": "blB7EIFuUwy8",
        "colab_type": "text"
      },
      "source": [
        "Rows and columns"
      ]
    },
    {
      "cell_type": "code",
      "metadata": {
        "id": "HEjmrMxM1IYz",
        "colab_type": "code",
        "colab": {}
      },
      "source": [
        "row_a= np.arange(n_rows)[np.newaxis] # or np.arange(row_a).reshape((1,5))\n",
        "col_a= np.arange(n_cols)[:, np.newaxis] # or np.arange(col_a).reshape((5,1))"
      ],
      "execution_count": 0,
      "outputs": []
    },
    {
      "cell_type": "code",
      "metadata": {
        "id": "9Sh4-kFo1n9L",
        "colab_type": "code",
        "outputId": "ac35d531-f717-43eb-8a03-5738b8efaca1",
        "colab": {
          "base_uri": "https://localhost:8080/",
          "height": 100
        }
      },
      "source": [
        "col_a, col_a.shape"
      ],
      "execution_count": 0,
      "outputs": [
        {
          "output_type": "execute_result",
          "data": {
            "text/plain": [
              "(array([[0],\n",
              "        [1],\n",
              "        [2],\n",
              "        [3],\n",
              "        [4]]), (5, 1))"
            ]
          },
          "metadata": {
            "tags": []
          },
          "execution_count": 34
        }
      ]
    },
    {
      "cell_type": "code",
      "metadata": {
        "id": "laQ6g084ctTo",
        "colab_type": "code",
        "outputId": "e386e500-cd20-431e-cb08-aac203d867e2",
        "colab": {
          "base_uri": "https://localhost:8080/",
          "height": 100
        }
      },
      "source": [
        "cn=col_a[::-1]-n;cn      \n",
        "\n",
        "\n",
        "#Equivalent to m[::-1,...]. Does not require the array to be two-dimensional\n",
        "#The dots (...) represent as many colons as needed to produce a complete indexing tuple"
      ],
      "execution_count": 0,
      "outputs": [
        {
          "output_type": "execute_result",
          "data": {
            "text/plain": [
              "array([[ 2],\n",
              "       [ 1],\n",
              "       [ 0],\n",
              "       [-1],\n",
              "       [-2]])"
            ]
          },
          "metadata": {
            "tags": []
          },
          "execution_count": 35
        }
      ]
    },
    {
      "cell_type": "code",
      "metadata": {
        "id": "XX3gKv9niZPQ",
        "colab_type": "code",
        "outputId": "5972bc2f-b246-4d50-d88f-9125e8701fd7",
        "colab": {
          "base_uri": "https://localhost:8080/",
          "height": 100
        }
      },
      "source": [
        "lat_adj= cn * x; lat_adj"
      ],
      "execution_count": 0,
      "outputs": [
        {
          "output_type": "execute_result",
          "data": {
            "text/plain": [
              "array([[ 2,  2,  2,  2,  2],\n",
              "       [ 1,  1,  1,  1,  1],\n",
              "       [ 0,  0,  0,  0,  0],\n",
              "       [-1, -1, -1, -1, -1],\n",
              "       [-2, -2, -2, -2, -2]])"
            ]
          },
          "metadata": {
            "tags": []
          },
          "execution_count": 36
        }
      ]
    },
    {
      "cell_type": "code",
      "metadata": {
        "id": "Jxrq5GSl67IU",
        "colab_type": "code",
        "outputId": "6b84fbf6-859d-4c17-e793-16d59cecba07",
        "colab": {
          "base_uri": "https://localhost:8080/",
          "height": 33
        }
      },
      "source": [
        "row_a, row_a.shape"
      ],
      "execution_count": 0,
      "outputs": [
        {
          "output_type": "execute_result",
          "data": {
            "text/plain": [
              "(array([[0, 1, 2, 3, 4]]), (1, 5))"
            ]
          },
          "metadata": {
            "tags": []
          },
          "execution_count": 37
        }
      ]
    },
    {
      "cell_type": "code",
      "metadata": {
        "id": "JmRxozC-VOGI",
        "colab_type": "code",
        "outputId": "1d6f3ffa-f17f-4bfe-db4d-a0460cd87842",
        "colab": {
          "base_uri": "https://localhost:8080/",
          "height": 33
        }
      },
      "source": [
        "rn= row_a -n; rn"
      ],
      "execution_count": 0,
      "outputs": [
        {
          "output_type": "execute_result",
          "data": {
            "text/plain": [
              "array([[-2, -1,  0,  1,  2]])"
            ]
          },
          "metadata": {
            "tags": []
          },
          "execution_count": 38
        }
      ]
    },
    {
      "cell_type": "code",
      "metadata": {
        "id": "cRysD83KVOUm",
        "colab_type": "code",
        "outputId": "0b51f930-18df-4cdb-ad91-2789913fa80a",
        "colab": {
          "base_uri": "https://localhost:8080/",
          "height": 100
        }
      },
      "source": [
        "lon_adj= rn * x; lon_adj"
      ],
      "execution_count": 0,
      "outputs": [
        {
          "output_type": "execute_result",
          "data": {
            "text/plain": [
              "array([[-2, -1,  0,  1,  2],\n",
              "       [-2, -1,  0,  1,  2],\n",
              "       [-2, -1,  0,  1,  2],\n",
              "       [-2, -1,  0,  1,  2],\n",
              "       [-2, -1,  0,  1,  2]])"
            ]
          },
          "metadata": {
            "tags": []
          },
          "execution_count": 39
        }
      ]
    },
    {
      "cell_type": "markdown",
      "metadata": {
        "id": "KO9Hss7Ul2Y0",
        "colab_type": "text"
      },
      "source": [
        "## Maidenheads function (parts)"
      ]
    },
    {
      "cell_type": "markdown",
      "metadata": {
        "id": "uywmXNifmlV-",
        "colab_type": "text"
      },
      "source": [
        "Lat and Lon"
      ]
    },
    {
      "cell_type": "code",
      "metadata": {
        "id": "xQrqWLpsfsg-",
        "colab_type": "code",
        "colab": {}
      },
      "source": [
        "lat,lon = 31.308800,-86.393799"
      ],
      "execution_count": 0,
      "outputs": []
    },
    {
      "cell_type": "markdown",
      "metadata": {
        "id": "_iRNWbwOmoKo",
        "colab_type": "text"
      },
      "source": [
        "Maidenhead and cell pieces:"
      ]
    },
    {
      "cell_type": "code",
      "metadata": {
        "id": "-IKRBlHvfsp_",
        "colab_type": "code",
        "colab": {}
      },
      "source": [
        "A = ord('A')\n",
        "a = divmod(lon+180, 20) #divmod(numerator,denominator) returns (quotient and remainder)\n",
        "b = divmod(lat+90, 10)\n",
        "a_field_lon = int(a[0]) \n",
        "a_field_lat = int(b[0])\n",
        "#a_field = chr(A+ int(a[0])) + chr(A+int(b[0])) # a field\n",
        "square_lon_dm = divmod(a[1] / 2, 1)\n",
        "square_lat_dm = divmod(b[1], 1)\n",
        "square_lon = int(square_lon_dm[0])\n",
        "square_lat = int(square_lat_dm[0])\n",
        "#square = str(int(square_lon_dm[0])) + str(int(square_lat_dm[0]))\n",
        "subsquare_lon_dm = divmod(square_lon_dm[1]*24,1)\n",
        "subsquare_lat_dm = divmod(square_lat_dm[1]*24,1)\n",
        "subsquare_lon = int(subsquare_lon_dm[0])                \n",
        "subsquare_lat = int(subsquare_lat_dm[0])\n",
        "#subsquare = chr(A+int(subsquare_lon_dm[0])).lower() + chr(A+int(subsquare_lat_dm[0])).lower()\n",
        "    \n",
        "#  get cell \n",
        "m_cell_lon = a_field_lon * 18 * 10 * 24 +  square_lon * 10 *24 + subsquare_lon\n",
        "m_cell_lat = a_field_lat * 18 * 10 * 24 +  square_lat * 10 *24 + subsquare_lat\n",
        "    "
      ],
      "execution_count": 0,
      "outputs": []
    },
    {
      "cell_type": "markdown",
      "metadata": {
        "id": "PXgPUSJFnOXo",
        "colab_type": "text"
      },
      "source": [
        "Broadcasting allows you to add the subject cell value to the lattatue and longatude adjustment 2-d array"
      ]
    },
    {
      "cell_type": "code",
      "metadata": {
        "id": "CWO3Oq_wfsxy",
        "colab_type": "code",
        "outputId": "b5425d89-4713-4b02-8c19-f2e66882db81",
        "colab": {
          "base_uri": "https://localhost:8080/",
          "height": 184
        }
      },
      "source": [
        "lat_array = lat_adj + m_cell_lat\n",
        "lon_array = lon_adj + m_cell_lon\n",
        "lat_array, lon_array"
      ],
      "execution_count": 0,
      "outputs": [
        {
          "output_type": "execute_result",
          "data": {
            "text/plain": [
              "(array([[52089, 52089, 52089, 52089, 52089],\n",
              "        [52088, 52088, 52088, 52088, 52088],\n",
              "        [52087, 52087, 52087, 52087, 52087],\n",
              "        [52086, 52086, 52086, 52086, 52086],\n",
              "        [52085, 52085, 52085, 52085, 52085]]),\n",
              " array([[18737, 18738, 18739, 18740, 18741],\n",
              "        [18737, 18738, 18739, 18740, 18741],\n",
              "        [18737, 18738, 18739, 18740, 18741],\n",
              "        [18737, 18738, 18739, 18740, 18741],\n",
              "        [18737, 18738, 18739, 18740, 18741]]))"
            ]
          },
          "metadata": {
            "tags": []
          },
          "execution_count": 42
        }
      ]
    },
    {
      "cell_type": "markdown",
      "metadata": {
        "id": "XbQDZHploaFZ",
        "colab_type": "text"
      },
      "source": [
        "We have already created a fuction(cell2maidenhead) that can convert a cell to a maidenhead now we need to be able to apply it to the array of cells that we have created by using the np.vectorize function. From my understanding this still uses a loop so we might want to refactor this function."
      ]
    },
    {
      "cell_type": "code",
      "metadata": {
        "id": "KzePV5L_mUMs",
        "colab_type": "code",
        "colab": {}
      },
      "source": [
        "np_cell2maidenhead = np.vectorize(cell2maidenhead)"
      ],
      "execution_count": 0,
      "outputs": []
    },
    {
      "cell_type": "code",
      "metadata": {
        "id": "L9WPciMLmdqO",
        "colab_type": "code",
        "outputId": "49bc04a1-ccd3-4b81-abf8-ec26b4cffb32",
        "colab": {
          "base_uri": "https://localhost:8080/",
          "height": 100
        }
      },
      "source": [
        "np_maids=np_cell2maidenhead(lat_array,lon_array)\n",
        "np_maids"
      ],
      "execution_count": 0,
      "outputs": [
        {
          "output_type": "execute_result",
          "data": {
            "text/plain": [
              "array([['EM61rj', 'EM61sj', 'EM61tj', 'EM61uj', 'EM61vj'],\n",
              "       ['EM61ri', 'EM61si', 'EM61ti', 'EM61ui', 'EM61vi'],\n",
              "       ['EM61rh', 'EM61sh', 'EM61th', 'EM61uh', 'EM61vh'],\n",
              "       ['EM61rg', 'EM61sg', 'EM61tg', 'EM61ug', 'EM61vg'],\n",
              "       ['EM61rf', 'EM61sf', 'EM61tf', 'EM61uf', 'EM61vf']], dtype='<U6')"
            ]
          },
          "metadata": {
            "tags": []
          },
          "execution_count": 44
        }
      ]
    },
    {
      "cell_type": "markdown",
      "metadata": {
        "id": "PNg8m1vVqR12",
        "colab_type": "text"
      },
      "source": [
        "Great it looks like we have the maidenheads that we want, now we need to convert them to a list. we can use the np.tolist() to convert to a list."
      ]
    },
    {
      "cell_type": "code",
      "metadata": {
        "id": "uaLLpTCxnM1f",
        "colab_type": "code",
        "outputId": "b20480f4-7315-4eb0-d56e-5ca6d0855fce",
        "colab": {
          "base_uri": "https://localhost:8080/",
          "height": 100
        }
      },
      "source": [
        "l=np_maids.tolist();l"
      ],
      "execution_count": 0,
      "outputs": [
        {
          "output_type": "execute_result",
          "data": {
            "text/plain": [
              "[['EM61rj', 'EM61sj', 'EM61tj', 'EM61uj', 'EM61vj'],\n",
              " ['EM61ri', 'EM61si', 'EM61ti', 'EM61ui', 'EM61vi'],\n",
              " ['EM61rh', 'EM61sh', 'EM61th', 'EM61uh', 'EM61vh'],\n",
              " ['EM61rg', 'EM61sg', 'EM61tg', 'EM61ug', 'EM61vg'],\n",
              " ['EM61rf', 'EM61sf', 'EM61tf', 'EM61uf', 'EM61vf']]"
            ]
          },
          "metadata": {
            "tags": []
          },
          "execution_count": 45
        }
      ]
    },
    {
      "cell_type": "markdown",
      "metadata": {
        "id": "6gOHkRwxf0cY",
        "colab_type": "text"
      },
      "source": [
        "The tolist() function returned a list but it is a nested list(list of lists), look at the extra square brackets, so we are going to have to flatten it. I choose to flatten before the cell2maidenhead function. We can flatten it with the np.flatten() function."
      ]
    },
    {
      "cell_type": "code",
      "metadata": {
        "id": "9d5jgKtWR7qt",
        "colab_type": "code",
        "outputId": "e77e5b5c-6e76-4eb7-d898-26370a2734d9",
        "colab": {
          "base_uri": "https://localhost:8080/",
          "height": 117
        }
      },
      "source": [
        "f_lat = lat_array.flatten()\n",
        "f_lon = lon_array.flatten()\n",
        "f_lat,f_lon"
      ],
      "execution_count": 0,
      "outputs": [
        {
          "output_type": "execute_result",
          "data": {
            "text/plain": [
              "(array([52089, 52089, 52089, 52089, 52089, 52088, 52088, 52088, 52088,\n",
              "        52088, 52087, 52087, 52087, 52087, 52087, 52086, 52086, 52086,\n",
              "        52086, 52086, 52085, 52085, 52085, 52085, 52085]),\n",
              " array([18737, 18738, 18739, 18740, 18741, 18737, 18738, 18739, 18740,\n",
              "        18741, 18737, 18738, 18739, 18740, 18741, 18737, 18738, 18739,\n",
              "        18740, 18741, 18737, 18738, 18739, 18740, 18741]))"
            ]
          },
          "metadata": {
            "tags": []
          },
          "execution_count": 46
        }
      ]
    },
    {
      "cell_type": "markdown",
      "metadata": {
        "id": "4rVo1HibsDjX",
        "colab_type": "text"
      },
      "source": [
        "Convert cells to maidenheads with flattened arrays"
      ]
    },
    {
      "cell_type": "code",
      "metadata": {
        "id": "TeWowruPj8wC",
        "colab_type": "code",
        "colab": {}
      },
      "source": [
        "maidenhead_array = np_cell2maidenhead(f_lat,f_lon)"
      ],
      "execution_count": 0,
      "outputs": []
    },
    {
      "cell_type": "markdown",
      "metadata": {
        "id": "0JFB3VH-sTx2",
        "colab_type": "text"
      },
      "source": [
        "Convert flattened maidenhead array to list"
      ]
    },
    {
      "cell_type": "code",
      "metadata": {
        "id": "vk6ynhpnkFXJ",
        "colab_type": "code",
        "outputId": "76f02731-ff89-41f1-8e85-f35c6ea2e184",
        "colab": {
          "base_uri": "https://localhost:8080/",
          "height": 435
        }
      },
      "source": [
        "maidenhead_list = maidenhead_array.tolist()\n",
        "maidenhead_list\n"
      ],
      "execution_count": 0,
      "outputs": [
        {
          "output_type": "execute_result",
          "data": {
            "text/plain": [
              "['EM61rj',\n",
              " 'EM61sj',\n",
              " 'EM61tj',\n",
              " 'EM61uj',\n",
              " 'EM61vj',\n",
              " 'EM61ri',\n",
              " 'EM61si',\n",
              " 'EM61ti',\n",
              " 'EM61ui',\n",
              " 'EM61vi',\n",
              " 'EM61rh',\n",
              " 'EM61sh',\n",
              " 'EM61th',\n",
              " 'EM61uh',\n",
              " 'EM61vh',\n",
              " 'EM61rg',\n",
              " 'EM61sg',\n",
              " 'EM61tg',\n",
              " 'EM61ug',\n",
              " 'EM61vg',\n",
              " 'EM61rf',\n",
              " 'EM61sf',\n",
              " 'EM61tf',\n",
              " 'EM61uf',\n",
              " 'EM61vf']"
            ]
          },
          "metadata": {
            "tags": []
          },
          "execution_count": 48
        }
      ]
    },
    {
      "cell_type": "markdown",
      "metadata": {
        "id": "-KcutPlcYEgt",
        "colab_type": "text"
      },
      "source": [
        "## Maidenheads - function (full)"
      ]
    },
    {
      "cell_type": "code",
      "metadata": {
        "id": "RYrs-dJqtaSb",
        "colab_type": "code",
        "colab": {}
      },
      "source": [
        "def cell2maidenhead(lat_cell, lon_cell):\n",
        "    \n",
        "    A = ord('A')\n",
        "    \n",
        "    lon_f=divmod(lon_cell,24*10*18)\n",
        "    lon_s= divmod(lon_f[1],10*24)\n",
        "\n",
        "    lat_f=divmod(lat_cell,24*10*18)\n",
        "    lat_s= divmod(lat_f[1],10*24)\n",
        "    \n",
        "    a_field = chr(A+int(lon_f[0])) + chr(A+int( lat_f[0]))\n",
        "    square = str(int(lon_s[0])) + str(int(lat_s[0]))\n",
        "    subsquare = chr(A+int(lon_s[1])).lower() + chr(A+int(lat_s[1])).lower()\n",
        "    maidenhead = a_field + square + subsquare\n",
        "    \n",
        "    return maidenhead"
      ],
      "execution_count": 0,
      "outputs": []
    },
    {
      "cell_type": "code",
      "metadata": {
        "id": "XSLMSUJ3YLhr",
        "colab_type": "code",
        "colab": {}
      },
      "source": [
        "def maidenheads(lat, lon, n=0):\n",
        "    \n",
        "    num_maidenheads = (n*2+1)**2\n",
        "    n_rows = n_cols = int(math.sqrt(num_maidenheads))\n",
        "    #  setup arrays\n",
        "    x = np.ones((n_rows,n_cols), dtype=np.int)\n",
        "    row_a= np.arange(n_rows)[np.newaxis]\n",
        "    col_a= np.arange(n_cols)[:, np.newaxis]\n",
        "    cn=col_a[::-1]-n\n",
        "    lat_adj = cn * x\n",
        "    rn= row_a - n\n",
        "    lon_adj = rn * x\n",
        "    #  get subject maidenhead from lat,lon\n",
        "    A = ord('A')\n",
        "    a = divmod(lon+180, 20) #divmod(numerator,denominator) returns (quotient and remainder)\n",
        "    b = divmod(lat+90, 10)\n",
        "    a_field_lon = int(a[0]) \n",
        "    a_field_lat = int(b[0])\n",
        "    #a_field = chr(A+ int(a[0])) + chr(A+int(b[0])) # a field\n",
        "    square_lon_dm = divmod(a[1] / 2, 1)\n",
        "    square_lat_dm = divmod(b[1], 1)\n",
        "    square_lon = int(square_lon_dm[0])\n",
        "    square_lat = int(square_lat_dm[0])\n",
        "    #square = str(int(square_lon_dm[0])) + str(int(square_lat_dm[0]))\n",
        "    subsquare_lon_dm = divmod(square_lon_dm[1]*24,1)\n",
        "    subsquare_lat_dm = divmod(square_lat_dm[1]*24,1)\n",
        "    subsquare_lon = int(subsquare_lon_dm[0])                \n",
        "    subsquare_lat = int(subsquare_lat_dm[0])\n",
        "    #subsquare = chr(A+int(subsquare_lon_dm[0])).lower() + chr(A+int(subsquare_lat_dm[0])).lower()\n",
        "    \n",
        "    #  get cell \n",
        "    m_cell_lon = a_field_lon * 18 * 10 * 24 +  square_lon * 10 *24 + subsquare_lon\n",
        "    m_cell_lat = a_field_lat * 18 * 10 * 24 +  square_lat * 10 *24 + subsquare_lat\n",
        "    \n",
        "    # cell arrays\n",
        "    lat_array= m_cell_lat + lat_adj \n",
        "    lon_array= m_cell_lon + lon_adj\n",
        "    \n",
        "    #flatten\n",
        "    f_lat = lat_array.flatten()\n",
        "    f_lon = lon_array.flatten()\n",
        "\n",
        "    #convert to maidenhead\n",
        "    np_cell2maidenhead = np.vectorize(cell2maidenhead)    \n",
        "    maidenhead_array = np_cell2maidenhead(f_lat,f_lon)\n",
        "        \n",
        "    #convert maidenheads to list\n",
        "    maidenhead_list = maidenhead_array.tolist()\n",
        "    \n",
        "    return maidenhead_list\n",
        "\n",
        "    \n",
        "    "
      ],
      "execution_count": 0,
      "outputs": []
    },
    {
      "cell_type": "code",
      "metadata": {
        "id": "b8hx2XRWZI6L",
        "colab_type": "code",
        "outputId": "1d1fc3fc-310c-4872-ae48-b105aabaf0d8",
        "colab": {
          "base_uri": "https://localhost:8080/",
          "height": 435
        }
      },
      "source": [
        "t=maidenheads(31.308800,-86.393799,2)\n",
        "t"
      ],
      "execution_count": 0,
      "outputs": [
        {
          "output_type": "execute_result",
          "data": {
            "text/plain": [
              "['EM61rj',\n",
              " 'EM61sj',\n",
              " 'EM61tj',\n",
              " 'EM61uj',\n",
              " 'EM61vj',\n",
              " 'EM61ri',\n",
              " 'EM61si',\n",
              " 'EM61ti',\n",
              " 'EM61ui',\n",
              " 'EM61vi',\n",
              " 'EM61rh',\n",
              " 'EM61sh',\n",
              " 'EM61th',\n",
              " 'EM61uh',\n",
              " 'EM61vh',\n",
              " 'EM61rg',\n",
              " 'EM61sg',\n",
              " 'EM61tg',\n",
              " 'EM61ug',\n",
              " 'EM61vg',\n",
              " 'EM61rf',\n",
              " 'EM61sf',\n",
              " 'EM61tf',\n",
              " 'EM61uf',\n",
              " 'EM61vf']"
            ]
          },
          "metadata": {
            "tags": []
          },
          "execution_count": 51
        }
      ]
    },
    {
      "cell_type": "code",
      "metadata": {
        "id": "kXRjRgZAuSrd",
        "colab_type": "code",
        "colab": {}
      },
      "source": [
        "n=2\n",
        "df['maidenheads']=df.apply(lambda x: maidenheads(lat=x['latitude_deg'], lon= x['longitude_deg'], n=n), axis=1)"
      ],
      "execution_count": 0,
      "outputs": []
    },
    {
      "cell_type": "code",
      "metadata": {
        "id": "RIuk5ivPvZsT",
        "colab_type": "code",
        "outputId": "7772fda3-4dbc-4fbd-a57c-1777ab07fb27",
        "colab": {
          "base_uri": "https://localhost:8080/",
          "height": 408
        }
      },
      "source": [
        "df.head(3)"
      ],
      "execution_count": 0,
      "outputs": [
        {
          "output_type": "execute_result",
          "data": {
            "text/html": [
              "<div>\n",
              "<style scoped>\n",
              "    .dataframe tbody tr th:only-of-type {\n",
              "        vertical-align: middle;\n",
              "    }\n",
              "\n",
              "    .dataframe tbody tr th {\n",
              "        vertical-align: top;\n",
              "    }\n",
              "\n",
              "    .dataframe thead th {\n",
              "        text-align: right;\n",
              "    }\n",
              "</style>\n",
              "<table border=\"1\" class=\"dataframe\">\n",
              "  <thead>\n",
              "    <tr style=\"text-align: right;\">\n",
              "      <th></th>\n",
              "      <th>id</th>\n",
              "      <th>ident</th>\n",
              "      <th>type</th>\n",
              "      <th>name</th>\n",
              "      <th>latitude_deg</th>\n",
              "      <th>longitude_deg</th>\n",
              "      <th>elevation_ft</th>\n",
              "      <th>continent</th>\n",
              "      <th>iso_country</th>\n",
              "      <th>iso_region</th>\n",
              "      <th>municipality</th>\n",
              "      <th>scheduled_service</th>\n",
              "      <th>gps_code</th>\n",
              "      <th>iata_code</th>\n",
              "      <th>local_code</th>\n",
              "      <th>home_link</th>\n",
              "      <th>wikipedia_link</th>\n",
              "      <th>keywords</th>\n",
              "      <th>maidenhead</th>\n",
              "      <th>maidenheads</th>\n",
              "    </tr>\n",
              "  </thead>\n",
              "  <tbody>\n",
              "    <tr>\n",
              "      <th>6194</th>\n",
              "      <td>12243</td>\n",
              "      <td>5A8</td>\n",
              "      <td>medium_airport</td>\n",
              "      <td>Aleknagik / New Airport</td>\n",
              "      <td>59.2826</td>\n",
              "      <td>-158.617996</td>\n",
              "      <td>66.0</td>\n",
              "      <td>NaN</td>\n",
              "      <td>US</td>\n",
              "      <td>US-AK</td>\n",
              "      <td>Aleknagik</td>\n",
              "      <td>yes</td>\n",
              "      <td>5A8</td>\n",
              "      <td>WKK</td>\n",
              "      <td>5A8</td>\n",
              "      <td>NaN</td>\n",
              "      <td>http://en.wikipedia.org/wiki/Aleknagik_Airport</td>\n",
              "      <td>NaN</td>\n",
              "      <td>BO09qg</td>\n",
              "      <td>[BO09oi, BO09pi, BO09qi, BO09ri, BO09si, BO09o...</td>\n",
              "    </tr>\n",
              "    <tr>\n",
              "      <th>25913</th>\n",
              "      <td>19042</td>\n",
              "      <td>K79J</td>\n",
              "      <td>medium_airport</td>\n",
              "      <td>South Alabama Regional At Bill Benton Field Ai...</td>\n",
              "      <td>31.3088</td>\n",
              "      <td>-86.393799</td>\n",
              "      <td>310.0</td>\n",
              "      <td>NaN</td>\n",
              "      <td>US</td>\n",
              "      <td>US-AL</td>\n",
              "      <td>Andalusia/Opp</td>\n",
              "      <td>no</td>\n",
              "      <td>K79J</td>\n",
              "      <td>NaN</td>\n",
              "      <td>79J</td>\n",
              "      <td>NaN</td>\n",
              "      <td>http://en.wikipedia.org/wiki/Andalusia-Opp_Air...</td>\n",
              "      <td>Andalusia Opp Airport</td>\n",
              "      <td>EM61th</td>\n",
              "      <td>[EM61rj, EM61sj, EM61tj, EM61uj, EM61vj, EM61r...</td>\n",
              "    </tr>\n",
              "    <tr>\n",
              "      <th>26093</th>\n",
              "      <td>3356</td>\n",
              "      <td>KABE</td>\n",
              "      <td>medium_airport</td>\n",
              "      <td>Lehigh Valley International Airport</td>\n",
              "      <td>40.6521</td>\n",
              "      <td>-75.440804</td>\n",
              "      <td>393.0</td>\n",
              "      <td>NaN</td>\n",
              "      <td>US</td>\n",
              "      <td>US-PA</td>\n",
              "      <td>Allentown</td>\n",
              "      <td>yes</td>\n",
              "      <td>KABE</td>\n",
              "      <td>ABE</td>\n",
              "      <td>ABE</td>\n",
              "      <td>NaN</td>\n",
              "      <td>http://en.wikipedia.org/wiki/Lehigh_Valley_Int...</td>\n",
              "      <td>NaN</td>\n",
              "      <td>FN20gp</td>\n",
              "      <td>[FN20er, FN20fr, FN20gr, FN20hr, FN20ir, FN20e...</td>\n",
              "    </tr>\n",
              "  </tbody>\n",
              "</table>\n",
              "</div>"
            ],
            "text/plain": [
              "          id  ...                                        maidenheads\n",
              "6194   12243  ...  [BO09oi, BO09pi, BO09qi, BO09ri, BO09si, BO09o...\n",
              "25913  19042  ...  [EM61rj, EM61sj, EM61tj, EM61uj, EM61vj, EM61r...\n",
              "26093   3356  ...  [FN20er, FN20fr, FN20gr, FN20hr, FN20ir, FN20e...\n",
              "\n",
              "[3 rows x 20 columns]"
            ]
          },
          "metadata": {
            "tags": []
          },
          "execution_count": 57
        }
      ]
    }
  ]
}
